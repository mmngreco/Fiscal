{
 "cells": [
  {
   "cell_type": "code",
   "execution_count": 1,
   "metadata": {
    "collapsed": true
   },
   "outputs": [],
   "source": [
    "import datetime"
   ]
  },
  {
   "cell_type": "code",
   "execution_count": 2,
   "metadata": {
    "collapsed": false
   },
   "outputs": [
    {
     "data": {
      "text/plain": [
<<<<<<< Updated upstream
<<<<<<< Updated upstream
       "'2015-09-17 18:51:58.088727'"
=======
       "'2015-09-18 11:47:08.650108'"
>>>>>>> Stashed changes
=======
       "'2015-09-18 11:47:08.650108'"
>>>>>>> Stashed changes
      ]
     },
     "execution_count": 2,
     "metadata": {},
     "output_type": "execute_result"
    }
   ],
   "source": [
    "hoy = str(datetime.datetime.today())\n",
    "hoy"
   ]
  },
  {
   "cell_type": "code",
   "execution_count": 3,
   "metadata": {
    "collapsed": false
   },
   "outputs": [
    {
     "data": {
      "text/plain": [
       "['Reinitialized existing Git repository in /Users/mmngreco/Documents/repos/Fiscal/.git/']"
      ]
     },
     "execution_count": 3,
     "metadata": {},
     "output_type": "execute_result"
    }
   ],
   "source": [
    "%%!\n",
    "git init"
   ]
  },
  {
   "cell_type": "code",
   "execution_count": 4,
   "metadata": {
    "collapsed": true
   },
   "outputs": [],
   "source": [
    "!git add ."
   ]
  },
  {
   "cell_type": "code",
   "execution_count": 21,
   "metadata": {
    "collapsed": false
   },
   "outputs": [
    {
     "name": "stdout",
     "output_type": "stream",
     "text": [
<<<<<<< Updated upstream
<<<<<<< Updated upstream
      "[master c99aac5] update 9.17.0708\r\n",
      " 1 file changed, 49 insertions(+), 33 deletions(-)\r\n"
=======
=======
>>>>>>> Stashed changes
      "[master 8bff688] update 9.18.1147\n",
      " 14 files changed, 590578 insertions(+), 7040 deletions(-)\n",
      " rewrite .ipynb_checkpoints/irpf_analisis-checkpoint.ipynb (71%)\n",
      " create mode 100644 data/dpob.csv\n",
      " rewrite imgs/box_dist_tramo_by_ccaa.png (95%)\n",
      " rewrite imgs/dist_ascending_tramo_by_ccaa.png (98%)\n",
      " rewrite imgs/frec_relativa_dist_por_ccaa.png (98%)\n",
      " rewrite imgs/hist_dist_tramo_by_ccaa.png (94%)\n",
      " rewrite imgs/hists_frec_relativa_dist_tramo_by_ccaa.png (97%)\n",
      " rewrite imgs/seaborn_hist_dist_tramo_by_ccaa.png (98%)\n",
      " rewrite imgs/sum_ascending_cuota_by_ccaa3.png (98%)\n",
      " rewrite imgs/sum_ascending_cuota_by_tramo.png (98%)\n",
      " rewrite imgs/sum_ascending_cuota_liquida_estado_ca_by_ccaa.png (98%)\n",
      " rewrite irpf_analisis.ipynb (71%)\n"
<<<<<<< Updated upstream
>>>>>>> Stashed changes
=======
>>>>>>> Stashed changes
     ]
    }
   ],
   "source": [
<<<<<<< Updated upstream
<<<<<<< Updated upstream
    "!git commit -a -m 'update 9.17.1851'"
=======
    "!git commit -a -m 'update 9.18.1147'"
>>>>>>> Stashed changes
=======
    "!git commit -a -m 'update 9.18.1147'"
>>>>>>> Stashed changes
   ]
  },
  {
   "cell_type": "code",
   "execution_count": 22,
   "metadata": {
    "collapsed": false
   },
   "outputs": [
    {
     "name": "stdout",
     "output_type": "stream",
     "text": [
<<<<<<< Updated upstream
<<<<<<< Updated upstream
      "Counting objects: 3, done.\n",
      "Delta compression using up to 4 threads.\n",
      "Compressing objects: 100% (3/3), done.\n",
      "Writing objects: 100% (3/3), 591 bytes | 0 bytes/s, done.\n",
      "Total 3 (delta 2), reused 0 (delta 0)\n",
      "To https://github.com/mmngreco/Fiscal.git\n",
      "   dcab38d..c99aac5  master -> master\n"
=======
      "Counting objects: 17, done.\n",
      "Delta compression using up to 4 threads.\n",
      "Compressing objects: 100% (17/17), done.\n",
      "Writing objects: 100% (17/17), 41.09 MiB | 896.00 KiB/s, done.\n",
      "Total 17 (delta 4), reused 0 (delta 0)\n",
      "remote: error: GH001: Large files detected.\u001b[K\n",
      "remote: error: Trace: 91f6a11c5669fe020161a738c6cfb28e\u001b[K\n",
      "remote: error: See http://git.io/iEPt8g for more information.\u001b[K\n",
      "remote: error: File data/dpob.csv is 142.11 MB; this exceeds GitHub's file size limit of 100.00 MB\u001b[K\n",
      "To https://github.com/mmngreco/Fiscal.git\n",
      " ! [remote rejected] master -> master (pre-receive hook declined)\n",
      "error: failed to push some refs to 'https://github.com/mmngreco/Fiscal.git'\n"
>>>>>>> Stashed changes
=======
      "Counting objects: 17, done.\n",
      "Delta compression using up to 4 threads.\n",
      "Compressing objects: 100% (17/17), done.\n",
      "Writing objects: 100% (17/17), 41.09 MiB | 896.00 KiB/s, done.\n",
      "Total 17 (delta 4), reused 0 (delta 0)\n",
      "remote: error: GH001: Large files detected.\u001b[K\n",
      "remote: error: Trace: 91f6a11c5669fe020161a738c6cfb28e\u001b[K\n",
      "remote: error: See http://git.io/iEPt8g for more information.\u001b[K\n",
      "remote: error: File data/dpob.csv is 142.11 MB; this exceeds GitHub's file size limit of 100.00 MB\u001b[K\n",
      "To https://github.com/mmngreco/Fiscal.git\n",
      " ! [remote rejected] master -> master (pre-receive hook declined)\n",
      "error: failed to push some refs to 'https://github.com/mmngreco/Fiscal.git'\n"
>>>>>>> Stashed changes
     ]
    }
   ],
   "source": [
    "!git push origin master"
   ]
  },
  {
   "cell_type": "code",
<<<<<<< Updated upstream
<<<<<<< Updated upstream
   "execution_count": 23,
=======
   "execution_count": 8,
>>>>>>> Stashed changes
=======
   "execution_count": 8,
>>>>>>> Stashed changes
   "metadata": {
    "collapsed": false
   },
   "outputs": [
    {
     "name": "stdout",
     "output_type": "stream",
     "text": [
      "On branch master\r\n",
      "Your branch is ahead of 'origin/master' by 1 commit.\r\n",
      "  (use \"git push\" to publish your local commits)\r\n",
      "nothing to commit, working directory clean\r\n"
     ]
    }
   ],
   "source": [
    "!git status"
   ]
  },
  {
   "cell_type": "code",
   "execution_count": null,
   "metadata": {
    "collapsed": true
   },
   "outputs": [],
   "source": []
  }
 ],
 "metadata": {
  "kernelspec": {
   "display_name": "Python 3",
   "language": "python",
   "name": "python3"
  },
  "language_info": {
   "codemirror_mode": {
    "name": "ipython",
    "version": 3
   },
   "file_extension": ".py",
   "mimetype": "text/x-python",
   "name": "python",
   "nbconvert_exporter": "python",
   "pygments_lexer": "ipython3",
   "version": "3.4.3"
  }
 },
 "nbformat": 4,
 "nbformat_minor": 0
}
