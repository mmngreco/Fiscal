{
 "cells": [
  {
   "cell_type": "code",
   "execution_count": 1,
   "metadata": {
    "collapsed": true
   },
   "outputs": [],
   "source": [
    "import datetime"
   ]
  },
  {
   "cell_type": "code",
   "execution_count": 17,
   "metadata": {
    "collapsed": false
   },
   "outputs": [
    {
     "data": {
      "text/plain": [
       "'2015-09-17 07:08:36.190289'"
      ]
     },
     "execution_count": 17,
     "metadata": {},
     "output_type": "execute_result"
    }
   ],
   "source": [
    "hoy = str(datetime.datetime.today())\n",
    "hoy"
   ]
  },
  {
   "cell_type": "code",
   "execution_count": null,
   "metadata": {
    "collapsed": true
   },
   "outputs": [],
   "source": [
    "%%!\n",
    "git init"
   ]
  },
  {
   "cell_type": "code",
   "execution_count": null,
   "metadata": {
    "collapsed": true
   },
   "outputs": [],
   "source": [
    "git add ."
   ]
  },
  {
   "cell_type": "code",
   "execution_count": null,
   "metadata": {
    "collapsed": true
   },
   "outputs": [],
   "source": [
    "git commit -a -m 'update 9.17.0708'"
   ]
  },
  {
   "cell_type": "code",
   "execution_count": 18,
   "metadata": {
    "collapsed": false
   },
   "outputs": [
    {
     "data": {
      "text/plain": [
       "['Reinitialized existing Git repository in /Users/mmngreco/Documents/repos/Fiscal/.git/',\n",
       " '[master dcab38d] update 9.17.0708',\n",
       " ' 9 files changed, 1030 insertions(+), 686 deletions(-)',\n",
       " ' delete mode 100644 .ipynb_checkpoints/Untitled-checkpoint.ipynb',\n",
       " ' create mode 100644 .ipynb_checkpoints/git-checkpoint.ipynb',\n",
       " ' delete mode 100644 Untitled.ipynb',\n",
       " ' create mode 100644 data/nombres_ccaa.csv',\n",
       " ' delete mode 100644 data/nombres_ccaa_acentos.csv',\n",
       " ' create mode 100644 git.ipynb',\n",
       " ' create mode 100644 imgs/img_ppales_res.png',\n",
       " 'To https://github.com/mmngreco/Fiscal.git',\n",
       " '   15f37a5..dcab38d  master -> master']"
      ]
     },
     "execution_count": 18,
     "metadata": {},
     "output_type": "execute_result"
    }
   ],
   "source": [
    "git push origin master"
   ]
  },
  {
   "cell_type": "code",
   "execution_count": null,
   "metadata": {
    "collapsed": true
   },
   "outputs": [],
   "source": []
  }
 ],
 "metadata": {
  "kernelspec": {
   "display_name": "Python 3",
   "language": "python",
   "name": "python3"
  },
  "language_info": {
   "codemirror_mode": {
    "name": "ipython",
    "version": 3
   },
   "file_extension": ".py",
   "mimetype": "text/x-python",
   "name": "python",
   "nbconvert_exporter": "python",
   "pygments_lexer": "ipython3",
   "version": "3.4.3"
  }
 },
 "nbformat": 4,
 "nbformat_minor": 0
}
