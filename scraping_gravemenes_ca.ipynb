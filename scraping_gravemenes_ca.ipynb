{
 "cells": [
  {
   "cell_type": "code",
   "execution_count": 2,
   "metadata": {
    "collapsed": true
   },
   "outputs": [],
   "source": [
    "import csv\n",
    "import urllib\n",
    "from BeautifulSoup import *\n",
    "import pandas as pd\n",
    "import html5lib\n",
    "from numpy import *\n",
    "from __future__ import unicode_literals"
   ]
  },
  {
   "cell_type": "markdown",
   "metadata": {},
   "source": [
    "- sobre tag html tabla: http://www.w3schools.com/html/html_tables.asp\n",
    "- tablas irpf, url: http://www.sbal.net/utilidades/tipo-de-gravamen-en-el-irpf/"
   ]
  },
  {
   "cell_type": "code",
   "execution_count": 2,
   "metadata": {
    "collapsed": true
   },
   "outputs": [],
   "source": [
    "url = u'http://www.sbal.net/utilidades/tipo-de-gravamen-en-el-irpf/'\n",
    "html = urllib.urlopen(url).read()\n",
    "soup = BeautifulSoup(html)"
   ]
  },
  {
   "cell_type": "code",
   "execution_count": 3,
   "metadata": {
    "collapsed": false
   },
   "outputs": [],
   "source": [
    "tags = soup(['h2', 'em', 'table'])\n",
    "data = list()\n",
    "\n",
    "for i, tag in enumerate(tags):\n",
    "    data.append([i,  # indice\n",
    "                 tag.string,  # texto que contiene el tag\n",
    "                 tag.name,   # nombre del tag\n",
    "                 tag])  # codigo html\n"
   ]
  },
  {
   "cell_type": "code",
   "execution_count": 4,
   "metadata": {
    "collapsed": true
   },
   "outputs": [],
   "source": [
    "df = pd.DataFrame(data, columns=['index', 'string', 'tag', 'html'])"
   ]
  },
  {
   "cell_type": "code",
   "execution_count": 5,
   "metadata": {
    "collapsed": false
   },
   "outputs": [
    {
     "data": {
      "text/html": [
       "<div>\n",
       "<table border=\"1\" class=\"dataframe\">\n",
       "  <thead>\n",
       "    <tr style=\"text-align: right;\">\n",
       "      <th></th>\n",
       "      <th>index</th>\n",
       "      <th>string</th>\n",
       "      <th>tag</th>\n",
       "      <th>html</th>\n",
       "    </tr>\n",
       "  </thead>\n",
       "  <tbody>\n",
       "    <tr>\n",
       "      <th>0</th>\n",
       "      <td>0</td>\n",
       "      <td>None</td>\n",
       "      <td>em</td>\n",
       "      <td>&lt;em&gt;BEST LAWYERS&lt;span class=\"reg\"&gt;&amp;reg;&lt;/span&gt;...</td>\n",
       "    </tr>\n",
       "    <tr>\n",
       "      <th>1</th>\n",
       "      <td>1</td>\n",
       "      <td>Territorio Común</td>\n",
       "      <td>h2</td>\n",
       "      <td>&lt;h2 class=\"utilidadsub\"&gt;Territorio Común&lt;/h2&gt;</td>\n",
       "    </tr>\n",
       "    <tr>\n",
       "      <th>2</th>\n",
       "      <td>2</td>\n",
       "      <td>Gravamen Estatal</td>\n",
       "      <td>h2</td>\n",
       "      <td>&lt;h2 class=\"tabletitle\"&gt;Gravamen Estatal&lt;/h2&gt;</td>\n",
       "    </tr>\n",
       "    <tr>\n",
       "      <th>3</th>\n",
       "      <td>3</td>\n",
       "      <td>Base liquidable general</td>\n",
       "      <td>em</td>\n",
       "      <td>&lt;em&gt;Base liquidable general&lt;/em&gt;</td>\n",
       "    </tr>\n",
       "    <tr>\n",
       "      <th>4</th>\n",
       "      <td>4</td>\n",
       "      <td>None</td>\n",
       "      <td>table</td>\n",
       "      <td>&lt;table class=\"responsive\" summary=\"Tabla infor...</td>\n",
       "    </tr>\n",
       "  </tbody>\n",
       "</table>\n",
       "</div>"
      ],
      "text/plain": [
       "   index                   string    tag  \\\n",
       "0      0                     None     em   \n",
       "1      1         Territorio Común     h2   \n",
       "2      2         Gravamen Estatal     h2   \n",
       "3      3  Base liquidable general     em   \n",
       "4      4                     None  table   \n",
       "\n",
       "                                                html  \n",
       "0  <em>BEST LAWYERS<span class=\"reg\">&reg;</span>...  \n",
       "1      <h2 class=\"utilidadsub\">Territorio Común</h2>  \n",
       "2       <h2 class=\"tabletitle\">Gravamen Estatal</h2>  \n",
       "3                   <em>Base liquidable general</em>  \n",
       "4  <table class=\"responsive\" summary=\"Tabla infor...  "
      ]
     },
     "execution_count": 5,
     "metadata": {},
     "output_type": "execute_result"
    }
   ],
   "source": [
    "df.head()"
   ]
  },
  {
   "cell_type": "raw",
   "metadata": {},
   "source": [
    "# exportar el dataframe en un csv para modificarlo con excel.\n",
    "\n",
    "df.to_csv('contenido.csv', \n",
    "          sep=str(';'), \n",
    "          index=False, \n",
    "          encoding='utf-8')"
   ]
  },
  {
   "cell_type": "code",
   "execution_count": 6,
   "metadata": {
    "collapsed": true
   },
   "outputs": [],
   "source": [
    "!open ."
   ]
  },
  {
   "cell_type": "code",
   "execution_count": 7,
   "metadata": {
    "collapsed": false
   },
   "outputs": [],
   "source": [
    "df = pd.read_csv('contenidos.csv',\n",
    "                 sep=str(';'))"
   ]
  },
  {
   "cell_type": "code",
   "execution_count": 8,
   "metadata": {
    "collapsed": false
   },
   "outputs": [
    {
     "data": {
      "text/html": [
       "<div>\n",
       "<table border=\"1\" class=\"dataframe\">\n",
       "  <thead>\n",
       "    <tr style=\"text-align: right;\">\n",
       "      <th></th>\n",
       "      <th>index</th>\n",
       "      <th>string</th>\n",
       "      <th>html</th>\n",
       "    </tr>\n",
       "  </thead>\n",
       "  <tbody>\n",
       "    <tr>\n",
       "      <th>0</th>\n",
       "      <td>4</td>\n",
       "      <td>BL_estatal</td>\n",
       "      <td>&lt;table class=\"responsive\" summary=\"Tabla infor...</td>\n",
       "    </tr>\n",
       "    <tr>\n",
       "      <th>1</th>\n",
       "      <td>9</td>\n",
       "      <td>BL_ccaa</td>\n",
       "      <td>&lt;table class=\"responsive\" summary=\"Tabla infor...</td>\n",
       "    </tr>\n",
       "    <tr>\n",
       "      <th>2</th>\n",
       "      <td>15</td>\n",
       "      <td>Andalucia</td>\n",
       "      <td>&lt;table class=\"responsive\"&gt;\\r&lt;thead&gt;\\r&lt;tr&gt;\\r&lt;th...</td>\n",
       "    </tr>\n",
       "    <tr>\n",
       "      <th>3</th>\n",
       "      <td>18</td>\n",
       "      <td>Aragon</td>\n",
       "      <td>&lt;table class=\"responsive\"&gt;\\r&lt;thead&gt;\\r&lt;tr&gt;\\r&lt;th...</td>\n",
       "    </tr>\n",
       "    <tr>\n",
       "      <th>4</th>\n",
       "      <td>21</td>\n",
       "      <td>Principado de Asturias</td>\n",
       "      <td>&lt;table class=\"responsive\"&gt;\\r&lt;thead&gt;\\r&lt;tr&gt;\\r&lt;th...</td>\n",
       "    </tr>\n",
       "  </tbody>\n",
       "</table>\n",
       "</div>"
      ],
      "text/plain": [
       "   index                  string  \\\n",
       "0      4              BL_estatal   \n",
       "1      9                 BL_ccaa   \n",
       "2     15               Andalucia   \n",
       "3     18                  Aragon   \n",
       "4     21  Principado de Asturias   \n",
       "\n",
       "                                                html  \n",
       "0  <table class=\"responsive\" summary=\"Tabla infor...  \n",
       "1  <table class=\"responsive\" summary=\"Tabla infor...  \n",
       "2  <table class=\"responsive\">\\r<thead>\\r<tr>\\r<th...  \n",
       "3  <table class=\"responsive\">\\r<thead>\\r<tr>\\r<th...  \n",
       "4  <table class=\"responsive\">\\r<thead>\\r<tr>\\r<th...  "
      ]
     },
     "execution_count": 8,
     "metadata": {},
     "output_type": "execute_result"
    }
   ],
   "source": [
    "df.head()"
   ]
  },
  {
   "cell_type": "code",
   "execution_count": 9,
   "metadata": {
    "collapsed": false
   },
   "outputs": [],
   "source": [
    "strings, tables = list(df.string), list(df.html)\n",
    "datafs = zip(strings, tables)"
   ]
  },
  {
   "cell_type": "code",
   "execution_count": 11,
   "metadata": {
    "collapsed": false
   },
   "outputs": [],
   "source": [
    "def trans_decimal(x):\n",
    "    try:\n",
    "        return float(x.replace('.', '').replace(',', '.')) \n",
    "    except:\n",
    "        return x\n"
   ]
  },
  {
   "cell_type": "code",
   "execution_count": 16,
   "metadata": {
    "collapsed": false
   },
   "outputs": [],
   "source": [
    "ccaa_escalas = dict()\n",
    "\n",
    "for i, e in enumerate(datafs): # enumera cada elemento de la lista\n",
    "\n",
    "    ccaa_escalas['escala_' + e[0]] = pd.read_html(e[1], thousands=None)[0] # crea las variables en el diccionario\n",
    "    globals()['escala_' + e[0]] = pd.read_html(e[1], thousands=None)[0] # crea las variables en la memoria"
   ]
  },
  {
   "cell_type": "code",
   "execution_count": 19,
   "metadata": {
    "collapsed": false
   },
   "outputs": [
    {
     "data": {
      "text/html": [
       "<div>\n",
       "<table border=\"1\" class=\"dataframe\">\n",
       "  <thead>\n",
       "    <tr style=\"text-align: right;\">\n",
       "      <th></th>\n",
       "      <th>Base liquidable [Hasta euros]</th>\n",
       "      <th>Cuota Integra [euros]</th>\n",
       "      <th>Resto base liquidable [Hasta euros]</th>\n",
       "      <th>Tipo aplicable [Porcentaje]</th>\n",
       "    </tr>\n",
       "  </thead>\n",
       "  <tbody>\n",
       "    <tr>\n",
       "      <th>0</th>\n",
       "      <td>0.0</td>\n",
       "      <td>0.00</td>\n",
       "      <td>17707.2</td>\n",
       "      <td>12.0</td>\n",
       "    </tr>\n",
       "    <tr>\n",
       "      <th>1</th>\n",
       "      <td>17707.2</td>\n",
       "      <td>2124.86</td>\n",
       "      <td>15300</td>\n",
       "      <td>14.0</td>\n",
       "    </tr>\n",
       "    <tr>\n",
       "      <th>2</th>\n",
       "      <td>33007.2</td>\n",
       "      <td>4266.86</td>\n",
       "      <td>20400</td>\n",
       "      <td>18.5</td>\n",
       "    </tr>\n",
       "    <tr>\n",
       "      <th>3</th>\n",
       "      <td>53407.2</td>\n",
       "      <td>8040.86</td>\n",
       "      <td>En adelante</td>\n",
       "      <td>21.5</td>\n",
       "    </tr>\n",
       "  </tbody>\n",
       "</table>\n",
       "</div>"
      ],
      "text/plain": [
       "   Base liquidable [Hasta euros]  Cuota Integra [euros]  \\\n",
       "0                            0.0                   0.00   \n",
       "1                        17707.2                2124.86   \n",
       "2                        33007.2                4266.86   \n",
       "3                        53407.2                8040.86   \n",
       "\n",
       "  Resto base liquidable [Hasta euros]  Tipo aplicable [Porcentaje]  \n",
       "0                             17707.2                         12.0  \n",
       "1                               15300                         14.0  \n",
       "2                               20400                         18.5  \n",
       "3                         En adelante                         21.5  "
      ]
     },
     "execution_count": 19,
     "metadata": {},
     "output_type": "execute_result"
    }
   ],
   "source": [
    "escala_Aragon.head()"
   ]
  },
  {
   "cell_type": "code",
   "execution_count": 18,
   "metadata": {
    "collapsed": false
   },
   "outputs": [
    {
     "data": {
      "text/html": [
       "<div>\n",
       "<table border=\"1\" class=\"dataframe\">\n",
       "  <thead>\n",
       "    <tr style=\"text-align: right;\">\n",
       "      <th></th>\n",
       "      <th>Base liquidable [Hasta euros]</th>\n",
       "      <th>Cuota Integra [euros]</th>\n",
       "      <th>Resto base liquidable [Hasta euros]</th>\n",
       "      <th>Tipo aplicable [Porcentaje]</th>\n",
       "    </tr>\n",
       "  </thead>\n",
       "  <tbody>\n",
       "    <tr>\n",
       "      <th>0</th>\n",
       "      <td>0.0</td>\n",
       "      <td>0.00</td>\n",
       "      <td>17707.2</td>\n",
       "      <td>12.0</td>\n",
       "    </tr>\n",
       "    <tr>\n",
       "      <th>1</th>\n",
       "      <td>17707.2</td>\n",
       "      <td>2124.86</td>\n",
       "      <td>15300</td>\n",
       "      <td>14.0</td>\n",
       "    </tr>\n",
       "    <tr>\n",
       "      <th>2</th>\n",
       "      <td>33007.2</td>\n",
       "      <td>4266.86</td>\n",
       "      <td>20400</td>\n",
       "      <td>18.5</td>\n",
       "    </tr>\n",
       "    <tr>\n",
       "      <th>3</th>\n",
       "      <td>53407.2</td>\n",
       "      <td>8040.86</td>\n",
       "      <td>En adelante</td>\n",
       "      <td>21.5</td>\n",
       "    </tr>\n",
       "  </tbody>\n",
       "</table>\n",
       "</div>"
      ],
      "text/plain": [
       "   Base liquidable [Hasta euros]  Cuota Integra [euros]  \\\n",
       "0                            0.0                   0.00   \n",
       "1                        17707.2                2124.86   \n",
       "2                        33007.2                4266.86   \n",
       "3                        53407.2                8040.86   \n",
       "\n",
       "  Resto base liquidable [Hasta euros]  Tipo aplicable [Porcentaje]  \n",
       "0                             17707.2                         12.0  \n",
       "1                               15300                         14.0  \n",
       "2                               20400                         18.5  \n",
       "3                         En adelante                         21.5  "
      ]
     },
     "execution_count": 18,
     "metadata": {},
     "output_type": "execute_result"
    }
   ],
   "source": [
    "escala_Aragon = escala_Aragon.applymap(trans_decimal)\n",
    "escala_Aragon.head()"
   ]
  },
  {
   "cell_type": "code",
   "execution_count": 20,
   "metadata": {
    "collapsed": false,
    "scrolled": true
   },
   "outputs": [],
   "source": [
    "ccaa_escalas = dict()\n",
    "\n",
    "for i, e in enumerate(datafs): # enumera cada elemento de la lista\n",
    "\n",
    "    ccaa_escalas['escala_' + e[0]] = pd.read_html(e[1], thousands=None)[0].applymap(trans_decimal) # crea las variables en el diccionario\n",
    "    globals()['escala_' + e[0]] = pd.read_html(e[1], thousands=None)[0].applymap(trans_decimal) # crea las variables en la memoria"
   ]
  },
  {
   "cell_type": "code",
   "execution_count": 32,
   "metadata": {
    "collapsed": false
   },
   "outputs": [],
   "source": [
    "!cd tipos_escalas_gravamen"
   ]
  },
  {
   "cell_type": "code",
   "execution_count": 33,
   "metadata": {
    "collapsed": false
   },
   "outputs": [
    {
     "name": "stdout",
     "output_type": "stream",
     "text": [
      "\u001b[31m2010principales.txt\u001b[m\u001b[m\r\n",
      "ANALISIS_IRPF.ipynb\r\n",
      "box_dist_tramo_by_ccaa.png\r\n",
      "ccaa_escalas\r\n",
      "contenidos.csv\r\n",
      "dist_ascending_cuota_by_ccaa.png\r\n",
      "dist_ascending_cuota_by_tramo.png\r\n",
      "dist_ascending_cuota_by_tramo2.png\r\n",
      "dist_ascending_tramo_by_ccaa.png\r\n",
      "dist_declarantes_por_tramos_españa.png\r\n",
      "\u001b[34mdoc\u001b[m\u001b[m\r\n",
      "dwork.csv\r\n",
      "frec_relativa_dist_por_ccaa.png\r\n",
      "hist_dist_tramo_by_ccaa.png\r\n",
      "hists_frec_relativa_dist_tramo_by_ccaa.png\r\n",
      "prog_fiscal.ipynb\r\n",
      "scraping_gravemenes_ca.ipynb\r\n",
      "seaborn_hist_dist_tramo_by_ccaa.png\r\n",
      "sum_ascending_cuota_by_ccaa3.png\r\n",
      "sum_ascending_cuota_by_tramo.png\r\n",
      "sum_ascending_cuota_by_tramo_ccaa3.png\r\n",
      "sum_ascending_cuota_liquida_estado_ca_by_ccaa.png\r\n",
      "\u001b[34mtipos_escalas_gravamen\u001b[m\u001b[m\r\n",
      "variables.txt\r\n"
     ]
    }
   ],
   "source": [
    "!ls\n"
   ]
  },
  {
   "cell_type": "code",
   "execution_count": 36,
   "metadata": {
    "collapsed": false,
    "scrolled": false
   },
   "outputs": [],
   "source": [
    "for k, v in ccaa_escalas.iteritems():\n",
    "    v.to_csv('%s' % k, \n",
    "             encoding='utf-8')"
   ]
  },
  {
   "cell_type": "code",
   "execution_count": 37,
   "metadata": {
    "collapsed": false
   },
   "outputs": [],
   "source": [
    "!open ."
   ]
  },
  {
   "cell_type": "code",
   "execution_count": 39,
   "metadata": {
    "collapsed": false
   },
   "outputs": [],
   "source": [
    "ls = !ls"
   ]
  },
  {
   "cell_type": "code",
   "execution_count": null,
   "metadata": {
    "collapsed": true
   },
   "outputs": [],
   "source": []
  },
  {
   "cell_type": "code",
   "execution_count": 43,
   "metadata": {
    "collapsed": false
   },
   "outputs": [],
   "source": [
    "escalas = list()\n",
    "for l in ls:\n",
    "    if not l.startswith(str('escala_')):\n",
    "        continue\n",
    "    escalas.append(l)"
   ]
  },
  {
   "cell_type": "code",
   "execution_count": 44,
   "metadata": {
    "collapsed": false
   },
   "outputs": [
    {
     "data": {
      "text/plain": [
       "['escala_Andalucia',\n",
       " 'escala_Araba',\n",
       " 'escala_Aragon',\n",
       " 'escala_BL_ccaa',\n",
       " 'escala_BL_estatal',\n",
       " 'escala_Bizkaia',\n",
       " 'escala_Canarias',\n",
       " 'escala_Cantabria',\n",
       " 'escala_Castilla La Mancha',\n",
       " 'escala_Castilla y Leon',\n",
       " 'escala_Catalunya',\n",
       " 'escala_Comunidad Valenciana',\n",
       " 'escala_Comunidad de Madrid',\n",
       " 'escala_Extremadura',\n",
       " 'escala_Galicia',\n",
       " 'escala_Gipuzkoa',\n",
       " 'escala_Islas Baleares',\n",
       " 'escala_La Rioja',\n",
       " 'escala_Navarra',\n",
       " 'escala_Principado de Asturias',\n",
       " 'escala_Region de Murcia']"
      ]
     },
     "execution_count": 44,
     "metadata": {},
     "output_type": "execute_result"
    }
   ],
   "source": [
    "escalas"
   ]
  },
  {
   "cell_type": "markdown",
   "metadata": {
    "collapsed": true
   },
   "source": [
    "escala aplicable en 2016:\n",
    "http://www.agenciatributaria.es/AEAT.internet/Inicio_es_ES/La_Agencia_Tributaria/Campanas/_Campanas_/Impuesto_sobre_la_Renta_de_las_Personas_Fisicas__IRPF_/_INFORMACION/Reforma_Renta_2015/Tipos_y_escalas_de_gravamen/Escala_general_a_aplicar_a_partir_del_ejercicio_2016.shtml"
   ]
  },
  {
   "cell_type": "code",
   "execution_count": 1,
   "metadata": {
    "collapsed": true
   },
   "outputs": [],
   "source": [
    "url = 'http://www.agenciatributaria.es/AEAT.internet/Inicio_es_ES/La_Agencia_Tributaria/Campanas/_Campanas_/Impuesto_sobre_la_Renta_de_las_Personas_Fisicas__IRPF_/_INFORMACION/Reforma_Renta_2015/Tipos_y_escalas_de_gravamen/Escala_general_a_aplicar_a_partir_del_ejercicio_2016.shtml'"
   ]
  },
  {
   "cell_type": "code",
   "execution_count": 17,
   "metadata": {
    "collapsed": false
   },
   "outputs": [
    {
     "data": {
      "text/html": [
       "<div>\n",
       "<table border=\"1\" class=\"dataframe\">\n",
       "  <thead>\n",
       "    <tr>\n",
       "      <th></th>\n",
       "      <th>Base liquidable</th>\n",
       "      <th>Cuota íntegra</th>\n",
       "      <th>Resto base liquidable</th>\n",
       "      <th>Tipo aplicable</th>\n",
       "    </tr>\n",
       "    <tr>\n",
       "      <th></th>\n",
       "      <th>Hasta euros</th>\n",
       "      <th>Euros</th>\n",
       "      <th>Hasta euros</th>\n",
       "      <th>Porcentaje</th>\n",
       "    </tr>\n",
       "  </thead>\n",
       "  <tbody>\n",
       "    <tr>\n",
       "      <th>0</th>\n",
       "      <td>0,00</td>\n",
       "      <td>0,00</td>\n",
       "      <td>12.450,00</td>\n",
       "      <td>9,50</td>\n",
       "    </tr>\n",
       "    <tr>\n",
       "      <th>1</th>\n",
       "      <td>12.450,00</td>\n",
       "      <td>1.182,75</td>\n",
       "      <td>7.750,00</td>\n",
       "      <td>12,00</td>\n",
       "    </tr>\n",
       "    <tr>\n",
       "      <th>2</th>\n",
       "      <td>20.200,00</td>\n",
       "      <td>2.112,75</td>\n",
       "      <td>15.000,00</td>\n",
       "      <td>15,00</td>\n",
       "    </tr>\n",
       "    <tr>\n",
       "      <th>3</th>\n",
       "      <td>35.200,00</td>\n",
       "      <td>4.362,75</td>\n",
       "      <td>24.800,00</td>\n",
       "      <td>18,50</td>\n",
       "    </tr>\n",
       "    <tr>\n",
       "      <th>4</th>\n",
       "      <td>60.000,00</td>\n",
       "      <td>8.950,75</td>\n",
       "      <td>En adelante</td>\n",
       "      <td>22,50</td>\n",
       "    </tr>\n",
       "  </tbody>\n",
       "</table>\n",
       "</div>"
      ],
      "text/plain": [
       "  Base liquidable Cuota íntegra Resto base liquidable Tipo aplicable\n",
       "      Hasta euros         Euros           Hasta euros     Porcentaje\n",
       "0            0,00          0,00             12.450,00           9,50\n",
       "1       12.450,00      1.182,75              7.750,00          12,00\n",
       "2       20.200,00      2.112,75             15.000,00          15,00\n",
       "3       35.200,00      4.362,75             24.800,00          18,50\n",
       "4       60.000,00      8.950,75           En adelante          22,50"
      ]
     },
     "execution_count": 17,
     "metadata": {},
     "output_type": "execute_result"
    }
   ],
   "source": [
    "pd.read_html(url, \n",
    "             skiprows=0, \n",
    "             index_col=None, \n",
    "             thousands=None, \n",
    "             header=[0,1])[0]"
   ]
  },
  {
   "cell_type": "code",
   "execution_count": null,
   "metadata": {
    "collapsed": true
   },
   "outputs": [],
   "source": []
  }
 ],
 "metadata": {
  "kernelspec": {
   "display_name": "Python 2",
   "language": "python",
   "name": "python2"
  },
  "language_info": {
   "codemirror_mode": {
    "name": "ipython",
    "version": 2
   },
   "file_extension": ".py",
   "mimetype": "text/x-python",
   "name": "python",
   "nbconvert_exporter": "python",
   "pygments_lexer": "ipython2",
   "version": "2.7.10"
  }
 },
 "nbformat": 4,
 "nbformat_minor": 0
}
