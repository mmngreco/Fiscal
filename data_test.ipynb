{
 "cells": [
  {
   "cell_type": "code",
   "execution_count": 9,
   "metadata": {
    "collapsed": true
   },
   "outputs": [],
   "source": [
    "import pandas as pd\n",
    "import matplotlib.pyplot as plt\n",
    "import seaborn as sns"
   ]
  },
  {
   "cell_type": "code",
   "execution_count": 11,
   "metadata": {
    "collapsed": true
   },
   "outputs": [],
   "source": [
    "%matplotlib inline"
   ]
  },
  {
   "cell_type": "code",
   "execution_count": 12,
   "metadata": {
    "collapsed": false
   },
   "outputs": [
    {
     "data": {
      "text/plain": [
       "'%.3f'"
      ]
     },
     "execution_count": 12,
     "metadata": {},
     "output_type": "execute_result"
    }
   ],
   "source": [
    "%precision 3"
   ]
  },
  {
   "cell_type": "code",
   "execution_count": 18,
   "metadata": {
    "collapsed": false
   },
   "outputs": [
    {
     "data": {
      "text/html": [
       "<div>\n",
       "<table border=\"1\" class=\"dataframe\">\n",
       "  <thead>\n",
       "    <tr style=\"text-align: right;\">\n",
       "      <th></th>\n",
       "      <th>ndecla</th>\n",
       "      <th>nhogar</th>\n",
       "      <th>nppal</th>\n",
       "      <th>ncyge</th>\n",
       "      <th>expediente</th>\n",
       "      <th>municipio</th>\n",
       "      <th>dh</th>\n",
       "      <th>ccaa</th>\n",
       "      <th>tramo</th>\n",
       "      <th>marcafuente</th>\n",
       "      <th>...</th>\n",
       "      <th>c932</th>\n",
       "      <th>c933</th>\n",
       "      <th>c934</th>\n",
       "      <th>c935</th>\n",
       "      <th>c936</th>\n",
       "      <th>c937</th>\n",
       "      <th>c938</th>\n",
       "      <th>c1094</th>\n",
       "      <th>c1098</th>\n",
       "      <th>c1099</th>\n",
       "    </tr>\n",
       "  </thead>\n",
       "  <tbody>\n",
       "    <tr>\n",
       "      <th>0</th>\n",
       "      <td>5743234</td>\n",
       "      <td>557846</td>\n",
       "      <td>1002095917</td>\n",
       "      <td>28005171063</td>\n",
       "      <td>201110066341636K</td>\n",
       "      <td>28006</td>\n",
       "      <td>28</td>\n",
       "      <td>12</td>\n",
       "      <td>5</td>\n",
       "      <td>0</td>\n",
       "      <td>...</td>\n",
       "      <td>0</td>\n",
       "      <td>0</td>\n",
       "      <td>0</td>\n",
       "      <td>0</td>\n",
       "      <td>0</td>\n",
       "      <td>0</td>\n",
       "      <td>0</td>\n",
       "      <td>2156</td>\n",
       "      <td>1313625</td>\n",
       "      <td>0</td>\n",
       "    </tr>\n",
       "    <tr>\n",
       "      <th>1</th>\n",
       "      <td>5743235</td>\n",
       "      <td>470524</td>\n",
       "      <td>1002123512</td>\n",
       "      <td>28039028136</td>\n",
       "      <td>201110072331775J</td>\n",
       "      <td>11004</td>\n",
       "      <td>11</td>\n",
       "      <td>1</td>\n",
       "      <td>9</td>\n",
       "      <td>0</td>\n",
       "      <td>...</td>\n",
       "      <td>0</td>\n",
       "      <td>0</td>\n",
       "      <td>0</td>\n",
       "      <td>0</td>\n",
       "      <td>0</td>\n",
       "      <td>0</td>\n",
       "      <td>0</td>\n",
       "      <td>4233668</td>\n",
       "      <td>0</td>\n",
       "      <td>838116</td>\n",
       "    </tr>\n",
       "    <tr>\n",
       "      <th>2</th>\n",
       "      <td>5743236</td>\n",
       "      <td>557847</td>\n",
       "      <td>1002136926</td>\n",
       "      <td>1800828795</td>\n",
       "      <td>201110031720523R</td>\n",
       "      <td>3900</td>\n",
       "      <td>3</td>\n",
       "      <td>17</td>\n",
       "      <td>5</td>\n",
       "      <td>1</td>\n",
       "      <td>...</td>\n",
       "      <td>0</td>\n",
       "      <td>0</td>\n",
       "      <td>0</td>\n",
       "      <td>0</td>\n",
       "      <td>0</td>\n",
       "      <td>0</td>\n",
       "      <td>0</td>\n",
       "      <td>88951</td>\n",
       "      <td>376131</td>\n",
       "      <td>0</td>\n",
       "    </tr>\n",
       "    <tr>\n",
       "      <th>3</th>\n",
       "      <td>5743237</td>\n",
       "      <td>800417</td>\n",
       "      <td>1002138304</td>\n",
       "      <td>0</td>\n",
       "      <td>201110017981270P</td>\n",
       "      <td>9284</td>\n",
       "      <td>9</td>\n",
       "      <td>8</td>\n",
       "      <td>4</td>\n",
       "      <td>0</td>\n",
       "      <td>...</td>\n",
       "      <td>0</td>\n",
       "      <td>0</td>\n",
       "      <td>0</td>\n",
       "      <td>0</td>\n",
       "      <td>0</td>\n",
       "      <td>0</td>\n",
       "      <td>0</td>\n",
       "      <td>17426</td>\n",
       "      <td>122898</td>\n",
       "      <td>0</td>\n",
       "    </tr>\n",
       "    <tr>\n",
       "      <th>4</th>\n",
       "      <td>5743238</td>\n",
       "      <td>557849</td>\n",
       "      <td>1002201551</td>\n",
       "      <td>1002201584</td>\n",
       "      <td>201110047050842D</td>\n",
       "      <td>28092</td>\n",
       "      <td>28</td>\n",
       "      <td>12</td>\n",
       "      <td>6</td>\n",
       "      <td>1</td>\n",
       "      <td>...</td>\n",
       "      <td>0</td>\n",
       "      <td>0</td>\n",
       "      <td>0</td>\n",
       "      <td>0</td>\n",
       "      <td>0</td>\n",
       "      <td>0</td>\n",
       "      <td>0</td>\n",
       "      <td>81566</td>\n",
       "      <td>30355</td>\n",
       "      <td>0</td>\n",
       "    </tr>\n",
       "  </tbody>\n",
       "</table>\n",
       "<p>5 rows × 408 columns</p>\n",
       "</div>"
      ],
      "text/plain": [
       "    ndecla  nhogar       nppal        ncyge        expediente  municipio  dh  \\\n",
       "0  5743234  557846  1002095917  28005171063  201110066341636K      28006  28   \n",
       "1  5743235  470524  1002123512  28039028136  201110072331775J      11004  11   \n",
       "2  5743236  557847  1002136926   1800828795  201110031720523R       3900   3   \n",
       "3  5743237  800417  1002138304            0  201110017981270P       9284   9   \n",
       "4  5743238  557849  1002201551   1002201584  201110047050842D      28092  28   \n",
       "\n",
       "   ccaa  tramo  marcafuente   ...    c932  c933  c934  c935  c936  c937  c938  \\\n",
       "0    12      5            0   ...       0     0     0     0     0     0     0   \n",
       "1     1      9            0   ...       0     0     0     0     0     0     0   \n",
       "2    17      5            1   ...       0     0     0     0     0     0     0   \n",
       "3     8      4            0   ...       0     0     0     0     0     0     0   \n",
       "4    12      6            1   ...       0     0     0     0     0     0     0   \n",
       "\n",
       "     c1094    c1098   c1099  \n",
       "0     2156  1313625       0  \n",
       "1  4233668        0  838116  \n",
       "2    88951   376131       0  \n",
       "3    17426   122898       0  \n",
       "4    81566    30355       0  \n",
       "\n",
       "[5 rows x 408 columns]"
      ]
     },
     "execution_count": 18,
     "metadata": {},
     "output_type": "execute_result"
    }
   ],
   "source": [
    "d = pd.read_table('data/2011/2011principales.txt', sep='\\t')\n",
    "d.head()"
   ]
  },
  {
   "cell_type": "code",
   "execution_count": 15,
   "metadata": {
    "collapsed": false
   },
   "outputs": [
    {
     "data": {
      "text/plain": [
       "19464832.711"
      ]
     },
     "execution_count": 15,
     "metadata": {},
     "output_type": "execute_result"
    }
   ],
   "source": [
    "d.factor.sum()"
   ]
  },
  {
   "cell_type": "code",
   "execution_count": 14,
   "metadata": {
    "collapsed": false
   },
   "outputs": [
    {
     "data": {
      "text/plain": [
       "19464833.000"
      ]
     },
     "execution_count": 14,
     "metadata": {},
     "output_type": "execute_result"
    }
   ],
   "source": [
    "d.factoroptimizado.sum()"
   ]
  },
  {
   "cell_type": "code",
   "execution_count": 17,
   "metadata": {
    "collapsed": false
   },
   "outputs": [
    {
     "data": {
      "text/plain": [
       "641507.996"
      ]
     },
     "execution_count": 17,
     "metadata": {},
     "output_type": "execute_result"
    }
   ],
   "source": [
    "d[d['c716'] > 0].factoroptimizado.sum()"
   ]
  },
  {
   "cell_type": "code",
   "execution_count": 20,
   "metadata": {
    "collapsed": false
   },
   "outputs": [
    {
     "data": {
      "text/plain": [
       "13325"
      ]
     },
     "execution_count": 20,
     "metadata": {},
     "output_type": "execute_result"
    }
   ],
   "source": [
    "d[d['c716'] > 0].c716.count()"
   ]
  },
  {
   "cell_type": "code",
   "execution_count": null,
   "metadata": {
    "collapsed": false
   },
   "outputs": [],
   "source": []
  },
  {
   "cell_type": "code",
   "execution_count": null,
   "metadata": {
    "collapsed": true
   },
   "outputs": [],
   "source": []
  }
 ],
 "metadata": {
  "kernelspec": {
   "display_name": "Python 3",
   "language": "python",
   "name": "python3"
  },
  "language_info": {
   "codemirror_mode": {
    "name": "ipython",
    "version": 3
   },
   "file_extension": ".py",
   "mimetype": "text/x-python",
   "name": "python",
   "nbconvert_exporter": "python",
   "pygments_lexer": "ipython3",
   "version": "3.5.0"
  },
  "latex_envs": {
   "bibliofile": "biblio.bib",
   "cite_by": "apalike",
   "current_citInitial": 1,
   "eqLabelWithNumbers": true,
   "eqNumInitial": 0
  }
 },
 "nbformat": 4,
 "nbformat_minor": 0
}
