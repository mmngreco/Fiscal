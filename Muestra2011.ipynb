{
 "cells": [
  {
   "cell_type": "code",
   "execution_count": 1,
   "metadata": {
    "collapsed": false
   },
   "outputs": [
    {
     "name": "stderr",
     "output_type": "stream",
     "text": [
      "/Users/mmngreco/Virtualenvs/ipynb/lib/python3.5/site-packages/matplotlib/__init__.py:872: UserWarning: axes.color_cycle is deprecated and replaced with axes.prop_cycle; please use the latter.\n",
      "  warnings.warn(self.msg_depr % (key, alt_key))\n"
     ]
    }
   ],
   "source": [
    "# librerías\n",
    "import numpy as np\n",
    "import pandas as pd\n",
    "from pandas import Series, DataFrame\n",
    "\n",
    "import matplotlib.pyplot as plt\n",
    "from matplotlib.ticker import FuncFormatter\n",
    "from mpl_toolkits.mplot3d import Axes3D\n",
    "import seaborn as sns\n",
    "\n",
    "from datetime import datetime\n",
    "\n",
    "#from statsmodels.api import OLS, RLM\n",
    "#from statsmodels.formula.api import ols, rlm, wls\n",
    "import statsmodels.api as sm\n",
    "\n",
    "import scipy.integrate as si"
   ]
  },
  {
   "cell_type": "code",
   "execution_count": 2,
   "metadata": {
    "code_folding": [],
    "collapsed": false
   },
   "outputs": [],
   "source": [
    "# fecha para nombrar archivos\n",
    "date = datetime.now()                                            \n",
    "date = str(date).replace(':', '').replace(' ','_').split('.')[0] # cambio de formato"
   ]
  },
  {
   "cell_type": "code",
   "execution_count": 3,
   "metadata": {
    "collapsed": false
   },
   "outputs": [
    {
     "name": "stderr",
     "output_type": "stream",
     "text": [
      "/Users/mmngreco/Virtualenvs/ipynb/lib/python3.5/site-packages/matplotlib/__init__.py:872: UserWarning: axes.color_cycle is deprecated and replaced with axes.prop_cycle; please use the latter.\n",
      "  warnings.warn(self.msg_depr % (key, alt_key))\n"
     ]
    }
   ],
   "source": [
    "#sns.set_style('whitegrid')\n",
    "sns.set(style=\"ticks\", palette=\"Set2\")\n",
    "sns.despine()"
   ]
  },
  {
   "cell_type": "code",
   "execution_count": 4,
   "metadata": {
    "code_folding": [
     0
    ],
    "collapsed": false
   },
   "outputs": [],
   "source": [
    "# formato de columnas pandas\n",
    "pd.set_option('display.max_rows', 500)\n",
    "pd.set_option('display.max_columns', 100)\n",
    "pd.set_option('display.max_colwidth', 150)"
   ]
  },
  {
   "cell_type": "code",
   "execution_count": 5,
   "metadata": {
    "collapsed": false
   },
   "outputs": [
    {
     "data": {
      "text/plain": [
       "'%.3f'"
      ]
     },
     "execution_count": 5,
     "metadata": {},
     "output_type": "execute_result"
    }
   ],
   "source": [
    "%matplotlib inline\n",
    "%load_ext rpy2.ipython\n",
    "%precision 3"
   ]
  },
  {
   "cell_type": "code",
   "execution_count": 6,
   "metadata": {
    "collapsed": false
   },
   "outputs": [
    {
     "name": "stderr",
     "output_type": "stream",
     "text": [
      "/Users/mmngreco/Virtualenvs/ipynb/lib/python3.5/site-packages/matplotlib/__init__.py:892: UserWarning: axes.color_cycle is deprecated and replaced with axes.prop_cycle; please use the latter.\n",
      "  warnings.warn(self.msg_depr % (key, alt_key))\n"
     ]
    },
    {
     "data": {
      "text/plain": [
       "<matplotlib.axes._subplots.AxesSubplot at 0x110181a20>"
      ]
     },
     "execution_count": 6,
     "metadata": {},
     "output_type": "execute_result"
    },
    {
     "data": {
      "image/png": "[encoded data removed]",
      "text/plain": [
       "<matplotlib.figure.Figure at 0x10d94bdd8>"
      ]
     },
     "metadata": {},
     "output_type": "display_data"
    }
   ],
   "source": [
    "sns.barplot([0,1], [0,1])"
   ]
  },
  {
   "cell_type": "code",
   "execution_count": null,
   "metadata": {
    "collapsed": true
   },
   "outputs": [],
   "source": []
  },
  {
   "cell_type": "code",
   "execution_count": 11,
   "metadata": {
    "code_folding": [
     0
    ],
    "collapsed": false
   },
   "outputs": [],
   "source": [
    "# DESCRIPCIÓN DE LOS CÓDIGOS\n",
    "\n",
    "info_tramos = {1 : 'Negativas y cero',\n",
    "               2 : 'De 0,001 a 3.000,00',\n",
    "               3 : 'De 3.000,01 a 6.000,00',\n",
    "               4 : 'De 6.000,01 a 12.000,00',\n",
    "               5 : 'De 12.000,01 a 18.000,00',\n",
    "               6 : 'De 18.000,01 a 30.000,00',\n",
    "               7 : 'De 30.000,01 a 60.000,00',\n",
    "               8 : 'De 60.000,01 a 120.000,00',\n",
    "               9 : 'De 120.000,01 a 240.000,00',\n",
    "               10 : 'De 240.000,01 en adelante'}\n",
    "\n",
    "info_tramos = {1:'Negativas y 0.',\n",
    "               2:'Desde 0 hasta 6000 euros.',\n",
    "               3:'Desde 6000 hasta 12000 euros.',\n",
    "               4:'Desde 12000 hasta 18000 euros.',\n",
    "               5:'Desde 18000 hasta 24000 euros.',\n",
    "               6:'Desde 24000 hasta 30000 euros.',\n",
    "               7:'Desde 30000 hasta 36000 euros.',\n",
    "               8:'Desde 36000 hasta 42000 euros.',\n",
    "               9:'Desde 42000 hasta 48000 euros.',\n",
    "               10:'Desde 48000 hasta 54000 euros.',\n",
    "               11:'Desde 54000 hasta 60000 euros.',\n",
    "               12:'De más de 60.000 euros.'}\n",
    "\n",
    "info_ccaa = {1: 'ANDALUCÍA',\n",
    "             2: 'ARAGÓN',\n",
    "             3: 'PRINCIPADO DE ASTURIAS',\n",
    "             4: 'ILLES BALEARS',\n",
    "             5: 'CANARIAS',\n",
    "             6: 'CANTABRIA',\n",
    "             7: 'CASTILLA Y LEÓN',\n",
    "             8: 'CASTILLA LA MANCHA',\n",
    "             9: 'CATALUÑA',\n",
    "             10: 'COMUNITAT VALENCIANA',\n",
    "             11: 'EXTREMADURA',\n",
    "             12: 'GALICIA',\n",
    "             13: 'COMUNIDAD DE MADRID',\n",
    "             14: 'REGIÓN DE MURCIA',\n",
    "             17: 'LA RIOJA',\n",
    "             18: 'CEUTA',\n",
    "             19: 'MELILLA',\n",
    "             20: 'NO RESIDENTES'}"
   ]
  },
  {
   "cell_type": "code",
   "execution_count": 12,
   "metadata": {
    "code_folding": [
     24
    ],
    "collapsed": false
   },
   "outputs": [],
   "source": [
    "!open ."
   ]
  },
  {
   "cell_type": "markdown",
   "metadata": {},
   "source": [
    "# DESCRIPCIÓN DE LAS VARIABLES DE INTERÉS"
   ]
  },
  {
   "cell_type": "code",
   "execution_count": 10,
   "metadata": {
    "code_folding": [
     0
    ],
    "collapsed": false
   },
   "outputs": [
    {
     "data": {
      "text/html": [
       "<div>\n",
       "<table border=\"1\" class=\"dataframe\">\n",
       "  <thead>\n",
       "    <tr style=\"text-align: right;\">\n",
       "      <th></th>\n",
       "      <th>prov</th>\n",
       "    </tr>\n",
       "    <tr>\n",
       "      <th>cod</th>\n",
       "      <th></th>\n",
       "    </tr>\n",
       "  </thead>\n",
       "  <tbody>\n",
       "    <tr>\n",
       "      <th>49</th>\n",
       "      <td>ZAMORA</td>\n",
       "    </tr>\n",
       "    <tr>\n",
       "      <th>50</th>\n",
       "      <td>ZARAGOZA</td>\n",
       "    </tr>\n",
       "    <tr>\n",
       "      <th>51</th>\n",
       "      <td>CEUTA</td>\n",
       "    </tr>\n",
       "    <tr>\n",
       "      <th>52</th>\n",
       "      <td>MELILLA</td>\n",
       "    </tr>\n",
       "    <tr>\n",
       "      <th>99</th>\n",
       "      <td>NO RESIDENTES</td>\n",
       "    </tr>\n",
       "  </tbody>\n",
       "</table>\n",
       "</div>"
      ],
      "text/plain": [
       "              prov\n",
       "cod               \n",
       "49          ZAMORA\n",
       "50        ZARAGOZA\n",
       "51           CEUTA\n",
       "52         MELILLA\n",
       "99   NO RESIDENTES"
      ]
     },
     "execution_count": 10,
     "metadata": {},
     "output_type": "execute_result"
    }
   ],
   "source": [
    "# DESCRIPCIÓN DE LOS CÓDIGOS DE LAS PROVINCIAS\n",
    "\n",
    "info_prov = pd.read_csv('data/cod_prov.csv', index_col=0)\n",
    "info_prov.tail()"
   ]
  },
  {
   "cell_type": "code",
   "execution_count": 11,
   "metadata": {
    "code_folding": [
     0
    ],
    "collapsed": false
   },
   "outputs": [
    {
     "data": {
      "text/html": [
       "<div>\n",
       "<table border=\"1\" class=\"dataframe\">\n",
       "  <thead>\n",
       "    <tr style=\"text-align: right;\">\n",
       "      <th></th>\n",
       "      <th>descrip</th>\n",
       "    </tr>\n",
       "    <tr>\n",
       "      <th>variable</th>\n",
       "      <th></th>\n",
       "    </tr>\n",
       "  </thead>\n",
       "  <tbody>\n",
       "    <tr>\n",
       "      <th>prov</th>\n",
       "      <td>PROVINCIA</td>\n",
       "    </tr>\n",
       "    <tr>\n",
       "      <th>ca</th>\n",
       "      <td>COMUNIDAD AUTÓNOMA</td>\n",
       "    </tr>\n",
       "    <tr>\n",
       "      <th>dec</th>\n",
       "      <td>TIPO DE DECLARACIÓN</td>\n",
       "    </tr>\n",
       "    <tr>\n",
       "      <th>sexo</th>\n",
       "      <td>SEXO DEL DECLARANTE</td>\n",
       "    </tr>\n",
       "    <tr>\n",
       "      <th>EstCv</th>\n",
       "      <td>ESTADO CIVIL DEL DECLARANTE</td>\n",
       "    </tr>\n",
       "  </tbody>\n",
       "</table>\n",
       "</div>"
      ],
      "text/plain": [
       "                              descrip\n",
       "variable                             \n",
       "prov                        PROVINCIA\n",
       "ca                 COMUNIDAD AUTÓNOMA\n",
       "dec               TIPO DE DECLARACIÓN\n",
       "sexo              SEXO DEL DECLARANTE\n",
       "EstCv     ESTADO CIVIL DEL DECLARANTE"
      ]
     },
     "execution_count": 11,
     "metadata": {},
     "output_type": "execute_result"
    }
   ],
   "source": [
    "# DESCRIPCIÓN DE LAS VARIABLES\n",
    "\n",
    "vdescrip = pd.read_table('data/Muestra2011/var_descrip.txt', index_col=0)\n",
    "vdescrip['descrip'] = vdescrip.descrip.map(lambda x: x.upper())\n",
    "vdescrip.head()"
   ]
  },
  {
   "cell_type": "markdown",
   "metadata": {},
   "source": [
    "# TRATAMIENTO DE LOS DATOS: SUBMUESTRA\n",
    "\n",
    "- LIMPIEZA\n",
    "- VARIABLES DE INTERES\n",
    "- FILTRACIÓN DE LA MUESTRA A LAS VARIABLES DE INTERES"
   ]
  },
  {
   "cell_type": "code",
   "execution_count": 12,
   "metadata": {
    "code_folding": [
     0
    ],
    "collapsed": true
   },
   "outputs": [],
   "source": [
    "# DIRECTORIOS DE LOS DATOS\n",
    "\n",
    "dir_all = 'data/Muestra2011/MuestraIRPF_2011.txt'\n",
    "dir_less = 'data/Muestra2011/data2011.csv'"
   ]
  },
  {
   "cell_type": "code",
   "execution_count": 13,
   "metadata": {
    "collapsed": true
   },
   "outputs": [],
   "source": [
    "# TRABAJAR CON TODOS LOS DATOS\n",
    "# CODIGOS DESACTIVADOS"
   ]
  },
  {
   "cell_type": "raw",
   "metadata": {
    "collapsed": false
   },
   "source": [
    "d = pd.read_table(dir_all, sep='\\t')"
   ]
  },
  {
   "cell_type": "raw",
   "metadata": {
    "collapsed": false
   },
   "source": [
    "d.head()"
   ]
  },
  {
   "cell_type": "raw",
   "metadata": {
    "collapsed": false
   },
   "source": [
    "print(list(d.columns))"
   ]
  },
  {
   "cell_type": "raw",
   "metadata": {
    "collapsed": false
   },
   "source": [
    "dw = d[list(vdescrip.index)]"
   ]
  },
  {
   "cell_type": "raw",
   "metadata": {
    "collapsed": false
   },
   "source": [
    "# PASAMOS DE LAS VARIABLES MONETARIAS DE CÉNTIMOS A EUROS\n",
    "dw.ix[:,7:] = dw.ix[:,7:] / 100"
   ]
  },
  {
   "cell_type": "raw",
   "metadata": {
    "collapsed": false
   },
   "source": [
    "dw.head()"
   ]
  },
  {
   "cell_type": "raw",
   "metadata": {
    "collapsed": false
   },
   "source": [
    "d[list(vdescrip.index)].head()"
   ]
  },
  {
   "cell_type": "raw",
   "metadata": {
    "collapsed": true
   },
   "source": [
    "dw.to_csv(dir_less, index=False)"
   ]
  },
  {
   "cell_type": "markdown",
   "metadata": {},
   "source": [
    "# CÁLCULOS CON LA SUBMUESTRA"
   ]
  },
  {
   "cell_type": "code",
   "execution_count": 14,
   "metadata": {
    "collapsed": false
   },
   "outputs": [],
   "source": [
    "# variables monetarias en euros.\n",
    "data = pd.read_csv(dir_less)"
   ]
  },
  {
   "cell_type": "code",
   "execution_count": 15,
   "metadata": {
    "collapsed": false
   },
   "outputs": [
    {
     "data": {
      "text/html": [
       "<div>\n",
       "<table border=\"1\" class=\"dataframe\">\n",
       "  <thead>\n",
       "    <tr style=\"text-align: right;\">\n",
       "      <th></th>\n",
       "      <th>prov</th>\n",
       "      <th>ca</th>\n",
       "      <th>dec</th>\n",
       "      <th>sexo</th>\n",
       "      <th>EstCv</th>\n",
       "      <th>NmDesc</th>\n",
       "      <th>factor</th>\n",
       "      <th>PAR1</th>\n",
       "      <th>PAR9</th>\n",
       "      <th>PAR17</th>\n",
       "      <th>PAR18</th>\n",
       "      <th>PAR19</th>\n",
       "      <th>PAR20</th>\n",
       "      <th>PAR452</th>\n",
       "      <th>PAR455</th>\n",
       "      <th>PAR465</th>\n",
       "      <th>PAR620</th>\n",
       "      <th>PAR630</th>\n",
       "      <th>PAR698</th>\n",
       "      <th>PAR699</th>\n",
       "      <th>PAR720</th>\n",
       "      <th>PAR721</th>\n",
       "      <th>PAR741</th>\n",
       "      <th>PAR756</th>\n",
       "      <th>PAR760</th>\n",
       "      <th>PAR716</th>\n",
       "      <th>PAR772</th>\n",
       "    </tr>\n",
       "  </thead>\n",
       "  <tbody>\n",
       "    <tr>\n",
       "      <th>0</th>\n",
       "      <td>2</td>\n",
       "      <td>8</td>\n",
       "      <td>C</td>\n",
       "      <td>2</td>\n",
       "      <td>2</td>\n",
       "      <td>1</td>\n",
       "      <td>1.0048</td>\n",
       "      <td>5083.60</td>\n",
       "      <td>5083.60</td>\n",
       "      <td>4080.00</td>\n",
       "      <td>0</td>\n",
       "      <td>0</td>\n",
       "      <td>1003.6</td>\n",
       "      <td>-2543.83</td>\n",
       "      <td>-2543.83</td>\n",
       "      <td>231.41</td>\n",
       "      <td>-2543.83</td>\n",
       "      <td>0</td>\n",
       "      <td>0</td>\n",
       "      <td>0</td>\n",
       "      <td>0</td>\n",
       "      <td>0</td>\n",
       "      <td>0</td>\n",
       "      <td>0</td>\n",
       "      <td>-122.48</td>\n",
       "      <td>0</td>\n",
       "      <td>0</td>\n",
       "    </tr>\n",
       "    <tr>\n",
       "      <th>1</th>\n",
       "      <td>2</td>\n",
       "      <td>8</td>\n",
       "      <td>C</td>\n",
       "      <td>1</td>\n",
       "      <td>4</td>\n",
       "      <td>2</td>\n",
       "      <td>1.0048</td>\n",
       "      <td>2562.19</td>\n",
       "      <td>2562.19</td>\n",
       "      <td>2543.86</td>\n",
       "      <td>0</td>\n",
       "      <td>0</td>\n",
       "      <td>0.0</td>\n",
       "      <td>0.00</td>\n",
       "      <td>0.00</td>\n",
       "      <td>0.00</td>\n",
       "      <td>0.00</td>\n",
       "      <td>0</td>\n",
       "      <td>0</td>\n",
       "      <td>0</td>\n",
       "      <td>0</td>\n",
       "      <td>0</td>\n",
       "      <td>0</td>\n",
       "      <td>0</td>\n",
       "      <td>-5.80</td>\n",
       "      <td>0</td>\n",
       "      <td>0</td>\n",
       "    </tr>\n",
       "    <tr>\n",
       "      <th>2</th>\n",
       "      <td>2</td>\n",
       "      <td>8</td>\n",
       "      <td>C</td>\n",
       "      <td>1</td>\n",
       "      <td>2</td>\n",
       "      <td>3</td>\n",
       "      <td>1.0048</td>\n",
       "      <td>0.00</td>\n",
       "      <td>0.00</td>\n",
       "      <td>0.00</td>\n",
       "      <td>0</td>\n",
       "      <td>0</td>\n",
       "      <td>0.0</td>\n",
       "      <td>-936.74</td>\n",
       "      <td>-936.74</td>\n",
       "      <td>0.07</td>\n",
       "      <td>-936.74</td>\n",
       "      <td>0</td>\n",
       "      <td>0</td>\n",
       "      <td>0</td>\n",
       "      <td>0</td>\n",
       "      <td>0</td>\n",
       "      <td>0</td>\n",
       "      <td>1100</td>\n",
       "      <td>-142.86</td>\n",
       "      <td>0</td>\n",
       "      <td>0</td>\n",
       "    </tr>\n",
       "    <tr>\n",
       "      <th>3</th>\n",
       "      <td>2</td>\n",
       "      <td>8</td>\n",
       "      <td>C</td>\n",
       "      <td>2</td>\n",
       "      <td>2</td>\n",
       "      <td>0</td>\n",
       "      <td>1.0048</td>\n",
       "      <td>0.00</td>\n",
       "      <td>0.00</td>\n",
       "      <td>0.00</td>\n",
       "      <td>0</td>\n",
       "      <td>0</td>\n",
       "      <td>0.0</td>\n",
       "      <td>-6203.32</td>\n",
       "      <td>-6203.32</td>\n",
       "      <td>0.00</td>\n",
       "      <td>-6203.32</td>\n",
       "      <td>0</td>\n",
       "      <td>0</td>\n",
       "      <td>0</td>\n",
       "      <td>0</td>\n",
       "      <td>0</td>\n",
       "      <td>0</td>\n",
       "      <td>0</td>\n",
       "      <td>0.00</td>\n",
       "      <td>0</td>\n",
       "      <td>0</td>\n",
       "    </tr>\n",
       "    <tr>\n",
       "      <th>4</th>\n",
       "      <td>2</td>\n",
       "      <td>8</td>\n",
       "      <td>C</td>\n",
       "      <td>2</td>\n",
       "      <td>2</td>\n",
       "      <td>2</td>\n",
       "      <td>1.0048</td>\n",
       "      <td>5774.82</td>\n",
       "      <td>5774.82</td>\n",
       "      <td>4080.00</td>\n",
       "      <td>0</td>\n",
       "      <td>0</td>\n",
       "      <td>0.0</td>\n",
       "      <td>-3175.50</td>\n",
       "      <td>-3175.50</td>\n",
       "      <td>0.59</td>\n",
       "      <td>-3175.50</td>\n",
       "      <td>0</td>\n",
       "      <td>0</td>\n",
       "      <td>0</td>\n",
       "      <td>0</td>\n",
       "      <td>0</td>\n",
       "      <td>0</td>\n",
       "      <td>0</td>\n",
       "      <td>-0.75</td>\n",
       "      <td>0</td>\n",
       "      <td>0</td>\n",
       "    </tr>\n",
       "  </tbody>\n",
       "</table>\n",
       "</div>"
      ],
      "text/plain": [
       "   prov  ca dec  sexo  EstCv  NmDesc  factor     PAR1     PAR9    PAR17  \\\n",
       "0     2   8   C     2      2       1  1.0048  5083.60  5083.60  4080.00   \n",
       "1     2   8   C     1      4       2  1.0048  2562.19  2562.19  2543.86   \n",
       "2     2   8   C     1      2       3  1.0048     0.00     0.00     0.00   \n",
       "3     2   8   C     2      2       0  1.0048     0.00     0.00     0.00   \n",
       "4     2   8   C     2      2       2  1.0048  5774.82  5774.82  4080.00   \n",
       "\n",
       "   PAR18  PAR19   PAR20   PAR452   PAR455  PAR465   PAR620  PAR630  PAR698  \\\n",
       "0      0      0  1003.6 -2543.83 -2543.83  231.41 -2543.83       0       0   \n",
       "1      0      0     0.0     0.00     0.00    0.00     0.00       0       0   \n",
       "2      0      0     0.0  -936.74  -936.74    0.07  -936.74       0       0   \n",
       "3      0      0     0.0 -6203.32 -6203.32    0.00 -6203.32       0       0   \n",
       "4      0      0     0.0 -3175.50 -3175.50    0.59 -3175.50       0       0   \n",
       "\n",
       "   PAR699  PAR720  PAR721  PAR741  PAR756  PAR760  PAR716  PAR772  \n",
       "0       0       0       0       0       0 -122.48       0       0  \n",
       "1       0       0       0       0       0   -5.80       0       0  \n",
       "2       0       0       0       0    1100 -142.86       0       0  \n",
       "3       0       0       0       0       0    0.00       0       0  \n",
       "4       0       0       0       0       0   -0.75       0       0  "
      ]
     },
     "execution_count": 15,
     "metadata": {},
     "output_type": "execute_result"
    }
   ],
   "source": [
    "data.head()"
   ]
  },
  {
   "cell_type": "code",
   "execution_count": 16,
   "metadata": {
    "collapsed": true
   },
   "outputs": [],
   "source": [
    "# Según la documentación, la variable de tramos \n",
    "# se hace a patir de la suma de par452 y par465\n",
    "# data['ingresos'] = data[['PAR452', 'PAR465']].sum(1)"
   ]
  },
  {
   "cell_type": "code",
   "execution_count": 17,
   "metadata": {
    "collapsed": false
   },
   "outputs": [],
   "source": [
    "# Función para separar miles y redondear a 3 decimales\n",
    "def formato_nums(x):\n",
    "    fn = lambda x: '{:,.3f}'.format(x).replace(',', ' ')\n",
    "    res = list(map(fn, x))\n",
    "    return res"
   ]
  },
  {
   "cell_type": "code",
   "execution_count": 18,
   "metadata": {
    "collapsed": true
   },
   "outputs": [],
   "source": [
    "# NOMBRES DE LAS VARIABLES\n",
    "# añadir el nombre de la variable tramo\n",
    "variables = ['tramo'] + list(data.columns)"
   ]
  },
  {
   "cell_type": "code",
   "execution_count": 19,
   "metadata": {
    "collapsed": false
   },
   "outputs": [
    {
     "data": {
      "text/plain": [
       "['tramo',\n",
       " 'prov',\n",
       " 'ca',\n",
       " 'dec',\n",
       " 'sexo',\n",
       " 'EstCv',\n",
       " 'NmDesc',\n",
       " 'factor',\n",
       " 'PAR1',\n",
       " 'PAR9',\n",
       " 'PAR17',\n",
       " 'PAR18',\n",
       " 'PAR19',\n",
       " 'PAR20',\n",
       " 'PAR452',\n",
       " 'PAR455',\n",
       " 'PAR465',\n",
       " 'PAR620',\n",
       " 'PAR630',\n",
       " 'PAR698',\n",
       " 'PAR699',\n",
       " 'PAR720',\n",
       " 'PAR721',\n",
       " 'PAR741',\n",
       " 'PAR756',\n",
       " 'PAR760',\n",
       " 'PAR716',\n",
       " 'PAR772']"
      ]
     },
     "execution_count": 19,
     "metadata": {},
     "output_type": "execute_result"
    }
   ],
   "source": [
    "variables"
   ]
  },
  {
   "cell_type": "code",
   "execution_count": 20,
   "metadata": {
    "collapsed": false,
    "scrolled": false
   },
   "outputs": [
    {
     "data": {
      "text/html": [
       "<div>\n",
       "<table border=\"1\" class=\"dataframe\">\n",
       "  <thead>\n",
       "    <tr style=\"text-align: right;\">\n",
       "      <th></th>\n",
       "      <th>PAR1</th>\n",
       "      <th>PAR9</th>\n",
       "      <th>PAR17</th>\n",
       "      <th>PAR18</th>\n",
       "      <th>PAR19</th>\n",
       "      <th>PAR20</th>\n",
       "      <th>PAR452</th>\n",
       "      <th>PAR455</th>\n",
       "      <th>PAR465</th>\n",
       "      <th>PAR620</th>\n",
       "      <th>PAR630</th>\n",
       "      <th>PAR698</th>\n",
       "      <th>PAR699</th>\n",
       "      <th>PAR720</th>\n",
       "      <th>PAR721</th>\n",
       "      <th>PAR741</th>\n",
       "      <th>PAR756</th>\n",
       "      <th>PAR760</th>\n",
       "      <th>PAR716</th>\n",
       "      <th>PAR772</th>\n",
       "    </tr>\n",
       "  </thead>\n",
       "  <tbody>\n",
       "    <tr>\n",
       "      <th>0</th>\n",
       "      <td>5083.60</td>\n",
       "      <td>5083.60</td>\n",
       "      <td>4080.00</td>\n",
       "      <td>0</td>\n",
       "      <td>0</td>\n",
       "      <td>1003.6</td>\n",
       "      <td>-2543.83</td>\n",
       "      <td>-2543.83</td>\n",
       "      <td>231.41</td>\n",
       "      <td>-2543.83</td>\n",
       "      <td>0</td>\n",
       "      <td>0</td>\n",
       "      <td>0</td>\n",
       "      <td>0</td>\n",
       "      <td>0</td>\n",
       "      <td>0</td>\n",
       "      <td>0</td>\n",
       "      <td>-122.48</td>\n",
       "      <td>0</td>\n",
       "      <td>0</td>\n",
       "    </tr>\n",
       "    <tr>\n",
       "      <th>1</th>\n",
       "      <td>2562.19</td>\n",
       "      <td>2562.19</td>\n",
       "      <td>2543.86</td>\n",
       "      <td>0</td>\n",
       "      <td>0</td>\n",
       "      <td>0.0</td>\n",
       "      <td>0.00</td>\n",
       "      <td>0.00</td>\n",
       "      <td>0.00</td>\n",
       "      <td>0.00</td>\n",
       "      <td>0</td>\n",
       "      <td>0</td>\n",
       "      <td>0</td>\n",
       "      <td>0</td>\n",
       "      <td>0</td>\n",
       "      <td>0</td>\n",
       "      <td>0</td>\n",
       "      <td>-5.80</td>\n",
       "      <td>0</td>\n",
       "      <td>0</td>\n",
       "    </tr>\n",
       "    <tr>\n",
       "      <th>2</th>\n",
       "      <td>0.00</td>\n",
       "      <td>0.00</td>\n",
       "      <td>0.00</td>\n",
       "      <td>0</td>\n",
       "      <td>0</td>\n",
       "      <td>0.0</td>\n",
       "      <td>-936.74</td>\n",
       "      <td>-936.74</td>\n",
       "      <td>0.07</td>\n",
       "      <td>-936.74</td>\n",
       "      <td>0</td>\n",
       "      <td>0</td>\n",
       "      <td>0</td>\n",
       "      <td>0</td>\n",
       "      <td>0</td>\n",
       "      <td>0</td>\n",
       "      <td>1100</td>\n",
       "      <td>-142.86</td>\n",
       "      <td>0</td>\n",
       "      <td>0</td>\n",
       "    </tr>\n",
       "    <tr>\n",
       "      <th>3</th>\n",
       "      <td>0.00</td>\n",
       "      <td>0.00</td>\n",
       "      <td>0.00</td>\n",
       "      <td>0</td>\n",
       "      <td>0</td>\n",
       "      <td>0.0</td>\n",
       "      <td>-6203.32</td>\n",
       "      <td>-6203.32</td>\n",
       "      <td>0.00</td>\n",
       "      <td>-6203.32</td>\n",
       "      <td>0</td>\n",
       "      <td>0</td>\n",
       "      <td>0</td>\n",
       "      <td>0</td>\n",
       "      <td>0</td>\n",
       "      <td>0</td>\n",
       "      <td>0</td>\n",
       "      <td>0.00</td>\n",
       "      <td>0</td>\n",
       "      <td>0</td>\n",
       "    </tr>\n",
       "    <tr>\n",
       "      <th>4</th>\n",
       "      <td>5774.82</td>\n",
       "      <td>5774.82</td>\n",
       "      <td>4080.00</td>\n",
       "      <td>0</td>\n",
       "      <td>0</td>\n",
       "      <td>0.0</td>\n",
       "      <td>-3175.50</td>\n",
       "      <td>-3175.50</td>\n",
       "      <td>0.59</td>\n",
       "      <td>-3175.50</td>\n",
       "      <td>0</td>\n",
       "      <td>0</td>\n",
       "      <td>0</td>\n",
       "      <td>0</td>\n",
       "      <td>0</td>\n",
       "      <td>0</td>\n",
       "      <td>0</td>\n",
       "      <td>-0.75</td>\n",
       "      <td>0</td>\n",
       "      <td>0</td>\n",
       "    </tr>\n",
       "  </tbody>\n",
       "</table>\n",
       "</div>"
      ],
      "text/plain": [
       "      PAR1     PAR9    PAR17  PAR18  PAR19   PAR20   PAR452   PAR455  PAR465  \\\n",
       "0  5083.60  5083.60  4080.00      0      0  1003.6 -2543.83 -2543.83  231.41   \n",
       "1  2562.19  2562.19  2543.86      0      0     0.0     0.00     0.00    0.00   \n",
       "2     0.00     0.00     0.00      0      0     0.0  -936.74  -936.74    0.07   \n",
       "3     0.00     0.00     0.00      0      0     0.0 -6203.32 -6203.32    0.00   \n",
       "4  5774.82  5774.82  4080.00      0      0     0.0 -3175.50 -3175.50    0.59   \n",
       "\n",
       "    PAR620  PAR630  PAR698  PAR699  PAR720  PAR721  PAR741  PAR756  PAR760  \\\n",
       "0 -2543.83       0       0       0       0       0       0       0 -122.48   \n",
       "1     0.00       0       0       0       0       0       0       0   -5.80   \n",
       "2  -936.74       0       0       0       0       0       0    1100 -142.86   \n",
       "3 -6203.32       0       0       0       0       0       0       0    0.00   \n",
       "4 -3175.50       0       0       0       0       0       0       0   -0.75   \n",
       "\n",
       "   PAR716  PAR772  \n",
       "0       0       0  \n",
       "1       0       0  \n",
       "2       0       0  \n",
       "3       0       0  \n",
       "4       0       0  "
      ]
     },
     "execution_count": 20,
     "metadata": {},
     "output_type": "execute_result"
    }
   ],
   "source": [
    "# nombres de las variables monetarias\n",
    "variables_monetarias = variables[8:]\n",
    "data[variables_monetarias].head()"
   ]
  },
  {
   "cell_type": "markdown",
   "metadata": {},
   "source": [
    "# COMPROBACIONES"
   ]
  },
  {
   "cell_type": "code",
   "execution_count": 21,
   "metadata": {
    "collapsed": true
   },
   "outputs": [],
   "source": [
    "# función que multiplica cualquier variable por la población\n",
    "elevar_pob = lambda x: x * data.factor"
   ]
  },
  {
   "cell_type": "code",
   "execution_count": 22,
   "metadata": {
    "collapsed": true
   },
   "outputs": [],
   "source": [
    "# solo variables monetarias\n",
    "dmonetarias = data[variables_monetarias]"
   ]
  },
  {
   "cell_type": "code",
   "execution_count": 23,
   "metadata": {
    "collapsed": false
   },
   "outputs": [],
   "source": [
    "# multiplica las variables monetarias por el factor\n",
    "importe = dmonetarias.apply(elevar_pob)"
   ]
  },
  {
   "cell_type": "code",
   "execution_count": 24,
   "metadata": {
    "collapsed": false
   },
   "outputs": [],
   "source": [
    "# hace la media de las variables dividiendo la suma de cada variable por la suma de factores\n",
    "media = importe.sum() / data.factor.sum()"
   ]
  },
  {
   "cell_type": "code",
   "execution_count": 25,
   "metadata": {
    "collapsed": false
   },
   "outputs": [],
   "source": [
    "# creo la tabla de resultados con la primera serie IMPORTE\n",
    "res = pd.DataFrame(importe.sum(), columns=['IMPORTE'])"
   ]
  },
  {
   "cell_type": "code",
   "execution_count": 26,
   "metadata": {
    "collapsed": true
   },
   "outputs": [],
   "source": [
    "# creo la columna MEDIA\n",
    "res['MEDIA'] = media"
   ]
  },
  {
   "cell_type": "code",
   "execution_count": 27,
   "metadata": {
    "collapsed": false
   },
   "outputs": [],
   "source": [
    "# creo las columnas minimo y máximo\n",
    "res['MÍNIMO'] = dmonetarias.min()\n",
    "res['MÁXIMO'] = dmonetarias.max()"
   ]
  },
  {
   "cell_type": "code",
   "execution_count": 28,
   "metadata": {
    "collapsed": false
   },
   "outputs": [],
   "source": [
    "res['IMPORTE'] = np.divide(res.IMPORTE, 10 ** 6)"
   ]
  },
  {
   "cell_type": "code",
   "execution_count": 29,
   "metadata": {
    "collapsed": false
   },
   "outputs": [],
   "source": [
    "res = res.apply(formato_nums)"
   ]
  },
  {
   "cell_type": "code",
   "execution_count": 30,
   "metadata": {
    "collapsed": false
   },
   "outputs": [
    {
     "data": {
      "text/html": [
       "<div>\n",
       "<table border=\"1\" class=\"dataframe\">\n",
       "  <thead>\n",
       "    <tr style=\"text-align: right;\">\n",
       "      <th></th>\n",
       "      <th>IMPORTE</th>\n",
       "      <th>MEDIA</th>\n",
       "      <th>MÍNIMO</th>\n",
       "      <th>MÁXIMO</th>\n",
       "    </tr>\n",
       "  </thead>\n",
       "  <tbody>\n",
       "    <tr>\n",
       "      <th>PAR1</th>\n",
       "      <td>393 844.000</td>\n",
       "      <td>20 230.718</td>\n",
       "      <td>0.000</td>\n",
       "      <td>27 676 513.630</td>\n",
       "    </tr>\n",
       "    <tr>\n",
       "      <th>PAR9</th>\n",
       "      <td>395 653.901</td>\n",
       "      <td>20 323.688</td>\n",
       "      <td>-49 100.000</td>\n",
       "      <td>27 709 267.780</td>\n",
       "    </tr>\n",
       "    <tr>\n",
       "      <th>PAR17</th>\n",
       "      <td>51 518.789</td>\n",
       "      <td>2 646.383</td>\n",
       "      <td>0.000</td>\n",
       "      <td>4 080.000</td>\n",
       "    </tr>\n",
       "    <tr>\n",
       "      <th>PAR18</th>\n",
       "      <td>133.876</td>\n",
       "      <td>6.877</td>\n",
       "      <td>0.000</td>\n",
       "      <td>5 966.250</td>\n",
       "    </tr>\n",
       "    <tr>\n",
       "      <th>PAR19</th>\n",
       "      <td>110.850</td>\n",
       "      <td>5.694</td>\n",
       "      <td>0.000</td>\n",
       "      <td>4 080.000</td>\n",
       "    </tr>\n",
       "  </tbody>\n",
       "</table>\n",
       "</div>"
      ],
      "text/plain": [
       "           IMPORTE       MEDIA       MÍNIMO          MÁXIMO\n",
       "PAR1   393 844.000  20 230.718        0.000  27 676 513.630\n",
       "PAR9   395 653.901  20 323.688  -49 100.000  27 709 267.780\n",
       "PAR17   51 518.789   2 646.383        0.000       4 080.000\n",
       "PAR18      133.876       6.877        0.000       5 966.250\n",
       "PAR19      110.850       5.694        0.000       4 080.000"
      ]
     },
     "execution_count": 30,
     "metadata": {},
     "output_type": "execute_result"
    }
   ],
   "source": [
    "res.head()"
   ]
  },
  {
   "cell_type": "code",
   "execution_count": 31,
   "metadata": {
    "collapsed": true
   },
   "outputs": [],
   "source": [
    "res['DESCRIPCIÓN'] = vdescrip.loc[variables_monetarias]"
   ]
  },
  {
   "cell_type": "code",
   "execution_count": 32,
   "metadata": {
    "collapsed": false
   },
   "outputs": [],
   "source": [
    "res = res[[res.columns[-1]] + list(res.columns[:-1])]"
   ]
  },
  {
   "cell_type": "code",
   "execution_count": 33,
   "metadata": {
    "collapsed": false
   },
   "outputs": [
    {
     "data": {
      "text/plain": [
       "['DESCRIPCIÓN', 'IMPORTE', 'MEDIA', 'MÍNIMO', 'MÁXIMO']"
      ]
     },
     "execution_count": 33,
     "metadata": {},
     "output_type": "execute_result"
    }
   ],
   "source": [
    "list(res.columns)"
   ]
  },
  {
   "cell_type": "code",
   "execution_count": 34,
   "metadata": {
    "collapsed": true
   },
   "outputs": [],
   "source": [
    "_[1] = 'IMPORTE (MILLONES DE EUROS)'"
   ]
  },
  {
   "cell_type": "code",
   "execution_count": 35,
   "metadata": {
    "collapsed": false
   },
   "outputs": [
    {
     "data": {
      "text/plain": [
       "['DESCRIPCIÓN', 'IMPORTE (MILLONES DE EUROS)', 'MEDIA', 'MÍNIMO', 'MÁXIMO']"
      ]
     },
     "execution_count": 35,
     "metadata": {},
     "output_type": "execute_result"
    }
   ],
   "source": [
    "_"
   ]
  },
  {
   "cell_type": "code",
   "execution_count": 36,
   "metadata": {
    "collapsed": true
   },
   "outputs": [],
   "source": [
    "res.columns = _"
   ]
  },
  {
   "cell_type": "code",
   "execution_count": 37,
   "metadata": {
    "collapsed": false
   },
   "outputs": [],
   "source": [
    "#res.to_html()"
   ]
  },
  {
   "cell_type": "code",
   "execution_count": 38,
   "metadata": {
    "collapsed": true
   },
   "outputs": [],
   "source": [
    "# TODO\n",
    "# INTRODUCIR DATOS DE LA MEMORÍA Y COMPARAR.\n",
    "# REAL Y MEDIA\n",
    "# BADESPE = [393844000, ]"
   ]
  },
  {
   "cell_type": "code",
   "execution_count": 39,
   "metadata": {
    "collapsed": false
   },
   "outputs": [
    {
     "data": {
      "text/html": [
       "<div>\n",
       "<table border=\"1\" class=\"dataframe\">\n",
       "  <thead>\n",
       "    <tr style=\"text-align: right;\">\n",
       "      <th></th>\n",
       "      <th>descrip</th>\n",
       "    </tr>\n",
       "    <tr>\n",
       "      <th>variable</th>\n",
       "      <th></th>\n",
       "    </tr>\n",
       "  </thead>\n",
       "  <tbody>\n",
       "    <tr>\n",
       "      <th>prov</th>\n",
       "      <td>PROVINCIA</td>\n",
       "    </tr>\n",
       "    <tr>\n",
       "      <th>ca</th>\n",
       "      <td>COMUNIDAD AUTÓNOMA</td>\n",
       "    </tr>\n",
       "    <tr>\n",
       "      <th>dec</th>\n",
       "      <td>TIPO DE DECLARACIÓN</td>\n",
       "    </tr>\n",
       "    <tr>\n",
       "      <th>sexo</th>\n",
       "      <td>SEXO DEL DECLARANTE</td>\n",
       "    </tr>\n",
       "    <tr>\n",
       "      <th>EstCv</th>\n",
       "      <td>ESTADO CIVIL DEL DECLARANTE</td>\n",
       "    </tr>\n",
       "    <tr>\n",
       "      <th>NmDesc</th>\n",
       "      <td>NÚMERO DE DESCENDIENTES</td>\n",
       "    </tr>\n",
       "    <tr>\n",
       "      <th>factor</th>\n",
       "      <td>FACTOR DE ELEVACIÓN</td>\n",
       "    </tr>\n",
       "    <tr>\n",
       "      <th>PAR1</th>\n",
       "      <td>RENDIMIENTOS DEL TRABAJO: DINERARIAS</td>\n",
       "    </tr>\n",
       "    <tr>\n",
       "      <th>PAR9</th>\n",
       "      <td>RENDIMIENTOS DEL TRABAJO. TOTAL INGRESOS INTEGROS COMPUTABLES</td>\n",
       "    </tr>\n",
       "    <tr>\n",
       "      <th>PAR17</th>\n",
       "      <td>REDUCCIÓN POR OBTENCIÓN RDTO. TRABAJO.CUANTÍA APLICABLE CON CARÁCTER GENERAL.</td>\n",
       "    </tr>\n",
       "    <tr>\n",
       "      <th>PAR18</th>\n",
       "      <td>REDUCCIÓN POR OBTENCIÓN RDTO. TRABAJO.INCREMENTO PARA TRABAJADORES ACTIVOS MAYORES DE 65 AÑOS QUE CONTINUEN O PROLONGUEN LA ACTIVIDAD LABORAL.</td>\n",
       "    </tr>\n",
       "    <tr>\n",
       "      <th>PAR19</th>\n",
       "      <td>REDUCCIÓN POR OBTENCIÓN RDTO. TRABAJO.INCREMENTO PARA CONTRIB. DESEMPLEADOS QUE ACEPTEN UN PUESTO QUE EXIJA TRASLADO DE MUNICIPIO.</td>\n",
       "    </tr>\n",
       "    <tr>\n",
       "      <th>PAR20</th>\n",
       "      <td>REDUCCIÓN POR OBTENCIÓN RDTO. TRABAJO.REDUCCIÓN ADICIONAL PARA TRABAJADORES ACTIVOS QUE SEAN PRESONAS CON DISCAPACIDAD.</td>\n",
       "    </tr>\n",
       "    <tr>\n",
       "      <th>PAR452</th>\n",
       "      <td>SALDO NETO DE RENDIMIENTOS E IMPUTACIONES DE RENTA.</td>\n",
       "    </tr>\n",
       "    <tr>\n",
       "      <th>PAR455</th>\n",
       "      <td>BASE IMPONIBLE GENERAL</td>\n",
       "    </tr>\n",
       "    <tr>\n",
       "      <th>PAR465</th>\n",
       "      <td>BASE IMPONIBLE DEL AHORRO</td>\n",
       "    </tr>\n",
       "    <tr>\n",
       "      <th>PAR620</th>\n",
       "      <td>BASE LIQUIDABLE GENERAL SOMETIDA A GRAVAMEN.</td>\n",
       "    </tr>\n",
       "    <tr>\n",
       "      <th>PAR630</th>\n",
       "      <td>BASE LIQUIDABLE DEL AHORRO.</td>\n",
       "    </tr>\n",
       "    <tr>\n",
       "      <th>PAR698</th>\n",
       "      <td>CUOTA ÍNTEGRA ESTATAL</td>\n",
       "    </tr>\n",
       "    <tr>\n",
       "      <th>PAR699</th>\n",
       "      <td>CUOTA ÍNTEGRA AUTONÓMICA</td>\n",
       "    </tr>\n",
       "    <tr>\n",
       "      <th>PAR720</th>\n",
       "      <td>CUOTA LÍQUIDA ESTATAL</td>\n",
       "    </tr>\n",
       "    <tr>\n",
       "      <th>PAR721</th>\n",
       "      <td>CUOTA LÍQUIDA AUTONÓMICA</td>\n",
       "    </tr>\n",
       "    <tr>\n",
       "      <th>PAR741</th>\n",
       "      <td>CUOTA RESULTANTE DE LA AUTOLIQUIDACIÓN</td>\n",
       "    </tr>\n",
       "    <tr>\n",
       "      <th>PAR756</th>\n",
       "      <td>DEDUCCION POR MATERNIDAD: IMPORTE DE LA DEDUCCION</td>\n",
       "    </tr>\n",
       "    <tr>\n",
       "      <th>PAR760</th>\n",
       "      <td>RESULTADO</td>\n",
       "    </tr>\n",
       "    <tr>\n",
       "      <th>PAR716</th>\n",
       "      <td>DEDUCCIÓN POR ALQUILER DE VIVIENDA HABITUAL, PARTE AUTONÓMICA</td>\n",
       "    </tr>\n",
       "    <tr>\n",
       "      <th>PAR772</th>\n",
       "      <td>POR ALQUILER DE VIVIENDA HABITUAL PARTE AUTONÓMICA</td>\n",
       "    </tr>\n",
       "  </tbody>\n",
       "</table>\n",
       "</div>"
      ],
      "text/plain": [
       "                                                                                                                                                    descrip\n",
       "variable                                                                                                                                                   \n",
       "prov                                                                                                                                              PROVINCIA\n",
       "ca                                                                                                                                       COMUNIDAD AUTÓNOMA\n",
       "dec                                                                                                                                     TIPO DE DECLARACIÓN\n",
       "sexo                                                                                                                                    SEXO DEL DECLARANTE\n",
       "EstCv                                                                                                                           ESTADO CIVIL DEL DECLARANTE\n",
       "NmDesc                                                                                                                              NÚMERO DE DESCENDIENTES\n",
       "factor                                                                                                                                  FACTOR DE ELEVACIÓN\n",
       "PAR1                                                                                                                   RENDIMIENTOS DEL TRABAJO: DINERARIAS\n",
       "PAR9                                                                                          RENDIMIENTOS DEL TRABAJO. TOTAL INGRESOS INTEGROS COMPUTABLES\n",
       "PAR17                                                                     REDUCCIÓN POR OBTENCIÓN RDTO. TRABAJO.CUANTÍA APLICABLE CON CARÁCTER GENERAL.\n",
       "PAR18     REDUCCIÓN POR OBTENCIÓN RDTO. TRABAJO.INCREMENTO PARA TRABAJADORES ACTIVOS MAYORES DE 65 AÑOS QUE CONTINUEN O PROLONGUEN LA ACTIVIDAD LABORAL.\n",
       "PAR19                  REDUCCIÓN POR OBTENCIÓN RDTO. TRABAJO.INCREMENTO PARA CONTRIB. DESEMPLEADOS QUE ACEPTEN UN PUESTO QUE EXIJA TRASLADO DE MUNICIPIO.\n",
       "PAR20                            REDUCCIÓN POR OBTENCIÓN RDTO. TRABAJO.REDUCCIÓN ADICIONAL PARA TRABAJADORES ACTIVOS QUE SEAN PRESONAS CON DISCAPACIDAD.\n",
       "PAR452                                                                                                  SALDO NETO DE RENDIMIENTOS E IMPUTACIONES DE RENTA.\n",
       "PAR455                                                                                                                               BASE IMPONIBLE GENERAL\n",
       "PAR465                                                                                                                            BASE IMPONIBLE DEL AHORRO\n",
       "PAR620                                                                                                         BASE LIQUIDABLE GENERAL SOMETIDA A GRAVAMEN.\n",
       "PAR630                                                                                                                          BASE LIQUIDABLE DEL AHORRO.\n",
       "PAR698                                                                                                                               CUOTA ÍNTEGRA ESTATAL\n",
       "PAR699                                                                                                                           CUOTA ÍNTEGRA AUTONÓMICA\n",
       "PAR720                                                                                                                               CUOTA LÍQUIDA ESTATAL\n",
       "PAR721                                                                                                                           CUOTA LÍQUIDA AUTONÓMICA\n",
       "PAR741                                                                                                              CUOTA RESULTANTE DE LA AUTOLIQUIDACIÓN\n",
       "PAR756                                                                                                    DEDUCCION POR MATERNIDAD: IMPORTE DE LA DEDUCCION\n",
       "PAR760                                                                                                                                            RESULTADO\n",
       "PAR716                                                                                        DEDUCCIÓN POR ALQUILER DE VIVIENDA HABITUAL, PARTE AUTONÓMICA\n",
       "PAR772                                                                                                   POR ALQUILER DE VIVIENDA HABITUAL PARTE AUTONÓMICA"
      ]
     },
     "execution_count": 39,
     "metadata": {},
     "output_type": "execute_result"
    }
   ],
   "source": [
    "vdescrip"
   ]
  },
  {
   "cell_type": "code",
   "execution_count": 40,
   "metadata": {
    "collapsed": false
   },
   "outputs": [
    {
     "data": {
      "text/html": [
       "<div>\n",
       "<table border=\"1\" class=\"dataframe\">\n",
       "  <thead>\n",
       "    <tr style=\"text-align: right;\">\n",
       "      <th></th>\n",
       "      <th>prov</th>\n",
       "      <th>ca</th>\n",
       "      <th>dec</th>\n",
       "      <th>sexo</th>\n",
       "      <th>EstCv</th>\n",
       "      <th>NmDesc</th>\n",
       "      <th>factor</th>\n",
       "      <th>PAR1</th>\n",
       "      <th>PAR9</th>\n",
       "      <th>PAR17</th>\n",
       "      <th>PAR18</th>\n",
       "      <th>PAR19</th>\n",
       "      <th>PAR20</th>\n",
       "      <th>PAR452</th>\n",
       "      <th>PAR455</th>\n",
       "      <th>PAR465</th>\n",
       "      <th>PAR620</th>\n",
       "      <th>PAR630</th>\n",
       "      <th>PAR698</th>\n",
       "      <th>PAR699</th>\n",
       "      <th>PAR720</th>\n",
       "      <th>PAR721</th>\n",
       "      <th>PAR741</th>\n",
       "      <th>PAR756</th>\n",
       "      <th>PAR760</th>\n",
       "      <th>PAR716</th>\n",
       "      <th>PAR772</th>\n",
       "    </tr>\n",
       "  </thead>\n",
       "  <tbody>\n",
       "    <tr>\n",
       "      <th>0</th>\n",
       "      <td>2</td>\n",
       "      <td>8</td>\n",
       "      <td>C</td>\n",
       "      <td>2</td>\n",
       "      <td>2</td>\n",
       "      <td>1</td>\n",
       "      <td>1.0048</td>\n",
       "      <td>5083.60</td>\n",
       "      <td>5083.60</td>\n",
       "      <td>4080.00</td>\n",
       "      <td>0</td>\n",
       "      <td>0</td>\n",
       "      <td>1003.6</td>\n",
       "      <td>-2543.83</td>\n",
       "      <td>-2543.83</td>\n",
       "      <td>231.41</td>\n",
       "      <td>-2543.83</td>\n",
       "      <td>0</td>\n",
       "      <td>0</td>\n",
       "      <td>0</td>\n",
       "      <td>0</td>\n",
       "      <td>0</td>\n",
       "      <td>0</td>\n",
       "      <td>0</td>\n",
       "      <td>-122.48</td>\n",
       "      <td>0</td>\n",
       "      <td>0</td>\n",
       "    </tr>\n",
       "    <tr>\n",
       "      <th>1</th>\n",
       "      <td>2</td>\n",
       "      <td>8</td>\n",
       "      <td>C</td>\n",
       "      <td>1</td>\n",
       "      <td>4</td>\n",
       "      <td>2</td>\n",
       "      <td>1.0048</td>\n",
       "      <td>2562.19</td>\n",
       "      <td>2562.19</td>\n",
       "      <td>2543.86</td>\n",
       "      <td>0</td>\n",
       "      <td>0</td>\n",
       "      <td>0.0</td>\n",
       "      <td>0.00</td>\n",
       "      <td>0.00</td>\n",
       "      <td>0.00</td>\n",
       "      <td>0.00</td>\n",
       "      <td>0</td>\n",
       "      <td>0</td>\n",
       "      <td>0</td>\n",
       "      <td>0</td>\n",
       "      <td>0</td>\n",
       "      <td>0</td>\n",
       "      <td>0</td>\n",
       "      <td>-5.80</td>\n",
       "      <td>0</td>\n",
       "      <td>0</td>\n",
       "    </tr>\n",
       "    <tr>\n",
       "      <th>2</th>\n",
       "      <td>2</td>\n",
       "      <td>8</td>\n",
       "      <td>C</td>\n",
       "      <td>1</td>\n",
       "      <td>2</td>\n",
       "      <td>3</td>\n",
       "      <td>1.0048</td>\n",
       "      <td>0.00</td>\n",
       "      <td>0.00</td>\n",
       "      <td>0.00</td>\n",
       "      <td>0</td>\n",
       "      <td>0</td>\n",
       "      <td>0.0</td>\n",
       "      <td>-936.74</td>\n",
       "      <td>-936.74</td>\n",
       "      <td>0.07</td>\n",
       "      <td>-936.74</td>\n",
       "      <td>0</td>\n",
       "      <td>0</td>\n",
       "      <td>0</td>\n",
       "      <td>0</td>\n",
       "      <td>0</td>\n",
       "      <td>0</td>\n",
       "      <td>1100</td>\n",
       "      <td>-142.86</td>\n",
       "      <td>0</td>\n",
       "      <td>0</td>\n",
       "    </tr>\n",
       "    <tr>\n",
       "      <th>3</th>\n",
       "      <td>2</td>\n",
       "      <td>8</td>\n",
       "      <td>C</td>\n",
       "      <td>2</td>\n",
       "      <td>2</td>\n",
       "      <td>0</td>\n",
       "      <td>1.0048</td>\n",
       "      <td>0.00</td>\n",
       "      <td>0.00</td>\n",
       "      <td>0.00</td>\n",
       "      <td>0</td>\n",
       "      <td>0</td>\n",
       "      <td>0.0</td>\n",
       "      <td>-6203.32</td>\n",
       "      <td>-6203.32</td>\n",
       "      <td>0.00</td>\n",
       "      <td>-6203.32</td>\n",
       "      <td>0</td>\n",
       "      <td>0</td>\n",
       "      <td>0</td>\n",
       "      <td>0</td>\n",
       "      <td>0</td>\n",
       "      <td>0</td>\n",
       "      <td>0</td>\n",
       "      <td>0.00</td>\n",
       "      <td>0</td>\n",
       "      <td>0</td>\n",
       "    </tr>\n",
       "    <tr>\n",
       "      <th>4</th>\n",
       "      <td>2</td>\n",
       "      <td>8</td>\n",
       "      <td>C</td>\n",
       "      <td>2</td>\n",
       "      <td>2</td>\n",
       "      <td>2</td>\n",
       "      <td>1.0048</td>\n",
       "      <td>5774.82</td>\n",
       "      <td>5774.82</td>\n",
       "      <td>4080.00</td>\n",
       "      <td>0</td>\n",
       "      <td>0</td>\n",
       "      <td>0.0</td>\n",
       "      <td>-3175.50</td>\n",
       "      <td>-3175.50</td>\n",
       "      <td>0.59</td>\n",
       "      <td>-3175.50</td>\n",
       "      <td>0</td>\n",
       "      <td>0</td>\n",
       "      <td>0</td>\n",
       "      <td>0</td>\n",
       "      <td>0</td>\n",
       "      <td>0</td>\n",
       "      <td>0</td>\n",
       "      <td>-0.75</td>\n",
       "      <td>0</td>\n",
       "      <td>0</td>\n",
       "    </tr>\n",
       "  </tbody>\n",
       "</table>\n",
       "</div>"
      ],
      "text/plain": [
       "   prov  ca dec  sexo  EstCv  NmDesc  factor     PAR1     PAR9    PAR17  \\\n",
       "0     2   8   C     2      2       1  1.0048  5083.60  5083.60  4080.00   \n",
       "1     2   8   C     1      4       2  1.0048  2562.19  2562.19  2543.86   \n",
       "2     2   8   C     1      2       3  1.0048     0.00     0.00     0.00   \n",
       "3     2   8   C     2      2       0  1.0048     0.00     0.00     0.00   \n",
       "4     2   8   C     2      2       2  1.0048  5774.82  5774.82  4080.00   \n",
       "\n",
       "   PAR18  PAR19   PAR20   PAR452   PAR455  PAR465   PAR620  PAR630  PAR698  \\\n",
       "0      0      0  1003.6 -2543.83 -2543.83  231.41 -2543.83       0       0   \n",
       "1      0      0     0.0     0.00     0.00    0.00     0.00       0       0   \n",
       "2      0      0     0.0  -936.74  -936.74    0.07  -936.74       0       0   \n",
       "3      0      0     0.0 -6203.32 -6203.32    0.00 -6203.32       0       0   \n",
       "4      0      0     0.0 -3175.50 -3175.50    0.59 -3175.50       0       0   \n",
       "\n",
       "   PAR699  PAR720  PAR721  PAR741  PAR756  PAR760  PAR716  PAR772  \n",
       "0       0       0       0       0       0 -122.48       0       0  \n",
       "1       0       0       0       0       0   -5.80       0       0  \n",
       "2       0       0       0       0    1100 -142.86       0       0  \n",
       "3       0       0       0       0       0    0.00       0       0  \n",
       "4       0       0       0       0       0   -0.75       0       0  "
      ]
     },
     "execution_count": 40,
     "metadata": {},
     "output_type": "execute_result"
    }
   ],
   "source": [
    "data.head()"
   ]
  },
  {
   "cell_type": "code",
   "execution_count": 41,
   "metadata": {
    "collapsed": false
   },
   "outputs": [],
   "source": [
    "obs = len(data)\n",
    "declas = data.factor.sum()\n",
    "real = 19467730\n",
    "diff_porc = (declas - real) * 100 / declas"
   ]
  },
  {
   "cell_type": "code",
   "execution_count": 42,
   "metadata": {
    "collapsed": false
   },
   "outputs": [
    {
     "data": {
      "text/plain": [
       "'<table border=\"1\" class=\"dataframe\">\\n  <thead>\\n    <tr style=\"text-align: right;\">\\n      <th></th>\\n      <th>TOTAL</th>\\n    </tr>\\n  </thead>\\n  <tbody>\\n    <tr>\\n      <th>OBSERVACIONES MUESTRA</th>\\n      <td>2 036 186.000</td>\\n    </tr>\\n    <tr>\\n      <th>DECLARACIONES MUESTRA</th>\\n      <td>19 467 623.101</td>\\n    </tr>\\n    <tr>\\n      <th>DECLARACIONES AEAT</th>\\n      <td>19 467 730.000</td>\\n    </tr>\\n    <tr>\\n      <th>DIFERENCIA PORCENTAJE</th>\\n      <td>-0.001</td>\\n    </tr>\\n  </tbody>\\n</table>'"
      ]
     },
     "execution_count": 42,
     "metadata": {},
     "output_type": "execute_result"
    }
   ],
   "source": [
    "# TABLA 1\n",
    "# TABLA TAMAÑO DE LA MUESTRA \n",
    "pd.DataFrame([obs, declas, real, diff_porc], columns=['TOTAL'], index=['OBSERVACIONES MUESTRA', \n",
    "                                                            'DECLARACIONES MUESTRA', \n",
    "                                                            'DECLARACIONES AEAT',\n",
    "                                                            'DIFERENCIA PORCENTAJE']).apply(formato_nums).to_html()"
   ]
  },
  {
   "cell_type": "code",
   "execution_count": 43,
   "metadata": {
    "code_folding": [
     0,
     11,
     24
    ],
    "collapsed": false
   },
   "outputs": [],
   "source": [
    "# crea una tabla donde las filas son las provincias, y los valores son los factores.\n",
    "tabla_3 = pd.pivot_table(data, index='prov', values='factor', aggfunc='sum')"
   ]
  },
  {
   "cell_type": "code",
   "execution_count": 44,
   "metadata": {
    "collapsed": false
   },
   "outputs": [
    {
     "data": {
      "text/plain": [
       "prov\n",
       "2    174144.515000\n",
       "3    715160.654499\n",
       "4    256571.027100\n",
       "5     76925.266300\n",
       "6    285492.998500\n",
       "Name: factor, dtype: float64"
      ]
     },
     "execution_count": 44,
     "metadata": {},
     "output_type": "execute_result"
    }
   ],
   "source": [
    "tabla_3.head()"
   ]
  },
  {
   "cell_type": "code",
   "execution_count": 45,
   "metadata": {
    "collapsed": false
   },
   "outputs": [],
   "source": [
    "# convertir en dataframe\n",
    "tabla_3 = pd.DataFrame(tabla_3)"
   ]
  },
  {
   "cell_type": "code",
   "execution_count": 46,
   "metadata": {
    "collapsed": true
   },
   "outputs": [],
   "source": [
    "# cambiar nombre de columna\n",
    "tabla_3.columns = ['Nº DECLARACIONES MUESTRA']"
   ]
  },
  {
   "cell_type": "code",
   "execution_count": 47,
   "metadata": {
    "collapsed": false
   },
   "outputs": [],
   "source": [
    "# agregar la columna nº de observaciones\n",
    "tabla_3['Nº OBSERVACIONES'] = pd.pivot_table(data, index='prov', values='factor', aggfunc='count')"
   ]
  },
  {
   "cell_type": "code",
   "execution_count": 48,
   "metadata": {
    "collapsed": false
   },
   "outputs": [],
   "source": [
    "# agregar descripción del codigo de provincia\n",
    "tabla_3['PROVINCIA'] = info_prov.loc[tabla_3.index]"
   ]
  },
  {
   "cell_type": "code",
   "execution_count": 49,
   "metadata": {
    "collapsed": false
   },
   "outputs": [],
   "source": [
    "# introducir el código como columna\n",
    "tabla_3.reset_index(inplace=True)"
   ]
  },
  {
   "cell_type": "code",
   "execution_count": 50,
   "metadata": {
    "collapsed": false
   },
   "outputs": [],
   "source": [
    "# cambiar nombre\n",
    "tabla_3 = tabla_3.rename(columns={'prov':'CÓDIGO PROVINCIA'})"
   ]
  },
  {
   "cell_type": "code",
   "execution_count": 51,
   "metadata": {
    "collapsed": false
   },
   "outputs": [],
   "source": [
    "# ordenar las columnas\n",
    "tabla_3 = tabla_3[tabla_3.columns[[0,3,2,1]]]"
   ]
  },
  {
   "cell_type": "code",
   "execution_count": 52,
   "metadata": {
    "collapsed": false
   },
   "outputs": [],
   "source": [
    "# agregar total\n",
    "tabla_3.loc[49] = ['-', 'TOTAL', tabla_3['Nº OBSERVACIONES'].sum(), tabla_3['Nº DECLARACIONES MUESTRA'].sum()]"
   ]
  },
  {
   "cell_type": "code",
   "execution_count": 53,
   "metadata": {
    "collapsed": false
   },
   "outputs": [],
   "source": [
    "#tabla_3.ix[:,-2:] = tabla_3.ix[:,-2:].apply(formato_nums)"
   ]
  },
  {
   "cell_type": "code",
   "execution_count": 54,
   "metadata": {
    "collapsed": false
   },
   "outputs": [
    {
     "data": {
      "text/html": [
       "<div>\n",
       "<table border=\"1\" class=\"dataframe\">\n",
       "  <thead>\n",
       "    <tr style=\"text-align: right;\">\n",
       "      <th></th>\n",
       "      <th>CÓDIGO PROVINCIA</th>\n",
       "      <th>PROVINCIA</th>\n",
       "      <th>Nº OBSERVACIONES</th>\n",
       "      <th>Nº DECLARACIONES MUESTRA</th>\n",
       "    </tr>\n",
       "  </thead>\n",
       "  <tbody>\n",
       "    <tr>\n",
       "      <th>0</th>\n",
       "      <td>2</td>\n",
       "      <td>ALBACETE</td>\n",
       "      <td>28396</td>\n",
       "      <td>174144.515000</td>\n",
       "    </tr>\n",
       "    <tr>\n",
       "      <th>1</th>\n",
       "      <td>3</td>\n",
       "      <td>ALICANTE</td>\n",
       "      <td>66221</td>\n",
       "      <td>715160.654499</td>\n",
       "    </tr>\n",
       "    <tr>\n",
       "      <th>2</th>\n",
       "      <td>4</td>\n",
       "      <td>ALMERIA</td>\n",
       "      <td>34520</td>\n",
       "      <td>256571.027100</td>\n",
       "    </tr>\n",
       "    <tr>\n",
       "      <th>3</th>\n",
       "      <td>5</td>\n",
       "      <td>ÁVILA</td>\n",
       "      <td>18185</td>\n",
       "      <td>76925.266300</td>\n",
       "    </tr>\n",
       "    <tr>\n",
       "      <th>4</th>\n",
       "      <td>6</td>\n",
       "      <td>BADAJOZ</td>\n",
       "      <td>35798</td>\n",
       "      <td>285492.998500</td>\n",
       "    </tr>\n",
       "  </tbody>\n",
       "</table>\n",
       "</div>"
      ],
      "text/plain": [
       "  CÓDIGO PROVINCIA PROVINCIA  Nº OBSERVACIONES  Nº DECLARACIONES MUESTRA\n",
       "0                2  ALBACETE             28396             174144.515000\n",
       "1                3  ALICANTE             66221             715160.654499\n",
       "2                4   ALMERIA             34520             256571.027100\n",
       "3                5    ÁVILA             18185              76925.266300\n",
       "4                6   BADAJOZ             35798             285492.998500"
      ]
     },
     "execution_count": 54,
     "metadata": {},
     "output_type": "execute_result"
    }
   ],
   "source": [
    "tabla_3.head()"
   ]
  },
  {
   "cell_type": "code",
   "execution_count": 55,
   "metadata": {
    "collapsed": false
   },
   "outputs": [],
   "source": [
    "# tabla_3.to_html(index=False)"
   ]
  },
  {
   "cell_type": "code",
   "execution_count": 59,
   "metadata": {
    "collapsed": false,
    "scrolled": false
   },
   "outputs": [
    {
     "ename": "AttributeError",
     "evalue": "'FT2Font' object has no attribute 'get_bitmap_offset'",
     "output_type": "error",
     "traceback": [
      "\u001b[0;31m---------------------------------------------------------------------------\u001b[0m",
      "\u001b[0;31mAttributeError\u001b[0m                            Traceback (most recent call last)",
      "\u001b[0;32m/Users/mmngreco/Virtualenvs/ipynb/lib/python3.5/site-packages/IPython/core/formatters.py\u001b[0m in \u001b[0;36m__call__\u001b[0;34m(self, obj)\u001b[0m\n\u001b[1;32m    335\u001b[0m                 \u001b[0;32mpass\u001b[0m\u001b[0;34m\u001b[0m\u001b[0m\n\u001b[1;32m    336\u001b[0m             \u001b[0;32melse\u001b[0m\u001b[0;34m:\u001b[0m\u001b[0;34m\u001b[0m\u001b[0m\n\u001b[0;32m--> 337\u001b[0;31m                 \u001b[0;32mreturn\u001b[0m \u001b[0mprinter\u001b[0m\u001b[0;34m(\u001b[0m\u001b[0mobj\u001b[0m\u001b[0;34m)\u001b[0m\u001b[0;34m\u001b[0m\u001b[0m\n\u001b[0m\u001b[1;32m    338\u001b[0m             \u001b[0;31m# Finally look for special method names\u001b[0m\u001b[0;34m\u001b[0m\u001b[0;34m\u001b[0m\u001b[0m\n\u001b[1;32m    339\u001b[0m             \u001b[0mmethod\u001b[0m \u001b[0;34m=\u001b[0m \u001b[0m_safe_get_formatter_method\u001b[0m\u001b[0;34m(\u001b[0m\u001b[0mobj\u001b[0m\u001b[0;34m,\u001b[0m \u001b[0mself\u001b[0m\u001b[0;34m.\u001b[0m\u001b[0mprint_method\u001b[0m\u001b[0;34m)\u001b[0m\u001b[0;34m\u001b[0m\u001b[0m\n",
      "\u001b[0;32m/Users/mmngreco/Virtualenvs/ipynb/lib/python3.5/site-packages/IPython/core/pylabtools.py\u001b[0m in \u001b[0;36m<lambda>\u001b[0;34m(fig)\u001b[0m\n\u001b[1;32m    205\u001b[0m \u001b[0;34m\u001b[0m\u001b[0m\n\u001b[1;32m    206\u001b[0m     \u001b[0;32mif\u001b[0m \u001b[0;34m'png'\u001b[0m \u001b[0;32min\u001b[0m \u001b[0mformats\u001b[0m\u001b[0;34m:\u001b[0m\u001b[0;34m\u001b[0m\u001b[0m\n\u001b[0;32m--> 207\u001b[0;31m         \u001b[0mpng_formatter\u001b[0m\u001b[0;34m.\u001b[0m\u001b[0mfor_type\u001b[0m\u001b[0;34m(\u001b[0m\u001b[0mFigure\u001b[0m\u001b[0;34m,\u001b[0m \u001b[0;32mlambda\u001b[0m \u001b[0mfig\u001b[0m\u001b[0;34m:\u001b[0m \u001b[0mprint_figure\u001b[0m\u001b[0;34m(\u001b[0m\u001b[0mfig\u001b[0m\u001b[0;34m,\u001b[0m \u001b[0;34m'png'\u001b[0m\u001b[0;34m,\u001b[0m \u001b[0;34m**\u001b[0m\u001b[0mkwargs\u001b[0m\u001b[0;34m)\u001b[0m\u001b[0;34m)\u001b[0m\u001b[0;34m\u001b[0m\u001b[0m\n\u001b[0m\u001b[1;32m    208\u001b[0m     \u001b[0;32mif\u001b[0m \u001b[0;34m'retina'\u001b[0m \u001b[0;32min\u001b[0m \u001b[0mformats\u001b[0m \u001b[0;32mor\u001b[0m \u001b[0;34m'png2x'\u001b[0m \u001b[0;32min\u001b[0m \u001b[0mformats\u001b[0m\u001b[0;34m:\u001b[0m\u001b[0;34m\u001b[0m\u001b[0m\n\u001b[1;32m    209\u001b[0m         \u001b[0mpng_formatter\u001b[0m\u001b[0;34m.\u001b[0m\u001b[0mfor_type\u001b[0m\u001b[0;34m(\u001b[0m\u001b[0mFigure\u001b[0m\u001b[0;34m,\u001b[0m \u001b[0;32mlambda\u001b[0m \u001b[0mfig\u001b[0m\u001b[0;34m:\u001b[0m \u001b[0mretina_figure\u001b[0m\u001b[0;34m(\u001b[0m\u001b[0mfig\u001b[0m\u001b[0;34m,\u001b[0m \u001b[0;34m**\u001b[0m\u001b[0mkwargs\u001b[0m\u001b[0;34m)\u001b[0m\u001b[0;34m)\u001b[0m\u001b[0;34m\u001b[0m\u001b[0m\n",
      "\u001b[0;32m/Users/mmngreco/Virtualenvs/ipynb/lib/python3.5/site-packages/IPython/core/pylabtools.py\u001b[0m in \u001b[0;36mprint_figure\u001b[0;34m(fig, fmt, bbox_inches, **kwargs)\u001b[0m\n\u001b[1;32m    115\u001b[0m \u001b[0;34m\u001b[0m\u001b[0m\n\u001b[1;32m    116\u001b[0m     \u001b[0mbytes_io\u001b[0m \u001b[0;34m=\u001b[0m \u001b[0mBytesIO\u001b[0m\u001b[0;34m(\u001b[0m\u001b[0;34m)\u001b[0m\u001b[0;34m\u001b[0m\u001b[0m\n\u001b[0;32m--> 117\u001b[0;31m     \u001b[0mfig\u001b[0m\u001b[0;34m.\u001b[0m\u001b[0mcanvas\u001b[0m\u001b[0;34m.\u001b[0m\u001b[0mprint_figure\u001b[0m\u001b[0;34m(\u001b[0m\u001b[0mbytes_io\u001b[0m\u001b[0;34m,\u001b[0m \u001b[0;34m**\u001b[0m\u001b[0mkw\u001b[0m\u001b[0;34m)\u001b[0m\u001b[0;34m\u001b[0m\u001b[0m\n\u001b[0m\u001b[1;32m    118\u001b[0m     \u001b[0mdata\u001b[0m \u001b[0;34m=\u001b[0m \u001b[0mbytes_io\u001b[0m\u001b[0;34m.\u001b[0m\u001b[0mgetvalue\u001b[0m\u001b[0;34m(\u001b[0m\u001b[0;34m)\u001b[0m\u001b[0;34m\u001b[0m\u001b[0m\n\u001b[1;32m    119\u001b[0m     \u001b[0;32mif\u001b[0m \u001b[0mfmt\u001b[0m \u001b[0;34m==\u001b[0m \u001b[0;34m'svg'\u001b[0m\u001b[0;34m:\u001b[0m\u001b[0;34m\u001b[0m\u001b[0m\n",
      "\u001b[0;32m/Users/mmngreco/Virtualenvs/ipynb/lib/python3.5/site-packages/matplotlib/backend_bases.py\u001b[0m in \u001b[0;36mprint_figure\u001b[0;34m(self, filename, dpi, facecolor, edgecolor, orientation, format, **kwargs)\u001b[0m\n\u001b[1;32m   2156\u001b[0m \u001b[0;34m\u001b[0m\u001b[0m\n\u001b[1;32m   2157\u001b[0m         \u001b[0;32mif\u001b[0m \u001b[0mbbox_inches\u001b[0m\u001b[0;34m:\u001b[0m\u001b[0;34m\u001b[0m\u001b[0m\n\u001b[0;32m-> 2158\u001b[0;31m             \u001b[0;31m# call adjust_bbox to save only the given area\u001b[0m\u001b[0;34m\u001b[0m\u001b[0;34m\u001b[0m\u001b[0m\n\u001b[0m\u001b[1;32m   2159\u001b[0m             \u001b[0;32mif\u001b[0m \u001b[0mbbox_inches\u001b[0m \u001b[0;34m==\u001b[0m \u001b[0;34m\"tight\"\u001b[0m\u001b[0;34m:\u001b[0m\u001b[0;34m\u001b[0m\u001b[0m\n\u001b[1;32m   2160\u001b[0m                 \u001b[0;31m# when bbox_inches == \"tight\", it saves the figure\u001b[0m\u001b[0;34m\u001b[0m\u001b[0;34m\u001b[0m\u001b[0m\n",
      "\u001b[0;32m/Users/mmngreco/Virtualenvs/ipynb/lib/python3.5/site-packages/matplotlib/backends/backend_agg.py\u001b[0m in \u001b[0;36mprint_png\u001b[0;34m(self, filename_or_obj, *args, **kwargs)\u001b[0m\n\u001b[1;32m    525\u001b[0m \u001b[0;34m\u001b[0m\u001b[0m\n\u001b[1;32m    526\u001b[0m     \u001b[0;32mdef\u001b[0m \u001b[0mprint_png\u001b[0m\u001b[0;34m(\u001b[0m\u001b[0mself\u001b[0m\u001b[0;34m,\u001b[0m \u001b[0mfilename_or_obj\u001b[0m\u001b[0;34m,\u001b[0m \u001b[0;34m*\u001b[0m\u001b[0margs\u001b[0m\u001b[0;34m,\u001b[0m \u001b[0;34m**\u001b[0m\u001b[0mkwargs\u001b[0m\u001b[0;34m)\u001b[0m\u001b[0;34m:\u001b[0m\u001b[0;34m\u001b[0m\u001b[0m\n\u001b[0;32m--> 527\u001b[0;31m         \u001b[0mFigureCanvasAgg\u001b[0m\u001b[0;34m.\u001b[0m\u001b[0mdraw\u001b[0m\u001b[0;34m(\u001b[0m\u001b[0mself\u001b[0m\u001b[0;34m)\u001b[0m\u001b[0;34m\u001b[0m\u001b[0m\n\u001b[0m\u001b[1;32m    528\u001b[0m         \u001b[0mrenderer\u001b[0m \u001b[0;34m=\u001b[0m \u001b[0mself\u001b[0m\u001b[0;34m.\u001b[0m\u001b[0mget_renderer\u001b[0m\u001b[0;34m(\u001b[0m\u001b[0;34m)\u001b[0m\u001b[0;34m\u001b[0m\u001b[0m\n\u001b[1;32m    529\u001b[0m         \u001b[0moriginal_dpi\u001b[0m \u001b[0;34m=\u001b[0m \u001b[0mrenderer\u001b[0m\u001b[0;34m.\u001b[0m\u001b[0mdpi\u001b[0m\u001b[0;34m\u001b[0m\u001b[0m\n",
      "\u001b[0;32m/Users/mmngreco/Virtualenvs/ipynb/lib/python3.5/site-packages/matplotlib/backends/backend_agg.py\u001b[0m in \u001b[0;36mdraw\u001b[0;34m(self)\u001b[0m\n\u001b[1;32m    472\u001b[0m \u001b[0;34m\u001b[0m\u001b[0m\n\u001b[1;32m    473\u001b[0m         \u001b[0;32mtry\u001b[0m\u001b[0;34m:\u001b[0m\u001b[0;34m\u001b[0m\u001b[0m\n\u001b[0;32m--> 474\u001b[0;31m             \u001b[0mself\u001b[0m\u001b[0;34m.\u001b[0m\u001b[0mfigure\u001b[0m\u001b[0;34m.\u001b[0m\u001b[0mdraw\u001b[0m\u001b[0;34m(\u001b[0m\u001b[0mself\u001b[0m\u001b[0;34m.\u001b[0m\u001b[0mrenderer\u001b[0m\u001b[0;34m)\u001b[0m\u001b[0;34m\u001b[0m\u001b[0m\n\u001b[0m\u001b[1;32m    475\u001b[0m         \u001b[0;32mfinally\u001b[0m\u001b[0;34m:\u001b[0m\u001b[0;34m\u001b[0m\u001b[0m\n\u001b[1;32m    476\u001b[0m             \u001b[0mRendererAgg\u001b[0m\u001b[0;34m.\u001b[0m\u001b[0mlock\u001b[0m\u001b[0;34m.\u001b[0m\u001b[0mrelease\u001b[0m\u001b[0;34m(\u001b[0m\u001b[0;34m)\u001b[0m\u001b[0;34m\u001b[0m\u001b[0m\n",
      "\u001b[0;32m/Users/mmngreco/Virtualenvs/ipynb/lib/python3.5/site-packages/matplotlib/artist.py\u001b[0m in \u001b[0;36mdraw_wrapper\u001b[0;34m(artist, renderer, *args, **kwargs)\u001b[0m\n\u001b[1;32m     57\u001b[0m \u001b[0;34m\u001b[0m\u001b[0m\n\u001b[1;32m     58\u001b[0m     \u001b[0;31m# the axes class has a second argument inframe for its draw method.\u001b[0m\u001b[0;34m\u001b[0m\u001b[0;34m\u001b[0m\u001b[0m\n\u001b[0;32m---> 59\u001b[0;31m     \u001b[0;32mdef\u001b[0m \u001b[0mdraw_wrapper\u001b[0m\u001b[0;34m(\u001b[0m\u001b[0martist\u001b[0m\u001b[0;34m,\u001b[0m \u001b[0mrenderer\u001b[0m\u001b[0;34m,\u001b[0m \u001b[0;34m*\u001b[0m\u001b[0margs\u001b[0m\u001b[0;34m,\u001b[0m \u001b[0;34m**\u001b[0m\u001b[0mkwargs\u001b[0m\u001b[0;34m)\u001b[0m\u001b[0;34m:\u001b[0m\u001b[0;34m\u001b[0m\u001b[0m\n\u001b[0m\u001b[1;32m     60\u001b[0m         \u001b[0mbefore\u001b[0m\u001b[0;34m(\u001b[0m\u001b[0martist\u001b[0m\u001b[0;34m,\u001b[0m \u001b[0mrenderer\u001b[0m\u001b[0;34m)\u001b[0m\u001b[0;34m\u001b[0m\u001b[0m\n\u001b[1;32m     61\u001b[0m         \u001b[0mdraw\u001b[0m\u001b[0;34m(\u001b[0m\u001b[0martist\u001b[0m\u001b[0;34m,\u001b[0m \u001b[0mrenderer\u001b[0m\u001b[0;34m,\u001b[0m \u001b[0;34m*\u001b[0m\u001b[0margs\u001b[0m\u001b[0;34m,\u001b[0m \u001b[0;34m**\u001b[0m\u001b[0mkwargs\u001b[0m\u001b[0;34m)\u001b[0m\u001b[0;34m\u001b[0m\u001b[0m\n",
      "\u001b[0;32m/Users/mmngreco/Virtualenvs/ipynb/lib/python3.5/site-packages/matplotlib/figure.py\u001b[0m in \u001b[0;36mdraw\u001b[0;34m(self, renderer)\u001b[0m\n\u001b[1;32m   1083\u001b[0m             \u001b[0mdsu\u001b[0m\u001b[0;34m.\u001b[0m\u001b[0mappend\u001b[0m\u001b[0;34m(\u001b[0m\u001b[0;34m(\u001b[0m\u001b[0ma\u001b[0m\u001b[0;34m.\u001b[0m\u001b[0mget_zorder\u001b[0m\u001b[0;34m(\u001b[0m\u001b[0;34m)\u001b[0m\u001b[0;34m,\u001b[0m \u001b[0ma\u001b[0m\u001b[0;34m,\u001b[0m \u001b[0ma\u001b[0m\u001b[0;34m.\u001b[0m\u001b[0mdraw\u001b[0m\u001b[0;34m,\u001b[0m \u001b[0;34m[\u001b[0m\u001b[0mrenderer\u001b[0m\u001b[0;34m]\u001b[0m\u001b[0;34m)\u001b[0m\u001b[0;34m)\u001b[0m\u001b[0;34m\u001b[0m\u001b[0m\n\u001b[1;32m   1084\u001b[0m \u001b[0;34m\u001b[0m\u001b[0m\n\u001b[0;32m-> 1085\u001b[0;31m         \u001b[0;31m# override the renderer default if self.suppressComposite\u001b[0m\u001b[0;34m\u001b[0m\u001b[0;34m\u001b[0m\u001b[0m\n\u001b[0m\u001b[1;32m   1086\u001b[0m         \u001b[0;31m# is not None\u001b[0m\u001b[0;34m\u001b[0m\u001b[0;34m\u001b[0m\u001b[0m\n\u001b[1;32m   1087\u001b[0m         \u001b[0mnot_composite\u001b[0m \u001b[0;34m=\u001b[0m \u001b[0mrenderer\u001b[0m\u001b[0;34m.\u001b[0m\u001b[0moption_image_nocomposite\u001b[0m\u001b[0;34m(\u001b[0m\u001b[0;34m)\u001b[0m\u001b[0;34m\u001b[0m\u001b[0m\n",
      "\u001b[0;32m/Users/mmngreco/Virtualenvs/ipynb/lib/python3.5/site-packages/matplotlib/artist.py\u001b[0m in \u001b[0;36mdraw_wrapper\u001b[0;34m(artist, renderer, *args, **kwargs)\u001b[0m\n\u001b[1;32m     57\u001b[0m \u001b[0;34m\u001b[0m\u001b[0m\n\u001b[1;32m     58\u001b[0m     \u001b[0;31m# the axes class has a second argument inframe for its draw method.\u001b[0m\u001b[0;34m\u001b[0m\u001b[0;34m\u001b[0m\u001b[0m\n\u001b[0;32m---> 59\u001b[0;31m     \u001b[0;32mdef\u001b[0m \u001b[0mdraw_wrapper\u001b[0m\u001b[0;34m(\u001b[0m\u001b[0martist\u001b[0m\u001b[0;34m,\u001b[0m \u001b[0mrenderer\u001b[0m\u001b[0;34m,\u001b[0m \u001b[0;34m*\u001b[0m\u001b[0margs\u001b[0m\u001b[0;34m,\u001b[0m \u001b[0;34m**\u001b[0m\u001b[0mkwargs\u001b[0m\u001b[0;34m)\u001b[0m\u001b[0;34m:\u001b[0m\u001b[0;34m\u001b[0m\u001b[0m\n\u001b[0m\u001b[1;32m     60\u001b[0m         \u001b[0mbefore\u001b[0m\u001b[0;34m(\u001b[0m\u001b[0martist\u001b[0m\u001b[0;34m,\u001b[0m \u001b[0mrenderer\u001b[0m\u001b[0;34m)\u001b[0m\u001b[0;34m\u001b[0m\u001b[0m\n\u001b[1;32m     61\u001b[0m         \u001b[0mdraw\u001b[0m\u001b[0;34m(\u001b[0m\u001b[0martist\u001b[0m\u001b[0;34m,\u001b[0m \u001b[0mrenderer\u001b[0m\u001b[0;34m,\u001b[0m \u001b[0;34m*\u001b[0m\u001b[0margs\u001b[0m\u001b[0;34m,\u001b[0m \u001b[0;34m**\u001b[0m\u001b[0mkwargs\u001b[0m\u001b[0;34m)\u001b[0m\u001b[0;34m\u001b[0m\u001b[0m\n",
      "\u001b[0;32m/Users/mmngreco/Virtualenvs/ipynb/lib/python3.5/site-packages/matplotlib/axes/_base.py\u001b[0m in \u001b[0;36mdraw\u001b[0;34m(self, renderer, inframe)\u001b[0m\n\u001b[1;32m   2108\u001b[0m         \u001b[0mself\u001b[0m\u001b[0;34m.\u001b[0m\u001b[0mautoscale_view\u001b[0m\u001b[0;34m(\u001b[0m\u001b[0mtight\u001b[0m\u001b[0;34m=\u001b[0m\u001b[0mtight\u001b[0m\u001b[0;34m,\u001b[0m \u001b[0mscalex\u001b[0m\u001b[0;34m=\u001b[0m\u001b[0mscalex\u001b[0m\u001b[0;34m,\u001b[0m \u001b[0mscaley\u001b[0m\u001b[0;34m=\u001b[0m\u001b[0mscaley\u001b[0m\u001b[0;34m)\u001b[0m\u001b[0;34m\u001b[0m\u001b[0m\n\u001b[1;32m   2109\u001b[0m \u001b[0;34m\u001b[0m\u001b[0m\n\u001b[0;32m-> 2110\u001b[0;31m     \u001b[0;32mdef\u001b[0m \u001b[0mautoscale_view\u001b[0m\u001b[0;34m(\u001b[0m\u001b[0mself\u001b[0m\u001b[0;34m,\u001b[0m \u001b[0mtight\u001b[0m\u001b[0;34m=\u001b[0m\u001b[0;32mNone\u001b[0m\u001b[0;34m,\u001b[0m \u001b[0mscalex\u001b[0m\u001b[0;34m=\u001b[0m\u001b[0;32mTrue\u001b[0m\u001b[0;34m,\u001b[0m \u001b[0mscaley\u001b[0m\u001b[0;34m=\u001b[0m\u001b[0;32mTrue\u001b[0m\u001b[0;34m)\u001b[0m\u001b[0;34m:\u001b[0m\u001b[0;34m\u001b[0m\u001b[0m\n\u001b[0m\u001b[1;32m   2111\u001b[0m         \"\"\"\n\u001b[1;32m   2112\u001b[0m         \u001b[0mAutoscale\u001b[0m \u001b[0mthe\u001b[0m \u001b[0mview\u001b[0m \u001b[0mlimits\u001b[0m \u001b[0musing\u001b[0m \u001b[0mthe\u001b[0m \u001b[0mdata\u001b[0m \u001b[0mlimits\u001b[0m\u001b[0;34m.\u001b[0m \u001b[0mYou\u001b[0m \u001b[0mcan\u001b[0m\u001b[0;34m\u001b[0m\u001b[0m\n",
      "\u001b[0;32m/Users/mmngreco/Virtualenvs/ipynb/lib/python3.5/site-packages/matplotlib/artist.py\u001b[0m in \u001b[0;36mdraw_wrapper\u001b[0;34m(artist, renderer, *args, **kwargs)\u001b[0m\n\u001b[1;32m     57\u001b[0m \u001b[0;34m\u001b[0m\u001b[0m\n\u001b[1;32m     58\u001b[0m     \u001b[0;31m# the axes class has a second argument inframe for its draw method.\u001b[0m\u001b[0;34m\u001b[0m\u001b[0;34m\u001b[0m\u001b[0m\n\u001b[0;32m---> 59\u001b[0;31m     \u001b[0;32mdef\u001b[0m \u001b[0mdraw_wrapper\u001b[0m\u001b[0;34m(\u001b[0m\u001b[0martist\u001b[0m\u001b[0;34m,\u001b[0m \u001b[0mrenderer\u001b[0m\u001b[0;34m,\u001b[0m \u001b[0;34m*\u001b[0m\u001b[0margs\u001b[0m\u001b[0;34m,\u001b[0m \u001b[0;34m**\u001b[0m\u001b[0mkwargs\u001b[0m\u001b[0;34m)\u001b[0m\u001b[0;34m:\u001b[0m\u001b[0;34m\u001b[0m\u001b[0m\n\u001b[0m\u001b[1;32m     60\u001b[0m         \u001b[0mbefore\u001b[0m\u001b[0;34m(\u001b[0m\u001b[0martist\u001b[0m\u001b[0;34m,\u001b[0m \u001b[0mrenderer\u001b[0m\u001b[0;34m)\u001b[0m\u001b[0;34m\u001b[0m\u001b[0m\n\u001b[1;32m     61\u001b[0m         \u001b[0mdraw\u001b[0m\u001b[0;34m(\u001b[0m\u001b[0martist\u001b[0m\u001b[0;34m,\u001b[0m \u001b[0mrenderer\u001b[0m\u001b[0;34m,\u001b[0m \u001b[0;34m*\u001b[0m\u001b[0margs\u001b[0m\u001b[0;34m,\u001b[0m \u001b[0;34m**\u001b[0m\u001b[0mkwargs\u001b[0m\u001b[0;34m)\u001b[0m\u001b[0;34m\u001b[0m\u001b[0m\n",
      "\u001b[0;32m/Users/mmngreco/Virtualenvs/ipynb/lib/python3.5/site-packages/matplotlib/axis.py\u001b[0m in \u001b[0;36mdraw\u001b[0;34m(self, renderer, *args, **kwargs)\u001b[0m\n\u001b[1;32m   1117\u001b[0m \u001b[0;34m\u001b[0m\u001b[0m\n\u001b[1;32m   1118\u001b[0m         \u001b[0mself\u001b[0m\u001b[0;34m.\u001b[0m\u001b[0m_update_label_position\u001b[0m\u001b[0;34m(\u001b[0m\u001b[0mticklabelBoxes\u001b[0m\u001b[0;34m,\u001b[0m \u001b[0mticklabelBoxes2\u001b[0m\u001b[0;34m)\u001b[0m\u001b[0;34m\u001b[0m\u001b[0m\n\u001b[0;32m-> 1119\u001b[0;31m \u001b[0;34m\u001b[0m\u001b[0m\n\u001b[0m\u001b[1;32m   1120\u001b[0m         \u001b[0mself\u001b[0m\u001b[0;34m.\u001b[0m\u001b[0mlabel\u001b[0m\u001b[0;34m.\u001b[0m\u001b[0mdraw\u001b[0m\u001b[0;34m(\u001b[0m\u001b[0mrenderer\u001b[0m\u001b[0;34m)\u001b[0m\u001b[0;34m\u001b[0m\u001b[0m\n\u001b[1;32m   1121\u001b[0m \u001b[0;34m\u001b[0m\u001b[0m\n",
      "\u001b[0;32m/Users/mmngreco/Virtualenvs/ipynb/lib/python3.5/site-packages/matplotlib/artist.py\u001b[0m in \u001b[0;36mdraw_wrapper\u001b[0;34m(artist, renderer, *args, **kwargs)\u001b[0m\n\u001b[1;32m     57\u001b[0m \u001b[0;34m\u001b[0m\u001b[0m\n\u001b[1;32m     58\u001b[0m     \u001b[0;31m# the axes class has a second argument inframe for its draw method.\u001b[0m\u001b[0;34m\u001b[0m\u001b[0;34m\u001b[0m\u001b[0m\n\u001b[0;32m---> 59\u001b[0;31m     \u001b[0;32mdef\u001b[0m \u001b[0mdraw_wrapper\u001b[0m\u001b[0;34m(\u001b[0m\u001b[0martist\u001b[0m\u001b[0;34m,\u001b[0m \u001b[0mrenderer\u001b[0m\u001b[0;34m,\u001b[0m \u001b[0;34m*\u001b[0m\u001b[0margs\u001b[0m\u001b[0;34m,\u001b[0m \u001b[0;34m**\u001b[0m\u001b[0mkwargs\u001b[0m\u001b[0;34m)\u001b[0m\u001b[0;34m:\u001b[0m\u001b[0;34m\u001b[0m\u001b[0m\n\u001b[0m\u001b[1;32m     60\u001b[0m         \u001b[0mbefore\u001b[0m\u001b[0;34m(\u001b[0m\u001b[0martist\u001b[0m\u001b[0;34m,\u001b[0m \u001b[0mrenderer\u001b[0m\u001b[0;34m)\u001b[0m\u001b[0;34m\u001b[0m\u001b[0m\n\u001b[1;32m     61\u001b[0m         \u001b[0mdraw\u001b[0m\u001b[0;34m(\u001b[0m\u001b[0martist\u001b[0m\u001b[0;34m,\u001b[0m \u001b[0mrenderer\u001b[0m\u001b[0;34m,\u001b[0m \u001b[0;34m*\u001b[0m\u001b[0margs\u001b[0m\u001b[0;34m,\u001b[0m \u001b[0;34m**\u001b[0m\u001b[0mkwargs\u001b[0m\u001b[0;34m)\u001b[0m\u001b[0;34m\u001b[0m\u001b[0m\n",
      "\u001b[0;32m/Users/mmngreco/Virtualenvs/ipynb/lib/python3.5/site-packages/matplotlib/axis.py\u001b[0m in \u001b[0;36mdraw\u001b[0;34m(self, renderer)\u001b[0m\n\u001b[1;32m    247\u001b[0m                 \u001b[0mself\u001b[0m\u001b[0;34m.\u001b[0m\u001b[0mtick1line\u001b[0m\u001b[0;34m.\u001b[0m\u001b[0mdraw\u001b[0m\u001b[0;34m(\u001b[0m\u001b[0mrenderer\u001b[0m\u001b[0;34m)\u001b[0m\u001b[0;34m\u001b[0m\u001b[0m\n\u001b[1;32m    248\u001b[0m             \u001b[0;32mif\u001b[0m \u001b[0mself\u001b[0m\u001b[0;34m.\u001b[0m\u001b[0mtick2On\u001b[0m\u001b[0;34m:\u001b[0m\u001b[0;34m\u001b[0m\u001b[0m\n\u001b[0;32m--> 249\u001b[0;31m                 \u001b[0mself\u001b[0m\u001b[0;34m.\u001b[0m\u001b[0mtick2line\u001b[0m\u001b[0;34m.\u001b[0m\u001b[0mdraw\u001b[0m\u001b[0;34m(\u001b[0m\u001b[0mrenderer\u001b[0m\u001b[0;34m)\u001b[0m\u001b[0;34m\u001b[0m\u001b[0m\n\u001b[0m\u001b[1;32m    250\u001b[0m \u001b[0;34m\u001b[0m\u001b[0m\n\u001b[1;32m    251\u001b[0m         \u001b[0;32mif\u001b[0m \u001b[0mself\u001b[0m\u001b[0;34m.\u001b[0m\u001b[0mlabel1On\u001b[0m\u001b[0;34m:\u001b[0m\u001b[0;34m\u001b[0m\u001b[0m\n",
      "\u001b[0;32m/Users/mmngreco/Virtualenvs/ipynb/lib/python3.5/site-packages/matplotlib/artist.py\u001b[0m in \u001b[0;36mdraw_wrapper\u001b[0;34m(artist, renderer, *args, **kwargs)\u001b[0m\n\u001b[1;32m     57\u001b[0m \u001b[0;34m\u001b[0m\u001b[0m\n\u001b[1;32m     58\u001b[0m     \u001b[0;31m# the axes class has a second argument inframe for its draw method.\u001b[0m\u001b[0;34m\u001b[0m\u001b[0;34m\u001b[0m\u001b[0m\n\u001b[0;32m---> 59\u001b[0;31m     \u001b[0;32mdef\u001b[0m \u001b[0mdraw_wrapper\u001b[0m\u001b[0;34m(\u001b[0m\u001b[0martist\u001b[0m\u001b[0;34m,\u001b[0m \u001b[0mrenderer\u001b[0m\u001b[0;34m,\u001b[0m \u001b[0;34m*\u001b[0m\u001b[0margs\u001b[0m\u001b[0;34m,\u001b[0m \u001b[0;34m**\u001b[0m\u001b[0mkwargs\u001b[0m\u001b[0;34m)\u001b[0m\u001b[0;34m:\u001b[0m\u001b[0;34m\u001b[0m\u001b[0m\n\u001b[0m\u001b[1;32m     60\u001b[0m         \u001b[0mbefore\u001b[0m\u001b[0;34m(\u001b[0m\u001b[0martist\u001b[0m\u001b[0;34m,\u001b[0m \u001b[0mrenderer\u001b[0m\u001b[0;34m)\u001b[0m\u001b[0;34m\u001b[0m\u001b[0m\n\u001b[1;32m     61\u001b[0m         \u001b[0mdraw\u001b[0m\u001b[0;34m(\u001b[0m\u001b[0martist\u001b[0m\u001b[0;34m,\u001b[0m \u001b[0mrenderer\u001b[0m\u001b[0;34m,\u001b[0m \u001b[0;34m*\u001b[0m\u001b[0margs\u001b[0m\u001b[0;34m,\u001b[0m \u001b[0;34m**\u001b[0m\u001b[0mkwargs\u001b[0m\u001b[0;34m)\u001b[0m\u001b[0;34m\u001b[0m\u001b[0m\n",
      "\u001b[0;32m/Users/mmngreco/Virtualenvs/ipynb/lib/python3.5/site-packages/matplotlib/text.py\u001b[0m in \u001b[0;36mdraw\u001b[0;34m(self, renderer)\u001b[0m\n\u001b[1;32m    640\u001b[0m         \u001b[0mcurrent\u001b[0m \u001b[0morientation\u001b[0m\u001b[0;34m.\u001b[0m\u001b[0;34m\u001b[0m\u001b[0m\n\u001b[1;32m    641\u001b[0m         \"\"\"\n\u001b[0;32m--> 642\u001b[0;31m         \u001b[0mx0\u001b[0m\u001b[0;34m,\u001b[0m \u001b[0my0\u001b[0m \u001b[0;34m=\u001b[0m \u001b[0mself\u001b[0m\u001b[0;34m.\u001b[0m\u001b[0mget_transform\u001b[0m\u001b[0;34m(\u001b[0m\u001b[0;34m)\u001b[0m\u001b[0;34m.\u001b[0m\u001b[0mtransform\u001b[0m\u001b[0;34m(\u001b[0m\u001b[0mself\u001b[0m\u001b[0;34m.\u001b[0m\u001b[0mget_position\u001b[0m\u001b[0;34m(\u001b[0m\u001b[0;34m)\u001b[0m\u001b[0;34m)\u001b[0m\u001b[0;34m\u001b[0m\u001b[0m\n\u001b[0m\u001b[1;32m    643\u001b[0m         \u001b[0mfigure_box\u001b[0m \u001b[0;34m=\u001b[0m \u001b[0mself\u001b[0m\u001b[0;34m.\u001b[0m\u001b[0mget_figure\u001b[0m\u001b[0;34m(\u001b[0m\u001b[0;34m)\u001b[0m\u001b[0;34m.\u001b[0m\u001b[0mget_window_extent\u001b[0m\u001b[0;34m(\u001b[0m\u001b[0;34m)\u001b[0m\u001b[0;34m\u001b[0m\u001b[0m\n\u001b[1;32m    644\u001b[0m \u001b[0;34m\u001b[0m\u001b[0m\n",
      "\u001b[0;32m/Users/mmngreco/Virtualenvs/ipynb/lib/python3.5/site-packages/matplotlib/backends/backend_agg.py\u001b[0m in \u001b[0;36mdraw_text\u001b[0;34m(self, gc, x, y, s, prop, angle, ismath, mtext)\u001b[0m\n\u001b[1;32m    202\u001b[0m         \u001b[0md\u001b[0m \u001b[0;34m=\u001b[0m \u001b[0mfont\u001b[0m\u001b[0;34m.\u001b[0m\u001b[0mget_descent\u001b[0m\u001b[0;34m(\u001b[0m\u001b[0;34m)\u001b[0m \u001b[0;34m/\u001b[0m \u001b[0;36m64.0\u001b[0m\u001b[0;34m\u001b[0m\u001b[0m\n\u001b[1;32m    203\u001b[0m         \u001b[0;31m# The descent needs to be adjusted for the angle\u001b[0m\u001b[0;34m\u001b[0m\u001b[0;34m\u001b[0m\u001b[0m\n\u001b[0;32m--> 204\u001b[0;31m         \u001b[0mxo\u001b[0m\u001b[0;34m,\u001b[0m \u001b[0myo\u001b[0m \u001b[0;34m=\u001b[0m \u001b[0mfont\u001b[0m\u001b[0;34m.\u001b[0m\u001b[0mget_bitmap_offset\u001b[0m\u001b[0;34m(\u001b[0m\u001b[0;34m)\u001b[0m\u001b[0;34m\u001b[0m\u001b[0m\n\u001b[0m\u001b[1;32m    205\u001b[0m         \u001b[0mxo\u001b[0m \u001b[0;34m/=\u001b[0m \u001b[0;36m64.0\u001b[0m\u001b[0;34m\u001b[0m\u001b[0m\n\u001b[1;32m    206\u001b[0m         \u001b[0myo\u001b[0m \u001b[0;34m/=\u001b[0m \u001b[0;36m64.0\u001b[0m\u001b[0;34m\u001b[0m\u001b[0m\n",
      "\u001b[0;31mAttributeError\u001b[0m: 'FT2Font' object has no attribute 'get_bitmap_offset'"
     ]
    },
    {
     "data": {
      "text/plain": [
       "<matplotlib.figure.Figure at 0x10cb6d978>"
      ]
     },
     "metadata": {},
     "output_type": "display_data"
    }
   ],
   "source": [
    "d = tabla_3.iloc[:-1].sort_values(by='Nº DECLARACIONES MUESTRA', ascending=False)\n",
    "\n",
    "plt.figure(figsize=(8,10))\n",
    "\n",
    "g = sns.barplot(d['Nº DECLARACIONES MUESTRA'], d['PROVINCIA'], orient='horizontal')\n",
    "g.grid(True, axis='x')\n",
    "\n",
    "sns.despine()\n",
    "\n",
    "plt.suptitle('CLASIFICACIÓN DE LOS DECLARANTES SEGÚN LA PROVINCIA', fontsize=15, y=1.02)\n",
    "plt.xlabel('Nº DECLARACIONES MUESTRA')\n",
    "\n",
    "plt.tight_layout()"
   ]
  },
  {
   "cell_type": "code",
   "execution_count": 57,
   "metadata": {
    "collapsed": false
   },
   "outputs": [
    {
     "data": {
      "text/plain": [
       "['PAR452', 'PAR465']"
      ]
     },
     "execution_count": 57,
     "metadata": {},
     "output_type": "execute_result"
    }
   ],
   "source": [
    "# distribucion por niveles:\n",
    "# renta = PAR(455 + 465 + 17 +18 + 19 + 20) = [17, 18, 19, 20, 455, 465]\n",
    "variables_renta = ['PAR%s' % e for e in [452, 465]]\n",
    "variables_renta"
   ]
  },
  {
   "cell_type": "code",
   "execution_count": 168,
   "metadata": {
    "collapsed": false
   },
   "outputs": [],
   "source": [
    "data['renta'] = data[variables_renta].sum(1)"
   ]
  },
  {
   "cell_type": "code",
   "execution_count": 169,
   "metadata": {
    "collapsed": false,
    "scrolled": true
   },
   "outputs": [],
   "source": [
    "tramos = [-np.inf,0, 6000, 12000, 18000, 24000, 30000, 36000, 42000, 48000, 54000, 60000, np.inf]\n",
    "data['tramo'] = pd.cut(data.renta, tramos, precision=4, include_lowest=False, right=True)"
   ]
  },
  {
   "cell_type": "code",
   "execution_count": 170,
   "metadata": {
    "collapsed": false
   },
   "outputs": [
    {
     "data": {
      "text/html": [
       "<div>\n",
       "<table border=\"1\" class=\"dataframe\">\n",
       "  <thead>\n",
       "    <tr style=\"text-align: right;\">\n",
       "      <th></th>\n",
       "      <th>renta</th>\n",
       "      <th>factor</th>\n",
       "    </tr>\n",
       "    <tr>\n",
       "      <th>tramo</th>\n",
       "      <th></th>\n",
       "      <th></th>\n",
       "    </tr>\n",
       "  </thead>\n",
       "  <tbody>\n",
       "    <tr>\n",
       "      <th>(-inf, 0]</th>\n",
       "      <td>-1.335249e+09</td>\n",
       "      <td>341713.829001</td>\n",
       "    </tr>\n",
       "    <tr>\n",
       "      <th>(0, 6000]</th>\n",
       "      <td>2.333967e+09</td>\n",
       "      <td>3689557.802311</td>\n",
       "    </tr>\n",
       "    <tr>\n",
       "      <th>(6000, 12000]</th>\n",
       "      <td>1.147506e+09</td>\n",
       "      <td>3673519.240100</td>\n",
       "    </tr>\n",
       "    <tr>\n",
       "      <th>(12000, 18000]</th>\n",
       "      <td>7.399605e+08</td>\n",
       "      <td>3663939.483300</td>\n",
       "    </tr>\n",
       "    <tr>\n",
       "      <th>(18000, 24000]</th>\n",
       "      <td>5.374425e+08</td>\n",
       "      <td>2686260.701600</td>\n",
       "    </tr>\n",
       "    <tr>\n",
       "      <th>(24000, 30000]</th>\n",
       "      <td>4.209746e+08</td>\n",
       "      <td>1821765.249600</td>\n",
       "    </tr>\n",
       "    <tr>\n",
       "      <th>(30000, 36000]</th>\n",
       "      <td>3.297071e+08</td>\n",
       "      <td>1286036.525500</td>\n",
       "    </tr>\n",
       "    <tr>\n",
       "      <th>(36000, 42000]</th>\n",
       "      <td>2.843355e+08</td>\n",
       "      <td>721225.642000</td>\n",
       "    </tr>\n",
       "    <tr>\n",
       "      <th>(42000, 48000]</th>\n",
       "      <td>2.426647e+08</td>\n",
       "      <td>418208.739000</td>\n",
       "    </tr>\n",
       "    <tr>\n",
       "      <th>(48000, 54000]</th>\n",
       "      <td>2.129876e+08</td>\n",
       "      <td>280259.807900</td>\n",
       "    </tr>\n",
       "    <tr>\n",
       "      <th>(54000, 60000]</th>\n",
       "      <td>8.675884e+09</td>\n",
       "      <td>197193.913500</td>\n",
       "    </tr>\n",
       "    <tr>\n",
       "      <th>(60000, inf]</th>\n",
       "      <td>5.712042e+10</td>\n",
       "      <td>687942.166998</td>\n",
       "    </tr>\n",
       "  </tbody>\n",
       "</table>\n",
       "</div>"
      ],
      "text/plain": [
       "                       renta          factor\n",
       "tramo                                       \n",
       "(-inf, 0]      -1.335249e+09   341713.829001\n",
       "(0, 6000]       2.333967e+09  3689557.802311\n",
       "(6000, 12000]   1.147506e+09  3673519.240100\n",
       "(12000, 18000]  7.399605e+08  3663939.483300\n",
       "(18000, 24000]  5.374425e+08  2686260.701600\n",
       "(24000, 30000]  4.209746e+08  1821765.249600\n",
       "(30000, 36000]  3.297071e+08  1286036.525500\n",
       "(36000, 42000]  2.843355e+08   721225.642000\n",
       "(42000, 48000]  2.426647e+08   418208.739000\n",
       "(48000, 54000]  2.129876e+08   280259.807900\n",
       "(54000, 60000]  8.675884e+09   197193.913500\n",
       "(60000, inf]    5.712042e+10   687942.166998"
      ]
     },
     "execution_count": 170,
     "metadata": {},
     "output_type": "execute_result"
    }
   ],
   "source": [
    "data.groupby('tramo')[['renta', 'factor']].sum()"
   ]
  },
  {
   "cell_type": "code",
   "execution_count": 272,
   "metadata": {
    "collapsed": false
   },
   "outputs": [],
   "source": [
    "d = data.pivot_table(index='tramo', values='factor', aggfunc='count')"
   ]
  },
  {
   "cell_type": "code",
   "execution_count": 273,
   "metadata": {
    "collapsed": false
   },
   "outputs": [],
   "source": [
    "d = pd.DataFrame(d)"
   ]
  },
  {
   "cell_type": "code",
   "execution_count": 274,
   "metadata": {
    "collapsed": true
   },
   "outputs": [],
   "source": [
    "d['suma'] = data.pivot_table(index='tramo', values='factor', aggfunc='sum')"
   ]
  },
  {
   "cell_type": "code",
   "execution_count": 275,
   "metadata": {
    "collapsed": false
   },
   "outputs": [],
   "source": [
    "d.index = list(d.index)"
   ]
  },
  {
   "cell_type": "code",
   "execution_count": 276,
   "metadata": {
    "collapsed": true
   },
   "outputs": [],
   "source": [
    "d['porcentaje'] = d.suma * 100 / d.suma.sum()"
   ]
  },
  {
   "cell_type": "code",
   "execution_count": 277,
   "metadata": {
    "collapsed": true
   },
   "outputs": [],
   "source": [
    "d.loc['TOTAL'] = d.sum()"
   ]
  },
  {
   "cell_type": "code",
   "execution_count": 279,
   "metadata": {
    "collapsed": true
   },
   "outputs": [],
   "source": [
    "d.columns = ['Nº OBS (Muestra)', 'Nº DECLARACIONES (Muestra)', 'PORCENTAJE']"
   ]
  },
  {
   "cell_type": "code",
   "execution_count": 280,
   "metadata": {
    "code_folding": [
     0
    ],
    "collapsed": false
   },
   "outputs": [
    {
     "data": {
      "text/html": [
       "<div>\n",
       "<table border=\"1\" class=\"dataframe\">\n",
       "  <thead>\n",
       "    <tr style=\"text-align: right;\">\n",
       "      <th></th>\n",
       "      <th>Nº OBS (Muestra)</th>\n",
       "      <th>Nº DECLARACIONES (Muestra)</th>\n",
       "      <th>PORCENTAJE</th>\n",
       "    </tr>\n",
       "  </thead>\n",
       "  <tbody>\n",
       "    <tr>\n",
       "      <th>(-inf, 0]</th>\n",
       "      <td>337 172.000</td>\n",
       "      <td>341 713.829</td>\n",
       "      <td>1.755</td>\n",
       "    </tr>\n",
       "    <tr>\n",
       "      <th>(0, 6000]</th>\n",
       "      <td>773 714.000</td>\n",
       "      <td>3 689 557.802</td>\n",
       "      <td>18.952</td>\n",
       "    </tr>\n",
       "    <tr>\n",
       "      <th>(6000, 12000]</th>\n",
       "      <td>126 666.000</td>\n",
       "      <td>3 673 519.240</td>\n",
       "      <td>18.870</td>\n",
       "    </tr>\n",
       "    <tr>\n",
       "      <th>(12000, 18000]</th>\n",
       "      <td>49 805.000</td>\n",
       "      <td>3 663 939.483</td>\n",
       "      <td>18.821</td>\n",
       "    </tr>\n",
       "    <tr>\n",
       "      <th>(18000, 24000]</th>\n",
       "      <td>25 916.000</td>\n",
       "      <td>2 686 260.702</td>\n",
       "      <td>13.799</td>\n",
       "    </tr>\n",
       "    <tr>\n",
       "      <th>(24000, 30000]</th>\n",
       "      <td>15 692.000</td>\n",
       "      <td>1 821 765.250</td>\n",
       "      <td>9.358</td>\n",
       "    </tr>\n",
       "    <tr>\n",
       "      <th>(30000, 36000]</th>\n",
       "      <td>10 049.000</td>\n",
       "      <td>1 286 036.525</td>\n",
       "      <td>6.606</td>\n",
       "    </tr>\n",
       "    <tr>\n",
       "      <th>(36000, 42000]</th>\n",
       "      <td>7 347.000</td>\n",
       "      <td>721 225.642</td>\n",
       "      <td>3.705</td>\n",
       "    </tr>\n",
       "    <tr>\n",
       "      <th>(42000, 48000]</th>\n",
       "      <td>5 416.000</td>\n",
       "      <td>418 208.739</td>\n",
       "      <td>2.148</td>\n",
       "    </tr>\n",
       "    <tr>\n",
       "      <th>(48000, 54000]</th>\n",
       "      <td>4 191.000</td>\n",
       "      <td>280 259.808</td>\n",
       "      <td>1.440</td>\n",
       "    </tr>\n",
       "    <tr>\n",
       "      <th>(54000, 60000]</th>\n",
       "      <td>152 652.000</td>\n",
       "      <td>197 193.914</td>\n",
       "      <td>1.013</td>\n",
       "    </tr>\n",
       "    <tr>\n",
       "      <th>(60000, inf]</th>\n",
       "      <td>527 566.000</td>\n",
       "      <td>687 942.167</td>\n",
       "      <td>3.534</td>\n",
       "    </tr>\n",
       "    <tr>\n",
       "      <th>TOTAL</th>\n",
       "      <td>2 036 186.000</td>\n",
       "      <td>19 467 623.101</td>\n",
       "      <td>100.000</td>\n",
       "    </tr>\n",
       "  </tbody>\n",
       "</table>\n",
       "</div>"
      ],
      "text/plain": [
       "               Nº OBS (Muestra) Nº DECLARACIONES (Muestra) PORCENTAJE\n",
       "(-inf, 0]           337 172.000                341 713.829      1.755\n",
       "(0, 6000]           773 714.000              3 689 557.802     18.952\n",
       "(6000, 12000]       126 666.000              3 673 519.240     18.870\n",
       "(12000, 18000]       49 805.000              3 663 939.483     18.821\n",
       "(18000, 24000]       25 916.000              2 686 260.702     13.799\n",
       "(24000, 30000]       15 692.000              1 821 765.250      9.358\n",
       "(30000, 36000]       10 049.000              1 286 036.525      6.606\n",
       "(36000, 42000]        7 347.000                721 225.642      3.705\n",
       "(42000, 48000]        5 416.000                418 208.739      2.148\n",
       "(48000, 54000]        4 191.000                280 259.808      1.440\n",
       "(54000, 60000]      152 652.000                197 193.914      1.013\n",
       "(60000, inf]        527 566.000                687 942.167      3.534\n",
       "TOTAL             2 036 186.000             19 467 623.101    100.000"
      ]
     },
     "execution_count": 280,
     "metadata": {},
     "output_type": "execute_result"
    }
   ],
   "source": [
    "d.apply(formato_nums)"
   ]
  },
  {
   "cell_type": "code",
   "execution_count": 304,
   "metadata": {
    "collapsed": false
   },
   "outputs": [
    {
     "data": {
      "text/plain": [
       "<matplotlib.text.Text at 0x1161b5ef0>"
      ]
     },
     "execution_count": 304,
     "metadata": {},
     "output_type": "execute_result"
    },
    {
     "data": {
      "image/png": "[encoded data removed]",
      "text/plain": [
       "<matplotlib.figure.Figure at 0x11628ae48>"
      ]
     },
     "metadata": {},
     "output_type": "display_data"
    }
   ],
   "source": [
    "g = sns.barplot(data=d.reset_index().iloc[:-1], x='index', y=d.columns[1])\n",
    "g.grid(True, axis='y')\n",
    "plt.gca().set_xticklabels(d.index[:-1], rotation =90)\n",
    "sns.despine()\n",
    "plt.xlabel('TRAMOS')\n",
    "plt.ylabel(d.columns[1])"
   ]
  },
  {
   "cell_type": "code",
   "execution_count": 335,
   "metadata": {
    "collapsed": true
   },
   "outputs": [],
   "source": [
    "d = data.groupby('dec')['factor'].sum()"
   ]
  },
  {
   "cell_type": "code",
   "execution_count": 336,
   "metadata": {
    "collapsed": false
   },
   "outputs": [],
   "source": [
    "d = pd.DataFrame(d)"
   ]
  },
  {
   "cell_type": "code",
   "execution_count": 337,
   "metadata": {
    "collapsed": true
   },
   "outputs": [],
   "source": [
    "d['porentaje'] = d.factor * 100 /d.factor.sum()"
   ]
  },
  {
   "cell_type": "code",
   "execution_count": 338,
   "metadata": {
    "collapsed": false
   },
   "outputs": [],
   "source": [
    "d.reset_index(inplace=True)"
   ]
  },
  {
   "cell_type": "code",
   "execution_count": 339,
   "metadata": {
    "collapsed": true
   },
   "outputs": [],
   "source": [
    "d.columns = ['Tipo', 'Declaraciones', 'Porcentaje']"
   ]
  },
  {
   "cell_type": "code",
   "execution_count": 340,
   "metadata": {
    "collapsed": false
   },
   "outputs": [],
   "source": [
    "d.loc['-'] = ['TOTAL']+list(d.ix[:,1:].sum())"
   ]
  },
  {
   "cell_type": "code",
   "execution_count": 342,
   "metadata": {
    "collapsed": true
   },
   "outputs": [],
   "source": [
    "d.ix[:,1:] = d.ix[:,1:].apply(formato_nums)"
   ]
  },
  {
   "cell_type": "code",
   "execution_count": 343,
   "metadata": {
    "collapsed": false
   },
   "outputs": [
    {
     "data": {
      "text/html": [
       "<div>\n",
       "<table border=\"1\" class=\"dataframe\">\n",
       "  <thead>\n",
       "    <tr style=\"text-align: right;\">\n",
       "      <th></th>\n",
       "      <th>Tipo</th>\n",
       "      <th>Declaraciones</th>\n",
       "      <th>Porcentaje</th>\n",
       "    </tr>\n",
       "  </thead>\n",
       "  <tbody>\n",
       "    <tr>\n",
       "      <th>0</th>\n",
       "      <td>C</td>\n",
       "      <td>4 332 938.732</td>\n",
       "      <td>22.257</td>\n",
       "    </tr>\n",
       "    <tr>\n",
       "      <th>1</th>\n",
       "      <td>I</td>\n",
       "      <td>15 134 684.368</td>\n",
       "      <td>77.743</td>\n",
       "    </tr>\n",
       "    <tr>\n",
       "      <th>-</th>\n",
       "      <td>TOTAL</td>\n",
       "      <td>19 467 623.101</td>\n",
       "      <td>100.000</td>\n",
       "    </tr>\n",
       "  </tbody>\n",
       "</table>\n",
       "</div>"
      ],
      "text/plain": [
       "    Tipo   Declaraciones Porcentaje\n",
       "0      C   4 332 938.732     22.257\n",
       "1      I  15 134 684.368     77.743\n",
       "-  TOTAL  19 467 623.101    100.000"
      ]
     },
     "execution_count": 343,
     "metadata": {},
     "output_type": "execute_result"
    }
   ],
   "source": [
    "d"
   ]
  },
  {
   "cell_type": "code",
   "execution_count": 375,
   "metadata": {
    "collapsed": false
   },
   "outputs": [
    {
     "data": {
      "text/plain": [
       "<matplotlib.text.Text at 0x1368d5908>"
      ]
     },
     "execution_count": 375,
     "metadata": {},
     "output_type": "execute_result"
    },
    {
     "data": {
      "image/png": "[encoded data removed]",
      "text/plain": [
       "<matplotlib.figure.Figure at 0x1355f1208>"
      ]
     },
     "metadata": {},
     "output_type": "display_data"
    }
   ],
   "source": [
    "plt.figure(figsize=(5,5))\n",
    "d = data.groupby('dec')['factor'].sum()\n",
    "dp = d * 100/ d.sum()\n",
    "d.index = ['Conjunta', 'Individual']\n",
    "d.plot(kind='pie')\n",
    "plt.xlabel('')\n",
    "plt.ylabel('')\n",
    "plt.text(0.12,0.15, formato_nums(d.values)[0]+'\\n{:.1f}%'.format(dp.values[0]), color='white', fontsize=14, fontweight='bold')\n",
    "plt.text(-0.5,-0.5, formato_nums(d.values)[1]+'\\n{:.1f}%'.format(dp.values[1]), color='white', fontsize=14, fontweight='bold')\n",
    "ttl = 'PROPORCIÓN DE DECLARACIONES POR TIPO DE DECLARACIÓN'\n",
    "plt.suptitle(ttl, fontsize=15)\n",
    "#plt.tight_layout()"
   ]
  },
  {
   "cell_type": "code",
   "execution_count": 346,
   "metadata": {
    "collapsed": false
   },
   "outputs": [
    {
     "data": {
      "text/plain": [
       "20106.654"
      ]
     },
     "execution_count": 346,
     "metadata": {},
     "output_type": "execute_result"
    }
   ],
   "source": [
    "sum(data.renta * data.factor / data.factor.sum())"
   ]
  },
  {
   "cell_type": "code",
   "execution_count": 376,
   "metadata": {
    "collapsed": true
   },
   "outputs": [],
   "source": [
    "d = sm.stats.DescrStatsW(data.renta, weights=data.factor)"
   ]
  },
  {
   "cell_type": "code",
   "execution_count": 380,
   "metadata": {
    "collapsed": false
   },
   "outputs": [
    {
     "data": {
      "text/plain": [
       "(20106.654, 3219701573.293, 56742.414, 12.860, (20081.448, 20131.860))"
      ]
     },
     "execution_count": 380,
     "metadata": {},
     "output_type": "execute_result"
    }
   ],
   "source": [
    "d.mean, d.var, d.std, d.std_mean, d.zconfint_mean()"
   ]
  },
  {
   "cell_type": "code",
   "execution_count": 381,
   "metadata": {
    "collapsed": true
   },
   "outputs": [],
   "source": [
    "d = data[['renta', 'factor']].copy()"
   ]
  },
  {
   "cell_type": "markdown",
   "metadata": {},
   "source": []
  },
  {
   "cell_type": "code",
   "execution_count": 398,
   "metadata": {
    "collapsed": true
   },
   "outputs": [],
   "source": [
    "N = d.factor.sum()\n",
    "d['xini'] = d.renta * d.factor\n",
    "d['wi'] = d.factor / N\n",
    "d['wi2'] = d.wi ** 2\n",
    "d['Fi'] = d.wi.cumsum()\n",
    "d['xi2ni'] = d['xini'] * d.renta\n",
    "mu = d['xini'].sum() / N\n",
    "sc2 = (d['xi2ni'].sum() - N * mu ** 2) / N - 1"
   ]
  },
  {
   "cell_type": "code",
   "execution_count": 416,
   "metadata": {
    "collapsed": false
   },
   "outputs": [
    {
     "data": {
      "text/plain": [
       "152309.770"
      ]
     },
     "execution_count": 416,
     "metadata": {},
     "output_type": "execute_result"
    }
   ],
   "source": [
    "d.renta"
   ]
  },
  {
   "cell_type": "code",
   "execution_count": 389,
   "metadata": {
    "collapsed": false
   },
   "outputs": [
    {
     "data": {
      "text/plain": [
       "20106.654"
      ]
     },
     "execution_count": 389,
     "metadata": {},
     "output_type": "execute_result"
    }
   ],
   "source": [
    "mu"
   ]
  },
  {
   "cell_type": "code",
   "execution_count": 426,
   "metadata": {
    "collapsed": true
   },
   "outputs": [],
   "source": [
    "import scikits.bootstrap as bootstrap"
   ]
  },
  {
   "cell_type": "code",
   "execution_count": null,
   "metadata": {
    "collapsed": false
   },
   "outputs": [],
   "source": [
    "bootstrap.ci(d.renta, statfunction=np.average(d.renta, weights=d.factor), n_samples=20000)"
   ]
  },
  {
   "cell_type": "code",
   "execution_count": null,
   "metadata": {
    "collapsed": true
   },
   "outputs": [],
   "source": []
  },
  {
   "cell_type": "code",
   "execution_count": 382,
   "metadata": {
    "collapsed": false
   },
   "outputs": [
    {
     "data": {
      "text/html": [
       "<div>\n",
       "<table border=\"1\" class=\"dataframe\">\n",
       "  <thead>\n",
       "    <tr style=\"text-align: right;\">\n",
       "      <th></th>\n",
       "      <th>renta</th>\n",
       "      <th>factor</th>\n",
       "    </tr>\n",
       "  </thead>\n",
       "  <tbody>\n",
       "    <tr>\n",
       "      <th>0</th>\n",
       "      <td>-2312.42</td>\n",
       "      <td>1.0048</td>\n",
       "    </tr>\n",
       "    <tr>\n",
       "      <th>1</th>\n",
       "      <td>0.00</td>\n",
       "      <td>1.0048</td>\n",
       "    </tr>\n",
       "    <tr>\n",
       "      <th>2</th>\n",
       "      <td>-936.67</td>\n",
       "      <td>1.0048</td>\n",
       "    </tr>\n",
       "    <tr>\n",
       "      <th>3</th>\n",
       "      <td>-6203.32</td>\n",
       "      <td>1.0048</td>\n",
       "    </tr>\n",
       "    <tr>\n",
       "      <th>4</th>\n",
       "      <td>-3174.91</td>\n",
       "      <td>1.0048</td>\n",
       "    </tr>\n",
       "  </tbody>\n",
       "</table>\n",
       "</div>"
      ],
      "text/plain": [
       "     renta  factor\n",
       "0 -2312.42  1.0048\n",
       "1     0.00  1.0048\n",
       "2  -936.67  1.0048\n",
       "3 -6203.32  1.0048\n",
       "4 -3174.91  1.0048"
      ]
     },
     "execution_count": 382,
     "metadata": {},
     "output_type": "execute_result"
    }
   ],
   "source": [
    "d.head()"
   ]
  },
  {
   "cell_type": "code",
   "execution_count": 158,
   "metadata": {
    "code_folding": [],
    "collapsed": true
   },
   "outputs": [],
   "source": [
    "# funcoin para construir los tramos de renta\n",
    "def convertir_tramos(x):\n",
    "    tramos = [0, 6000, 12000, 18000, 24000, 30000, 36000, 42000, 48000, 54000, 60000]\n",
    "    for i, tramo in enumerate(tramos):\n",
    "        if x > tramos[-1]:\n",
    "            return len(tramos)\n",
    "        elif x > tramo: continue\n",
    "        return i+1\n",
    "# data['tramo'] = data.renta.map(binned)"
   ]
  },
  {
   "cell_type": "code",
   "execution_count": 123,
   "metadata": {
    "code_folding": [
     0
    ],
    "collapsed": false
   },
   "outputs": [],
   "source": [
    "v = ['renta', 'factor']\n",
    "d = data[v].copy()"
   ]
  },
  {
   "cell_type": "code",
   "execution_count": 124,
   "metadata": {
    "collapsed": true
   },
   "outputs": [],
   "source": [
    "d.sort_values(by='renta', inplace=True)"
   ]
  },
  {
   "cell_type": "code",
   "execution_count": 125,
   "metadata": {
    "collapsed": false
   },
   "outputs": [],
   "source": [
    "d['xini'] = np.multiply(d['renta'], d['factor'])"
   ]
  },
  {
   "cell_type": "code",
   "execution_count": 126,
   "metadata": {
    "collapsed": false
   },
   "outputs": [
    {
     "data": {
      "text/html": [
       "<div>\n",
       "<table border=\"1\" class=\"dataframe\">\n",
       "  <thead>\n",
       "    <tr style=\"text-align: right;\">\n",
       "      <th></th>\n",
       "      <th>renta</th>\n",
       "      <th>factor</th>\n",
       "      <th>xini</th>\n",
       "    </tr>\n",
       "  </thead>\n",
       "  <tbody>\n",
       "    <tr>\n",
       "      <th>1003646</th>\n",
       "      <td>-10964259.24</td>\n",
       "      <td>1.0011</td>\n",
       "      <td>-10976319.925164</td>\n",
       "    </tr>\n",
       "    <tr>\n",
       "      <th>500483</th>\n",
       "      <td>-8198370.19</td>\n",
       "      <td>1.0002</td>\n",
       "      <td>-8200009.864038</td>\n",
       "    </tr>\n",
       "    <tr>\n",
       "      <th>236710</th>\n",
       "      <td>-7512561.73</td>\n",
       "      <td>1.0015</td>\n",
       "      <td>-7523830.572595</td>\n",
       "    </tr>\n",
       "    <tr>\n",
       "      <th>1816225</th>\n",
       "      <td>-4391027.95</td>\n",
       "      <td>1.0006</td>\n",
       "      <td>-4393662.566770</td>\n",
       "    </tr>\n",
       "    <tr>\n",
       "      <th>1815837</th>\n",
       "      <td>-4386869.87</td>\n",
       "      <td>1.0006</td>\n",
       "      <td>-4389501.991922</td>\n",
       "    </tr>\n",
       "  </tbody>\n",
       "</table>\n",
       "</div>"
      ],
      "text/plain": [
       "               renta  factor             xini\n",
       "1003646 -10964259.24  1.0011 -10976319.925164\n",
       "500483   -8198370.19  1.0002  -8200009.864038\n",
       "236710   -7512561.73  1.0015  -7523830.572595\n",
       "1816225  -4391027.95  1.0006  -4393662.566770\n",
       "1815837  -4386869.87  1.0006  -4389501.991922"
      ]
     },
     "execution_count": 126,
     "metadata": {},
     "output_type": "execute_result"
    }
   ],
   "source": [
    "d.head()"
   ]
  },
  {
   "cell_type": "code",
   "execution_count": 127,
   "metadata": {
    "collapsed": true
   },
   "outputs": [],
   "source": [
    "d['fi'] = d.factor / d.factor.sum()"
   ]
  },
  {
   "cell_type": "code",
   "execution_count": 128,
   "metadata": {
    "collapsed": true
   },
   "outputs": [],
   "source": [
    "d['Fi'] = d.fi.cumsum()"
   ]
  },
  {
   "cell_type": "code",
   "execution_count": 129,
   "metadata": {
    "collapsed": false
   },
   "outputs": [
    {
     "data": {
      "text/html": [
       "<div>\n",
       "<table border=\"1\" class=\"dataframe\">\n",
       "  <thead>\n",
       "    <tr style=\"text-align: right;\">\n",
       "      <th></th>\n",
       "      <th>renta</th>\n",
       "      <th>factor</th>\n",
       "      <th>xini</th>\n",
       "      <th>fi</th>\n",
       "      <th>Fi</th>\n",
       "    </tr>\n",
       "  </thead>\n",
       "  <tbody>\n",
       "    <tr>\n",
       "      <th>1003646</th>\n",
       "      <td>-10964259.24</td>\n",
       "      <td>1.0011</td>\n",
       "      <td>-10976319.925164</td>\n",
       "      <td>5.142384e-08</td>\n",
       "      <td>5.142384e-08</td>\n",
       "    </tr>\n",
       "    <tr>\n",
       "      <th>500483</th>\n",
       "      <td>-8198370.19</td>\n",
       "      <td>1.0002</td>\n",
       "      <td>-8200009.864038</td>\n",
       "      <td>5.137761e-08</td>\n",
       "      <td>1.028015e-07</td>\n",
       "    </tr>\n",
       "    <tr>\n",
       "      <th>236710</th>\n",
       "      <td>-7512561.73</td>\n",
       "      <td>1.0015</td>\n",
       "      <td>-7523830.572595</td>\n",
       "      <td>5.144439e-08</td>\n",
       "      <td>1.542458e-07</td>\n",
       "    </tr>\n",
       "    <tr>\n",
       "      <th>1816225</th>\n",
       "      <td>-4391027.95</td>\n",
       "      <td>1.0006</td>\n",
       "      <td>-4393662.566770</td>\n",
       "      <td>5.139816e-08</td>\n",
       "      <td>2.056440e-07</td>\n",
       "    </tr>\n",
       "    <tr>\n",
       "      <th>1815837</th>\n",
       "      <td>-4386869.87</td>\n",
       "      <td>1.0006</td>\n",
       "      <td>-4389501.991922</td>\n",
       "      <td>5.139816e-08</td>\n",
       "      <td>2.570422e-07</td>\n",
       "    </tr>\n",
       "  </tbody>\n",
       "</table>\n",
       "</div>"
      ],
      "text/plain": [
       "               renta  factor             xini            fi            Fi\n",
       "1003646 -10964259.24  1.0011 -10976319.925164  5.142384e-08  5.142384e-08\n",
       "500483   -8198370.19  1.0002  -8200009.864038  5.137761e-08  1.028015e-07\n",
       "236710   -7512561.73  1.0015  -7523830.572595  5.144439e-08  1.542458e-07\n",
       "1816225  -4391027.95  1.0006  -4393662.566770  5.139816e-08  2.056440e-07\n",
       "1815837  -4386869.87  1.0006  -4389501.991922  5.139816e-08  2.570422e-07"
      ]
     },
     "execution_count": 129,
     "metadata": {},
     "output_type": "execute_result"
    }
   ],
   "source": [
    "d.head()"
   ]
  },
  {
   "cell_type": "code",
   "execution_count": 206,
   "metadata": {
    "collapsed": false
   },
   "outputs": [],
   "source": [
    "d2 = 0.1\n",
    "d1 = d2 - 0.1\n",
    "\n",
    "decila = d[(d1 < d.Fi) & (d.Fi <= d2)]\n",
    "\n",
    "nh = len(decila)\n",
    "\n",
    "decila_media = decila.xini.sum() / decila.factor.sum()\n",
    "\n",
    "decila_min, decila_max = decila.renta.min(), decila.renta.max()\n",
    "\n",
    "decila_cuasivar = (sum( decila.fi * decila.renta ** 2) - (decila.factor.sum() * decila_media) ** 2) / (decila.factor.sum() - 1)\n",
    "\n",
    "decila_stats = sm.stats.DescrStatsW(decila.renta, weights=decila.factor)"
   ]
  },
  {
   "cell_type": "code",
   "execution_count": 207,
   "metadata": {
    "collapsed": false
   },
   "outputs": [
    {
     "data": {
      "text/plain": [
       "207929229.548"
      ]
     },
     "execution_count": 207,
     "metadata": {},
     "output_type": "execute_result"
    }
   ],
   "source": [
    "decila_stats.var"
   ]
  },
  {
   "cell_type": "code",
   "execution_count": 208,
   "metadata": {
    "collapsed": false
   },
   "outputs": [
    {
     "data": {
      "text/plain": [
       "29336.254"
      ]
     },
     "execution_count": 208,
     "metadata": {},
     "output_type": "execute_result"
    }
   ],
   "source": [
    "decila.xini.std()"
   ]
  },
  {
   "cell_type": "code",
   "execution_count": null,
   "metadata": {
    "collapsed": true
   },
   "outputs": [],
   "source": []
  },
  {
   "cell_type": "markdown",
   "metadata": {},
   "source": [
    "Teniendo en cuenta que la varianza en el caso discreto es: \n",
    "\n",
    "$\\sigma_X^2 = ( \\sum_{i=1}^n p_i\\cdot(x_i - \\mu)^2)$"
   ]
  },
  {
   "cell_type": "code",
   "execution_count": 209,
   "metadata": {
    "collapsed": false
   },
   "outputs": [
    {
     "data": {
      "text/plain": [
       "(2375.830, nan, -10964259.240, 6021.000)"
      ]
     },
     "execution_count": 209,
     "metadata": {},
     "output_type": "execute_result"
    }
   ],
   "source": [
    "decila_media, np.sqrt(decila_cuasivar), decila_min, decila_max"
   ]
  },
  {
   "cell_type": "code",
   "execution_count": null,
   "metadata": {
    "collapsed": false
   },
   "outputs": [],
   "source": []
  },
  {
   "cell_type": "code",
   "execution_count": null,
   "metadata": {
    "collapsed": false
   },
   "outputs": [],
   "source": []
  },
  {
   "cell_type": "code",
   "execution_count": null,
   "metadata": {
    "collapsed": true
   },
   "outputs": [],
   "source": []
  },
  {
   "cell_type": "code",
   "execution_count": null,
   "metadata": {
    "collapsed": true
   },
   "outputs": [],
   "source": []
  },
  {
   "cell_type": "code",
   "execution_count": null,
   "metadata": {
    "collapsed": true
   },
   "outputs": [],
   "source": []
  },
  {
   "cell_type": "code",
   "execution_count": 62,
   "metadata": {
    "collapsed": false
   },
   "outputs": [],
   "source": [
    "# nombre de la variable\n",
    "var_name = 'PAR455'\n",
    "str_vname = list(vdescrip.loc[var_name])[0].upper()\n",
    "\n",
    "# dataframe con variables monetarias ponderadas por el factor\n",
    "d = data.loc[:,[var_name, 'ca', 'tramo']].copy()\n",
    "d[var_name] = d[var_name] * data['factor']\n",
    "\n",
    "# argumentos de las tablas\n",
    "kwd = {'index':'tramo', \n",
    "       'columns':'ca', \n",
    "       'aggfunc':'sum'}\n",
    "\n",
    "# tabla de distribución ca, tramo\n",
    "var_pond_ij = pd.pivot_table(d, values=var_name, **kwd)\n",
    "\n",
    "# tabla de pesos para cada ca, tramo:\n",
    "w_ij = pd.pivot_table(data, values='factor', **kwd)\n",
    "\n",
    "# media ponderada\n",
    "media_pond_ij = var_pond_ij / w_ij\n",
    "\n",
    "# media ponderada tramo\n",
    "media_pond_tramo = var_pond_ij.sum(1) / w_ij.sum(1)\n",
    "\n",
    "# media ponderada ca\n",
    "media_pond_ca = var_pond_ij.sum() / w_ij.sum()\n",
    "\n",
    "# media nacional\n",
    "media_nacional = d[var_name].sum() / data.factor.sum()"
   ]
  },
  {
   "cell_type": "code",
   "execution_count": 63,
   "metadata": {
    "collapsed": false
   },
   "outputs": [
    {
     "name": "stderr",
     "output_type": "stream",
     "text": [
      "/Users/mmngreco/Virtualenvs/ipynb/lib/python3.5/site-packages/matplotlib/collections.py:590: FutureWarning: elementwise comparison failed; returning scalar instead, but in the future will perform elementwise comparison\n",
      "  if self._edgecolors == str('face'):\n"
     ]
    },
    {
     "data": {
      "image/png": "[encoded data removed]",
      "text/plain": [
       "<matplotlib.figure.Figure at 0x1195dd2e8>"
      ]
     },
     "metadata": {},
     "output_type": "display_data"
    }
   ],
   "source": [
    "# GRAFICO\n",
    "#########\n",
    "\n",
    "d = media_pond_ij.copy()\n",
    "d_ca = media_pond_ca.copy()\n",
    "d_tramo = media_pond_tramo.copy()\n",
    "\n",
    "# figuras\n",
    "fs = (12,10)\n",
    "plt.figure(figsize=fs)\n",
    "ax1 = plt.subplot(2,2,3)\n",
    "ax3 = plt.subplot(2,2,4)\n",
    "ax2 = plt.subplot(2,2,1)\n",
    "\n",
    "# ordenar ca\n",
    "ca_order = d_ca.sort_values(ascending=True).index\n",
    "d_ca = d_ca[ca_order]\n",
    "d = d[ca_order]\n",
    "\n",
    "# traducir los códigos a nombres de ccaa\n",
    "d.index = [info_tramos[i] for i in d.index]\n",
    "\n",
    "# y los tramos\n",
    "d.columns = [info_ccaa[c] for c in d.columns]\n",
    "\n",
    "# densidad\n",
    "sns.heatmap(d, ax=ax1, cbar=False, cmap='Greens', robust=True)\n",
    "\n",
    "# barras ccaa\n",
    "g2 = sns.barplot(x=d_ca.index, \n",
    "                 y=d_ca.values, \n",
    "                 ax=ax2, \n",
    "                 color=sns.xkcd_rgb[\"medium green\"],\n",
    "                 alpha=0.8)\n",
    "# barra tramos\n",
    "g3 = sns.barplot(x=d_tramo.values, \n",
    "                 y=d_tramo.index, \n",
    "                 ax=ax3, \n",
    "                 orient='horizontal', \n",
    "                 color=sns.xkcd_rgb[\"medium green\"],\n",
    "                 alpha=0.8)\n",
    "\n",
    "# limpiar el lienzo de las barras\n",
    "sns.despine(ax=ax2, left=True, bottom=False)\n",
    "sns.despine(ax=ax3, left=False, bottom=True)\n",
    "\n",
    "# añadir rejilla\n",
    "ax2.yaxis.grid(True)\n",
    "ax3.xaxis.grid(True)\n",
    "\n",
    "# quitar etiquetas\n",
    "ax2.set_xlabel('')\n",
    "ax2.tick_params(axis='both', \n",
    "                which='both', \n",
    "                bottom='off', \n",
    "                top='off', \n",
    "                labelbottom='off', \n",
    "                right='off', \n",
    "                left='off', \n",
    "                labelleft='on')\n",
    "ax3.set_ylabel('')\n",
    "ax3.tick_params(axis='both', \n",
    "                which='both', \n",
    "                bottom='off', \n",
    "                top='off', \n",
    "                labelbottom='on', \n",
    "                right='off', \n",
    "                left='off', \n",
    "                labelleft='off')\n",
    "\n",
    "\n",
    "# añadir etiquetas de los valores\n",
    "ax2.set_ylabel('Euros')\n",
    "ax3.set_xlabel('Euros')\n",
    "\n",
    "# etiquetar los ejes de las barras\n",
    "ax1.set_xlabel('CCAA')\n",
    "ax1.set_ylabel('TRAMOS')\n",
    "\n",
    "# titulo\n",
    "plt.suptitle('DISTRIBUCIÓN %s' % str_vname, fontsize=15, y=1.05)\n",
    "\n",
    "# ajustar\n",
    "plt.tight_layout()\n",
    "\n",
    "# guardar grafico\n",
    "plt.savefig('imgs/dist_%s_%s' % (date, var_name), bbox_inches='tight')"
   ]
  },
  {
   "cell_type": "code",
   "execution_count": 64,
   "metadata": {
    "collapsed": false
   },
   "outputs": [
    {
     "data": {
      "text/plain": [
       "tramo\n",
       "1     -4 053.887\n",
       "2      2 676.584\n",
       "3      8 493.833\n",
       "4     14 316.600\n",
       "5     20 034.785\n",
       "6     25 682.625\n",
       "7     31 531.682\n",
       "8     36 923.826\n",
       "9     42 278.131\n",
       "10    46 723.753\n",
       "11    52 771.641\n",
       "12    88 958.755\n",
       "dtype: object"
      ]
     },
     "execution_count": 64,
     "metadata": {},
     "output_type": "execute_result"
    }
   ],
   "source": [
    "media_pond_tramo.map(formato_nums)"
   ]
  },
  {
   "cell_type": "code",
   "execution_count": 65,
   "metadata": {
    "collapsed": false
   },
   "outputs": [],
   "source": [
    "# comprobaciones\n",
    "# base imponible general <= 0\n",
    "# declaraciones = 57.835\n",
    "# BL total millones de euros 360,1\n",
    "# media -6.226 euros\n",
    "d = data.loc[:,['PAR455', 'factor', 'tramo']]"
   ]
  },
  {
   "cell_type": "code",
   "execution_count": 66,
   "metadata": {
    "collapsed": false
   },
   "outputs": [],
   "source": [
    "# menores o iguales a cero\n",
    "d = d[d.PAR455 <= 0]"
   ]
  },
  {
   "cell_type": "code",
   "execution_count": 67,
   "metadata": {
    "collapsed": true
   },
   "outputs": [],
   "source": [
    "# variable poblacional\n",
    "d['x*w'] = d.PAR455 * d.factor"
   ]
  },
  {
   "cell_type": "code",
   "execution_count": 68,
   "metadata": {
    "collapsed": false
   },
   "outputs": [
    {
     "data": {
      "text/plain": [
       "-1455981021.975"
      ]
     },
     "execution_count": 68,
     "metadata": {},
     "output_type": "execute_result"
    }
   ],
   "source": [
    "# total\n",
    "d['x*w'].sum()"
   ]
  },
  {
   "cell_type": "code",
   "execution_count": 69,
   "metadata": {
    "collapsed": false
   },
   "outputs": [
    {
     "data": {
      "text/plain": [
       "'-1 455 981 021.975'"
      ]
     },
     "execution_count": 69,
     "metadata": {},
     "output_type": "execute_result"
    }
   ],
   "source": [
    "formato_nums(_)"
   ]
  },
  {
   "cell_type": "code",
   "execution_count": 70,
   "metadata": {
    "collapsed": false
   },
   "outputs": [
    {
     "data": {
      "text/plain": [
       "873516.267"
      ]
     },
     "execution_count": 70,
     "metadata": {},
     "output_type": "execute_result"
    }
   ],
   "source": [
    "# declaraciones\n",
    "d.factor.sum()"
   ]
  },
  {
   "cell_type": "code",
   "execution_count": 71,
   "metadata": {
    "collapsed": false
   },
   "outputs": [
    {
     "data": {
      "text/plain": [
       "'873 516.267'"
      ]
     },
     "execution_count": 71,
     "metadata": {},
     "output_type": "execute_result"
    }
   ],
   "source": [
    "formato_nums(_)"
   ]
  },
  {
   "cell_type": "code",
   "execution_count": 72,
   "metadata": {
    "collapsed": false
   },
   "outputs": [
    {
     "data": {
      "text/plain": [
       "429824"
      ]
     },
     "execution_count": 72,
     "metadata": {},
     "output_type": "execute_result"
    }
   ],
   "source": [
    "len(d)"
   ]
  },
  {
   "cell_type": "code",
   "execution_count": 73,
   "metadata": {
    "collapsed": false
   },
   "outputs": [
    {
     "data": {
      "text/plain": [
       "'429 824.000'"
      ]
     },
     "execution_count": 73,
     "metadata": {},
     "output_type": "execute_result"
    }
   ],
   "source": [
    "formato_nums(_)"
   ]
  },
  {
   "cell_type": "code",
   "execution_count": 74,
   "metadata": {
    "collapsed": false
   },
   "outputs": [
    {
     "data": {
      "text/plain": [
       "'873 516.267'"
      ]
     },
     "execution_count": 74,
     "metadata": {},
     "output_type": "execute_result"
    }
   ],
   "source": [
    "# declaraciones\n",
    "formato_nums(d.factor.sum())"
   ]
  },
  {
   "cell_type": "code",
   "execution_count": 75,
   "metadata": {
    "collapsed": true
   },
   "outputs": [],
   "source": [
    "# total de declaraciones = 18.775.312\n",
    "# total de BL total = 361.944,7\n",
    "# total media = 19.278\n"
   ]
  },
  {
   "cell_type": "code",
   "execution_count": 76,
   "metadata": {
    "collapsed": false
   },
   "outputs": [
    {
     "data": {
      "text/html": [
       "<div>\n",
       "<table border=\"1\" class=\"dataframe\">\n",
       "  <thead>\n",
       "    <tr style=\"text-align: right;\">\n",
       "      <th></th>\n",
       "      <th>descrip</th>\n",
       "    </tr>\n",
       "    <tr>\n",
       "      <th>variable</th>\n",
       "      <th></th>\n",
       "    </tr>\n",
       "  </thead>\n",
       "  <tbody>\n",
       "    <tr>\n",
       "      <th>ca</th>\n",
       "      <td>Comunidad Autónoma</td>\n",
       "    </tr>\n",
       "    <tr>\n",
       "      <th>dec</th>\n",
       "      <td>Tipo de Declaración</td>\n",
       "    </tr>\n",
       "    <tr>\n",
       "      <th>sexo</th>\n",
       "      <td>Sexo del declarante</td>\n",
       "    </tr>\n",
       "    <tr>\n",
       "      <th>factor</th>\n",
       "      <td>Factor de elevación</td>\n",
       "    </tr>\n",
       "    <tr>\n",
       "      <th>NmDesc</th>\n",
       "      <td>Número de Descendientes</td>\n",
       "    </tr>\n",
       "    <tr>\n",
       "      <th>PAR1</th>\n",
       "      <td>Rendimientos del Trabajo: Dinerarias</td>\n",
       "    </tr>\n",
       "    <tr>\n",
       "      <th>PAR9</th>\n",
       "      <td>Rendimientos del Trabajo: Ingresos Íntegros</td>\n",
       "    </tr>\n",
       "    <tr>\n",
       "      <th>PAR452</th>\n",
       "      <td>Saldo neto de rendimientos e imputaciones de renta.</td>\n",
       "    </tr>\n",
       "    <tr>\n",
       "      <th>PAR455</th>\n",
       "      <td>Base Imponible general</td>\n",
       "    </tr>\n",
       "    <tr>\n",
       "      <th>PAR465</th>\n",
       "      <td>Base Imponible del ahorro</td>\n",
       "    </tr>\n",
       "    <tr>\n",
       "      <th>PAR618</th>\n",
       "      <td>Base Liquidable general</td>\n",
       "    </tr>\n",
       "    <tr>\n",
       "      <th>PAR630</th>\n",
       "      <td>Base Liquidable del ahorro</td>\n",
       "    </tr>\n",
       "    <tr>\n",
       "      <th>PAR698</th>\n",
       "      <td>Cuota Íntegra estatal</td>\n",
       "    </tr>\n",
       "    <tr>\n",
       "      <th>PAR699</th>\n",
       "      <td>Cuota Íntegra autonómica</td>\n",
       "    </tr>\n",
       "    <tr>\n",
       "      <th>PAR720</th>\n",
       "      <td>Cuota Líquida estatal</td>\n",
       "    </tr>\n",
       "    <tr>\n",
       "      <th>PAR721</th>\n",
       "      <td>Cuota Líquida autonómica</td>\n",
       "    </tr>\n",
       "    <tr>\n",
       "      <th>PAR755</th>\n",
       "      <td>Cuota Diferencial</td>\n",
       "    </tr>\n",
       "    <tr>\n",
       "      <th>PAR760</th>\n",
       "      <td>Resultado</td>\n",
       "    </tr>\n",
       "    <tr>\n",
       "      <th>PAR716</th>\n",
       "      <td>Deducción por Alquiler de vivienda habitual, parte autonómica</td>\n",
       "    </tr>\n",
       "    <tr>\n",
       "      <th>PAR772</th>\n",
       "      <td>Por alquiler de vivienda habitual parte autonómica</td>\n",
       "    </tr>\n",
       "    <tr>\n",
       "      <th>ingresos</th>\n",
       "      <td>Ingresos de muestreo, resultante de la suma de las casillas 452 y 465</td>\n",
       "    </tr>\n",
       "  </tbody>\n",
       "</table>\n",
       "</div>"
      ],
      "text/plain": [
       "                                                                        descrip\n",
       "variable                                                                       \n",
       "ca                                                           Comunidad Autónoma\n",
       "dec                                                         Tipo de Declaración\n",
       "sexo                                                        Sexo del declarante\n",
       "factor                                                      Factor de elevación\n",
       "NmDesc                                                  Número de Descendientes\n",
       "PAR1                                       Rendimientos del Trabajo: Dinerarias\n",
       "PAR9                                Rendimientos del Trabajo: Ingresos Íntegros\n",
       "PAR452                      Saldo neto de rendimientos e imputaciones de renta.\n",
       "PAR455                                                   Base Imponible general\n",
       "PAR465                                                Base Imponible del ahorro\n",
       "PAR618                                                  Base Liquidable general\n",
       "PAR630                                               Base Liquidable del ahorro\n",
       "PAR698                                                    Cuota Íntegra estatal\n",
       "PAR699                                                 Cuota Íntegra autonómica\n",
       "PAR720                                                    Cuota Líquida estatal\n",
       "PAR721                                                 Cuota Líquida autonómica\n",
       "PAR755                                                        Cuota Diferencial\n",
       "PAR760                                                                Resultado\n",
       "PAR716            Deducción por Alquiler de vivienda habitual, parte autonómica\n",
       "PAR772                       Por alquiler de vivienda habitual parte autonómica\n",
       "ingresos  Ingresos de muestreo, resultante de la suma de las casillas 452 y 465"
      ]
     },
     "execution_count": 76,
     "metadata": {},
     "output_type": "execute_result"
    }
   ],
   "source": [
    "vdescrip"
   ]
  },
  {
   "cell_type": "code",
   "execution_count": 77,
   "metadata": {
    "collapsed": false
   },
   "outputs": [
    {
     "data": {
      "text/html": [
       "<div>\n",
       "<table border=\"1\" class=\"dataframe\">\n",
       "  <thead>\n",
       "    <tr style=\"text-align: right;\">\n",
       "      <th></th>\n",
       "      <th>ca</th>\n",
       "      <th>tramo</th>\n",
       "      <th>media</th>\n",
       "    </tr>\n",
       "  </thead>\n",
       "  <tbody>\n",
       "    <tr>\n",
       "      <th>0</th>\n",
       "      <td>1</td>\n",
       "      <td>1</td>\n",
       "      <td>-3830.559674</td>\n",
       "    </tr>\n",
       "    <tr>\n",
       "      <th>1</th>\n",
       "      <td>1</td>\n",
       "      <td>2</td>\n",
       "      <td>2724.878624</td>\n",
       "    </tr>\n",
       "    <tr>\n",
       "      <th>2</th>\n",
       "      <td>1</td>\n",
       "      <td>3</td>\n",
       "      <td>8545.541629</td>\n",
       "    </tr>\n",
       "    <tr>\n",
       "      <th>3</th>\n",
       "      <td>1</td>\n",
       "      <td>4</td>\n",
       "      <td>14421.024530</td>\n",
       "    </tr>\n",
       "    <tr>\n",
       "      <th>4</th>\n",
       "      <td>1</td>\n",
       "      <td>5</td>\n",
       "      <td>20119.430148</td>\n",
       "    </tr>\n",
       "  </tbody>\n",
       "</table>\n",
       "</div>"
      ],
      "text/plain": [
       "   ca  tramo         media\n",
       "0   1      1  -3830.559674\n",
       "1   1      2   2724.878624\n",
       "2   1      3   8545.541629\n",
       "3   1      4  14421.024530\n",
       "4   1      5  20119.430148"
      ]
     },
     "execution_count": 77,
     "metadata": {},
     "output_type": "execute_result"
    }
   ],
   "source": [
    "# GRAFICO 3d\n",
    "#########\n",
    "\n",
    "d = media_pond_ij.copy()\n",
    "d_ca = media_pond_ca.copy()\n",
    "d_tramo = media_pond_tramo.copy()\n",
    "\n",
    "d = pd.DataFrame(d.unstack().reset_index())\n",
    "colnames = list(d.columns)\n",
    "colnames[-1] = 'media'\n",
    "d.columns = colnames\n",
    "d.head()"
   ]
  },
  {
   "cell_type": "code",
   "execution_count": 78,
   "metadata": {
    "collapsed": false,
    "scrolled": false
   },
   "outputs": [
    {
     "name": "stderr",
     "output_type": "stream",
     "text": [
      "/Users/mmngreco/Virtualenvs/ipynb/lib/python3.5/site-packages/matplotlib/collections.py:590: FutureWarning: elementwise comparison failed; returning scalar instead, but in the future will perform elementwise comparison\n",
      "  if self._edgecolors == str('face'):\n"
     ]
    },
    {
     "data": {
      "image/png": "[encoded data removed]",
      "text/plain": [
       "<matplotlib.figure.Figure at 0x11547c1d0>"
      ]
     },
     "metadata": {},
     "output_type": "display_data"
    }
   ],
   "source": [
    "threedee = plt.figure(figsize=fs).gca(projection='3d')\n",
    "threedee.plot_trisurf(d.ca, d.tramo, (d['media'] - media_nacional)/media_nacional, cmap=plt.cm.jet, alpha=0.7)\n",
    "\n",
    "threedee.set_zlabel('media')\n",
    "\n",
    "threedee.set_xlabel('ca')\n",
    "threedee.set_xticks(d.ca.unique())\n",
    "threedee.set_xticklabels([info_ccaa[ca][-6:] for ca in d.ca.unique()], rotation=40)\n",
    "\n",
    "threedee.set_ylabel('tramo')\n",
    "threedee.set_yticks(d.tramo.unique())\n",
    "#threedee.set_zlim3d(0, max(d.media))\n",
    "plt.tight_layout()"
   ]
  },
  {
   "cell_type": "code",
   "execution_count": 79,
   "metadata": {
    "code_folding": [
     0
    ],
    "collapsed": false
   },
   "outputs": [
    {
     "name": "stderr",
     "output_type": "stream",
     "text": [
      "/Users/mmngreco/Virtualenvs/ipynb/lib/python3.5/site-packages/matplotlib/collections.py:590: FutureWarning: elementwise comparison failed; returning scalar instead, but in the future will perform elementwise comparison\n",
      "  if self._edgecolors == str('face'):\n"
     ]
    },
    {
     "data": {
      "image/png": "[encoded data removed]",
      "text/plain": [
       "<matplotlib.figure.Figure at 0x119bc9b70>"
      ]
     },
     "metadata": {},
     "output_type": "display_data"
    }
   ],
   "source": [
    "# GRÁFICOS DIFERENCIA RESPECTO DE LA MEDIA NACIONAL\n",
    "ttl = 'DISTRIBUCIÓN %s' % str_vname\n",
    "fs = (10,10)\n",
    "# subplots\n",
    "plt.figure(figsize=fs)\n",
    "ax1 = plt.subplot(2,2,1)\n",
    "ax2 = plt.subplot(2,2,2)\n",
    "ax3 = plt.subplot(2,2,3)\n",
    "ax4 = plt.subplot(2,2,4)\n",
    "ax2.text(0, 0.5,'MEDIA NACIONAL = %.3f' % media_nacional, \n",
    "         fontsize=15, \n",
    "         family='Serif')\n",
    "\n",
    "# barras\n",
    "g1 = sns.barplot(x=media_pond_ca.index, \n",
    "                 y=(media_pond_ca - media_nacional)/media_nacional, \n",
    "                 ax=ax1, \n",
    "                 color=sns.xkcd_rgb[\"medium green\"])#.set_xticklabels('')\n",
    "\n",
    "g4 = sns.barplot(x=(media_pond_tramo - media_nacional)/media_nacional,\n",
    "                 y=media_pond_tramo.index,\n",
    "                 ax=ax4,\n",
    "                 orient='horizontal',\n",
    "                 color=sns.xkcd_rgb[\"medium green\"])#.set_yticklabels('')\n",
    "\n",
    "# densidad\n",
    "sns.heatmap(data=(media_pond_ij - media_nacional)/media_nacional,\n",
    "            ax=ax3, \n",
    "            cbar=False, \n",
    "            cmap='Greens', \n",
    "            robust=True, \n",
    "            annot=False, \n",
    "            square=False, \n",
    "            fmt='.2f')\n",
    "\n",
    "# estilo\n",
    "plt.suptitle(ttl, fontsize=15, y=1.05)\n",
    "\n",
    "sns.despine(ax=ax1, left=True, bottom=True)\n",
    "sns.despine(ax=ax4, left=True, bottom=True)\n",
    "sns.despine(ax=ax2, left=True, bottom=True)\n",
    "\n",
    "ax1.set_xlabel('')\n",
    "ax4.set_ylabel('')\n",
    "\n",
    "ax1.set_ylabel('Euros')\n",
    "ax4.set_xlabel('Euros')\n",
    "\n",
    "ax1.yaxis.grid(True)\n",
    "ax4.xaxis.grid(True)\n",
    "\n",
    "ax3.set_ylabel('TRAMOS')\n",
    "ax3.set_xlabel('CCAA')\n",
    "\n",
    "ax2.tick_params(axis='both', \n",
    "                which='both', \n",
    "                bottom='off', \n",
    "                top='off', \n",
    "                labelbottom='off', \n",
    "                right='off', \n",
    "                left='off', \n",
    "                labelleft='off')\n",
    "\n",
    "# descripción\n",
    "plt.tight_layout()\n",
    "plt.savefig('imgs/dist_sobre_media_%s_%s' % (str_vname, date), bbox_inches='tight')"
   ]
  },
  {
   "cell_type": "code",
   "execution_count": 80,
   "metadata": {
    "code_folding": [
     0
    ],
    "collapsed": false
   },
   "outputs": [
    {
     "data": {
      "text/plain": [
       "dict_keys(['PAR630', 'PAR465', 'PAR760', 'PAR721', 'PAR618', 'PAR720', 'PAR699', 'PAR9', 'PAR1', 'PAR716', 'PAR455', 'PAR755', 'ingresos', 'PAR698', 'PAR772', 'PAR452'])"
      ]
     },
     "execution_count": 80,
     "metadata": {},
     "output_type": "execute_result"
    }
   ],
   "source": [
    "# DISTRIBUCIÓN ACUMULADA: LORENTZ(%POBLACION, $)\n",
    "lc = {}\n",
    "\n",
    "for v in variables_monetarias:\n",
    "#    v = list(v)                                 # Para cada par (factor, variable interes) \n",
    "    cdf = data.loc[:,[v, 'factor']].copy()        # creamos la variable funcion de densidad acumulada cdf\n",
    "\n",
    "    cdf = cdf.sort_values(by=v,              # ordenamos la variable monetaria de menor a mayor\n",
    "                          ascending=True)\n",
    "\n",
    "    cdf[v] = cdf.product(axis=1)             # variable monetaria a poblacional (W * variable)\n",
    "\n",
    "    cdf = cdf.cumsum() / cdf.sum()  # suma acumulada y dividimos por el total para normalizar\n",
    "\n",
    "    lc[v] = [cdf.factor.values, cdf[v].values]           # guardamos el resultado\n",
    "\n",
    "lc.keys()"
   ]
  },
  {
   "cell_type": "code",
   "execution_count": 81,
   "metadata": {
    "collapsed": false
   },
   "outputs": [
    {
     "name": "stdout",
     "output_type": "stream",
     "text": [
      "              Gini\n",
      "PAR755   -2.862843\n",
      "PAR760   -2.809677\n",
      "PAR1      0.450976\n",
      "PAR9      0.451842\n",
      "PAR455    0.478219\n",
      "PAR452    0.479370\n",
      "ingresos  0.482497\n",
      "PAR618    0.490389\n",
      "PAR699    0.681332\n",
      "PAR698    0.681479\n",
      "PAR720    0.704434\n",
      "PAR721    0.710242\n",
      "PAR465    0.910197\n",
      "PAR630    0.911559\n",
      "PAR716    0.970543\n",
      "PAR772    0.970543\n"
     ]
    },
    {
     "data": {
      "image/png": "[encoded data removed]",
      "text/plain": [
       "<matplotlib.figure.Figure at 0x11965b4e0>"
      ]
     },
     "metadata": {},
     "output_type": "display_data"
    }
   ],
   "source": [
    "# indice de gini\n",
    "# TODO COMPROBAR\n",
    "\n",
    "gini = {}\n",
    "\n",
    "for k in lc.keys():\n",
    "    area_total = 0.5\n",
    "    area_bajo = si.trapz(x = lc[k][0],\n",
    "                         y = lc[k][1])\n",
    "    area_entre = area_total - area_bajo\n",
    "    gini[k] = 2 * area_entre\n",
    "\n",
    "df_gini = pd.DataFrame.from_dict(gini, orient='index').sort_values(by=0)\n",
    "df_gini.columns = ['Gini']\n",
    "df_gini.plot(kind='barh')\n",
    "\n",
    "sns.despine(bottom=True, \n",
    "            right=True)\n",
    "\n",
    "plt.suptitle('Indice de Gini', fontsize=15)\n",
    "plt.savefig('imgs/gini_%s.png' % date, bbbox_inches='tight')\n",
    "\n",
    "print(df_gini)"
   ]
  },
  {
   "cell_type": "code",
   "execution_count": 83,
   "metadata": {
    "code_folding": [],
    "collapsed": false
   },
   "outputs": [
    {
     "ename": "NameError",
     "evalue": "name 'glc' is not defined",
     "output_type": "error",
     "traceback": [
      "\u001b[0;31m---------------------------------------------------------------------------\u001b[0m",
      "\u001b[0;31mNameError\u001b[0m                                 Traceback (most recent call last)",
      "\u001b[0;32m<ipython-input-83-3c253ca3c383>\u001b[0m in \u001b[0;36m<module>\u001b[0;34m()\u001b[0m\n\u001b[1;32m      3\u001b[0m \u001b[0;31m# TODO Hacer el glc\u001b[0m\u001b[0;34m\u001b[0m\u001b[0;34m\u001b[0m\u001b[0m\n\u001b[1;32m      4\u001b[0m \u001b[0;34m\u001b[0m\u001b[0m\n\u001b[0;32m----> 5\u001b[0;31m \u001b[0mn\u001b[0m \u001b[0;34m=\u001b[0m \u001b[0;34m[\u001b[0m\u001b[0mlen\u001b[0m\u001b[0;34m(\u001b[0m\u001b[0mglc\u001b[0m\u001b[0;34m)\u001b[0m \u001b[0;32mif\u001b[0m \u001b[0mlen\u001b[0m\u001b[0;34m(\u001b[0m\u001b[0mglc\u001b[0m\u001b[0;34m)\u001b[0m \u001b[0;34m%\u001b[0m \u001b[0;36m2\u001b[0m \u001b[0;34m==\u001b[0m \u001b[0;36m0\u001b[0m \u001b[0;32melse\u001b[0m \u001b[0mlen\u001b[0m\u001b[0;34m(\u001b[0m\u001b[0mglc\u001b[0m\u001b[0;34m)\u001b[0m \u001b[0;34m+\u001b[0m \u001b[0;36m1\u001b[0m\u001b[0;34m]\u001b[0m\u001b[0;34m[\u001b[0m\u001b[0;36m0\u001b[0m\u001b[0;34m]\u001b[0m\u001b[0;34m\u001b[0m\u001b[0m\n\u001b[0m\u001b[1;32m      6\u001b[0m \u001b[0mfig\u001b[0m \u001b[0;34m=\u001b[0m \u001b[0mplt\u001b[0m\u001b[0;34m.\u001b[0m\u001b[0mfigure\u001b[0m\u001b[0;34m(\u001b[0m\u001b[0mfigsize\u001b[0m\u001b[0;34m=\u001b[0m\u001b[0;34m(\u001b[0m\u001b[0;36m10\u001b[0m\u001b[0;34m,\u001b[0m\u001b[0;36m2\u001b[0m\u001b[0;34m*\u001b[0m\u001b[0mn\u001b[0m\u001b[0;34m)\u001b[0m\u001b[0;34m)\u001b[0m\u001b[0;34m\u001b[0m\u001b[0m\n\u001b[1;32m      7\u001b[0m \u001b[0maxs\u001b[0m \u001b[0;34m=\u001b[0m \u001b[0mlist\u001b[0m\u001b[0;34m(\u001b[0m\u001b[0;34m)\u001b[0m\u001b[0;34m\u001b[0m\u001b[0m\n",
      "\u001b[0;31mNameError\u001b[0m: name 'glc' is not defined"
     ]
    }
   ],
   "source": [
    "# GLC PARA CADA VARIABLE DE INTERÉS\n",
    "# Determinar el numero de gráficos\n",
    "# TODO Hacer el glc\n",
    "\n",
    "n = [len(glc) if len(glc) % 2 == 0 else len(glc) + 1][0]\n",
    "fig = plt.figure(figsize=(10,2*n))\n",
    "axs = list()\n",
    "\n",
    "for i, k in enumerate(glc.keys()):\n",
    "    globals()['ax%s' % (i+1)] = fig.add_subplot(n/2, 2, i+1)\n",
    "    axs.append(globals()['ax%s' % (i+1)])\n",
    "    axs[-1].plot(glc[k][0], glc[k][1], label = k)\n",
    "\n",
    "plt.suptitle('Curva de Lorentz Generalizada', fontsize = 15, y = 1.05)\n",
    "\n",
    "for a in axs:\n",
    "    a.set_xlabel('% Población')\n",
    "    a.set_ylabel('Media (Percentil)')\n",
    "    a.legend(loc=0)\n",
    "    a.set_xlim(0,100)\n",
    "    a.yaxis.set_major_formatter(FuncFormatter(formatter))\n",
    "    a.grid(True)\n",
    "\n",
    "plt.tight_layout()\n",
    "plt.savefig('imgs/glc_%s_%s.png' % ('principales', date), bbox_iches='tight')"
   ]
  },
  {
   "cell_type": "raw",
   "metadata": {},
   "source": [
    "bins = [0, 6000, 12000, 18000, 24000, 30000, 36000, 42000, 48000, 54000, 60000]\n",
    "for i, b in enumerate(bins):\n",
    "    if 0 == b:\n",
    "        print('%s:\\'Negativas y 0.\\',' % (i+1))\n",
    "    elif b <= bins[-1]:\n",
    "        print('%s:\\'Desde %s hasta %s euros.\\',' % (i+1, bins[i-1], b))\n",
    "print('%s\\'De más de 60.000 euros.\\',' % 12)"
   ]
  },
  {
   "cell_type": "raw",
   "metadata": {
    "collapsed": false
   },
   "source": []
  },
  {
   "cell_type": "code",
   "execution_count": 85,
   "metadata": {
    "collapsed": false
   },
   "outputs": [
    {
     "name": "stdout",
     "output_type": "stream",
     "text": [
      "![](doc/imgs/1.png)\n",
      "![](doc/imgs/2.png)\n",
      "\n",
      "![](doc/imgs/3.png)\n",
      "![](doc/imgs/4.png)\n",
      "\n",
      "![](doc/imgs/5.png)\n",
      "![](doc/imgs/6.png)\n",
      "\n",
      "![](doc/imgs/7.png)\n",
      "![](doc/imgs/8.png)\n",
      "\n",
      "![](doc/imgs/9.png)\n",
      "![](doc/imgs/10.png)\n",
      "\n",
      "![](doc/imgs/11.png)\n",
      "![](doc/imgs/12.png)\n",
      "\n",
      "![](doc/imgs/13.png)\n",
      "![](doc/imgs/14.png)\n",
      "\n",
      "![](doc/imgs/15.png)\n",
      "![](doc/imgs/16.png)\n",
      "\n",
      "![](doc/imgs/17.png)\n",
      "![](doc/imgs/18.png)\n",
      "\n",
      "![](doc/imgs/19.png)\n",
      "![](doc/imgs/20.png)\n",
      "\n",
      "![](doc/imgs/21.png)\n",
      "![](doc/imgs/22.png)\n",
      "\n",
      "![](doc/imgs/23.png)\n",
      "![](doc/imgs/24.png)\n",
      "\n",
      "![](doc/imgs/25.png)\n",
      "![](doc/imgs/26.png)\n",
      "\n"
     ]
    }
   ],
   "source": [
    "for i in range(1,27, 2):\n",
    "    s = '![](doc/imgs/%s.png)'\n",
    "    print(s % i)\n",
    "    print(s % (i+1))\n",
    "    print()"
   ]
  },
  {
   "cell_type": "code",
   "execution_count": 425,
   "metadata": {
    "code_folding": [],
    "collapsed": false
   },
   "outputs": [
    {
     "name": "stdout",
     "output_type": "stream",
     "text": [
      "Collecting scikit-criteria\n",
      "  Using cached scikit-criteria-0.0.1.tar.gz\n",
      "    Complete output from command python setup.py egg_info:\n",
      "    Traceback (most recent call last):\n",
      "      File \"<string>\", line 20, in <module>\n",
      "      File \"/private/var/folders/xy/27zz55c94hx_mrpt741xn6zm0000gn/T/pip-build-bzx9dap8/scikit-criteria/setup.py\", line 28, in <module>\n",
      "        from ez_setup import use_setuptools\n",
      "      File \"/private/var/folders/xy/27zz55c94hx_mrpt741xn6zm0000gn/T/pip-build-bzx9dap8/scikit-criteria/ez_setup.py\", line 106\n",
      "        except pkg_resources.VersionConflict, e:\n",
      "                                            ^\n",
      "    SyntaxError: invalid syntax\n",
      "    \n",
      "    ----------------------------------------\n",
      "\u001b[31mCommand \"python setup.py egg_info\" failed with error code 1 in /private/var/folders/xy/27zz55c94hx_mrpt741xn6zm0000gn/T/pip-build-bzx9dap8/scikit-criteria\u001b[0m\n"
     ]
    }
   ],
   "source": [
    "!pip install scikit-criteria"
   ]
  },
  {
   "cell_type": "code",
   "execution_count": 99,
   "metadata": {
    "collapsed": true
   },
   "outputs": [],
   "source": [
    "a = !pip list"
   ]
  },
  {
   "cell_type": "code",
   "execution_count": 100,
   "metadata": {
    "collapsed": false
   },
   "outputs": [
    {
     "data": {
      "text/plain": [
       "['alabaster (0.7.6)',\n",
       " 'appnope (0.1.0)',\n",
       " 'Babel (2.1.1)',\n",
       " 'beautifulsoup4 (4.4.1)',\n",
       " 'blaze (0.8.3)',\n",
       " 'brewer2mpl (1.4.1)',\n",
       " 'cycler (0.9.0)',\n",
       " 'Cython (0.23.4)',\n",
       " 'datashape (0.4.7)',\n",
       " 'decorator (4.0.4)',\n",
       " 'docutils (0.12)',\n",
       " 'gnureadline (6.3.3)',\n",
       " 'googlemaps (2.4.1)',\n",
       " 'h5py (2.5.0)',\n",
       " 'html5lib (0.9999999)',\n",
       " 'ipykernel (4.1.0)',\n",
       " 'ipyparallel (4.0.2)',\n",
       " 'ipystata (0.1.4)',\n",
       " 'ipython (4.0.0)',\n",
       " 'ipython-genutils (0.1.0)',\n",
       " 'ipywidgets (4.0.3)',\n",
       " 'itable (0.0.1)',\n",
       " 'Jinja2 (2.8)',\n",
       " 'jsonschema (2.5.1)',\n",
       " 'jupyter (1.0.0)',\n",
       " 'jupyter-client (4.1.1)',\n",
       " 'jupyter-console (4.0.3)',\n",
       " 'jupyter-core (4.0.6)',\n",
       " 'jupyter-themer (0.1.2)',\n",
       " 'lxml (3.4.4)',\n",
       " 'Markdown (2.6.2)',\n",
       " 'MarkupSafe (0.23)',\n",
       " 'matplotlib (1.4.3)',\n",
       " 'mistune (0.7.1)',\n",
       " 'mock (1.3.0)',\n",
       " 'multipledispatch (0.4.8)',\n",
       " 'nbconvert (4.0.0)',\n",
       " 'nbformat (4.0.1)',\n",
       " 'networkx (1.10)',\n",
       " 'nose (1.3.7)',\n",
       " 'notebook (4.0.6)',\n",
       " 'numpy (1.10.1)',\n",
       " 'numpydoc (0.5)',\n",
       " 'odo (0.3.4)',\n",
       " 'pandas (0.17.1)',\n",
       " 'path.py (8.1.2)',\n",
       " 'patsy (0.4.0)',\n",
       " 'pbr (1.8.1)',\n",
       " 'pexpect (4.0.1)',\n",
       " 'pickleshare (0.5)',\n",
       " 'pip (7.1.2)',\n",
       " 'prettyplotlib (0.1.7)',\n",
       " 'psutil (3.2.2)',\n",
       " 'ptyprocess (0.5)',\n",
       " 'PuLP (1.6.0)',\n",
       " 'Pygments (2.0.2)',\n",
       " 'pyparsing (2.0.5)',\n",
       " 'pyreadline (2.1)',\n",
       " 'python-dateutil (2.4.2)',\n",
       " 'python-ternary (0.0.1)',\n",
       " 'pytz (2015.7)',\n",
       " 'PyYAML (3.11)',\n",
       " 'pyzmq (14.7.0)',\n",
       " 'qtconsole (4.0.1)',\n",
       " 'Quandl (2.8.9)',\n",
       " 'requests (2.6.0)',\n",
       " 'rpy2 (2.7.2)',\n",
       " 'scipy (0.16.1)',\n",
       " 'seaborn (0.6.0)',\n",
       " 'setuptools (18.4)',\n",
       " 'simplegeneric (0.8.1)',\n",
       " 'six (1.10.0)',\n",
       " 'snowballstemmer (1.2.0)',\n",
       " 'Sphinx (1.3.1)',\n",
       " 'sphinx-rtd-theme (0.1.9)',\n",
       " 'SQLAlchemy (1.0.9)',\n",
       " 'statsmodels (0.6.1)',\n",
       " 'sympy (0.7.6.1)',\n",
       " 'tabulate (0.7.5)',\n",
       " 'terminado (0.5)',\n",
       " 'ternary (0.1)',\n",
       " 'testpath (0.2)',\n",
       " 'toolz (0.7.4)',\n",
       " 'tornado (4.2.1)',\n",
       " 'traitlets (4.0.0)',\n",
       " 'wheel (0.24.0)',\n",
       " 'xlrd (0.9.4)']"
      ]
     },
     "execution_count": 100,
     "metadata": {},
     "output_type": "execute_result"
    }
   ],
   "source": [
    "a"
   ]
  },
  {
   "cell_type": "code",
   "execution_count": null,
   "metadata": {
    "collapsed": true
   },
   "outputs": [],
   "source": []
  }
 ],
 "metadata": {
  "kernelspec": {
   "display_name": "Python 3",
   "language": "python",
   "name": "python3"
  },
  "language_info": {
   "codemirror_mode": {
    "name": "ipython",
    "version": 3
   },
   "file_extension": ".py",
   "mimetype": "text/x-python",
   "name": "python",
   "nbconvert_exporter": "python",
   "pygments_lexer": "ipython3",
   "version": "3.5.0"
  }
 },
 "nbformat": 4,
 "nbformat_minor": 0
}
