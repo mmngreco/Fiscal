{
 "cells": [
  {
   "cell_type": "code",
   "execution_count": 1,
   "metadata": {
    "collapsed": false
   },
   "outputs": [
    {
     "name": "stderr",
     "output_type": "stream",
     "text": [
      "/Users/mmngreco/Virtualenvs/ipynb/lib/python3.5/site-packages/matplotlib/__init__.py:872: UserWarning: axes.color_cycle is deprecated and replaced with axes.prop_cycle; please use the latter.\n",
      "  warnings.warn(self.msg_depr % (key, alt_key))\n"
     ]
    }
   ],
   "source": [
    "# librerías\n",
    "import numpy as np\n",
    "import pandas as pd\n",
    "from pandas import Series, DataFrame\n",
    "\n",
    "import matplotlib.pyplot as plt\n",
    "from matplotlib.ticker import FuncFormatter\n",
    "from mpl_toolkits.mplot3d import Axes3D\n",
    "import seaborn as sns\n",
    "\n",
    "from datetime import datetime\n",
    "\n",
    "#from statsmodels.api import OLS, RLM\n",
    "#from statsmodels.formula.api import ols, rlm, wls\n",
    "import statsmodels.api as sm\n",
    "\n",
    "import scipy.integrate as si"
   ]
  },
  {
   "cell_type": "code",
   "execution_count": 2,
   "metadata": {
    "code_folding": [],
    "collapsed": false
   },
   "outputs": [],
   "source": [
    "# fecha para nombrar archivos\n",
    "date = datetime.now()                                            \n",
    "date = str(date).replace(':', '').replace(' ','_').split('.')[0] # cambio de formato"
   ]
  },
  {
   "cell_type": "code",
   "execution_count": 3,
   "metadata": {
    "collapsed": false
   },
   "outputs": [
    {
     "name": "stderr",
     "output_type": "stream",
     "text": [
      "/Users/mmngreco/Virtualenvs/ipynb/lib/python3.5/site-packages/matplotlib/__init__.py:872: UserWarning: axes.color_cycle is deprecated and replaced with axes.prop_cycle; please use the latter.\n",
      "  warnings.warn(self.msg_depr % (key, alt_key))\n"
     ]
    }
   ],
   "source": [
    "#sns.set_style('whitegrid')\n",
    "sns.set(style=\"ticks\", palette=\"Set2\")\n",
    "sns.despine()"
   ]
  },
  {
   "cell_type": "code",
   "execution_count": 4,
   "metadata": {
    "code_folding": [
     0
    ],
    "collapsed": false
   },
   "outputs": [],
   "source": [
    "# formato de columnas pandas\n",
    "pd.set_option('display.max_rows', 500)\n",
    "pd.set_option('display.max_columns', 100)\n",
    "pd.set_option('display.max_colwidth', 150)"
   ]
  },
  {
   "cell_type": "code",
   "execution_count": 5,
   "metadata": {
    "collapsed": false
   },
   "outputs": [
    {
     "data": {
      "text/plain": [
       "'%.3f'"
      ]
     },
     "execution_count": 5,
     "metadata": {},
     "output_type": "execute_result"
    }
   ],
   "source": [
    "%matplotlib inline\n",
    "%load_ext rpy2.ipython\n",
    "%precision 3"
   ]
  },
  {
   "cell_type": "code",
   "execution_count": 6,
   "metadata": {
    "code_folding": [
     0
    ],
    "collapsed": false
   },
   "outputs": [],
   "source": [
    "# DESCRIPCIÓN DE LOS CÓDIGOS\n",
    "\n",
    "info_tramos = {1 : 'Negativas y cero',\n",
    "               2 : 'De 0,001 a 3.000,00',\n",
    "               3 : 'De 3.000,01 a 6.000,00',\n",
    "               4 : 'De 6.000,01 a 12.000,00',\n",
    "               5 : 'De 12.000,01 a 18.000,00',\n",
    "               6 : 'De 18.000,01 a 30.000,00',\n",
    "               7 : 'De 30.000,01 a 60.000,00',\n",
    "               8 : 'De 60.000,01 a 120.000,00',\n",
    "               9 : 'De 120.000,01 a 240.000,00',\n",
    "               10 : 'De 240.000,01 en adelante'}\n",
    "\n",
    "info_tramos = {1:'Negativas y 0.',\n",
    "               2:'Desde 0 hasta 6000 euros.',\n",
    "               3:'Desde 6000 hasta 12000 euros.',\n",
    "               4:'Desde 12000 hasta 18000 euros.',\n",
    "               5:'Desde 18000 hasta 24000 euros.',\n",
    "               6:'Desde 24000 hasta 30000 euros.',\n",
    "               7:'Desde 30000 hasta 36000 euros.',\n",
    "               8:'Desde 36000 hasta 42000 euros.',\n",
    "               9:'Desde 42000 hasta 48000 euros.',\n",
    "               10:'Desde 48000 hasta 54000 euros.',\n",
    "               11:'Desde 54000 hasta 60000 euros.',\n",
    "               12:'De más de 60.000 euros.'}\n",
    "\n",
    "info_ccaa = {1: 'ANDALUCÍA',\n",
    "             2: 'ARAGÓN',\n",
    "             3: 'PRINCIPADO DE ASTURIAS',\n",
    "             4: 'ILLES BALEARS',\n",
    "             5: 'CANARIAS',\n",
    "             6: 'CANTABRIA',\n",
    "             7: 'CASTILLA Y LEÓN',\n",
    "             8: 'CASTILLA LA MANCHA',\n",
    "             9: 'CATALUÑA',\n",
    "             10: 'COMUNITAT VALENCIANA',\n",
    "             11: 'EXTREMADURA',\n",
    "             12: 'GALICIA',\n",
    "             13: 'COMUNIDAD DE MADRID',\n",
    "             14: 'REGIÓN DE MURCIA',\n",
    "             17: 'LA RIOJA',\n",
    "             18: 'CEUTA',\n",
    "             19: 'MELILLA',\n",
    "             20: 'NO RESIDENTES'}"
   ]
  },
  {
   "cell_type": "code",
   "execution_count": 7,
   "metadata": {
    "code_folding": [
     0
    ],
    "collapsed": false
   },
   "outputs": [],
   "source": [
    "!open ."
   ]
  },
  {
   "cell_type": "markdown",
   "metadata": {},
   "source": [
    "# DESCRIPCIÓN DE LAS VARIABLES DE INTERÉS"
   ]
  },
  {
   "cell_type": "code",
   "execution_count": 8,
   "metadata": {
    "code_folding": [
     0
    ],
    "collapsed": false
   },
   "outputs": [
    {
     "data": {
      "text/html": [
       "<div>\n",
       "<table border=\"1\" class=\"dataframe\">\n",
       "  <thead>\n",
       "    <tr style=\"text-align: right;\">\n",
       "      <th></th>\n",
       "      <th>prov</th>\n",
       "    </tr>\n",
       "    <tr>\n",
       "      <th>cod</th>\n",
       "      <th></th>\n",
       "    </tr>\n",
       "  </thead>\n",
       "  <tbody>\n",
       "    <tr>\n",
       "      <th>49</th>\n",
       "      <td>ZAMORA</td>\n",
       "    </tr>\n",
       "    <tr>\n",
       "      <th>50</th>\n",
       "      <td>ZARAGOZA</td>\n",
       "    </tr>\n",
       "    <tr>\n",
       "      <th>51</th>\n",
       "      <td>CEUTA</td>\n",
       "    </tr>\n",
       "    <tr>\n",
       "      <th>52</th>\n",
       "      <td>MELILLA</td>\n",
       "    </tr>\n",
       "    <tr>\n",
       "      <th>99</th>\n",
       "      <td>NO RESIDENTES</td>\n",
       "    </tr>\n",
       "  </tbody>\n",
       "</table>\n",
       "</div>"
      ],
      "text/plain": [
       "              prov\n",
       "cod               \n",
       "49          ZAMORA\n",
       "50        ZARAGOZA\n",
       "51           CEUTA\n",
       "52         MELILLA\n",
       "99   NO RESIDENTES"
      ]
     },
     "execution_count": 8,
     "metadata": {},
     "output_type": "execute_result"
    }
   ],
   "source": [
    "# DESCRIPCIÓN DE LOS CÓDIGOS DE LAS PROVINCIAS\n",
    "\n",
    "info_prov = pd.read_csv('data/cod_prov.csv', index_col=0)\n",
    "info_prov.tail()"
   ]
  },
  {
   "cell_type": "code",
   "execution_count": 9,
   "metadata": {
    "code_folding": [
     0
    ],
    "collapsed": false
   },
   "outputs": [
    {
     "data": {
      "text/html": [
       "<div>\n",
       "<table border=\"1\" class=\"dataframe\">\n",
       "  <thead>\n",
       "    <tr style=\"text-align: right;\">\n",
       "      <th></th>\n",
       "      <th>descrip</th>\n",
       "    </tr>\n",
       "    <tr>\n",
       "      <th>variable</th>\n",
       "      <th></th>\n",
       "    </tr>\n",
       "  </thead>\n",
       "  <tbody>\n",
       "    <tr>\n",
       "      <th>prov</th>\n",
       "      <td>PROVINCIA</td>\n",
       "    </tr>\n",
       "    <tr>\n",
       "      <th>ca</th>\n",
       "      <td>COMUNIDAD AUTÓNOMA</td>\n",
       "    </tr>\n",
       "    <tr>\n",
       "      <th>dec</th>\n",
       "      <td>TIPO DE DECLARACIÓN</td>\n",
       "    </tr>\n",
       "    <tr>\n",
       "      <th>sexo</th>\n",
       "      <td>SEXO DEL DECLARANTE</td>\n",
       "    </tr>\n",
       "    <tr>\n",
       "      <th>EstCv</th>\n",
       "      <td>ESTADO CIVIL DEL DECLARANTE</td>\n",
       "    </tr>\n",
       "  </tbody>\n",
       "</table>\n",
       "</div>"
      ],
      "text/plain": [
       "                              descrip\n",
       "variable                             \n",
       "prov                        PROVINCIA\n",
       "ca                 COMUNIDAD AUTÓNOMA\n",
       "dec               TIPO DE DECLARACIÓN\n",
       "sexo              SEXO DEL DECLARANTE\n",
       "EstCv     ESTADO CIVIL DEL DECLARANTE"
      ]
     },
     "execution_count": 9,
     "metadata": {},
     "output_type": "execute_result"
    }
   ],
   "source": [
    "# DESCRIPCIÓN DE LAS VARIABLES\n",
    "\n",
    "vdescrip = pd.read_table('data/Muestra2011/var_descrip.txt', index_col=0)\n",
    "vdescrip['descrip'] = vdescrip.descrip.map(lambda x: x.upper())\n",
    "vdescrip.head()"
   ]
  },
  {
   "cell_type": "markdown",
   "metadata": {},
   "source": [
    "# TRATAMIENTO DE LOS DATOS: SUBMUESTRA\n",
    "\n",
    "- LIMPIEZA\n",
    "- VARIABLES DE INTERES\n",
    "- FILTRACIÓN DE LA MUESTRA A LAS VARIABLES DE INTERES"
   ]
  },
  {
   "cell_type": "code",
   "execution_count": 10,
   "metadata": {
    "code_folding": [
     0
    ],
    "collapsed": true
   },
   "outputs": [],
   "source": [
    "# DIRECTORIOS DE LOS DATOS\n",
    "\n",
    "dir_all = 'data/Muestra2011/MuestraIRPF_2011.txt'\n",
    "dir_less = 'data/Muestra2011/data2011.csv'"
   ]
  },
  {
   "cell_type": "code",
   "execution_count": 11,
   "metadata": {
    "collapsed": true
   },
   "outputs": [],
   "source": [
    "# TRABAJAR CON TODOS LOS DATOS\n",
    "# CODIGOS DESACTIVADOS"
   ]
  },
  {
   "cell_type": "raw",
   "metadata": {
    "collapsed": false
   },
   "source": [
    "d = pd.read_table(dir_all, sep='\\t')"
   ]
  },
  {
   "cell_type": "raw",
   "metadata": {
    "collapsed": false
   },
   "source": [
    "d.head()"
   ]
  },
  {
   "cell_type": "raw",
   "metadata": {
    "collapsed": false
   },
   "source": [
    "print(list(d.columns))"
   ]
  },
  {
   "cell_type": "raw",
   "metadata": {
    "collapsed": false
   },
   "source": [
    "dw = d[list(vdescrip.index)]"
   ]
  },
  {
   "cell_type": "raw",
   "metadata": {
    "collapsed": false
   },
   "source": [
    "# PASAMOS DE LAS VARIABLES MONETARIAS DE CÉNTIMOS A EUROS\n",
    "dw.ix[:,7:] = dw.ix[:,7:] / 100"
   ]
  },
  {
   "cell_type": "raw",
   "metadata": {
    "collapsed": false
   },
   "source": [
    "dw.head()"
   ]
  },
  {
   "cell_type": "raw",
   "metadata": {
    "collapsed": false
   },
   "source": [
    "d[list(vdescrip.index)].head()"
   ]
  },
  {
   "cell_type": "raw",
   "metadata": {
    "collapsed": true
   },
   "source": [
    "dw.to_csv(dir_less, index=False)"
   ]
  },
  {
   "cell_type": "markdown",
   "metadata": {},
   "source": [
    "# CÁLCULOS CON LA SUBMUESTRA"
   ]
  },
  {
   "cell_type": "code",
   "execution_count": 12,
   "metadata": {
    "collapsed": false
   },
   "outputs": [],
   "source": [
    "# variables monetarias en euros.\n",
    "data = pd.read_csv(dir_less)"
   ]
  },
  {
   "cell_type": "code",
   "execution_count": 13,
   "metadata": {
    "collapsed": false
   },
   "outputs": [
    {
     "data": {
      "text/html": [
       "<div>\n",
       "<table border=\"1\" class=\"dataframe\">\n",
       "  <thead>\n",
       "    <tr style=\"text-align: right;\">\n",
       "      <th></th>\n",
       "      <th>prov</th>\n",
       "      <th>ca</th>\n",
       "      <th>dec</th>\n",
       "      <th>sexo</th>\n",
       "      <th>EstCv</th>\n",
       "      <th>NmDesc</th>\n",
       "      <th>factor</th>\n",
       "      <th>PAR1</th>\n",
       "      <th>PAR9</th>\n",
       "      <th>PAR17</th>\n",
       "      <th>PAR18</th>\n",
       "      <th>PAR19</th>\n",
       "      <th>PAR20</th>\n",
       "      <th>PAR452</th>\n",
       "      <th>PAR455</th>\n",
       "      <th>PAR465</th>\n",
       "      <th>PAR620</th>\n",
       "      <th>PAR630</th>\n",
       "      <th>PAR698</th>\n",
       "      <th>PAR699</th>\n",
       "      <th>PAR720</th>\n",
       "      <th>PAR721</th>\n",
       "      <th>PAR741</th>\n",
       "      <th>PAR756</th>\n",
       "      <th>PAR760</th>\n",
       "      <th>PAR716</th>\n",
       "      <th>PAR772</th>\n",
       "    </tr>\n",
       "  </thead>\n",
       "  <tbody>\n",
       "    <tr>\n",
       "      <th>0</th>\n",
       "      <td>2</td>\n",
       "      <td>8</td>\n",
       "      <td>C</td>\n",
       "      <td>2</td>\n",
       "      <td>2</td>\n",
       "      <td>1</td>\n",
       "      <td>1.0048</td>\n",
       "      <td>5083.60</td>\n",
       "      <td>5083.60</td>\n",
       "      <td>4080.00</td>\n",
       "      <td>0</td>\n",
       "      <td>0</td>\n",
       "      <td>1003.6</td>\n",
       "      <td>-2543.83</td>\n",
       "      <td>-2543.83</td>\n",
       "      <td>231.41</td>\n",
       "      <td>-2543.83</td>\n",
       "      <td>0</td>\n",
       "      <td>0</td>\n",
       "      <td>0</td>\n",
       "      <td>0</td>\n",
       "      <td>0</td>\n",
       "      <td>0</td>\n",
       "      <td>0</td>\n",
       "      <td>-122.48</td>\n",
       "      <td>0</td>\n",
       "      <td>0</td>\n",
       "    </tr>\n",
       "    <tr>\n",
       "      <th>1</th>\n",
       "      <td>2</td>\n",
       "      <td>8</td>\n",
       "      <td>C</td>\n",
       "      <td>1</td>\n",
       "      <td>4</td>\n",
       "      <td>2</td>\n",
       "      <td>1.0048</td>\n",
       "      <td>2562.19</td>\n",
       "      <td>2562.19</td>\n",
       "      <td>2543.86</td>\n",
       "      <td>0</td>\n",
       "      <td>0</td>\n",
       "      <td>0.0</td>\n",
       "      <td>0.00</td>\n",
       "      <td>0.00</td>\n",
       "      <td>0.00</td>\n",
       "      <td>0.00</td>\n",
       "      <td>0</td>\n",
       "      <td>0</td>\n",
       "      <td>0</td>\n",
       "      <td>0</td>\n",
       "      <td>0</td>\n",
       "      <td>0</td>\n",
       "      <td>0</td>\n",
       "      <td>-5.80</td>\n",
       "      <td>0</td>\n",
       "      <td>0</td>\n",
       "    </tr>\n",
       "    <tr>\n",
       "      <th>2</th>\n",
       "      <td>2</td>\n",
       "      <td>8</td>\n",
       "      <td>C</td>\n",
       "      <td>1</td>\n",
       "      <td>2</td>\n",
       "      <td>3</td>\n",
       "      <td>1.0048</td>\n",
       "      <td>0.00</td>\n",
       "      <td>0.00</td>\n",
       "      <td>0.00</td>\n",
       "      <td>0</td>\n",
       "      <td>0</td>\n",
       "      <td>0.0</td>\n",
       "      <td>-936.74</td>\n",
       "      <td>-936.74</td>\n",
       "      <td>0.07</td>\n",
       "      <td>-936.74</td>\n",
       "      <td>0</td>\n",
       "      <td>0</td>\n",
       "      <td>0</td>\n",
       "      <td>0</td>\n",
       "      <td>0</td>\n",
       "      <td>0</td>\n",
       "      <td>1100</td>\n",
       "      <td>-142.86</td>\n",
       "      <td>0</td>\n",
       "      <td>0</td>\n",
       "    </tr>\n",
       "    <tr>\n",
       "      <th>3</th>\n",
       "      <td>2</td>\n",
       "      <td>8</td>\n",
       "      <td>C</td>\n",
       "      <td>2</td>\n",
       "      <td>2</td>\n",
       "      <td>0</td>\n",
       "      <td>1.0048</td>\n",
       "      <td>0.00</td>\n",
       "      <td>0.00</td>\n",
       "      <td>0.00</td>\n",
       "      <td>0</td>\n",
       "      <td>0</td>\n",
       "      <td>0.0</td>\n",
       "      <td>-6203.32</td>\n",
       "      <td>-6203.32</td>\n",
       "      <td>0.00</td>\n",
       "      <td>-6203.32</td>\n",
       "      <td>0</td>\n",
       "      <td>0</td>\n",
       "      <td>0</td>\n",
       "      <td>0</td>\n",
       "      <td>0</td>\n",
       "      <td>0</td>\n",
       "      <td>0</td>\n",
       "      <td>0.00</td>\n",
       "      <td>0</td>\n",
       "      <td>0</td>\n",
       "    </tr>\n",
       "    <tr>\n",
       "      <th>4</th>\n",
       "      <td>2</td>\n",
       "      <td>8</td>\n",
       "      <td>C</td>\n",
       "      <td>2</td>\n",
       "      <td>2</td>\n",
       "      <td>2</td>\n",
       "      <td>1.0048</td>\n",
       "      <td>5774.82</td>\n",
       "      <td>5774.82</td>\n",
       "      <td>4080.00</td>\n",
       "      <td>0</td>\n",
       "      <td>0</td>\n",
       "      <td>0.0</td>\n",
       "      <td>-3175.50</td>\n",
       "      <td>-3175.50</td>\n",
       "      <td>0.59</td>\n",
       "      <td>-3175.50</td>\n",
       "      <td>0</td>\n",
       "      <td>0</td>\n",
       "      <td>0</td>\n",
       "      <td>0</td>\n",
       "      <td>0</td>\n",
       "      <td>0</td>\n",
       "      <td>0</td>\n",
       "      <td>-0.75</td>\n",
       "      <td>0</td>\n",
       "      <td>0</td>\n",
       "    </tr>\n",
       "  </tbody>\n",
       "</table>\n",
       "</div>"
      ],
      "text/plain": [
       "   prov  ca dec  sexo  EstCv  NmDesc  factor     PAR1     PAR9    PAR17  \\\n",
       "0     2   8   C     2      2       1  1.0048  5083.60  5083.60  4080.00   \n",
       "1     2   8   C     1      4       2  1.0048  2562.19  2562.19  2543.86   \n",
       "2     2   8   C     1      2       3  1.0048     0.00     0.00     0.00   \n",
       "3     2   8   C     2      2       0  1.0048     0.00     0.00     0.00   \n",
       "4     2   8   C     2      2       2  1.0048  5774.82  5774.82  4080.00   \n",
       "\n",
       "   PAR18  PAR19   PAR20   PAR452   PAR455  PAR465   PAR620  PAR630  PAR698  \\\n",
       "0      0      0  1003.6 -2543.83 -2543.83  231.41 -2543.83       0       0   \n",
       "1      0      0     0.0     0.00     0.00    0.00     0.00       0       0   \n",
       "2      0      0     0.0  -936.74  -936.74    0.07  -936.74       0       0   \n",
       "3      0      0     0.0 -6203.32 -6203.32    0.00 -6203.32       0       0   \n",
       "4      0      0     0.0 -3175.50 -3175.50    0.59 -3175.50       0       0   \n",
       "\n",
       "   PAR699  PAR720  PAR721  PAR741  PAR756  PAR760  PAR716  PAR772  \n",
       "0       0       0       0       0       0 -122.48       0       0  \n",
       "1       0       0       0       0       0   -5.80       0       0  \n",
       "2       0       0       0       0    1100 -142.86       0       0  \n",
       "3       0       0       0       0       0    0.00       0       0  \n",
       "4       0       0       0       0       0   -0.75       0       0  "
      ]
     },
     "execution_count": 13,
     "metadata": {},
     "output_type": "execute_result"
    }
   ],
   "source": [
    "data.head()"
   ]
  },
  {
   "cell_type": "code",
   "execution_count": 14,
   "metadata": {
    "collapsed": true
   },
   "outputs": [],
   "source": [
    "# Según la documentación, la variable de tramos \n",
    "# se hace a patir de la suma de par452 y par465\n",
    "# data['ingresos'] = data[['PAR452', 'PAR465']].sum(1)"
   ]
  },
  {
   "cell_type": "code",
   "execution_count": 15,
   "metadata": {
    "collapsed": false
   },
   "outputs": [],
   "source": [
    "# Función para separar miles y redondear a 3 decimales\n",
    "def formato_nums(x):\n",
    "    fn = lambda x: '{:,.3f}'.format(x).replace(',', ' ')\n",
    "    res = list(map(fn, x))\n",
    "    return res"
   ]
  },
  {
   "cell_type": "code",
   "execution_count": 16,
   "metadata": {
    "collapsed": true
   },
   "outputs": [],
   "source": [
    "# NOMBRES DE LAS VARIABLES\n",
    "# añadir el nombre de la variable tramo\n",
    "variables = ['tramo'] + list(data.columns)"
   ]
  },
  {
   "cell_type": "code",
   "execution_count": 22,
   "metadata": {
    "collapsed": false
   },
   "outputs": [
    {
     "name": "stdout",
     "output_type": "stream",
     "text": [
      "tramo\t\tprov\t\tca\t\tdec\t\tsexo\t\tEstCv\t\tNmDesc\t\tfactor\t\tPAR1\t\tPAR9\t\tPAR17\t\tPAR18\t\tPAR19\t\tPAR20\t\tPAR452\t\tPAR455\t\tPAR465\t\tPAR620\t\tPAR630\t\tPAR698\t\tPAR699\t\tPAR720\t\tPAR721\t\tPAR741\t\tPAR756\t\tPAR760\t\tPAR716\t\tPAR772\t\t"
     ]
    }
   ],
   "source": [
    "for v in variables:\n",
    "    print(v, end='\\t\\t')"
   ]
  },
  {
   "cell_type": "code",
   "execution_count": 23,
   "metadata": {
    "collapsed": false,
    "scrolled": false
   },
   "outputs": [
    {
     "data": {
      "text/html": [
       "<div>\n",
       "<table border=\"1\" class=\"dataframe\">\n",
       "  <thead>\n",
       "    <tr style=\"text-align: right;\">\n",
       "      <th></th>\n",
       "      <th>PAR1</th>\n",
       "      <th>PAR9</th>\n",
       "      <th>PAR17</th>\n",
       "      <th>PAR18</th>\n",
       "      <th>PAR19</th>\n",
       "      <th>PAR20</th>\n",
       "      <th>PAR452</th>\n",
       "      <th>PAR455</th>\n",
       "      <th>PAR465</th>\n",
       "      <th>PAR620</th>\n",
       "      <th>PAR630</th>\n",
       "      <th>PAR698</th>\n",
       "      <th>PAR699</th>\n",
       "      <th>PAR720</th>\n",
       "      <th>PAR721</th>\n",
       "      <th>PAR741</th>\n",
       "      <th>PAR756</th>\n",
       "      <th>PAR760</th>\n",
       "      <th>PAR716</th>\n",
       "      <th>PAR772</th>\n",
       "    </tr>\n",
       "  </thead>\n",
       "  <tbody>\n",
       "    <tr>\n",
       "      <th>0</th>\n",
       "      <td>5083.60</td>\n",
       "      <td>5083.60</td>\n",
       "      <td>4080.00</td>\n",
       "      <td>0</td>\n",
       "      <td>0</td>\n",
       "      <td>1003.6</td>\n",
       "      <td>-2543.83</td>\n",
       "      <td>-2543.83</td>\n",
       "      <td>231.41</td>\n",
       "      <td>-2543.83</td>\n",
       "      <td>0</td>\n",
       "      <td>0</td>\n",
       "      <td>0</td>\n",
       "      <td>0</td>\n",
       "      <td>0</td>\n",
       "      <td>0</td>\n",
       "      <td>0</td>\n",
       "      <td>-122.48</td>\n",
       "      <td>0</td>\n",
       "      <td>0</td>\n",
       "    </tr>\n",
       "    <tr>\n",
       "      <th>1</th>\n",
       "      <td>2562.19</td>\n",
       "      <td>2562.19</td>\n",
       "      <td>2543.86</td>\n",
       "      <td>0</td>\n",
       "      <td>0</td>\n",
       "      <td>0.0</td>\n",
       "      <td>0.00</td>\n",
       "      <td>0.00</td>\n",
       "      <td>0.00</td>\n",
       "      <td>0.00</td>\n",
       "      <td>0</td>\n",
       "      <td>0</td>\n",
       "      <td>0</td>\n",
       "      <td>0</td>\n",
       "      <td>0</td>\n",
       "      <td>0</td>\n",
       "      <td>0</td>\n",
       "      <td>-5.80</td>\n",
       "      <td>0</td>\n",
       "      <td>0</td>\n",
       "    </tr>\n",
       "    <tr>\n",
       "      <th>2</th>\n",
       "      <td>0.00</td>\n",
       "      <td>0.00</td>\n",
       "      <td>0.00</td>\n",
       "      <td>0</td>\n",
       "      <td>0</td>\n",
       "      <td>0.0</td>\n",
       "      <td>-936.74</td>\n",
       "      <td>-936.74</td>\n",
       "      <td>0.07</td>\n",
       "      <td>-936.74</td>\n",
       "      <td>0</td>\n",
       "      <td>0</td>\n",
       "      <td>0</td>\n",
       "      <td>0</td>\n",
       "      <td>0</td>\n",
       "      <td>0</td>\n",
       "      <td>1100</td>\n",
       "      <td>-142.86</td>\n",
       "      <td>0</td>\n",
       "      <td>0</td>\n",
       "    </tr>\n",
       "    <tr>\n",
       "      <th>3</th>\n",
       "      <td>0.00</td>\n",
       "      <td>0.00</td>\n",
       "      <td>0.00</td>\n",
       "      <td>0</td>\n",
       "      <td>0</td>\n",
       "      <td>0.0</td>\n",
       "      <td>-6203.32</td>\n",
       "      <td>-6203.32</td>\n",
       "      <td>0.00</td>\n",
       "      <td>-6203.32</td>\n",
       "      <td>0</td>\n",
       "      <td>0</td>\n",
       "      <td>0</td>\n",
       "      <td>0</td>\n",
       "      <td>0</td>\n",
       "      <td>0</td>\n",
       "      <td>0</td>\n",
       "      <td>0.00</td>\n",
       "      <td>0</td>\n",
       "      <td>0</td>\n",
       "    </tr>\n",
       "    <tr>\n",
       "      <th>4</th>\n",
       "      <td>5774.82</td>\n",
       "      <td>5774.82</td>\n",
       "      <td>4080.00</td>\n",
       "      <td>0</td>\n",
       "      <td>0</td>\n",
       "      <td>0.0</td>\n",
       "      <td>-3175.50</td>\n",
       "      <td>-3175.50</td>\n",
       "      <td>0.59</td>\n",
       "      <td>-3175.50</td>\n",
       "      <td>0</td>\n",
       "      <td>0</td>\n",
       "      <td>0</td>\n",
       "      <td>0</td>\n",
       "      <td>0</td>\n",
       "      <td>0</td>\n",
       "      <td>0</td>\n",
       "      <td>-0.75</td>\n",
       "      <td>0</td>\n",
       "      <td>0</td>\n",
       "    </tr>\n",
       "  </tbody>\n",
       "</table>\n",
       "</div>"
      ],
      "text/plain": [
       "      PAR1     PAR9    PAR17  PAR18  PAR19   PAR20   PAR452   PAR455  PAR465  \\\n",
       "0  5083.60  5083.60  4080.00      0      0  1003.6 -2543.83 -2543.83  231.41   \n",
       "1  2562.19  2562.19  2543.86      0      0     0.0     0.00     0.00    0.00   \n",
       "2     0.00     0.00     0.00      0      0     0.0  -936.74  -936.74    0.07   \n",
       "3     0.00     0.00     0.00      0      0     0.0 -6203.32 -6203.32    0.00   \n",
       "4  5774.82  5774.82  4080.00      0      0     0.0 -3175.50 -3175.50    0.59   \n",
       "\n",
       "    PAR620  PAR630  PAR698  PAR699  PAR720  PAR721  PAR741  PAR756  PAR760  \\\n",
       "0 -2543.83       0       0       0       0       0       0       0 -122.48   \n",
       "1     0.00       0       0       0       0       0       0       0   -5.80   \n",
       "2  -936.74       0       0       0       0       0       0    1100 -142.86   \n",
       "3 -6203.32       0       0       0       0       0       0       0    0.00   \n",
       "4 -3175.50       0       0       0       0       0       0       0   -0.75   \n",
       "\n",
       "   PAR716  PAR772  \n",
       "0       0       0  \n",
       "1       0       0  \n",
       "2       0       0  \n",
       "3       0       0  \n",
       "4       0       0  "
      ]
     },
     "execution_count": 23,
     "metadata": {},
     "output_type": "execute_result"
    }
   ],
   "source": [
    "# nombres de las variables monetarias\n",
    "variables_monetarias = variables[8:]\n",
    "data[variables_monetarias].head()"
   ]
  },
  {
   "cell_type": "markdown",
   "metadata": {},
   "source": [
    "# COMPROBACIONES"
   ]
  },
  {
   "cell_type": "code",
   "execution_count": 24,
   "metadata": {
    "collapsed": true
   },
   "outputs": [],
   "source": [
    "# función que multiplica cualquier variable por la población\n",
    "elevar_pob = lambda x: x * data.factor"
   ]
  },
  {
   "cell_type": "code",
   "execution_count": 25,
   "metadata": {
    "collapsed": true
   },
   "outputs": [],
   "source": [
    "# solo variables monetarias\n",
    "dmonetarias = data[variables_monetarias]"
   ]
  },
  {
   "cell_type": "code",
   "execution_count": 26,
   "metadata": {
    "collapsed": false
   },
   "outputs": [],
   "source": [
    "# multiplica las variables monetarias por el factor\n",
    "importe = dmonetarias.apply(elevar_pob)"
   ]
  },
  {
   "cell_type": "code",
   "execution_count": 27,
   "metadata": {
    "collapsed": false
   },
   "outputs": [],
   "source": [
    "# hace la media de las variables dividiendo la suma de cada variable por la suma de factores\n",
    "media = importe.sum() / data.factor.sum()"
   ]
  },
  {
   "cell_type": "code",
   "execution_count": 28,
   "metadata": {
    "collapsed": false
   },
   "outputs": [],
   "source": [
    "# creo la tabla de resultados con la primera serie IMPORTE\n",
    "res = pd.DataFrame(importe.sum(), columns=['IMPORTE'])"
   ]
  },
  {
   "cell_type": "code",
   "execution_count": 29,
   "metadata": {
    "collapsed": true
   },
   "outputs": [],
   "source": [
    "# creo la columna MEDIA\n",
    "res['MEDIA'] = media"
   ]
  },
  {
   "cell_type": "code",
   "execution_count": 30,
   "metadata": {
    "collapsed": false
   },
   "outputs": [],
   "source": [
    "# creo las columnas minimo y máximo\n",
    "res['MÍNIMO'] = dmonetarias.min()\n",
    "res['MÁXIMO'] = dmonetarias.max()"
   ]
  },
  {
   "cell_type": "code",
   "execution_count": 31,
   "metadata": {
    "collapsed": false
   },
   "outputs": [],
   "source": [
    "res['IMPORTE'] = np.divide(res.IMPORTE, 10 ** 6)"
   ]
  },
  {
   "cell_type": "code",
   "execution_count": 32,
   "metadata": {
    "collapsed": false
   },
   "outputs": [],
   "source": [
    "res = res.apply(formato_nums)"
   ]
  },
  {
   "cell_type": "code",
   "execution_count": 33,
   "metadata": {
    "collapsed": false
   },
   "outputs": [
    {
     "data": {
      "text/html": [
       "<div>\n",
       "<table border=\"1\" class=\"dataframe\">\n",
       "  <thead>\n",
       "    <tr style=\"text-align: right;\">\n",
       "      <th></th>\n",
       "      <th>IMPORTE</th>\n",
       "      <th>MEDIA</th>\n",
       "      <th>MÍNIMO</th>\n",
       "      <th>MÁXIMO</th>\n",
       "    </tr>\n",
       "  </thead>\n",
       "  <tbody>\n",
       "    <tr>\n",
       "      <th>PAR1</th>\n",
       "      <td>393 844.000</td>\n",
       "      <td>20 230.718</td>\n",
       "      <td>0.000</td>\n",
       "      <td>27 676 513.630</td>\n",
       "    </tr>\n",
       "    <tr>\n",
       "      <th>PAR9</th>\n",
       "      <td>395 653.901</td>\n",
       "      <td>20 323.688</td>\n",
       "      <td>-49 100.000</td>\n",
       "      <td>27 709 267.780</td>\n",
       "    </tr>\n",
       "    <tr>\n",
       "      <th>PAR17</th>\n",
       "      <td>51 518.789</td>\n",
       "      <td>2 646.383</td>\n",
       "      <td>0.000</td>\n",
       "      <td>4 080.000</td>\n",
       "    </tr>\n",
       "    <tr>\n",
       "      <th>PAR18</th>\n",
       "      <td>133.876</td>\n",
       "      <td>6.877</td>\n",
       "      <td>0.000</td>\n",
       "      <td>5 966.250</td>\n",
       "    </tr>\n",
       "    <tr>\n",
       "      <th>PAR19</th>\n",
       "      <td>110.850</td>\n",
       "      <td>5.694</td>\n",
       "      <td>0.000</td>\n",
       "      <td>4 080.000</td>\n",
       "    </tr>\n",
       "  </tbody>\n",
       "</table>\n",
       "</div>"
      ],
      "text/plain": [
       "           IMPORTE       MEDIA       MÍNIMO          MÁXIMO\n",
       "PAR1   393 844.000  20 230.718        0.000  27 676 513.630\n",
       "PAR9   395 653.901  20 323.688  -49 100.000  27 709 267.780\n",
       "PAR17   51 518.789   2 646.383        0.000       4 080.000\n",
       "PAR18      133.876       6.877        0.000       5 966.250\n",
       "PAR19      110.850       5.694        0.000       4 080.000"
      ]
     },
     "execution_count": 33,
     "metadata": {},
     "output_type": "execute_result"
    }
   ],
   "source": [
    "res.head()"
   ]
  },
  {
   "cell_type": "code",
   "execution_count": 34,
   "metadata": {
    "collapsed": true
   },
   "outputs": [],
   "source": [
    "res['DESCRIPCIÓN'] = vdescrip.loc[variables_monetarias]"
   ]
  },
  {
   "cell_type": "code",
   "execution_count": 35,
   "metadata": {
    "collapsed": false
   },
   "outputs": [],
   "source": [
    "res = res[[res.columns[-1]] + list(res.columns[:-1])]"
   ]
  },
  {
   "cell_type": "code",
   "execution_count": 36,
   "metadata": {
    "collapsed": false
   },
   "outputs": [
    {
     "data": {
      "text/plain": [
       "['DESCRIPCIÓN', 'IMPORTE', 'MEDIA', 'MÍNIMO', 'MÁXIMO']"
      ]
     },
     "execution_count": 36,
     "metadata": {},
     "output_type": "execute_result"
    }
   ],
   "source": [
    "list(res.columns)"
   ]
  },
  {
   "cell_type": "code",
   "execution_count": 37,
   "metadata": {
    "collapsed": true
   },
   "outputs": [],
   "source": [
    "_[1] = 'IMPORTE (MILLONES DE EUROS)'"
   ]
  },
  {
   "cell_type": "code",
   "execution_count": 38,
   "metadata": {
    "collapsed": false
   },
   "outputs": [
    {
     "data": {
      "text/plain": [
       "['DESCRIPCIÓN', 'IMPORTE (MILLONES DE EUROS)', 'MEDIA', 'MÍNIMO', 'MÁXIMO']"
      ]
     },
     "execution_count": 38,
     "metadata": {},
     "output_type": "execute_result"
    }
   ],
   "source": [
    "_"
   ]
  },
  {
   "cell_type": "code",
   "execution_count": 39,
   "metadata": {
    "collapsed": true
   },
   "outputs": [],
   "source": [
    "res.columns = _"
   ]
  },
  {
   "cell_type": "code",
   "execution_count": 40,
   "metadata": {
    "collapsed": false
   },
   "outputs": [],
   "source": [
    "#res.to_html()"
   ]
  },
  {
   "cell_type": "code",
   "execution_count": 41,
   "metadata": {
    "collapsed": true
   },
   "outputs": [],
   "source": [
    "# TODO\n",
    "# INTRODUCIR DATOS DE LA MEMORÍA Y COMPARAR.\n",
    "# REAL Y MEDIA\n",
    "# BADESPE = [393844000, ]"
   ]
  },
  {
   "cell_type": "code",
   "execution_count": 42,
   "metadata": {
    "collapsed": false
   },
   "outputs": [
    {
     "data": {
      "text/html": [
       "<div>\n",
       "<table border=\"1\" class=\"dataframe\">\n",
       "  <thead>\n",
       "    <tr style=\"text-align: right;\">\n",
       "      <th></th>\n",
       "      <th>descrip</th>\n",
       "    </tr>\n",
       "    <tr>\n",
       "      <th>variable</th>\n",
       "      <th></th>\n",
       "    </tr>\n",
       "  </thead>\n",
       "  <tbody>\n",
       "    <tr>\n",
       "      <th>prov</th>\n",
       "      <td>PROVINCIA</td>\n",
       "    </tr>\n",
       "    <tr>\n",
       "      <th>ca</th>\n",
       "      <td>COMUNIDAD AUTÓNOMA</td>\n",
       "    </tr>\n",
       "    <tr>\n",
       "      <th>dec</th>\n",
       "      <td>TIPO DE DECLARACIÓN</td>\n",
       "    </tr>\n",
       "    <tr>\n",
       "      <th>sexo</th>\n",
       "      <td>SEXO DEL DECLARANTE</td>\n",
       "    </tr>\n",
       "    <tr>\n",
       "      <th>EstCv</th>\n",
       "      <td>ESTADO CIVIL DEL DECLARANTE</td>\n",
       "    </tr>\n",
       "    <tr>\n",
       "      <th>NmDesc</th>\n",
       "      <td>NÚMERO DE DESCENDIENTES</td>\n",
       "    </tr>\n",
       "    <tr>\n",
       "      <th>factor</th>\n",
       "      <td>FACTOR DE ELEVACIÓN</td>\n",
       "    </tr>\n",
       "    <tr>\n",
       "      <th>PAR1</th>\n",
       "      <td>RENDIMIENTOS DEL TRABAJO: DINERARIAS</td>\n",
       "    </tr>\n",
       "    <tr>\n",
       "      <th>PAR9</th>\n",
       "      <td>RENDIMIENTOS DEL TRABAJO. TOTAL INGRESOS INTEGROS COMPUTABLES</td>\n",
       "    </tr>\n",
       "    <tr>\n",
       "      <th>PAR17</th>\n",
       "      <td>REDUCCIÓN POR OBTENCIÓN RDTO. TRABAJO.CUANTÍA APLICABLE CON CARÁCTER GENERAL.</td>\n",
       "    </tr>\n",
       "    <tr>\n",
       "      <th>PAR18</th>\n",
       "      <td>REDUCCIÓN POR OBTENCIÓN RDTO. TRABAJO.INCREMENTO PARA TRABAJADORES ACTIVOS MAYORES DE 65 AÑOS QUE CONTINUEN O PROLONGUEN LA ACTIVIDAD LABORAL.</td>\n",
       "    </tr>\n",
       "    <tr>\n",
       "      <th>PAR19</th>\n",
       "      <td>REDUCCIÓN POR OBTENCIÓN RDTO. TRABAJO.INCREMENTO PARA CONTRIB. DESEMPLEADOS QUE ACEPTEN UN PUESTO QUE EXIJA TRASLADO DE MUNICIPIO.</td>\n",
       "    </tr>\n",
       "    <tr>\n",
       "      <th>PAR20</th>\n",
       "      <td>REDUCCIÓN POR OBTENCIÓN RDTO. TRABAJO.REDUCCIÓN ADICIONAL PARA TRABAJADORES ACTIVOS QUE SEAN PRESONAS CON DISCAPACIDAD.</td>\n",
       "    </tr>\n",
       "    <tr>\n",
       "      <th>PAR452</th>\n",
       "      <td>SALDO NETO DE RENDIMIENTOS E IMPUTACIONES DE RENTA.</td>\n",
       "    </tr>\n",
       "    <tr>\n",
       "      <th>PAR455</th>\n",
       "      <td>BASE IMPONIBLE GENERAL</td>\n",
       "    </tr>\n",
       "    <tr>\n",
       "      <th>PAR465</th>\n",
       "      <td>BASE IMPONIBLE DEL AHORRO</td>\n",
       "    </tr>\n",
       "    <tr>\n",
       "      <th>PAR620</th>\n",
       "      <td>BASE LIQUIDABLE GENERAL SOMETIDA A GRAVAMEN.</td>\n",
       "    </tr>\n",
       "    <tr>\n",
       "      <th>PAR630</th>\n",
       "      <td>BASE LIQUIDABLE DEL AHORRO.</td>\n",
       "    </tr>\n",
       "    <tr>\n",
       "      <th>PAR698</th>\n",
       "      <td>CUOTA ÍNTEGRA ESTATAL</td>\n",
       "    </tr>\n",
       "    <tr>\n",
       "      <th>PAR699</th>\n",
       "      <td>CUOTA ÍNTEGRA AUTONÓMICA</td>\n",
       "    </tr>\n",
       "    <tr>\n",
       "      <th>PAR720</th>\n",
       "      <td>CUOTA LÍQUIDA ESTATAL</td>\n",
       "    </tr>\n",
       "    <tr>\n",
       "      <th>PAR721</th>\n",
       "      <td>CUOTA LÍQUIDA AUTONÓMICA</td>\n",
       "    </tr>\n",
       "    <tr>\n",
       "      <th>PAR741</th>\n",
       "      <td>CUOTA RESULTANTE DE LA AUTOLIQUIDACIÓN</td>\n",
       "    </tr>\n",
       "    <tr>\n",
       "      <th>PAR756</th>\n",
       "      <td>DEDUCCION POR MATERNIDAD: IMPORTE DE LA DEDUCCION</td>\n",
       "    </tr>\n",
       "    <tr>\n",
       "      <th>PAR760</th>\n",
       "      <td>RESULTADO</td>\n",
       "    </tr>\n",
       "    <tr>\n",
       "      <th>PAR716</th>\n",
       "      <td>DEDUCCIÓN POR ALQUILER DE VIVIENDA HABITUAL, PARTE AUTONÓMICA</td>\n",
       "    </tr>\n",
       "    <tr>\n",
       "      <th>PAR772</th>\n",
       "      <td>POR ALQUILER DE VIVIENDA HABITUAL PARTE AUTONÓMICA</td>\n",
       "    </tr>\n",
       "  </tbody>\n",
       "</table>\n",
       "</div>"
      ],
      "text/plain": [
       "                                                                                                                                                    descrip\n",
       "variable                                                                                                                                                   \n",
       "prov                                                                                                                                              PROVINCIA\n",
       "ca                                                                                                                                       COMUNIDAD AUTÓNOMA\n",
       "dec                                                                                                                                     TIPO DE DECLARACIÓN\n",
       "sexo                                                                                                                                    SEXO DEL DECLARANTE\n",
       "EstCv                                                                                                                           ESTADO CIVIL DEL DECLARANTE\n",
       "NmDesc                                                                                                                              NÚMERO DE DESCENDIENTES\n",
       "factor                                                                                                                                  FACTOR DE ELEVACIÓN\n",
       "PAR1                                                                                                                   RENDIMIENTOS DEL TRABAJO: DINERARIAS\n",
       "PAR9                                                                                          RENDIMIENTOS DEL TRABAJO. TOTAL INGRESOS INTEGROS COMPUTABLES\n",
       "PAR17                                                                     REDUCCIÓN POR OBTENCIÓN RDTO. TRABAJO.CUANTÍA APLICABLE CON CARÁCTER GENERAL.\n",
       "PAR18     REDUCCIÓN POR OBTENCIÓN RDTO. TRABAJO.INCREMENTO PARA TRABAJADORES ACTIVOS MAYORES DE 65 AÑOS QUE CONTINUEN O PROLONGUEN LA ACTIVIDAD LABORAL.\n",
       "PAR19                  REDUCCIÓN POR OBTENCIÓN RDTO. TRABAJO.INCREMENTO PARA CONTRIB. DESEMPLEADOS QUE ACEPTEN UN PUESTO QUE EXIJA TRASLADO DE MUNICIPIO.\n",
       "PAR20                            REDUCCIÓN POR OBTENCIÓN RDTO. TRABAJO.REDUCCIÓN ADICIONAL PARA TRABAJADORES ACTIVOS QUE SEAN PRESONAS CON DISCAPACIDAD.\n",
       "PAR452                                                                                                  SALDO NETO DE RENDIMIENTOS E IMPUTACIONES DE RENTA.\n",
       "PAR455                                                                                                                               BASE IMPONIBLE GENERAL\n",
       "PAR465                                                                                                                            BASE IMPONIBLE DEL AHORRO\n",
       "PAR620                                                                                                         BASE LIQUIDABLE GENERAL SOMETIDA A GRAVAMEN.\n",
       "PAR630                                                                                                                          BASE LIQUIDABLE DEL AHORRO.\n",
       "PAR698                                                                                                                               CUOTA ÍNTEGRA ESTATAL\n",
       "PAR699                                                                                                                           CUOTA ÍNTEGRA AUTONÓMICA\n",
       "PAR720                                                                                                                               CUOTA LÍQUIDA ESTATAL\n",
       "PAR721                                                                                                                           CUOTA LÍQUIDA AUTONÓMICA\n",
       "PAR741                                                                                                              CUOTA RESULTANTE DE LA AUTOLIQUIDACIÓN\n",
       "PAR756                                                                                                    DEDUCCION POR MATERNIDAD: IMPORTE DE LA DEDUCCION\n",
       "PAR760                                                                                                                                            RESULTADO\n",
       "PAR716                                                                                        DEDUCCIÓN POR ALQUILER DE VIVIENDA HABITUAL, PARTE AUTONÓMICA\n",
       "PAR772                                                                                                   POR ALQUILER DE VIVIENDA HABITUAL PARTE AUTONÓMICA"
      ]
     },
     "execution_count": 42,
     "metadata": {},
     "output_type": "execute_result"
    }
   ],
   "source": [
    "vdescrip"
   ]
  },
  {
   "cell_type": "code",
   "execution_count": 43,
   "metadata": {
    "collapsed": false
   },
   "outputs": [
    {
     "data": {
      "text/html": [
       "<div>\n",
       "<table border=\"1\" class=\"dataframe\">\n",
       "  <thead>\n",
       "    <tr style=\"text-align: right;\">\n",
       "      <th></th>\n",
       "      <th>prov</th>\n",
       "      <th>ca</th>\n",
       "      <th>dec</th>\n",
       "      <th>sexo</th>\n",
       "      <th>EstCv</th>\n",
       "      <th>NmDesc</th>\n",
       "      <th>factor</th>\n",
       "      <th>PAR1</th>\n",
       "      <th>PAR9</th>\n",
       "      <th>PAR17</th>\n",
       "      <th>PAR18</th>\n",
       "      <th>PAR19</th>\n",
       "      <th>PAR20</th>\n",
       "      <th>PAR452</th>\n",
       "      <th>PAR455</th>\n",
       "      <th>PAR465</th>\n",
       "      <th>PAR620</th>\n",
       "      <th>PAR630</th>\n",
       "      <th>PAR698</th>\n",
       "      <th>PAR699</th>\n",
       "      <th>PAR720</th>\n",
       "      <th>PAR721</th>\n",
       "      <th>PAR741</th>\n",
       "      <th>PAR756</th>\n",
       "      <th>PAR760</th>\n",
       "      <th>PAR716</th>\n",
       "      <th>PAR772</th>\n",
       "    </tr>\n",
       "  </thead>\n",
       "  <tbody>\n",
       "    <tr>\n",
       "      <th>0</th>\n",
       "      <td>2</td>\n",
       "      <td>8</td>\n",
       "      <td>C</td>\n",
       "      <td>2</td>\n",
       "      <td>2</td>\n",
       "      <td>1</td>\n",
       "      <td>1.0048</td>\n",
       "      <td>5083.60</td>\n",
       "      <td>5083.60</td>\n",
       "      <td>4080.00</td>\n",
       "      <td>0</td>\n",
       "      <td>0</td>\n",
       "      <td>1003.6</td>\n",
       "      <td>-2543.83</td>\n",
       "      <td>-2543.83</td>\n",
       "      <td>231.41</td>\n",
       "      <td>-2543.83</td>\n",
       "      <td>0</td>\n",
       "      <td>0</td>\n",
       "      <td>0</td>\n",
       "      <td>0</td>\n",
       "      <td>0</td>\n",
       "      <td>0</td>\n",
       "      <td>0</td>\n",
       "      <td>-122.48</td>\n",
       "      <td>0</td>\n",
       "      <td>0</td>\n",
       "    </tr>\n",
       "    <tr>\n",
       "      <th>1</th>\n",
       "      <td>2</td>\n",
       "      <td>8</td>\n",
       "      <td>C</td>\n",
       "      <td>1</td>\n",
       "      <td>4</td>\n",
       "      <td>2</td>\n",
       "      <td>1.0048</td>\n",
       "      <td>2562.19</td>\n",
       "      <td>2562.19</td>\n",
       "      <td>2543.86</td>\n",
       "      <td>0</td>\n",
       "      <td>0</td>\n",
       "      <td>0.0</td>\n",
       "      <td>0.00</td>\n",
       "      <td>0.00</td>\n",
       "      <td>0.00</td>\n",
       "      <td>0.00</td>\n",
       "      <td>0</td>\n",
       "      <td>0</td>\n",
       "      <td>0</td>\n",
       "      <td>0</td>\n",
       "      <td>0</td>\n",
       "      <td>0</td>\n",
       "      <td>0</td>\n",
       "      <td>-5.80</td>\n",
       "      <td>0</td>\n",
       "      <td>0</td>\n",
       "    </tr>\n",
       "    <tr>\n",
       "      <th>2</th>\n",
       "      <td>2</td>\n",
       "      <td>8</td>\n",
       "      <td>C</td>\n",
       "      <td>1</td>\n",
       "      <td>2</td>\n",
       "      <td>3</td>\n",
       "      <td>1.0048</td>\n",
       "      <td>0.00</td>\n",
       "      <td>0.00</td>\n",
       "      <td>0.00</td>\n",
       "      <td>0</td>\n",
       "      <td>0</td>\n",
       "      <td>0.0</td>\n",
       "      <td>-936.74</td>\n",
       "      <td>-936.74</td>\n",
       "      <td>0.07</td>\n",
       "      <td>-936.74</td>\n",
       "      <td>0</td>\n",
       "      <td>0</td>\n",
       "      <td>0</td>\n",
       "      <td>0</td>\n",
       "      <td>0</td>\n",
       "      <td>0</td>\n",
       "      <td>1100</td>\n",
       "      <td>-142.86</td>\n",
       "      <td>0</td>\n",
       "      <td>0</td>\n",
       "    </tr>\n",
       "    <tr>\n",
       "      <th>3</th>\n",
       "      <td>2</td>\n",
       "      <td>8</td>\n",
       "      <td>C</td>\n",
       "      <td>2</td>\n",
       "      <td>2</td>\n",
       "      <td>0</td>\n",
       "      <td>1.0048</td>\n",
       "      <td>0.00</td>\n",
       "      <td>0.00</td>\n",
       "      <td>0.00</td>\n",
       "      <td>0</td>\n",
       "      <td>0</td>\n",
       "      <td>0.0</td>\n",
       "      <td>-6203.32</td>\n",
       "      <td>-6203.32</td>\n",
       "      <td>0.00</td>\n",
       "      <td>-6203.32</td>\n",
       "      <td>0</td>\n",
       "      <td>0</td>\n",
       "      <td>0</td>\n",
       "      <td>0</td>\n",
       "      <td>0</td>\n",
       "      <td>0</td>\n",
       "      <td>0</td>\n",
       "      <td>0.00</td>\n",
       "      <td>0</td>\n",
       "      <td>0</td>\n",
       "    </tr>\n",
       "    <tr>\n",
       "      <th>4</th>\n",
       "      <td>2</td>\n",
       "      <td>8</td>\n",
       "      <td>C</td>\n",
       "      <td>2</td>\n",
       "      <td>2</td>\n",
       "      <td>2</td>\n",
       "      <td>1.0048</td>\n",
       "      <td>5774.82</td>\n",
       "      <td>5774.82</td>\n",
       "      <td>4080.00</td>\n",
       "      <td>0</td>\n",
       "      <td>0</td>\n",
       "      <td>0.0</td>\n",
       "      <td>-3175.50</td>\n",
       "      <td>-3175.50</td>\n",
       "      <td>0.59</td>\n",
       "      <td>-3175.50</td>\n",
       "      <td>0</td>\n",
       "      <td>0</td>\n",
       "      <td>0</td>\n",
       "      <td>0</td>\n",
       "      <td>0</td>\n",
       "      <td>0</td>\n",
       "      <td>0</td>\n",
       "      <td>-0.75</td>\n",
       "      <td>0</td>\n",
       "      <td>0</td>\n",
       "    </tr>\n",
       "  </tbody>\n",
       "</table>\n",
       "</div>"
      ],
      "text/plain": [
       "   prov  ca dec  sexo  EstCv  NmDesc  factor     PAR1     PAR9    PAR17  \\\n",
       "0     2   8   C     2      2       1  1.0048  5083.60  5083.60  4080.00   \n",
       "1     2   8   C     1      4       2  1.0048  2562.19  2562.19  2543.86   \n",
       "2     2   8   C     1      2       3  1.0048     0.00     0.00     0.00   \n",
       "3     2   8   C     2      2       0  1.0048     0.00     0.00     0.00   \n",
       "4     2   8   C     2      2       2  1.0048  5774.82  5774.82  4080.00   \n",
       "\n",
       "   PAR18  PAR19   PAR20   PAR452   PAR455  PAR465   PAR620  PAR630  PAR698  \\\n",
       "0      0      0  1003.6 -2543.83 -2543.83  231.41 -2543.83       0       0   \n",
       "1      0      0     0.0     0.00     0.00    0.00     0.00       0       0   \n",
       "2      0      0     0.0  -936.74  -936.74    0.07  -936.74       0       0   \n",
       "3      0      0     0.0 -6203.32 -6203.32    0.00 -6203.32       0       0   \n",
       "4      0      0     0.0 -3175.50 -3175.50    0.59 -3175.50       0       0   \n",
       "\n",
       "   PAR699  PAR720  PAR721  PAR741  PAR756  PAR760  PAR716  PAR772  \n",
       "0       0       0       0       0       0 -122.48       0       0  \n",
       "1       0       0       0       0       0   -5.80       0       0  \n",
       "2       0       0       0       0    1100 -142.86       0       0  \n",
       "3       0       0       0       0       0    0.00       0       0  \n",
       "4       0       0       0       0       0   -0.75       0       0  "
      ]
     },
     "execution_count": 43,
     "metadata": {},
     "output_type": "execute_result"
    }
   ],
   "source": [
    "data.head()"
   ]
  },
  {
   "cell_type": "code",
   "execution_count": 44,
   "metadata": {
    "collapsed": false
   },
   "outputs": [],
   "source": [
    "obs = len(data)\n",
    "declas = data.factor.sum()\n",
    "real = 19467730\n",
    "diff_porc = (declas - real) * 100 / declas"
   ]
  },
  {
   "cell_type": "code",
   "execution_count": 46,
   "metadata": {
    "collapsed": false
   },
   "outputs": [
    {
     "data": {
      "text/html": [
       "<div>\n",
       "<table border=\"1\" class=\"dataframe\">\n",
       "  <thead>\n",
       "    <tr style=\"text-align: right;\">\n",
       "      <th></th>\n",
       "      <th>TOTAL</th>\n",
       "    </tr>\n",
       "  </thead>\n",
       "  <tbody>\n",
       "    <tr>\n",
       "      <th>OBSERVACIONES MUESTRA</th>\n",
       "      <td>2 036 186.000</td>\n",
       "    </tr>\n",
       "    <tr>\n",
       "      <th>DECLARACIONES MUESTRA</th>\n",
       "      <td>19 467 623.101</td>\n",
       "    </tr>\n",
       "    <tr>\n",
       "      <th>DECLARACIONES AEAT</th>\n",
       "      <td>19 467 730.000</td>\n",
       "    </tr>\n",
       "    <tr>\n",
       "      <th>DIFERENCIA PORCENTAJE</th>\n",
       "      <td>-0.001</td>\n",
       "    </tr>\n",
       "  </tbody>\n",
       "</table>\n",
       "</div>"
      ],
      "text/plain": [
       "                                TOTAL\n",
       "OBSERVACIONES MUESTRA   2 036 186.000\n",
       "DECLARACIONES MUESTRA  19 467 623.101\n",
       "DECLARACIONES AEAT     19 467 730.000\n",
       "DIFERENCIA PORCENTAJE          -0.001"
      ]
     },
     "execution_count": 46,
     "metadata": {},
     "output_type": "execute_result"
    }
   ],
   "source": [
    "# TABLA 1\n",
    "# TABLA TAMAÑO DE LA MUESTRA \n",
    "pd.DataFrame([obs, declas, real, diff_porc], columns=['TOTAL'], index=['OBSERVACIONES MUESTRA', \n",
    "                                                            'DECLARACIONES MUESTRA', \n",
    "                                                            'DECLARACIONES AEAT',\n",
    "                                                            'DIFERENCIA PORCENTAJE']).apply(formato_nums)"
   ]
  },
  {
   "cell_type": "code",
   "execution_count": 47,
   "metadata": {
    "code_folding": [
     0,
     11,
     24
    ],
    "collapsed": false
   },
   "outputs": [],
   "source": [
    "# crea una tabla donde las filas son las provincias, y los valores son los factores.\n",
    "tabla_3 = pd.pivot_table(data, index='prov', values='factor', aggfunc='sum')"
   ]
  },
  {
   "cell_type": "code",
   "execution_count": 50,
   "metadata": {
    "collapsed": false
   },
   "outputs": [],
   "source": [
    "# convertir en dataframe\n",
    "tabla_3 = pd.DataFrame(tabla_3)"
   ]
  },
  {
   "cell_type": "code",
   "execution_count": 51,
   "metadata": {
    "collapsed": true
   },
   "outputs": [],
   "source": [
    "# cambiar nombre de columna\n",
    "tabla_3.columns = ['Nº DECLARACIONES MUESTRA']"
   ]
  },
  {
   "cell_type": "code",
   "execution_count": 52,
   "metadata": {
    "collapsed": false
   },
   "outputs": [],
   "source": [
    "# agregar la columna nº de observaciones\n",
    "tabla_3['Nº OBSERVACIONES'] = pd.pivot_table(data, index='prov', values='factor', aggfunc='count')"
   ]
  },
  {
   "cell_type": "code",
   "execution_count": 53,
   "metadata": {
    "collapsed": false
   },
   "outputs": [],
   "source": [
    "# agregar descripción del codigo de provincia\n",
    "tabla_3['PROVINCIA'] = info_prov.loc[tabla_3.index]"
   ]
  },
  {
   "cell_type": "code",
   "execution_count": 54,
   "metadata": {
    "collapsed": false
   },
   "outputs": [],
   "source": [
    "# introducir el código como columna\n",
    "tabla_3.reset_index(inplace=True)"
   ]
  },
  {
   "cell_type": "code",
   "execution_count": 55,
   "metadata": {
    "collapsed": false
   },
   "outputs": [],
   "source": [
    "# cambiar nombre\n",
    "tabla_3 = tabla_3.rename(columns={'prov':'CÓDIGO PROVINCIA'})"
   ]
  },
  {
   "cell_type": "code",
   "execution_count": 56,
   "metadata": {
    "collapsed": false
   },
   "outputs": [],
   "source": [
    "# ordenar las columnas\n",
    "tabla_3 = tabla_3[tabla_3.columns[[0,3,2,1]]]"
   ]
  },
  {
   "cell_type": "code",
   "execution_count": 57,
   "metadata": {
    "collapsed": false
   },
   "outputs": [],
   "source": [
    "# agregar total\n",
    "tabla_3.loc[49] = ['-', 'TOTAL', tabla_3['Nº OBSERVACIONES'].sum(), tabla_3['Nº DECLARACIONES MUESTRA'].sum()]"
   ]
  },
  {
   "cell_type": "code",
   "execution_count": 58,
   "metadata": {
    "collapsed": false
   },
   "outputs": [],
   "source": [
    "#tabla_3.ix[:,-2:] = tabla_3.ix[:,-2:].apply(formato_nums)"
   ]
  },
  {
   "cell_type": "code",
   "execution_count": 59,
   "metadata": {
    "collapsed": false
   },
   "outputs": [
    {
     "data": {
      "text/html": [
       "<div>\n",
       "<table border=\"1\" class=\"dataframe\">\n",
       "  <thead>\n",
       "    <tr style=\"text-align: right;\">\n",
       "      <th></th>\n",
       "      <th>CÓDIGO PROVINCIA</th>\n",
       "      <th>PROVINCIA</th>\n",
       "      <th>Nº OBSERVACIONES</th>\n",
       "      <th>Nº DECLARACIONES MUESTRA</th>\n",
       "    </tr>\n",
       "  </thead>\n",
       "  <tbody>\n",
       "    <tr>\n",
       "      <th>0</th>\n",
       "      <td>2</td>\n",
       "      <td>ALBACETE</td>\n",
       "      <td>28396</td>\n",
       "      <td>174144.515000</td>\n",
       "    </tr>\n",
       "    <tr>\n",
       "      <th>1</th>\n",
       "      <td>3</td>\n",
       "      <td>ALICANTE</td>\n",
       "      <td>66221</td>\n",
       "      <td>715160.654499</td>\n",
       "    </tr>\n",
       "    <tr>\n",
       "      <th>2</th>\n",
       "      <td>4</td>\n",
       "      <td>ALMERIA</td>\n",
       "      <td>34520</td>\n",
       "      <td>256571.027100</td>\n",
       "    </tr>\n",
       "    <tr>\n",
       "      <th>3</th>\n",
       "      <td>5</td>\n",
       "      <td>ÁVILA</td>\n",
       "      <td>18185</td>\n",
       "      <td>76925.266300</td>\n",
       "    </tr>\n",
       "    <tr>\n",
       "      <th>4</th>\n",
       "      <td>6</td>\n",
       "      <td>BADAJOZ</td>\n",
       "      <td>35798</td>\n",
       "      <td>285492.998500</td>\n",
       "    </tr>\n",
       "  </tbody>\n",
       "</table>\n",
       "</div>"
      ],
      "text/plain": [
       "  CÓDIGO PROVINCIA PROVINCIA  Nº OBSERVACIONES  Nº DECLARACIONES MUESTRA\n",
       "0                2  ALBACETE             28396             174144.515000\n",
       "1                3  ALICANTE             66221             715160.654499\n",
       "2                4   ALMERIA             34520             256571.027100\n",
       "3                5    ÁVILA             18185              76925.266300\n",
       "4                6   BADAJOZ             35798             285492.998500"
      ]
     },
     "execution_count": 59,
     "metadata": {},
     "output_type": "execute_result"
    }
   ],
   "source": [
    "tabla_3.head()"
   ]
  },
  {
   "cell_type": "code",
   "execution_count": 52,
   "metadata": {
    "collapsed": false
   },
   "outputs": [],
   "source": [
    "# tabla_3.to_html(index=False)"
   ]
  },
  {
   "cell_type": "code",
   "execution_count": 60,
   "metadata": {
    "collapsed": false,
    "scrolled": false
   },
   "outputs": [
    {
     "name": "stderr",
     "output_type": "stream",
     "text": [
      "/Users/mmngreco/Virtualenvs/ipynb/lib/python3.5/site-packages/matplotlib/__init__.py:892: UserWarning: axes.color_cycle is deprecated and replaced with axes.prop_cycle; please use the latter.\n",
      "  warnings.warn(self.msg_depr % (key, alt_key))\n"
     ]
    },
    {
     "data": {
      "image/png": "[encoded data removed]",
      "text/plain": [
       "<matplotlib.figure.Figure at 0x10e6fe588>"
      ]
     },
     "metadata": {},
     "output_type": "display_data"
    }
   ],
   "source": [
    "d = tabla_3.iloc[:-1].sort_values(by='Nº DECLARACIONES MUESTRA', ascending=False)\n",
    "\n",
    "plt.figure(figsize=(8,10))\n",
    "\n",
    "g = sns.barplot(d['Nº DECLARACIONES MUESTRA'], d['PROVINCIA'], orient='horizontal')\n",
    "g.grid(True, axis='x')\n",
    "\n",
    "sns.despine()\n",
    "\n",
    "plt.suptitle('CLASIFICACIÓN DE LOS DECLARANTES SEGÚN LA PROVINCIA', fontsize=15, y=1.02)\n",
    "plt.xlabel('Nº DECLARACIONES MUESTRA')\n",
    "\n",
    "plt.tight_layout()"
   ]
  },
  {
   "cell_type": "code",
   "execution_count": 61,
   "metadata": {
    "collapsed": false
   },
   "outputs": [
    {
     "data": {
      "text/plain": [
       "['PAR452', 'PAR465']"
      ]
     },
     "execution_count": 61,
     "metadata": {},
     "output_type": "execute_result"
    }
   ],
   "source": [
    "# distribucion por niveles:\n",
    "# renta = PAR(455 + 465 + 17 +18 + 19 + 20) = [17, 18, 19, 20, 455, 465]\n",
    "variables_renta = ['PAR%s' % e for e in [452, 465]]\n",
    "variables_renta"
   ]
  },
  {
   "cell_type": "code",
   "execution_count": 62,
   "metadata": {
    "collapsed": false
   },
   "outputs": [],
   "source": [
    "data['renta'] = data[variables_renta].sum(1)"
   ]
  },
  {
   "cell_type": "code",
   "execution_count": 63,
   "metadata": {
    "collapsed": false,
    "scrolled": true
   },
   "outputs": [],
   "source": [
    "tramos = [-np.inf,0, 6000, 12000, 18000, 24000, 30000, 36000, 42000, 48000, 54000, 60000, np.inf]\n",
    "data['tramo'] = pd.cut(data.renta, tramos, precision=4, include_lowest=False, right=True)"
   ]
  },
  {
   "cell_type": "code",
   "execution_count": 64,
   "metadata": {
    "collapsed": false
   },
   "outputs": [
    {
     "data": {
      "text/html": [
       "<div>\n",
       "<table border=\"1\" class=\"dataframe\">\n",
       "  <thead>\n",
       "    <tr style=\"text-align: right;\">\n",
       "      <th></th>\n",
       "      <th>renta</th>\n",
       "      <th>factor</th>\n",
       "    </tr>\n",
       "    <tr>\n",
       "      <th>tramo</th>\n",
       "      <th></th>\n",
       "      <th></th>\n",
       "    </tr>\n",
       "  </thead>\n",
       "  <tbody>\n",
       "    <tr>\n",
       "      <th>(-inf, 0]</th>\n",
       "      <td>-1.335249e+09</td>\n",
       "      <td>341713.829001</td>\n",
       "    </tr>\n",
       "    <tr>\n",
       "      <th>(0, 6000]</th>\n",
       "      <td>2.333967e+09</td>\n",
       "      <td>3689557.802311</td>\n",
       "    </tr>\n",
       "    <tr>\n",
       "      <th>(6000, 12000]</th>\n",
       "      <td>1.147506e+09</td>\n",
       "      <td>3673519.240100</td>\n",
       "    </tr>\n",
       "    <tr>\n",
       "      <th>(12000, 18000]</th>\n",
       "      <td>7.399605e+08</td>\n",
       "      <td>3663939.483300</td>\n",
       "    </tr>\n",
       "    <tr>\n",
       "      <th>(18000, 24000]</th>\n",
       "      <td>5.374425e+08</td>\n",
       "      <td>2686260.701600</td>\n",
       "    </tr>\n",
       "    <tr>\n",
       "      <th>(24000, 30000]</th>\n",
       "      <td>4.209746e+08</td>\n",
       "      <td>1821765.249600</td>\n",
       "    </tr>\n",
       "    <tr>\n",
       "      <th>(30000, 36000]</th>\n",
       "      <td>3.297071e+08</td>\n",
       "      <td>1286036.525500</td>\n",
       "    </tr>\n",
       "    <tr>\n",
       "      <th>(36000, 42000]</th>\n",
       "      <td>2.843355e+08</td>\n",
       "      <td>721225.642000</td>\n",
       "    </tr>\n",
       "    <tr>\n",
       "      <th>(42000, 48000]</th>\n",
       "      <td>2.426647e+08</td>\n",
       "      <td>418208.739000</td>\n",
       "    </tr>\n",
       "    <tr>\n",
       "      <th>(48000, 54000]</th>\n",
       "      <td>2.129876e+08</td>\n",
       "      <td>280259.807900</td>\n",
       "    </tr>\n",
       "    <tr>\n",
       "      <th>(54000, 60000]</th>\n",
       "      <td>8.675884e+09</td>\n",
       "      <td>197193.913500</td>\n",
       "    </tr>\n",
       "    <tr>\n",
       "      <th>(60000, inf]</th>\n",
       "      <td>5.712042e+10</td>\n",
       "      <td>687942.166998</td>\n",
       "    </tr>\n",
       "  </tbody>\n",
       "</table>\n",
       "</div>"
      ],
      "text/plain": [
       "                       renta          factor\n",
       "tramo                                       \n",
       "(-inf, 0]      -1.335249e+09   341713.829001\n",
       "(0, 6000]       2.333967e+09  3689557.802311\n",
       "(6000, 12000]   1.147506e+09  3673519.240100\n",
       "(12000, 18000]  7.399605e+08  3663939.483300\n",
       "(18000, 24000]  5.374425e+08  2686260.701600\n",
       "(24000, 30000]  4.209746e+08  1821765.249600\n",
       "(30000, 36000]  3.297071e+08  1286036.525500\n",
       "(36000, 42000]  2.843355e+08   721225.642000\n",
       "(42000, 48000]  2.426647e+08   418208.739000\n",
       "(48000, 54000]  2.129876e+08   280259.807900\n",
       "(54000, 60000]  8.675884e+09   197193.913500\n",
       "(60000, inf]    5.712042e+10   687942.166998"
      ]
     },
     "execution_count": 64,
     "metadata": {},
     "output_type": "execute_result"
    }
   ],
   "source": [
    "data.groupby('tramo')[['renta', 'factor']].sum()"
   ]
  },
  {
   "cell_type": "code",
   "execution_count": 65,
   "metadata": {
    "collapsed": false
   },
   "outputs": [],
   "source": [
    "d = data.pivot_table(index='tramo', values='factor', aggfunc='count')"
   ]
  },
  {
   "cell_type": "code",
   "execution_count": 66,
   "metadata": {
    "collapsed": false
   },
   "outputs": [],
   "source": [
    "d = pd.DataFrame(d)"
   ]
  },
  {
   "cell_type": "code",
   "execution_count": 67,
   "metadata": {
    "collapsed": true
   },
   "outputs": [],
   "source": [
    "d['suma'] = data.pivot_table(index='tramo', values='factor', aggfunc='sum')"
   ]
  },
  {
   "cell_type": "code",
   "execution_count": 68,
   "metadata": {
    "collapsed": false
   },
   "outputs": [],
   "source": [
    "d.index = list(d.index)"
   ]
  },
  {
   "cell_type": "code",
   "execution_count": 69,
   "metadata": {
    "collapsed": true
   },
   "outputs": [],
   "source": [
    "d['porcentaje'] = d.suma * 100 / d.suma.sum()"
   ]
  },
  {
   "cell_type": "code",
   "execution_count": 70,
   "metadata": {
    "collapsed": true
   },
   "outputs": [],
   "source": [
    "d.loc['TOTAL'] = d.sum()"
   ]
  },
  {
   "cell_type": "code",
   "execution_count": 71,
   "metadata": {
    "collapsed": true
   },
   "outputs": [],
   "source": [
    "d.columns = ['Nº OBS (Muestra)', 'Nº DECLARACIONES (Muestra)', 'PORCENTAJE']"
   ]
  },
  {
   "cell_type": "code",
   "execution_count": 72,
   "metadata": {
    "code_folding": [
     0
    ],
    "collapsed": false
   },
   "outputs": [
    {
     "data": {
      "text/html": [
       "<div>\n",
       "<table border=\"1\" class=\"dataframe\">\n",
       "  <thead>\n",
       "    <tr style=\"text-align: right;\">\n",
       "      <th></th>\n",
       "      <th>Nº OBS (Muestra)</th>\n",
       "      <th>Nº DECLARACIONES (Muestra)</th>\n",
       "      <th>PORCENTAJE</th>\n",
       "    </tr>\n",
       "  </thead>\n",
       "  <tbody>\n",
       "    <tr>\n",
       "      <th>(-inf, 0]</th>\n",
       "      <td>337 172.000</td>\n",
       "      <td>341 713.829</td>\n",
       "      <td>1.755</td>\n",
       "    </tr>\n",
       "    <tr>\n",
       "      <th>(0, 6000]</th>\n",
       "      <td>773 714.000</td>\n",
       "      <td>3 689 557.802</td>\n",
       "      <td>18.952</td>\n",
       "    </tr>\n",
       "    <tr>\n",
       "      <th>(6000, 12000]</th>\n",
       "      <td>126 666.000</td>\n",
       "      <td>3 673 519.240</td>\n",
       "      <td>18.870</td>\n",
       "    </tr>\n",
       "    <tr>\n",
       "      <th>(12000, 18000]</th>\n",
       "      <td>49 805.000</td>\n",
       "      <td>3 663 939.483</td>\n",
       "      <td>18.821</td>\n",
       "    </tr>\n",
       "    <tr>\n",
       "      <th>(18000, 24000]</th>\n",
       "      <td>25 916.000</td>\n",
       "      <td>2 686 260.702</td>\n",
       "      <td>13.799</td>\n",
       "    </tr>\n",
       "    <tr>\n",
       "      <th>(24000, 30000]</th>\n",
       "      <td>15 692.000</td>\n",
       "      <td>1 821 765.250</td>\n",
       "      <td>9.358</td>\n",
       "    </tr>\n",
       "    <tr>\n",
       "      <th>(30000, 36000]</th>\n",
       "      <td>10 049.000</td>\n",
       "      <td>1 286 036.525</td>\n",
       "      <td>6.606</td>\n",
       "    </tr>\n",
       "    <tr>\n",
       "      <th>(36000, 42000]</th>\n",
       "      <td>7 347.000</td>\n",
       "      <td>721 225.642</td>\n",
       "      <td>3.705</td>\n",
       "    </tr>\n",
       "    <tr>\n",
       "      <th>(42000, 48000]</th>\n",
       "      <td>5 416.000</td>\n",
       "      <td>418 208.739</td>\n",
       "      <td>2.148</td>\n",
       "    </tr>\n",
       "    <tr>\n",
       "      <th>(48000, 54000]</th>\n",
       "      <td>4 191.000</td>\n",
       "      <td>280 259.808</td>\n",
       "      <td>1.440</td>\n",
       "    </tr>\n",
       "    <tr>\n",
       "      <th>(54000, 60000]</th>\n",
       "      <td>152 652.000</td>\n",
       "      <td>197 193.914</td>\n",
       "      <td>1.013</td>\n",
       "    </tr>\n",
       "    <tr>\n",
       "      <th>(60000, inf]</th>\n",
       "      <td>527 566.000</td>\n",
       "      <td>687 942.167</td>\n",
       "      <td>3.534</td>\n",
       "    </tr>\n",
       "    <tr>\n",
       "      <th>TOTAL</th>\n",
       "      <td>2 036 186.000</td>\n",
       "      <td>19 467 623.101</td>\n",
       "      <td>100.000</td>\n",
       "    </tr>\n",
       "  </tbody>\n",
       "</table>\n",
       "</div>"
      ],
      "text/plain": [
       "               Nº OBS (Muestra) Nº DECLARACIONES (Muestra) PORCENTAJE\n",
       "(-inf, 0]           337 172.000                341 713.829      1.755\n",
       "(0, 6000]           773 714.000              3 689 557.802     18.952\n",
       "(6000, 12000]       126 666.000              3 673 519.240     18.870\n",
       "(12000, 18000]       49 805.000              3 663 939.483     18.821\n",
       "(18000, 24000]       25 916.000              2 686 260.702     13.799\n",
       "(24000, 30000]       15 692.000              1 821 765.250      9.358\n",
       "(30000, 36000]       10 049.000              1 286 036.525      6.606\n",
       "(36000, 42000]        7 347.000                721 225.642      3.705\n",
       "(42000, 48000]        5 416.000                418 208.739      2.148\n",
       "(48000, 54000]        4 191.000                280 259.808      1.440\n",
       "(54000, 60000]      152 652.000                197 193.914      1.013\n",
       "(60000, inf]        527 566.000                687 942.167      3.534\n",
       "TOTAL             2 036 186.000             19 467 623.101    100.000"
      ]
     },
     "execution_count": 72,
     "metadata": {},
     "output_type": "execute_result"
    }
   ],
   "source": [
    "d.apply(formato_nums)"
   ]
  },
  {
   "cell_type": "code",
   "execution_count": 73,
   "metadata": {
    "collapsed": false
   },
   "outputs": [
    {
     "name": "stderr",
     "output_type": "stream",
     "text": [
      "/Users/mmngreco/Virtualenvs/ipynb/lib/python3.5/site-packages/matplotlib/__init__.py:892: UserWarning: axes.color_cycle is deprecated and replaced with axes.prop_cycle; please use the latter.\n",
      "  warnings.warn(self.msg_depr % (key, alt_key))\n"
     ]
    },
    {
     "data": {
      "text/plain": [
       "<matplotlib.text.Text at 0x10f01b7f0>"
      ]
     },
     "execution_count": 73,
     "metadata": {},
     "output_type": "execute_result"
    },
    {
     "data": {
      "image/png": "[encoded data removed]",
      "text/plain": [
       "<matplotlib.figure.Figure at 0x10e229518>"
      ]
     },
     "metadata": {},
     "output_type": "display_data"
    }
   ],
   "source": [
    "g = sns.barplot(data=d.reset_index().iloc[:-1], x='index', y=d.columns[1])\n",
    "g.grid(True, axis='y')\n",
    "plt.gca().set_xticklabels(d.index[:-1], rotation =90)\n",
    "sns.despine()\n",
    "plt.xlabel('TRAMOS')\n",
    "plt.ylabel(d.columns[1])"
   ]
  },
  {
   "cell_type": "code",
   "execution_count": 117,
   "metadata": {
    "collapsed": false
   },
   "outputs": [],
   "source": [
    "d = data[['renta', 'factor','tramo']].copy()"
   ]
  },
  {
   "cell_type": "code",
   "execution_count": 118,
   "metadata": {
    "collapsed": false
   },
   "outputs": [],
   "source": [
    "d['fi'] = d.factor / d.factor.sum()"
   ]
  },
  {
   "cell_type": "code",
   "execution_count": 119,
   "metadata": {
    "collapsed": true
   },
   "outputs": [],
   "source": [
    "d['Fi'] = d.fi.cumsum()"
   ]
  },
  {
   "cell_type": "code",
   "execution_count": 120,
   "metadata": {
    "collapsed": false
   },
   "outputs": [],
   "source": [
    "d['wi'] = 1 / d.fi"
   ]
  },
  {
   "cell_type": "code",
   "execution_count": 121,
   "metadata": {
    "collapsed": false
   },
   "outputs": [],
   "source": [
    "d['xifi'] = d.renta * d.fi"
   ]
  },
  {
   "cell_type": "code",
   "execution_count": 123,
   "metadata": {
    "collapsed": false
   },
   "outputs": [
    {
     "data": {
      "text/plain": [
       "20106.654"
      ]
     },
     "execution_count": 123,
     "metadata": {},
     "output_type": "execute_result"
    }
   ],
   "source": [
    "d.xifi.sum()"
   ]
  },
  {
   "cell_type": "code",
   "execution_count": 173,
   "metadata": {
    "collapsed": false
   },
   "outputs": [],
   "source": [
    "d['vhat'] = ((d.renta - d.xifi.sum())**2) * d.fi"
   ]
  },
  {
   "cell_type": "code",
   "execution_count": 174,
   "metadata": {
    "collapsed": false
   },
   "outputs": [
    {
     "data": {
      "text/plain": [
       "1581.241"
      ]
     },
     "execution_count": 174,
     "metadata": {},
     "output_type": "execute_result"
    }
   ],
   "source": [
    "d.vhat.mean() * d.factor.sum() / (d.factor.sum() - 1)"
   ]
  },
  {
   "cell_type": "code",
   "execution_count": 175,
   "metadata": {
    "collapsed": false
   },
   "outputs": [
    {
     "data": {
      "text/plain": [
       "39.765"
      ]
     },
     "execution_count": 175,
     "metadata": {},
     "output_type": "execute_result"
    }
   ],
   "source": [
    "np.sqrt(_)"
   ]
  },
  {
   "cell_type": "code",
   "execution_count": null,
   "metadata": {
    "collapsed": true
   },
   "outputs": [],
   "source": []
  },
  {
   "cell_type": "code",
   "execution_count": null,
   "metadata": {
    "collapsed": true
   },
   "outputs": [],
   "source": [
    "data.dec"
   ]
  },
  {
   "cell_type": "code",
   "execution_count": 183,
   "metadata": {
    "collapsed": false
   },
   "outputs": [],
   "source": [
    "d = data[['dec', 'factor']].groupby('dec').sum()"
   ]
  },
  {
   "cell_type": "code",
   "execution_count": 184,
   "metadata": {
    "collapsed": false
   },
   "outputs": [
    {
     "data": {
      "text/html": [
       "<div>\n",
       "<table border=\"1\" class=\"dataframe\">\n",
       "  <thead>\n",
       "    <tr style=\"text-align: right;\">\n",
       "      <th></th>\n",
       "      <th>factor</th>\n",
       "    </tr>\n",
       "    <tr>\n",
       "      <th>dec</th>\n",
       "      <th></th>\n",
       "    </tr>\n",
       "  </thead>\n",
       "  <tbody>\n",
       "    <tr>\n",
       "      <th>C</th>\n",
       "      <td>4332938.732406</td>\n",
       "    </tr>\n",
       "    <tr>\n",
       "      <th>I</th>\n",
       "      <td>15134684.368312</td>\n",
       "    </tr>\n",
       "  </tbody>\n",
       "</table>\n",
       "</div>"
      ],
      "text/plain": [
       "              factor\n",
       "dec                 \n",
       "C     4332938.732406\n",
       "I    15134684.368312"
      ]
     },
     "execution_count": 184,
     "metadata": {},
     "output_type": "execute_result"
    }
   ],
   "source": [
    "d"
   ]
  },
  {
   "cell_type": "code",
   "execution_count": 185,
   "metadata": {
    "collapsed": true
   },
   "outputs": [],
   "source": [
    "d['porentaje'] = d.factor * 100 /d.factor.sum()"
   ]
  },
  {
   "cell_type": "code",
   "execution_count": 186,
   "metadata": {
    "collapsed": false
   },
   "outputs": [],
   "source": [
    "d.reset_index(inplace=True)"
   ]
  },
  {
   "cell_type": "code",
   "execution_count": 187,
   "metadata": {
    "collapsed": true
   },
   "outputs": [],
   "source": [
    "d.columns = ['Tipo', 'Declaraciones', 'Porcentaje']"
   ]
  },
  {
   "cell_type": "code",
   "execution_count": 188,
   "metadata": {
    "collapsed": false
   },
   "outputs": [],
   "source": [
    "d.loc['-'] = ['TOTAL']+list(d.ix[:,1:].sum())"
   ]
  },
  {
   "cell_type": "code",
   "execution_count": 189,
   "metadata": {
    "collapsed": true
   },
   "outputs": [],
   "source": [
    "d.ix[:,1:] = d.ix[:,1:].apply(formato_nums)"
   ]
  },
  {
   "cell_type": "code",
   "execution_count": 190,
   "metadata": {
    "collapsed": false
   },
   "outputs": [
    {
     "data": {
      "text/html": [
       "<div>\n",
       "<table border=\"1\" class=\"dataframe\">\n",
       "  <thead>\n",
       "    <tr style=\"text-align: right;\">\n",
       "      <th></th>\n",
       "      <th>Tipo</th>\n",
       "      <th>Declaraciones</th>\n",
       "      <th>Porcentaje</th>\n",
       "    </tr>\n",
       "  </thead>\n",
       "  <tbody>\n",
       "    <tr>\n",
       "      <th>0</th>\n",
       "      <td>C</td>\n",
       "      <td>4 332 938.732</td>\n",
       "      <td>22.257</td>\n",
       "    </tr>\n",
       "    <tr>\n",
       "      <th>1</th>\n",
       "      <td>I</td>\n",
       "      <td>15 134 684.368</td>\n",
       "      <td>77.743</td>\n",
       "    </tr>\n",
       "    <tr>\n",
       "      <th>-</th>\n",
       "      <td>TOTAL</td>\n",
       "      <td>19 467 623.101</td>\n",
       "      <td>100.000</td>\n",
       "    </tr>\n",
       "  </tbody>\n",
       "</table>\n",
       "</div>"
      ],
      "text/plain": [
       "    Tipo   Declaraciones Porcentaje\n",
       "0      C   4 332 938.732     22.257\n",
       "1      I  15 134 684.368     77.743\n",
       "-  TOTAL  19 467 623.101    100.000"
      ]
     },
     "execution_count": 190,
     "metadata": {},
     "output_type": "execute_result"
    }
   ],
   "source": [
    "d"
   ]
  },
  {
   "cell_type": "code",
   "execution_count": 167,
   "metadata": {
    "collapsed": false
   },
   "outputs": [
    {
     "data": {
      "image/png": "[encoded data removed]",
      "text/plain": [
       "<matplotlib.figure.Figure at 0x11b07ccf8>"
      ]
     },
     "metadata": {},
     "output_type": "display_data"
    }
   ],
   "source": [
    "plt.figure(figsize=(5,5))\n",
    "\n",
    "d = data.groupby('dec')['factor'].sum()\n",
    "dp = d * 100/ d.sum()\n",
    "\n",
    "d.index = ['Conjunta', 'Individual']\n",
    "\n",
    "d.plot(kind='pie', colormap='Set2')\n",
    "\n",
    "plt.xlabel('')\n",
    "plt.ylabel('')\n",
    "plt.text(0.12,\n",
    "         0.15, \n",
    "         formato_nums(d.values)[0]+'\\n{:.1f}%'.format(dp.values[0]), \n",
    "         color='white', \n",
    "         fontsize=15, \n",
    "         fontweight='bold')\n",
    "\n",
    "plt.text(-0.5,\n",
    "         -0.5, formato_nums(d.values)[1]+'\\n{:.1f}%'.format(dp.values[1]), \n",
    "         color='white', \n",
    "         fontsize=15, \n",
    "         fontweight='bold')\n",
    "\n",
    "ttl = 'PROPORCIÓN DE DECLARACIONES POR TIPO DE DECLARACIÓN'\n",
    "plt.suptitle(ttl, fontsize=15)\n",
    "\n",
    "plt.tight_layout()"
   ]
  },
  {
   "cell_type": "markdown",
   "metadata": {},
   "source": [
    "# DECILAS"
   ]
  },
  {
   "cell_type": "code",
   "execution_count": 191,
   "metadata": {
    "code_folding": [
     0
    ],
    "collapsed": false
   },
   "outputs": [],
   "source": [
    "v = ['renta', 'factor']\n",
    "d = data[v].copy()"
   ]
  },
  {
   "cell_type": "code",
   "execution_count": 192,
   "metadata": {
    "collapsed": true
   },
   "outputs": [],
   "source": [
    "d.sort_values(by='renta', inplace=True)"
   ]
  },
  {
   "cell_type": "code",
   "execution_count": 193,
   "metadata": {
    "collapsed": false
   },
   "outputs": [],
   "source": [
    "d['xini'] = np.multiply(d['renta'], d['factor'])"
   ]
  },
  {
   "cell_type": "code",
   "execution_count": 194,
   "metadata": {
    "collapsed": false
   },
   "outputs": [
    {
     "data": {
      "text/html": [
       "<div>\n",
       "<table border=\"1\" class=\"dataframe\">\n",
       "  <thead>\n",
       "    <tr style=\"text-align: right;\">\n",
       "      <th></th>\n",
       "      <th>renta</th>\n",
       "      <th>factor</th>\n",
       "      <th>xini</th>\n",
       "    </tr>\n",
       "  </thead>\n",
       "  <tbody>\n",
       "    <tr>\n",
       "      <th>1003646</th>\n",
       "      <td>-10964259.24</td>\n",
       "      <td>1.0011</td>\n",
       "      <td>-10976319.925164</td>\n",
       "    </tr>\n",
       "    <tr>\n",
       "      <th>500483</th>\n",
       "      <td>-8204286.19</td>\n",
       "      <td>1.0002</td>\n",
       "      <td>-8205927.047238</td>\n",
       "    </tr>\n",
       "    <tr>\n",
       "      <th>236710</th>\n",
       "      <td>-7515213.73</td>\n",
       "      <td>1.0015</td>\n",
       "      <td>-7526486.550595</td>\n",
       "    </tr>\n",
       "    <tr>\n",
       "      <th>1816225</th>\n",
       "      <td>-4395015.71</td>\n",
       "      <td>1.0006</td>\n",
       "      <td>-4397652.719426</td>\n",
       "    </tr>\n",
       "    <tr>\n",
       "      <th>1815837</th>\n",
       "      <td>-4390335.40</td>\n",
       "      <td>1.0006</td>\n",
       "      <td>-4392969.601240</td>\n",
       "    </tr>\n",
       "  </tbody>\n",
       "</table>\n",
       "</div>"
      ],
      "text/plain": [
       "               renta  factor             xini\n",
       "1003646 -10964259.24  1.0011 -10976319.925164\n",
       "500483   -8204286.19  1.0002  -8205927.047238\n",
       "236710   -7515213.73  1.0015  -7526486.550595\n",
       "1816225  -4395015.71  1.0006  -4397652.719426\n",
       "1815837  -4390335.40  1.0006  -4392969.601240"
      ]
     },
     "execution_count": 194,
     "metadata": {},
     "output_type": "execute_result"
    }
   ],
   "source": [
    "d.head()"
   ]
  },
  {
   "cell_type": "code",
   "execution_count": 195,
   "metadata": {
    "collapsed": true
   },
   "outputs": [],
   "source": [
    "d['fi'] = d.factor / d.factor.sum()"
   ]
  },
  {
   "cell_type": "code",
   "execution_count": 196,
   "metadata": {
    "collapsed": true
   },
   "outputs": [],
   "source": [
    "d['Fi'] = d.fi.cumsum()"
   ]
  },
  {
   "cell_type": "code",
   "execution_count": 197,
   "metadata": {
    "collapsed": false
   },
   "outputs": [
    {
     "data": {
      "text/html": [
       "<div>\n",
       "<table border=\"1\" class=\"dataframe\">\n",
       "  <thead>\n",
       "    <tr style=\"text-align: right;\">\n",
       "      <th></th>\n",
       "      <th>renta</th>\n",
       "      <th>factor</th>\n",
       "      <th>xini</th>\n",
       "      <th>fi</th>\n",
       "      <th>Fi</th>\n",
       "    </tr>\n",
       "  </thead>\n",
       "  <tbody>\n",
       "    <tr>\n",
       "      <th>1003646</th>\n",
       "      <td>-10964259.24</td>\n",
       "      <td>1.0011</td>\n",
       "      <td>-10976319.925164</td>\n",
       "      <td>5.142384e-08</td>\n",
       "      <td>5.142384e-08</td>\n",
       "    </tr>\n",
       "    <tr>\n",
       "      <th>500483</th>\n",
       "      <td>-8204286.19</td>\n",
       "      <td>1.0002</td>\n",
       "      <td>-8205927.047238</td>\n",
       "      <td>5.137761e-08</td>\n",
       "      <td>1.028015e-07</td>\n",
       "    </tr>\n",
       "    <tr>\n",
       "      <th>236710</th>\n",
       "      <td>-7515213.73</td>\n",
       "      <td>1.0015</td>\n",
       "      <td>-7526486.550595</td>\n",
       "      <td>5.144439e-08</td>\n",
       "      <td>1.542458e-07</td>\n",
       "    </tr>\n",
       "    <tr>\n",
       "      <th>1816225</th>\n",
       "      <td>-4395015.71</td>\n",
       "      <td>1.0006</td>\n",
       "      <td>-4397652.719426</td>\n",
       "      <td>5.139816e-08</td>\n",
       "      <td>2.056440e-07</td>\n",
       "    </tr>\n",
       "    <tr>\n",
       "      <th>1815837</th>\n",
       "      <td>-4390335.40</td>\n",
       "      <td>1.0006</td>\n",
       "      <td>-4392969.601240</td>\n",
       "      <td>5.139816e-08</td>\n",
       "      <td>2.570422e-07</td>\n",
       "    </tr>\n",
       "  </tbody>\n",
       "</table>\n",
       "</div>"
      ],
      "text/plain": [
       "               renta  factor             xini            fi            Fi\n",
       "1003646 -10964259.24  1.0011 -10976319.925164  5.142384e-08  5.142384e-08\n",
       "500483   -8204286.19  1.0002  -8205927.047238  5.137761e-08  1.028015e-07\n",
       "236710   -7515213.73  1.0015  -7526486.550595  5.144439e-08  1.542458e-07\n",
       "1816225  -4395015.71  1.0006  -4397652.719426  5.139816e-08  2.056440e-07\n",
       "1815837  -4390335.40  1.0006  -4392969.601240  5.139816e-08  2.570422e-07"
      ]
     },
     "execution_count": 197,
     "metadata": {},
     "output_type": "execute_result"
    }
   ],
   "source": [
    "d.head()"
   ]
  },
  {
   "cell_type": "code",
   "execution_count": 198,
   "metadata": {
    "collapsed": false
   },
   "outputs": [],
   "source": [
    "d2 = 0.1\n",
    "d1 = d2 - 0.1\n",
    "\n",
    "decila = d[(d1 < d.Fi) & (d.Fi <= d2)]\n",
    "\n",
    "nh = len(decila)\n",
    "\n",
    "decila_media = decila.xini.sum() / decila.factor.sum()\n",
    "\n",
    "decila_min, decila_max = decila.renta.min(), decila.renta.max()\n",
    "\n",
    "decila_stats = sm.stats.DescrStatsW(decila.renta, weights=decila.factor)"
   ]
  },
  {
   "cell_type": "code",
   "execution_count": 199,
   "metadata": {
    "collapsed": false
   },
   "outputs": [
    {
     "data": {
      "text/plain": [
       "210.037"
      ]
     },
     "execution_count": 199,
     "metadata": {},
     "output_type": "execute_result"
    }
   ],
   "source": [
    "decila_stats.mean"
   ]
  },
  {
   "cell_type": "code",
   "execution_count": 201,
   "metadata": {
    "collapsed": false
   },
   "outputs": [
    {
     "data": {
      "text/plain": [
       "25052.303"
      ]
     },
     "execution_count": 201,
     "metadata": {},
     "output_type": "execute_result"
    }
   ],
   "source": [
    "decila.xini.std()"
   ]
  },
  {
   "cell_type": "markdown",
   "metadata": {},
   "source": [
    "Teniendo en cuenta que la varianza en el caso discreto es: \n",
    "\n",
    "$\\sigma_X^2 = ( \\sum_{i=1}^n p_i\\cdot(x_i - \\mu)^2)$"
   ]
  },
  {
   "cell_type": "code",
   "execution_count": 202,
   "metadata": {
    "collapsed": false
   },
   "outputs": [
    {
     "data": {
      "text/plain": [
       "(210.037, -10964259.240, 2654.860)"
      ]
     },
     "execution_count": 202,
     "metadata": {},
     "output_type": "execute_result"
    }
   ],
   "source": [
    "decila_media, decila_min, decila_max"
   ]
  },
  {
   "cell_type": "code",
   "execution_count": 206,
   "metadata": {
    "collapsed": false
   },
   "outputs": [
    {
     "data": {
      "text/html": [
       "<div>\n",
       "<table border=\"1\" class=\"dataframe\">\n",
       "  <thead>\n",
       "    <tr style=\"text-align: right;\">\n",
       "      <th></th>\n",
       "      <th>renta</th>\n",
       "      <th>factor</th>\n",
       "      <th>xini</th>\n",
       "      <th>fi</th>\n",
       "      <th>Fi</th>\n",
       "    </tr>\n",
       "  </thead>\n",
       "  <tbody>\n",
       "    <tr>\n",
       "      <th>1003646</th>\n",
       "      <td>-10964259.24</td>\n",
       "      <td>1.0011</td>\n",
       "      <td>-10976319.925164</td>\n",
       "      <td>5.142384e-08</td>\n",
       "      <td>5.142384e-08</td>\n",
       "    </tr>\n",
       "    <tr>\n",
       "      <th>500483</th>\n",
       "      <td>-8204286.19</td>\n",
       "      <td>1.0002</td>\n",
       "      <td>-8205927.047238</td>\n",
       "      <td>5.137761e-08</td>\n",
       "      <td>1.028015e-07</td>\n",
       "    </tr>\n",
       "    <tr>\n",
       "      <th>236710</th>\n",
       "      <td>-7515213.73</td>\n",
       "      <td>1.0015</td>\n",
       "      <td>-7526486.550595</td>\n",
       "      <td>5.144439e-08</td>\n",
       "      <td>1.542458e-07</td>\n",
       "    </tr>\n",
       "    <tr>\n",
       "      <th>1816225</th>\n",
       "      <td>-4395015.71</td>\n",
       "      <td>1.0006</td>\n",
       "      <td>-4397652.719426</td>\n",
       "      <td>5.139816e-08</td>\n",
       "      <td>2.056440e-07</td>\n",
       "    </tr>\n",
       "    <tr>\n",
       "      <th>1815837</th>\n",
       "      <td>-4390335.40</td>\n",
       "      <td>1.0006</td>\n",
       "      <td>-4392969.601240</td>\n",
       "      <td>5.139816e-08</td>\n",
       "      <td>2.570422e-07</td>\n",
       "    </tr>\n",
       "  </tbody>\n",
       "</table>\n",
       "</div>"
      ],
      "text/plain": [
       "               renta  factor             xini            fi            Fi\n",
       "1003646 -10964259.24  1.0011 -10976319.925164  5.142384e-08  5.142384e-08\n",
       "500483   -8204286.19  1.0002  -8205927.047238  5.137761e-08  1.028015e-07\n",
       "236710   -7515213.73  1.0015  -7526486.550595  5.144439e-08  1.542458e-07\n",
       "1816225  -4395015.71  1.0006  -4397652.719426  5.139816e-08  2.056440e-07\n",
       "1815837  -4390335.40  1.0006  -4392969.601240  5.139816e-08  2.570422e-07"
      ]
     },
     "execution_count": 206,
     "metadata": {},
     "output_type": "execute_result"
    }
   ],
   "source": [
    "d.head()"
   ]
  },
  {
   "cell_type": "markdown",
   "metadata": {
    "collapsed": true
   },
   "source": [
    "# -------------> !!!!!!!!!!!!!!!!!!!! continuar desde aqui"
   ]
  },
  {
   "cell_type": "code",
   "execution_count": 156,
   "metadata": {
    "collapsed": false
   },
   "outputs": [
    {
     "data": {
      "image/png": "[encoded data removed]",
      "text/plain": [
       "<matplotlib.figure.Figure at 0x11af26630>"
      ]
     },
     "metadata": {},
     "output_type": "display_data"
    }
   ],
   "source": [
    "# GRAFICO\n",
    "#########\n",
    "\n",
    "d = media_pond_ij.copy()\n",
    "d_ca = media_pond_ca.copy()\n",
    "d_tramo = media_pond_tramo.copy()\n",
    "\n",
    "# figuras\n",
    "fs = (12,10)\n",
    "plt.figure(figsize=fs)\n",
    "ax1 = plt.subplot(2,2,3)\n",
    "ax3 = plt.subplot(2,2,4)\n",
    "ax2 = plt.subplot(2,2,1)\n",
    "\n",
    "# ordenar ca\n",
    "ca_order = d_ca.sort_values(ascending=True).index\n",
    "d_ca = d_ca[ca_order]\n",
    "d = d[ca_order]\n",
    "\n",
    "\n",
    "#d.index = [info_tramos[i] for i in d.index]\n",
    "\n",
    "# traducir los códigos a nombres de ccaa\n",
    "d.columns = [info_ccaa[c] for c in d.columns]\n",
    "\n",
    "# densidad\n",
    "sns.heatmap(d, \n",
    "            ax=ax1, \n",
    "            cbar=False, \n",
    "            cmap='Greens', \n",
    "            robust=False)\n",
    "\n",
    "# barras ccaa\n",
    "g2 = sns.barplot(x=d_ca.index, \n",
    "                 y=d_ca.values, \n",
    "                 ax=ax2, \n",
    "                 color=sns.xkcd_rgb[\"medium green\"],\n",
    "                 alpha=0.8)\n",
    "# barra tramos\n",
    "g3 = sns.barplot(x=d_tramo.values, \n",
    "                 y=d_tramo.index, \n",
    "                 ax=ax3, \n",
    "                 orient='horizontal', \n",
    "                 color=sns.xkcd_rgb[\"medium green\"],\n",
    "                 alpha=0.8)\n",
    "\n",
    "# limpiar el lienzo de las barras\n",
    "sns.despine(ax=ax2, left=True, bottom=False)\n",
    "sns.despine(ax=ax3, left=False, bottom=True)\n",
    "\n",
    "# añadir rejilla\n",
    "ax2.yaxis.grid(True)\n",
    "ax3.xaxis.grid(True)\n",
    "\n",
    "# quitar etiquetas\n",
    "ax2.set_xlabel('')\n",
    "ax2.tick_params(axis='both', \n",
    "                which='both', \n",
    "                bottom='off', \n",
    "                top='off', \n",
    "                labelbottom='off', \n",
    "                right='off', \n",
    "                left='off', \n",
    "                labelleft='on')\n",
    "ax3.set_ylabel('')\n",
    "ax3.tick_params(axis='both', \n",
    "                which='both', \n",
    "                bottom='off', \n",
    "                top='off', \n",
    "                labelbottom='on', \n",
    "                right='off', \n",
    "                left='off', \n",
    "                labelleft='off')\n",
    "\n",
    "\n",
    "# añadir etiquetas de los valores\n",
    "ax2.set_ylabel('Euros')\n",
    "ax3.set_xlabel('Euros')\n",
    "\n",
    "# etiquetar los ejes de las barras\n",
    "ax1.set_xlabel('CCAA')\n",
    "ax1.set_ylabel('TRAMOS')\n",
    "\n",
    "# titulo\n",
    "plt.suptitle('DISTRIBUCIÓN %s' % str_vname, fontsize=15, y=1.05)\n",
    "\n",
    "# ajustar\n",
    "plt.tight_layout()\n",
    "\n",
    "# guardar grafico\n",
    "plt.savefig('imgs/dist_%s_%s' % (date, var_name), bbox_inches='tight')"
   ]
  },
  {
   "cell_type": "code",
   "execution_count": 145,
   "metadata": {
    "collapsed": false
   },
   "outputs": [
    {
     "data": {
      "text/plain": [
       "tramo\n",
       "(-inf, 0]         -4053.886690\n",
       "(0, 6000]          2676.583957\n",
       "(6000, 12000]      8493.833141\n",
       "(12000, 18000]    14316.599822\n",
       "(18000, 24000]    20034.785089\n",
       "(24000, 30000]    25682.625034\n",
       "(30000, 36000]    31531.682226\n",
       "(36000, 42000]    36923.826060\n",
       "(42000, 48000]    42278.131219\n",
       "(48000, 54000]    46723.753140\n",
       "(54000, 60000]    52771.641256\n",
       "(60000, inf]      88958.755078\n",
       "dtype: float64"
      ]
     },
     "execution_count": 145,
     "metadata": {},
     "output_type": "execute_result"
    }
   ],
   "source": [
    "media_pond_tramo.copy()"
   ]
  },
  {
   "cell_type": "code",
   "execution_count": 146,
   "metadata": {
    "collapsed": false
   },
   "outputs": [
    {
     "data": {
      "text/html": [
       "<div>\n",
       "<table border=\"1\" class=\"dataframe\">\n",
       "  <thead>\n",
       "    <tr style=\"text-align: right;\">\n",
       "      <th></th>\n",
       "      <th>0</th>\n",
       "    </tr>\n",
       "    <tr>\n",
       "      <th>tramo</th>\n",
       "      <th></th>\n",
       "    </tr>\n",
       "  </thead>\n",
       "  <tbody>\n",
       "    <tr>\n",
       "      <th>(-inf, 0]</th>\n",
       "      <td>-4 053.887</td>\n",
       "    </tr>\n",
       "    <tr>\n",
       "      <th>(0, 6000]</th>\n",
       "      <td>2 676.584</td>\n",
       "    </tr>\n",
       "    <tr>\n",
       "      <th>(6000, 12000]</th>\n",
       "      <td>8 493.833</td>\n",
       "    </tr>\n",
       "    <tr>\n",
       "      <th>(12000, 18000]</th>\n",
       "      <td>14 316.600</td>\n",
       "    </tr>\n",
       "    <tr>\n",
       "      <th>(18000, 24000]</th>\n",
       "      <td>20 034.785</td>\n",
       "    </tr>\n",
       "    <tr>\n",
       "      <th>(24000, 30000]</th>\n",
       "      <td>25 682.625</td>\n",
       "    </tr>\n",
       "    <tr>\n",
       "      <th>(30000, 36000]</th>\n",
       "      <td>31 531.682</td>\n",
       "    </tr>\n",
       "    <tr>\n",
       "      <th>(36000, 42000]</th>\n",
       "      <td>36 923.826</td>\n",
       "    </tr>\n",
       "    <tr>\n",
       "      <th>(42000, 48000]</th>\n",
       "      <td>42 278.131</td>\n",
       "    </tr>\n",
       "    <tr>\n",
       "      <th>(48000, 54000]</th>\n",
       "      <td>46 723.753</td>\n",
       "    </tr>\n",
       "    <tr>\n",
       "      <th>(54000, 60000]</th>\n",
       "      <td>52 771.641</td>\n",
       "    </tr>\n",
       "    <tr>\n",
       "      <th>(60000, inf]</th>\n",
       "      <td>88 958.755</td>\n",
       "    </tr>\n",
       "  </tbody>\n",
       "</table>\n",
       "</div>"
      ],
      "text/plain": [
       "                         0\n",
       "tramo                     \n",
       "(-inf, 0]       -4 053.887\n",
       "(0, 6000]        2 676.584\n",
       "(6000, 12000]    8 493.833\n",
       "(12000, 18000]  14 316.600\n",
       "(18000, 24000]  20 034.785\n",
       "(24000, 30000]  25 682.625\n",
       "(30000, 36000]  31 531.682\n",
       "(36000, 42000]  36 923.826\n",
       "(42000, 48000]  42 278.131\n",
       "(48000, 54000]  46 723.753\n",
       "(54000, 60000]  52 771.641\n",
       "(60000, inf]    88 958.755"
      ]
     },
     "execution_count": 146,
     "metadata": {},
     "output_type": "execute_result"
    }
   ],
   "source": [
    "pd.DataFrame(_).apply(formato_nums)"
   ]
  },
  {
   "cell_type": "code",
   "execution_count": 147,
   "metadata": {
    "collapsed": false
   },
   "outputs": [
    {
     "name": "stdout",
     "output_type": "stream",
     "text": [
      "                         0\n",
      "tramo                     \n",
      "(-inf, 0]       -4 053.887\n",
      "(0, 6000]        2 676.584\n",
      "(6000, 12000]    8 493.833\n",
      "(12000, 18000]  14 316.600\n",
      "(18000, 24000]  20 034.785\n",
      "(24000, 30000]  25 682.625\n",
      "(30000, 36000]  31 531.682\n",
      "(36000, 42000]  36 923.826\n",
      "(42000, 48000]  42 278.131\n",
      "(48000, 54000]  46 723.753\n",
      "(54000, 60000]  52 771.641\n",
      "(60000, inf]    88 958.755\n"
     ]
    }
   ],
   "source": [
    "print(_)"
   ]
  },
  {
   "cell_type": "markdown",
   "metadata": {},
   "source": []
  },
  {
   "cell_type": "code",
   "execution_count": 207,
   "metadata": {
    "collapsed": false
   },
   "outputs": [],
   "source": [
    "# comprobaciones\n",
    "# base imponible general <= 0\n",
    "# declaraciones = 57.835\n",
    "# BL total millones de euros 360,1\n",
    "# media -6.226 euros\n",
    "d = data.loc[:,['PAR455', 'factor', 'tramo']]"
   ]
  },
  {
   "cell_type": "code",
   "execution_count": 208,
   "metadata": {
    "collapsed": false
   },
   "outputs": [],
   "source": [
    "# menores o iguales a cero\n",
    "d = d[d.PAR455 <= 0]"
   ]
  },
  {
   "cell_type": "code",
   "execution_count": 209,
   "metadata": {
    "collapsed": true
   },
   "outputs": [],
   "source": [
    "# variable poblacional\n",
    "d['x*w'] = d.PAR455 * d.factor"
   ]
  },
  {
   "cell_type": "code",
   "execution_count": 213,
   "metadata": {
    "collapsed": false
   },
   "outputs": [
    {
     "data": {
      "text/plain": [
       "-1455981021.975"
      ]
     },
     "execution_count": 213,
     "metadata": {},
     "output_type": "execute_result"
    }
   ],
   "source": [
    "# total\n",
    "d['x*w'].sum()"
   ]
  },
  {
   "cell_type": "code",
   "execution_count": 215,
   "metadata": {
    "collapsed": false
   },
   "outputs": [
    {
     "data": {
      "text/plain": [
       "['-1 455 981 021.975']"
      ]
     },
     "execution_count": 215,
     "metadata": {},
     "output_type": "execute_result"
    }
   ],
   "source": [
    "formato_nums([_])"
   ]
  },
  {
   "cell_type": "code",
   "execution_count": 220,
   "metadata": {
    "collapsed": false
   },
   "outputs": [
    {
     "data": {
      "text/plain": [
       "873516.267"
      ]
     },
     "execution_count": 220,
     "metadata": {},
     "output_type": "execute_result"
    }
   ],
   "source": [
    "# declaraciones\n",
    "d.factor.sum()"
   ]
  },
  {
   "cell_type": "code",
   "execution_count": 221,
   "metadata": {
    "collapsed": false
   },
   "outputs": [
    {
     "data": {
      "text/plain": [
       "['873 516.267']"
      ]
     },
     "execution_count": 221,
     "metadata": {},
     "output_type": "execute_result"
    }
   ],
   "source": [
    "formato_nums([_])"
   ]
  },
  {
   "cell_type": "code",
   "execution_count": 222,
   "metadata": {
    "collapsed": false
   },
   "outputs": [
    {
     "data": {
      "text/plain": [
       "429824"
      ]
     },
     "execution_count": 222,
     "metadata": {},
     "output_type": "execute_result"
    }
   ],
   "source": [
    "len(d)"
   ]
  },
  {
   "cell_type": "code",
   "execution_count": 223,
   "metadata": {
    "collapsed": false
   },
   "outputs": [
    {
     "data": {
      "text/plain": [
       "['429 824.000']"
      ]
     },
     "execution_count": 223,
     "metadata": {},
     "output_type": "execute_result"
    }
   ],
   "source": [
    "formato_nums([_])"
   ]
  },
  {
   "cell_type": "code",
   "execution_count": 225,
   "metadata": {
    "collapsed": false
   },
   "outputs": [
    {
     "data": {
      "text/plain": [
       "['873 516.267']"
      ]
     },
     "execution_count": 225,
     "metadata": {},
     "output_type": "execute_result"
    }
   ],
   "source": [
    "# declaraciones\n",
    "formato_nums([d.factor.sum()])"
   ]
  },
  {
   "cell_type": "code",
   "execution_count": 226,
   "metadata": {
    "collapsed": true
   },
   "outputs": [],
   "source": [
    "# total de declaraciones = 18.775.312\n",
    "# total de BL total = 361.944,7\n",
    "# total media = 19.278\n"
   ]
  },
  {
   "cell_type": "code",
   "execution_count": 227,
   "metadata": {
    "collapsed": false
   },
   "outputs": [
    {
     "data": {
      "text/html": [
       "<div>\n",
       "<table border=\"1\" class=\"dataframe\">\n",
       "  <thead>\n",
       "    <tr style=\"text-align: right;\">\n",
       "      <th></th>\n",
       "      <th>descrip</th>\n",
       "    </tr>\n",
       "    <tr>\n",
       "      <th>variable</th>\n",
       "      <th></th>\n",
       "    </tr>\n",
       "  </thead>\n",
       "  <tbody>\n",
       "    <tr>\n",
       "      <th>prov</th>\n",
       "      <td>PROVINCIA</td>\n",
       "    </tr>\n",
       "    <tr>\n",
       "      <th>ca</th>\n",
       "      <td>COMUNIDAD AUTÓNOMA</td>\n",
       "    </tr>\n",
       "    <tr>\n",
       "      <th>dec</th>\n",
       "      <td>TIPO DE DECLARACIÓN</td>\n",
       "    </tr>\n",
       "    <tr>\n",
       "      <th>sexo</th>\n",
       "      <td>SEXO DEL DECLARANTE</td>\n",
       "    </tr>\n",
       "    <tr>\n",
       "      <th>EstCv</th>\n",
       "      <td>ESTADO CIVIL DEL DECLARANTE</td>\n",
       "    </tr>\n",
       "    <tr>\n",
       "      <th>NmDesc</th>\n",
       "      <td>NÚMERO DE DESCENDIENTES</td>\n",
       "    </tr>\n",
       "    <tr>\n",
       "      <th>factor</th>\n",
       "      <td>FACTOR DE ELEVACIÓN</td>\n",
       "    </tr>\n",
       "    <tr>\n",
       "      <th>PAR1</th>\n",
       "      <td>RENDIMIENTOS DEL TRABAJO: DINERARIAS</td>\n",
       "    </tr>\n",
       "    <tr>\n",
       "      <th>PAR9</th>\n",
       "      <td>RENDIMIENTOS DEL TRABAJO. TOTAL INGRESOS INTEGROS COMPUTABLES</td>\n",
       "    </tr>\n",
       "    <tr>\n",
       "      <th>PAR17</th>\n",
       "      <td>REDUCCIÓN POR OBTENCIÓN RDTO. TRABAJO.CUANTÍA APLICABLE CON CARÁCTER GENERAL.</td>\n",
       "    </tr>\n",
       "    <tr>\n",
       "      <th>PAR18</th>\n",
       "      <td>REDUCCIÓN POR OBTENCIÓN RDTO. TRABAJO.INCREMENTO PARA TRABAJADORES ACTIVOS MAYORES DE 65 AÑOS QUE CONTINUEN O PROLONGUEN LA ACTIVIDAD LABORAL.</td>\n",
       "    </tr>\n",
       "    <tr>\n",
       "      <th>PAR19</th>\n",
       "      <td>REDUCCIÓN POR OBTENCIÓN RDTO. TRABAJO.INCREMENTO PARA CONTRIB. DESEMPLEADOS QUE ACEPTEN UN PUESTO QUE EXIJA TRASLADO DE MUNICIPIO.</td>\n",
       "    </tr>\n",
       "    <tr>\n",
       "      <th>PAR20</th>\n",
       "      <td>REDUCCIÓN POR OBTENCIÓN RDTO. TRABAJO.REDUCCIÓN ADICIONAL PARA TRABAJADORES ACTIVOS QUE SEAN PRESONAS CON DISCAPACIDAD.</td>\n",
       "    </tr>\n",
       "    <tr>\n",
       "      <th>PAR452</th>\n",
       "      <td>SALDO NETO DE RENDIMIENTOS E IMPUTACIONES DE RENTA.</td>\n",
       "    </tr>\n",
       "    <tr>\n",
       "      <th>PAR455</th>\n",
       "      <td>BASE IMPONIBLE GENERAL</td>\n",
       "    </tr>\n",
       "    <tr>\n",
       "      <th>PAR465</th>\n",
       "      <td>BASE IMPONIBLE DEL AHORRO</td>\n",
       "    </tr>\n",
       "    <tr>\n",
       "      <th>PAR620</th>\n",
       "      <td>BASE LIQUIDABLE GENERAL SOMETIDA A GRAVAMEN.</td>\n",
       "    </tr>\n",
       "    <tr>\n",
       "      <th>PAR630</th>\n",
       "      <td>BASE LIQUIDABLE DEL AHORRO.</td>\n",
       "    </tr>\n",
       "    <tr>\n",
       "      <th>PAR698</th>\n",
       "      <td>CUOTA ÍNTEGRA ESTATAL</td>\n",
       "    </tr>\n",
       "    <tr>\n",
       "      <th>PAR699</th>\n",
       "      <td>CUOTA ÍNTEGRA AUTONÓMICA</td>\n",
       "    </tr>\n",
       "    <tr>\n",
       "      <th>PAR720</th>\n",
       "      <td>CUOTA LÍQUIDA ESTATAL</td>\n",
       "    </tr>\n",
       "    <tr>\n",
       "      <th>PAR721</th>\n",
       "      <td>CUOTA LÍQUIDA AUTONÓMICA</td>\n",
       "    </tr>\n",
       "    <tr>\n",
       "      <th>PAR741</th>\n",
       "      <td>CUOTA RESULTANTE DE LA AUTOLIQUIDACIÓN</td>\n",
       "    </tr>\n",
       "    <tr>\n",
       "      <th>PAR756</th>\n",
       "      <td>DEDUCCION POR MATERNIDAD: IMPORTE DE LA DEDUCCION</td>\n",
       "    </tr>\n",
       "    <tr>\n",
       "      <th>PAR760</th>\n",
       "      <td>RESULTADO</td>\n",
       "    </tr>\n",
       "    <tr>\n",
       "      <th>PAR716</th>\n",
       "      <td>DEDUCCIÓN POR ALQUILER DE VIVIENDA HABITUAL, PARTE AUTONÓMICA</td>\n",
       "    </tr>\n",
       "    <tr>\n",
       "      <th>PAR772</th>\n",
       "      <td>POR ALQUILER DE VIVIENDA HABITUAL PARTE AUTONÓMICA</td>\n",
       "    </tr>\n",
       "  </tbody>\n",
       "</table>\n",
       "</div>"
      ],
      "text/plain": [
       "                                                                                                                                                    descrip\n",
       "variable                                                                                                                                                   \n",
       "prov                                                                                                                                              PROVINCIA\n",
       "ca                                                                                                                                       COMUNIDAD AUTÓNOMA\n",
       "dec                                                                                                                                     TIPO DE DECLARACIÓN\n",
       "sexo                                                                                                                                    SEXO DEL DECLARANTE\n",
       "EstCv                                                                                                                           ESTADO CIVIL DEL DECLARANTE\n",
       "NmDesc                                                                                                                              NÚMERO DE DESCENDIENTES\n",
       "factor                                                                                                                                  FACTOR DE ELEVACIÓN\n",
       "PAR1                                                                                                                   RENDIMIENTOS DEL TRABAJO: DINERARIAS\n",
       "PAR9                                                                                          RENDIMIENTOS DEL TRABAJO. TOTAL INGRESOS INTEGROS COMPUTABLES\n",
       "PAR17                                                                     REDUCCIÓN POR OBTENCIÓN RDTO. TRABAJO.CUANTÍA APLICABLE CON CARÁCTER GENERAL.\n",
       "PAR18     REDUCCIÓN POR OBTENCIÓN RDTO. TRABAJO.INCREMENTO PARA TRABAJADORES ACTIVOS MAYORES DE 65 AÑOS QUE CONTINUEN O PROLONGUEN LA ACTIVIDAD LABORAL.\n",
       "PAR19                  REDUCCIÓN POR OBTENCIÓN RDTO. TRABAJO.INCREMENTO PARA CONTRIB. DESEMPLEADOS QUE ACEPTEN UN PUESTO QUE EXIJA TRASLADO DE MUNICIPIO.\n",
       "PAR20                            REDUCCIÓN POR OBTENCIÓN RDTO. TRABAJO.REDUCCIÓN ADICIONAL PARA TRABAJADORES ACTIVOS QUE SEAN PRESONAS CON DISCAPACIDAD.\n",
       "PAR452                                                                                                  SALDO NETO DE RENDIMIENTOS E IMPUTACIONES DE RENTA.\n",
       "PAR455                                                                                                                               BASE IMPONIBLE GENERAL\n",
       "PAR465                                                                                                                            BASE IMPONIBLE DEL AHORRO\n",
       "PAR620                                                                                                         BASE LIQUIDABLE GENERAL SOMETIDA A GRAVAMEN.\n",
       "PAR630                                                                                                                          BASE LIQUIDABLE DEL AHORRO.\n",
       "PAR698                                                                                                                               CUOTA ÍNTEGRA ESTATAL\n",
       "PAR699                                                                                                                           CUOTA ÍNTEGRA AUTONÓMICA\n",
       "PAR720                                                                                                                               CUOTA LÍQUIDA ESTATAL\n",
       "PAR721                                                                                                                           CUOTA LÍQUIDA AUTONÓMICA\n",
       "PAR741                                                                                                              CUOTA RESULTANTE DE LA AUTOLIQUIDACIÓN\n",
       "PAR756                                                                                                    DEDUCCION POR MATERNIDAD: IMPORTE DE LA DEDUCCION\n",
       "PAR760                                                                                                                                            RESULTADO\n",
       "PAR716                                                                                        DEDUCCIÓN POR ALQUILER DE VIVIENDA HABITUAL, PARTE AUTONÓMICA\n",
       "PAR772                                                                                                   POR ALQUILER DE VIVIENDA HABITUAL PARTE AUTONÓMICA"
      ]
     },
     "execution_count": 227,
     "metadata": {},
     "output_type": "execute_result"
    }
   ],
   "source": [
    "vdescrip"
   ]
  },
  {
   "cell_type": "code",
   "execution_count": 228,
   "metadata": {
    "collapsed": false
   },
   "outputs": [
    {
     "ename": "NameError",
     "evalue": "name 'media_pond_ij' is not defined",
     "output_type": "error",
     "traceback": [
      "\u001b[0;31m---------------------------------------------------------------------------\u001b[0m",
      "\u001b[0;31mNameError\u001b[0m                                 Traceback (most recent call last)",
      "\u001b[0;32m<ipython-input-228-170f75944a9a>\u001b[0m in \u001b[0;36m<module>\u001b[0;34m()\u001b[0m\n\u001b[1;32m      2\u001b[0m \u001b[0;31m#########\u001b[0m\u001b[0;34m\u001b[0m\u001b[0;34m\u001b[0m\u001b[0m\n\u001b[1;32m      3\u001b[0m \u001b[0;34m\u001b[0m\u001b[0m\n\u001b[0;32m----> 4\u001b[0;31m \u001b[0md\u001b[0m \u001b[0;34m=\u001b[0m \u001b[0mmedia_pond_ij\u001b[0m\u001b[0;34m.\u001b[0m\u001b[0mcopy\u001b[0m\u001b[0;34m(\u001b[0m\u001b[0;34m)\u001b[0m\u001b[0;34m\u001b[0m\u001b[0m\n\u001b[0m\u001b[1;32m      5\u001b[0m \u001b[0md_ca\u001b[0m \u001b[0;34m=\u001b[0m \u001b[0mmedia_pond_ca\u001b[0m\u001b[0;34m.\u001b[0m\u001b[0mcopy\u001b[0m\u001b[0;34m(\u001b[0m\u001b[0;34m)\u001b[0m\u001b[0;34m\u001b[0m\u001b[0m\n\u001b[1;32m      6\u001b[0m \u001b[0md_tramo\u001b[0m \u001b[0;34m=\u001b[0m \u001b[0mmedia_pond_tramo\u001b[0m\u001b[0;34m.\u001b[0m\u001b[0mcopy\u001b[0m\u001b[0;34m(\u001b[0m\u001b[0;34m)\u001b[0m\u001b[0;34m\u001b[0m\u001b[0m\n",
      "\u001b[0;31mNameError\u001b[0m: name 'media_pond_ij' is not defined"
     ]
    }
   ],
   "source": [
    "# GRAFICO 3d\n",
    "#########\n",
    "\n",
    "d = media_pond_ij.copy()\n",
    "d_ca = media_pond_ca.copy()\n",
    "d_tramo = media_pond_tramo.copy()\n",
    "\n",
    "d = pd.DataFrame(d.unstack().reset_index())\n",
    "colnames = list(d.columns)\n",
    "colnames[-1] = 'media'\n",
    "d.columns = colnames\n",
    "d.head()"
   ]
  },
  {
   "cell_type": "code",
   "execution_count": 150,
   "metadata": {
    "code_folding": [
     0
    ],
    "collapsed": false
   },
   "outputs": [
    {
     "data": {
      "image/png": "[encoded data removed]",
      "text/plain": [
       "<matplotlib.figure.Figure at 0x1190e3b70>"
      ]
     },
     "metadata": {},
     "output_type": "display_data"
    }
   ],
   "source": [
    "# GRÁFICOS DIFERENCIA RESPECTO DE LA MEDIA NACIONAL\n",
    "ttl = 'DISTRIBUCIÓN %s' % str_vname\n",
    "fs = (10,10)\n",
    "# subplots\n",
    "plt.figure(figsize=fs)\n",
    "ax1 = plt.subplot(2,2,1)\n",
    "ax2 = plt.subplot(2,2,2)\n",
    "ax3 = plt.subplot(2,2,3)\n",
    "ax4 = plt.subplot(2,2,4)\n",
    "ax2.text(0, 0.5,'MEDIA NACIONAL = %.3f' % media_nacional, \n",
    "         fontsize=15, \n",
    "         family='Serif')\n",
    "\n",
    "# barras\n",
    "g1 = sns.barplot(x=media_pond_ca.index, \n",
    "                 y=(media_pond_ca - media_nacional)/media_nacional, \n",
    "                 ax=ax1, \n",
    "                 color=sns.xkcd_rgb[\"medium green\"])#.set_xticklabels('')\n",
    "\n",
    "g4 = sns.barplot(x=(media_pond_tramo - media_nacional)/media_nacional,\n",
    "                 y=media_pond_tramo.index,\n",
    "                 ax=ax4,\n",
    "                 orient='horizontal',\n",
    "                 color=sns.xkcd_rgb[\"medium green\"])#.set_yticklabels('')\n",
    "\n",
    "# densidad\n",
    "sns.heatmap(data=(media_pond_ij - media_nacional)/media_nacional,\n",
    "            ax=ax3, \n",
    "            cbar=False, \n",
    "            cmap='Greens', \n",
    "            robust=True, \n",
    "            annot=False, \n",
    "            square=False, \n",
    "            fmt='.2f')\n",
    "\n",
    "# estilo\n",
    "plt.suptitle(ttl, fontsize=15, y=1.05)\n",
    "\n",
    "sns.despine(ax=ax1, left=True, bottom=True)\n",
    "sns.despine(ax=ax4, left=True, bottom=True)\n",
    "sns.despine(ax=ax2, left=True, bottom=True)\n",
    "\n",
    "ax1.set_xlabel('')\n",
    "ax4.set_ylabel('')\n",
    "\n",
    "ax1.set_ylabel('Euros')\n",
    "ax4.set_xlabel('Euros')\n",
    "\n",
    "ax1.yaxis.grid(True)\n",
    "ax4.xaxis.grid(True)\n",
    "\n",
    "ax3.set_ylabel('TRAMOS')\n",
    "ax3.set_xlabel('CCAA')\n",
    "\n",
    "ax2.tick_params(axis='both', \n",
    "                which='both', \n",
    "                bottom='off', \n",
    "                top='off', \n",
    "                labelbottom='off', \n",
    "                right='off', \n",
    "                left='off', \n",
    "                labelleft='off')\n",
    "\n",
    "# descripción\n",
    "plt.tight_layout()\n",
    "plt.savefig('imgs/dist_sobre_media_%s_%s' % (str_vname, date), bbox_inches='tight')"
   ]
  },
  {
   "cell_type": "code",
   "execution_count": 151,
   "metadata": {
    "code_folding": [
     0
    ],
    "collapsed": false
   },
   "outputs": [
    {
     "data": {
      "text/plain": [
       "dict_keys(['PAR620', 'PAR18', 'PAR772', 'PAR465', 'PAR699', 'PAR452', 'PAR720', 'PAR630', 'PAR20', 'PAR1', 'PAR455', 'PAR760', 'PAR9', 'PAR19', 'PAR741', 'PAR756', 'PAR698', 'PAR721', 'PAR716', 'PAR17'])"
      ]
     },
     "execution_count": 151,
     "metadata": {},
     "output_type": "execute_result"
    }
   ],
   "source": [
    "# DISTRIBUCIÓN ACUMULADA: LORENTZ(%POBLACION, $)\n",
    "lc = {}\n",
    "\n",
    "for v in variables_monetarias:\n",
    "#    v = list(v)                                 # Para cada par (factor, variable interes) \n",
    "    cdf = data.loc[:,[v, 'factor']].copy()        # creamos la variable funcion de densidad acumulada cdf\n",
    "\n",
    "    cdf = cdf.sort_values(by=v,              # ordenamos la variable monetaria de menor a mayor\n",
    "                          ascending=True)\n",
    "\n",
    "    cdf[v] = cdf.product(axis=1)             # variable monetaria a poblacional (W * variable)\n",
    "\n",
    "    cdf = cdf.cumsum() / cdf.sum()  # suma acumulada y dividimos por el total para normalizar\n",
    "\n",
    "    lc[v] = [cdf.factor.values, cdf[v].values]           # guardamos el resultado\n",
    "\n",
    "lc.keys()"
   ]
  },
  {
   "cell_type": "code",
   "execution_count": 155,
   "metadata": {
    "collapsed": false
   },
   "outputs": [
    {
     "name": "stdout",
     "output_type": "stream",
     "text": [
      "            Gini\n",
      "PAR17   0.186768\n",
      "PAR1    0.450976\n",
      "PAR9    0.451842\n",
      "PAR455  0.478219\n",
      "PAR452  0.479370\n",
      "PAR620  0.490741\n",
      "PAR699  0.681332\n",
      "PAR698  0.681479\n",
      "PAR720  0.704434\n",
      "PAR721  0.710242\n",
      "PAR741  0.714734\n",
      "PAR465  0.910197\n",
      "PAR630  0.911559\n",
      "PAR756  0.968481\n",
      "PAR716  0.970543\n",
      "PAR772  0.970543\n",
      "PAR20   0.986910\n",
      "PAR18   0.997569\n",
      "PAR19   0.998001\n"
     ]
    },
    {
     "data": {
      "image/png": "[encoded data removed]",
      "text/plain": [
       "<matplotlib.figure.Figure at 0x11b07a780>"
      ]
     },
     "metadata": {},
     "output_type": "display_data"
    }
   ],
   "source": [
    "# indice de gini\n",
    "# TODO COMPROBAR\n",
    "\n",
    "gini = {}\n",
    "\n",
    "for k in lc.keys():\n",
    "    if k == 'PAR760': continue\n",
    "    area_total = 0.5\n",
    "    area_bajo = si.trapz(x = lc[k][0],\n",
    "                         y = lc[k][1])\n",
    "    area_entre = area_total - area_bajo\n",
    "    gini[k] = 2 * area_entre\n",
    "\n",
    "df_gini = pd.DataFrame.from_dict(gini, orient='index').sort_values(by=0)\n",
    "df_gini.columns = ['Gini']\n",
    "df_gini.plot(kind='barh')\n",
    "\n",
    "sns.despine(bottom=True, \n",
    "            right=True)\n",
    "\n",
    "plt.suptitle('Indice de Gini', fontsize=15)\n",
    "plt.savefig('imgs/gini_%s.png' % date, bbbox_inches='tight')\n",
    "\n",
    "print(df_gini)"
   ]
  },
  {
   "cell_type": "code",
   "execution_count": 83,
   "metadata": {
    "code_folding": [],
    "collapsed": false
   },
   "outputs": [
    {
     "ename": "NameError",
     "evalue": "name 'glc' is not defined",
     "output_type": "error",
     "traceback": [
      "\u001b[0;31m---------------------------------------------------------------------------\u001b[0m",
      "\u001b[0;31mNameError\u001b[0m                                 Traceback (most recent call last)",
      "\u001b[0;32m<ipython-input-83-3c253ca3c383>\u001b[0m in \u001b[0;36m<module>\u001b[0;34m()\u001b[0m\n\u001b[1;32m      3\u001b[0m \u001b[0;31m# TODO Hacer el glc\u001b[0m\u001b[0;34m\u001b[0m\u001b[0;34m\u001b[0m\u001b[0m\n\u001b[1;32m      4\u001b[0m \u001b[0;34m\u001b[0m\u001b[0m\n\u001b[0;32m----> 5\u001b[0;31m \u001b[0mn\u001b[0m \u001b[0;34m=\u001b[0m \u001b[0;34m[\u001b[0m\u001b[0mlen\u001b[0m\u001b[0;34m(\u001b[0m\u001b[0mglc\u001b[0m\u001b[0;34m)\u001b[0m \u001b[0;32mif\u001b[0m \u001b[0mlen\u001b[0m\u001b[0;34m(\u001b[0m\u001b[0mglc\u001b[0m\u001b[0;34m)\u001b[0m \u001b[0;34m%\u001b[0m \u001b[0;36m2\u001b[0m \u001b[0;34m==\u001b[0m \u001b[0;36m0\u001b[0m \u001b[0;32melse\u001b[0m \u001b[0mlen\u001b[0m\u001b[0;34m(\u001b[0m\u001b[0mglc\u001b[0m\u001b[0;34m)\u001b[0m \u001b[0;34m+\u001b[0m \u001b[0;36m1\u001b[0m\u001b[0;34m]\u001b[0m\u001b[0;34m[\u001b[0m\u001b[0;36m0\u001b[0m\u001b[0;34m]\u001b[0m\u001b[0;34m\u001b[0m\u001b[0m\n\u001b[0m\u001b[1;32m      6\u001b[0m \u001b[0mfig\u001b[0m \u001b[0;34m=\u001b[0m \u001b[0mplt\u001b[0m\u001b[0;34m.\u001b[0m\u001b[0mfigure\u001b[0m\u001b[0;34m(\u001b[0m\u001b[0mfigsize\u001b[0m\u001b[0;34m=\u001b[0m\u001b[0;34m(\u001b[0m\u001b[0;36m10\u001b[0m\u001b[0;34m,\u001b[0m\u001b[0;36m2\u001b[0m\u001b[0;34m*\u001b[0m\u001b[0mn\u001b[0m\u001b[0;34m)\u001b[0m\u001b[0;34m)\u001b[0m\u001b[0;34m\u001b[0m\u001b[0m\n\u001b[1;32m      7\u001b[0m \u001b[0maxs\u001b[0m \u001b[0;34m=\u001b[0m \u001b[0mlist\u001b[0m\u001b[0;34m(\u001b[0m\u001b[0;34m)\u001b[0m\u001b[0;34m\u001b[0m\u001b[0m\n",
      "\u001b[0;31mNameError\u001b[0m: name 'glc' is not defined"
     ]
    }
   ],
   "source": [
    "# GLC PARA CADA VARIABLE DE INTERÉS\n",
    "# Determinar el numero de gráficos\n",
    "# TODO Hacer el glc\n",
    "\n",
    "n = [len(glc) if len(glc) % 2 == 0 else len(glc) + 1][0]\n",
    "fig = plt.figure(figsize=(10,2*n))\n",
    "axs = list()\n",
    "\n",
    "for i, k in enumerate(glc.keys()):\n",
    "    globals()['ax%s' % (i+1)] = fig.add_subplot(n/2, 2, i+1)\n",
    "    axs.append(globals()['ax%s' % (i+1)])\n",
    "    axs[-1].plot(glc[k][0], glc[k][1], label = k)\n",
    "\n",
    "plt.suptitle('Curva de Lorentz Generalizada', fontsize = 15, y = 1.05)\n",
    "\n",
    "for a in axs:\n",
    "    a.set_xlabel('% Población')\n",
    "    a.set_ylabel('Media (Percentil)')\n",
    "    a.legend(loc=0)\n",
    "    a.set_xlim(0,100)\n",
    "    a.yaxis.set_major_formatter(FuncFormatter(formatter))\n",
    "    a.grid(True)\n",
    "\n",
    "plt.tight_layout()\n",
    "plt.savefig('imgs/glc_%s_%s.png' % ('principales', date), bbox_iches='tight')"
   ]
  },
  {
   "cell_type": "raw",
   "metadata": {},
   "source": [
    "bins = [0, 6000, 12000, 18000, 24000, 30000, 36000, 42000, 48000, 54000, 60000]\n",
    "for i, b in enumerate(bins):\n",
    "    if 0 == b:\n",
    "        print('%s:\\'Negativas y 0.\\',' % (i+1))\n",
    "    elif b <= bins[-1]:\n",
    "        print('%s:\\'Desde %s hasta %s euros.\\',' % (i+1, bins[i-1], b))\n",
    "print('%s\\'De más de 60.000 euros.\\',' % 12)"
   ]
  },
  {
   "cell_type": "raw",
   "metadata": {
    "collapsed": false
   },
   "source": []
  },
  {
   "cell_type": "code",
   "execution_count": 85,
   "metadata": {
    "collapsed": false
   },
   "outputs": [
    {
     "name": "stdout",
     "output_type": "stream",
     "text": [
      "![](doc/imgs/1.png)\n",
      "![](doc/imgs/2.png)\n",
      "\n",
      "![](doc/imgs/3.png)\n",
      "![](doc/imgs/4.png)\n",
      "\n",
      "![](doc/imgs/5.png)\n",
      "![](doc/imgs/6.png)\n",
      "\n",
      "![](doc/imgs/7.png)\n",
      "![](doc/imgs/8.png)\n",
      "\n",
      "![](doc/imgs/9.png)\n",
      "![](doc/imgs/10.png)\n",
      "\n",
      "![](doc/imgs/11.png)\n",
      "![](doc/imgs/12.png)\n",
      "\n",
      "![](doc/imgs/13.png)\n",
      "![](doc/imgs/14.png)\n",
      "\n",
      "![](doc/imgs/15.png)\n",
      "![](doc/imgs/16.png)\n",
      "\n",
      "![](doc/imgs/17.png)\n",
      "![](doc/imgs/18.png)\n",
      "\n",
      "![](doc/imgs/19.png)\n",
      "![](doc/imgs/20.png)\n",
      "\n",
      "![](doc/imgs/21.png)\n",
      "![](doc/imgs/22.png)\n",
      "\n",
      "![](doc/imgs/23.png)\n",
      "![](doc/imgs/24.png)\n",
      "\n",
      "![](doc/imgs/25.png)\n",
      "![](doc/imgs/26.png)\n",
      "\n"
     ]
    }
   ],
   "source": [
    "for i in range(1,27, 2):\n",
    "    s = '![](doc/imgs/%s.png)'\n",
    "    print(s % i)\n",
    "    print(s % (i+1))\n",
    "    print()"
   ]
  },
  {
   "cell_type": "code",
   "execution_count": 103,
   "metadata": {
    "code_folding": [],
    "collapsed": true
   },
   "outputs": [],
   "source": [
    "# funcoin para construir los tramos de renta\n",
    "def convertir_tramos(x):\n",
    "    tramos = [0, 6000, 12000, 18000, 24000, 30000, 36000, 42000, 48000, 54000, 60000]\n",
    "    for i, tramo in enumerate(tramos):\n",
    "        if x > tramos[-1]:\n",
    "            return len(tramos)\n",
    "        elif x > tramo: continue\n",
    "        return i+1\n",
    "# data['tramo'] = data.renta.map(binned)"
   ]
  }
 ],
 "metadata": {
  "kernelspec": {
   "display_name": "Python 3",
   "language": "python",
   "name": "python3"
  },
  "language_info": {
   "codemirror_mode": {
    "name": "ipython",
    "version": 3
   },
   "file_extension": ".py",
   "mimetype": "text/x-python",
   "name": "python",
   "nbconvert_exporter": "python",
   "pygments_lexer": "ipython3",
   "version": "3.5.0"
  }
 },
 "nbformat": 4,
 "nbformat_minor": 0
}
