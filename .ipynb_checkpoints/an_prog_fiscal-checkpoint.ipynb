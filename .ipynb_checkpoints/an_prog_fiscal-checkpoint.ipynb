{
 "cells": [
  {
   "cell_type": "markdown",
   "metadata": {},
   "source": [
    "# ANALISIS DE PROGRESIVIDAD:\n",
    "\n",
    "En enero de 2015 entra en vigor la reforma fiscal propuesta por el ministro Montoro. Esta reforma modifica varias figuras impositivas, en este artículo nos centramos en el IRPF. \n",
    "\n",
    "¿Por que analizar el IRPF? Por que básicamente es el  impuesto estrella del gobierno por su importancia en recaudación y en los efectos en el mercado laboral.\n"
   ]
  },
  {
   "cell_type": "code",
   "execution_count": 11,
   "metadata": {
    "collapsed": false
   },
   "outputs": [
    {
     "name": "stdout",
     "output_type": "stream",
     "text": [
      "Introducimos datos para simular una serie de rentas para aplicar los tipos del IRPF y estudiar su comportamiento\n",
      "La simulación por defecto crea una serie desde 5000 hasta 400000 con incrementos de 1000\n"
     ]
    }
   ],
   "source": [
    "#!/usr/bin/env python\n",
    "# -*- coding: utf-8 -*-\n",
    "\n",
    "# ---------------------------------------------------------------------------------\n",
    "# CARGAR LIBRERIAS\n",
    "# ---------------------------------------------------------------------------------\n",
    "import pandas as pd\n",
    "import numpy as np\n",
    "# import scipy as sc\n",
    "import matplotlib.pyplot as plt\n",
    "import seaborn as sns\n",
    "\n",
    "sns.set_style('whitegrid')\n",
    "sns.set(style=\"ticks\", palette=\"Set2\")\n",
    "sns.despine()\n",
    "%matplotlib inline \n",
    "\n",
    "sns.set_context(rc={\"figure.figsize\": (10, 5)})\n",
    "\n",
    "print u\"Introducimos datos para simular una serie de rentas para aplicar los tipos del IRPF y estudiar su comportamiento\"\n",
    "print u\"La simulación por defecto crea una serie desde 5000 hasta 400000 con incrementos de 1000\"\n",
    "\n",
    "# r = raw_input(u\"Para cambiar los parámetros de la simulación escriba 1, sino 0: \")"
   ]
  },
  {
   "cell_type": "markdown",
   "metadata": {},
   "source": [
    "## INTRODUCCIÓN DE LOS DATOS DE IRPF PARA EL CASO DE ARAGON:"
   ]
  },
  {
   "cell_type": "code",
   "execution_count": 12,
   "metadata": {
    "collapsed": false
   },
   "outputs": [],
   "source": [
    "####################################################################################\n",
    "####                          DATOS ACTUALES DE IRPF                         #######\n",
    "####################################################################################\n",
    "\n",
    "base_actual = [0, \n",
    "               17707.20, \n",
    "               33007.20, \n",
    "               53407.20, \n",
    "               120000.00, \n",
    "               175000.00, \n",
    "               300000.00]\n",
    "\n",
    "cuota_actual = [0, \n",
    "                4382.53, \n",
    "                8972.53, \n",
    "                17132.53, \n",
    "                48431.15, \n",
    "                75381.15, \n",
    "                139131.15]\n",
    "\n",
    "t_actual = [0.2475, \n",
    "            0.3000, \n",
    "            0.4000, \n",
    "            0.470, \n",
    "            0.490, \n",
    "            0.510, \n",
    "            0.520]\n",
    "\n",
    "####################################################################################\n",
    "#########                     DATOS REFORMA DE 2015:                        ########\n",
    "####################################################################################\n",
    "\n",
    "t_estatal = [.10, \n",
    "             .125, \n",
    "             .155, \n",
    "             .195, \n",
    "             .235]\n",
    "\n",
    "t_aragon = [.10, \n",
    "            .125, \n",
    "            .1550, \n",
    "            .19, \n",
    "            .215]\n",
    "\n",
    "t_2015 = [t_estatal[i] + t_aragon[i] for i in range(5)]\n",
    "\n",
    "base_2015 = [0, \n",
    "             12450.00, \n",
    "             20200.00, \n",
    "             34000.00, \n",
    "             60000.00]\n",
    "\n",
    "cuota_2015 = [0, \n",
    "              2490, \n",
    "              4427.5, \n",
    "              8705.5, \n",
    "              18715.5]\n",
    "\n",
    "d_14 = pd.DataFrame({\"bi_14\": base_actual, \n",
    "                     \"c_14\": cuota_actual, \n",
    "                     \"t_14\": t_actual})\n",
    "\n",
    "d_15 = pd.DataFrame({\"bi_15\": base_2015, \n",
    "                     \"c_15\": cuota_2015, \n",
    "                     \"t_15\": t_2015})"
   ]
  },
  {
   "cell_type": "code",
   "execution_count": null,
   "metadata": {
    "collapsed": false
   },
   "outputs": [],
   "source": []
  },
  {
   "cell_type": "code",
   "execution_count": null,
   "metadata": {
    "collapsed": false
   },
   "outputs": [],
   "source": []
  },
  {
   "cell_type": "code",
   "execution_count": 13,
   "metadata": {
    "collapsed": false
   },
   "outputs": [],
   "source": [
    "# SIMULAMOS UNA SERIE DE RENTAS:\n",
    "\n",
    "# calculamos una serie de bases liquidas para simular el comportamiento. Agregar # al principio de la linea para activar la siguiente\n",
    "base_sim = np.arange(1000, 400001, 100)\n",
    "    \n"
   ]
  },
  {
   "cell_type": "code",
   "execution_count": 14,
   "metadata": {
    "collapsed": false
   },
   "outputs": [],
   "source": [
    "def gravar(base_sim, \n",
    "           base_legal, \n",
    "           cuota_legal, \n",
    "           t_legal):\n",
    "    '''\n",
    "    Información legislativa\n",
    "    base_sim = lista de la simulacion de bases\n",
    "    base_legal = lista con los valores de los tramos de base imponible\n",
    "    cuota_legal = lista con los valore las cuotas de cada tramo\n",
    "    t_legal = lista con los tipos de gravamen marginal\n",
    "    \n",
    "    return cuota, t_mg, t_me\n",
    "    '''\n",
    "    \n",
    "    n_bl = len(base_legal)\n",
    "    n_bs = len(base_sim)\n",
    "    \n",
    "    form = [\"_\" * 10] * 3\n",
    "    tits = [\"base legal\", \"cuota legal\", \"tipo mg legal\"]\n",
    "    \n",
    "    print \"_\"*50, \"\\n\"\n",
    "    print \"{}\\t{}\\t{}\".format(tits[0], tits[1], tits[2])\n",
    "    print \"{:10}\\t{:10}\\t{:10}\\n\".format(form[0], form[1], form[2])\n",
    "    \n",
    "    for i in range(n_bl):\n",
    "        print \"{:10}\\t{:10}\\t{:10}\".format(base_legal[i], \n",
    "                                           cuota_legal[i], \n",
    "                                           t_legal[i])\n",
    "    \n",
    "    print \"_\"*50\n",
    "    \n",
    "    # Comparamos cada elemento de la base simulada con la base legal:\n",
    "    \n",
    "    comparador = [[base_sim[i] <= base_legal[ii] for ii in range(n_bl)] for i in range(n_bs)]\n",
    "    indices = []\n",
    "    \n",
    "    for i in range(n_bs):\n",
    "        if True in comparador[i]:\n",
    "            indices.append(comparador[i].index(True) - 1)\n",
    "        else: \n",
    "            indices.append(n_bl - 1)\n",
    "\n",
    "    cuota = []\n",
    "    t_mg = []\n",
    "    t_me = []\n",
    "\n",
    "    for i,e in enumerate(indices):\n",
    "        if base_sim[i] > 0:\n",
    "            cuota.append(cuota_legal[e] + \n",
    "                         (base_sim[i] - base_legal[e]) * \n",
    "                         t_legal[e])\n",
    "\n",
    "            t_mg.append(t_legal[e])\n",
    "            t_me.append(cuota[i] / base_sim[i])\n",
    "\n",
    "        else:\n",
    "            cuota.append(0)\n",
    "            t_mg.append(t_legal[0])\n",
    "            t_me.append(0)\n",
    "\n",
    "\n",
    "    \n",
    "    return cuota, t_mg, t_me"
   ]
  },
  {
   "cell_type": "code",
   "execution_count": 15,
   "metadata": {
    "collapsed": false
   },
   "outputs": [
    {
     "name": "stdout",
     "output_type": "stream",
     "text": [
      "__________________________________________________ \n",
      "\n",
      "base legal\tcuota legal\ttipo mg legal\n",
      "__________\t__________\t__________\n",
      "\n",
      "         0\t         0\t    0.2475\n",
      "   17707.2\t   4382.53\t       0.3\n",
      "   33007.2\t   8972.53\t       0.4\n",
      "   53407.2\t  17132.53\t      0.47\n",
      "  120000.0\t  48431.15\t      0.49\n",
      "  175000.0\t  75381.15\t      0.51\n",
      "  300000.0\t 139131.15\t      0.52\n",
      "__________________________________________________\n"
     ]
    }
   ],
   "source": [
    "ci_actual, t_mg_actual, t_me_actual = gravar(base_sim, \n",
    "                                                base_actual, \n",
    "                                                cuota_actual, \n",
    "                                                t_actual)"
   ]
  },
  {
   "cell_type": "markdown",
   "metadata": {},
   "source": [
    "# CALCULOS DE LA SIMULACIÓN:\n",
    "- CUOTA\n",
    "- TIPOS MEDIOS Y MARGINALES"
   ]
  },
  {
   "cell_type": "code",
   "execution_count": null,
   "metadata": {
    "collapsed": false
   },
   "outputs": [],
   "source": []
  },
  {
   "cell_type": "code",
   "execution_count": null,
   "metadata": {
    "collapsed": false
   },
   "outputs": [],
   "source": []
  },
  {
   "cell_type": "code",
   "execution_count": 16,
   "metadata": {
    "collapsed": false
   },
   "outputs": [
    {
     "name": "stdout",
     "output_type": "stream",
     "text": [
      "__________________________________________________ \n",
      "\n",
      "base legal\tcuota legal\ttipo mg legal\n",
      "__________\t__________\t__________\n",
      "\n",
      "         0\t         0\t    0.2475\n",
      "   17707.2\t   4382.53\t       0.3\n",
      "   33007.2\t   8972.53\t       0.4\n",
      "   53407.2\t  17132.53\t      0.47\n",
      "  120000.0\t  48431.15\t      0.49\n",
      "  175000.0\t  75381.15\t      0.51\n",
      "  300000.0\t 139131.15\t      0.52\n",
      "__________________________________________________\n"
     ]
    }
   ],
   "source": [
    "ci_actual, t_mg_actual, t_me_actual = gravar(base_sim, \n",
    "                                                base_actual, \n",
    "                                                cuota_actual, \n",
    "                                                t_actual)\n"
   ]
  },
  {
   "cell_type": "code",
   "execution_count": 17,
   "metadata": {
    "collapsed": false
   },
   "outputs": [
    {
     "name": "stdout",
     "output_type": "stream",
     "text": [
      "__________________________________________________ \n",
      "\n",
      "base legal\tcuota legal\ttipo mg legal\n",
      "__________\t__________\t__________\n",
      "\n",
      "         0\t         0\t       0.2\n",
      "   12450.0\t      2490\t      0.25\n",
      "   20200.0\t    4427.5\t      0.31\n",
      "   34000.0\t    8705.5\t     0.385\n",
      "   60000.0\t   18715.5\t      0.45\n",
      "__________________________________________________\n"
     ]
    }
   ],
   "source": [
    "ci_2015, t_mg_2015, t_me_2015 = gravar(base_sim, \n",
    "                                          base_2015, \n",
    "                                          cuota_2015, \n",
    "                                          t_2015)"
   ]
  },
  {
   "cell_type": "code",
   "execution_count": null,
   "metadata": {
    "collapsed": false
   },
   "outputs": [],
   "source": []
  },
  {
   "cell_type": "markdown",
   "metadata": {},
   "source": [
    "# PRESENTACIÓN DE RESULTADOS\n",
    "\n",
    "## DATOS USADOS NORMATIVA 2014"
   ]
  },
  {
   "cell_type": "code",
   "execution_count": 8,
   "metadata": {
    "collapsed": false
   },
   "outputs": [
    {
     "name": "stdout",
     "output_type": "stream",
     "text": [
      "     DATOS IRPF GLOBAL 2014 PARA ARAGON      \n",
      "_____________________________________________\n",
      "\n",
      "   BASE   \t  CUOTA   \t GRAVAMEN \n",
      "__________\t__________\t__________\n",
      "\n",
      "   0.0    \t   0.00   \t  0.247   \n",
      " 17707.2  \t 4382.53  \t  0.300   \n",
      " 33007.2  \t 8972.53  \t  0.400   \n",
      " 53407.2  \t 17132.53 \t  0.470   \n",
      " 120000.0 \t 48431.15 \t  0.490   \n",
      " 175000.0 \t 75381.15 \t  0.510   \n",
      " 300000.0 \t139131.15 \t  0.520   \n",
      "_____________________________________________\n",
      "\n"
     ]
    },
    {
     "data": {
      "image/png": "[encoded data removed]",
      "text/plain": [
       "<matplotlib.figure.Figure at 0x108fa1f10>"
      ]
     },
     "metadata": {},
     "output_type": "display_data"
    }
   ],
   "source": [
    "# ---------------------------------------------------------------------------------\n",
    "# VISUALIZAR DATOS\n",
    "# ---------------------------------------------------------------------------------\n",
    "def ver_datos_ac():\n",
    "\n",
    "\tprint \"{:^45}\".format(\"DATOS IRPF GLOBAL 2014 PARA ARAGON\")\n",
    "\tprint \"{:^45}\".format(\"_\" * 45)\n",
    "\tprint \"\"\n",
    "\tprint \"{:^10}\\t{:^10}\\t{:^10}\".format(\"BASE\", \"CUOTA\", \"GRAVAMEN\")\n",
    "\tprint \"{:^10}\\t{:^10}\\t{:^10}\".format(\"_\" * 10, \"_\" * 10, \"_\" * 10)\n",
    "\tprint \"\"\n",
    "\tfor i in range(len(base_actual)):\n",
    "\t\tprint \"{:^10.1f}\\t{:^10.2f}\\t{:^10.3f}\".format(base_actual[i], cuota_actual[i], t_actual[i])\n",
    "\tprint \"{:^45}\".format(\"_\" * 45)\n",
    "\tprint \"\"\n",
    "\n",
    "\n",
    "\tplt.figure(dpi=800)\n",
    "\tplt.suptitle(u\"IRPF GLOBAL 2014 PARA ARAGÓN\", fontsize=15)\n",
    "\tplt.plot(base_sim, t_mg_actual, linewidth=2)\n",
    "\tplt.fill_between(base_sim, t_mg_actual, 0, alpha=0.3)\n",
    "\tplt.yticks(t_actual, fontsize=12)\n",
    "\tplt.xticks(base_actual, fontsize=12, rotation=90)\n",
    "\tplt.xlabel(\"Base\")\n",
    "\tplt.ylabel(\"Tipo Impositivo\")\n",
    "\tplt.margins(0.03)\n",
    "\tplt.xlim(0,350000)\n",
    "\n",
    "\tplt.show()\n",
    "\n",
    "ver_datos_ac()"
   ]
  },
  {
   "cell_type": "markdown",
   "metadata": {},
   "source": [
    "# RESULTADOS DE LA SIMULACION CON LA NORMATIVA DE 2014"
   ]
  },
  {
   "cell_type": "code",
   "execution_count": 9,
   "metadata": {
    "collapsed": false
   },
   "outputs": [
    {
     "name": "stdout",
     "output_type": "stream",
     "text": [
      "\n",
      "           CALCULOS IRPF 2014 PARA ARAGON, MUESTRA FILTRADA           \n",
      "______________________________________________________________________\n",
      "\n",
      "   BASE   \t  CUOTA   \t   t_mg   \t   t_me   \n",
      "__________\t__________\t__________\t__________\n",
      "\n",
      "      1000\t    247.50\t  0.247   \t  0.247   \n",
      "     31000\t   8370.37\t  0.300   \t  0.270   \n",
      "     61000\t  20701.15\t  0.470   \t  0.339   \n",
      "     91000\t  34801.15\t  0.470   \t  0.382   \n",
      "    121000\t  48921.15\t  0.490   \t  0.404   \n",
      "    151000\t  63621.15\t  0.490   \t  0.421   \n",
      "    181000\t  78441.15\t  0.510   \t  0.433   \n",
      "    211000\t  93741.15\t  0.510   \t  0.444   \n",
      "    241000\t 109041.15\t  0.510   \t  0.452   \n",
      "    271000\t 124341.15\t  0.510   \t  0.459   \n",
      "    301000\t 139651.15\t  0.520   \t  0.464   \n",
      "    331000\t 155251.15\t  0.520   \t  0.469   \n",
      "    361000\t 170851.15\t  0.520   \t  0.473   \n",
      "    391000\t 186451.15\t  0.520   \t  0.477   \n",
      "______________________________________________________________________\n",
      "\n"
     ]
    }
   ],
   "source": [
    "####################################################################################\n",
    "######                  PRESENTACION DE DATOS VISUALES                     #########\n",
    "####################################################################################\n",
    "\n",
    "\n",
    "# ---------------------------------------------------------------------------------\n",
    "#  CALCULOS ACTUAL:\n",
    "# ---------------------------------------------------------------------------------\n",
    "def ver_calculos_ac():\n",
    "\n",
    "\tprint \"\"\n",
    "\n",
    "\tprint \"{:^70}\".format(\"CALCULOS IRPF 2014 PARA ARAGON, MUESTRA FILTRADA\")\n",
    "\tprint \"{:^70}\".format(\"_\"*70)\n",
    "\tprint \"\"\n",
    "\tprint \"{:^10}\\t{:^10}\\t{:^10}\\t{:^10}\".format(\"BASE\",\"CUOTA\",\"t_mg\",\"t_me\")\n",
    "\tprint \"{:^10}\\t{:^10}\\t{:^10}\\t{:^10}\".format(\"_\"*10, \"_\"*10, \"_\"*10, \"_\"*10)\n",
    "\tprint \"\"\n",
    "\tfor i in range(0, len(base_sim), 300): # FILTRO DE LA MUESTRA\n",
    "\t    print \"{:>10.0f}\\t{:>10.2f}\\t{:^10.3f}\\t{:^10.3f}\".format(base_sim[i], ci_actual[i], t_mg_actual[i], t_me_actual[i])\n",
    "\tprint \"{:^70}\".format(\"_\"*70)\n",
    "\tprint \"\"\n",
    "    \n",
    "ver_calculos_ac()"
   ]
  },
  {
   "cell_type": "markdown",
   "metadata": {},
   "source": [
    "# - TRAS LA REFORMA\n",
    "---\n",
    "\n",
    "# DATOS DE LA REFORMA DEL IRPF 2015"
   ]
  },
  {
   "cell_type": "code",
   "execution_count": 10,
   "metadata": {
    "collapsed": false
   },
   "outputs": [
    {
     "name": "stdout",
     "output_type": "stream",
     "text": [
      "\n",
      "     DATOS IRPF GLOBAL 2015 PARA ARAGON      \n",
      "_____________________________________________\n",
      "\n",
      "   BASE   \t  CUOTA   \t GRAVAMEN \n",
      "__________\t__________\t__________\n",
      "\n",
      "   0.0    \t   0.00   \t  0.200   \n",
      " 12450.0  \t 2490.00  \t  0.250   \n",
      " 20200.0  \t 4427.50  \t  0.310   \n",
      " 34000.0  \t 8705.50  \t  0.385   \n",
      " 60000.0  \t 18715.50 \t  0.450   \n",
      "_____________________________________________\n"
     ]
    },
    {
     "data": {
      "image/png": "[encoded data removed]",
      "text/plain": [
       "<matplotlib.figure.Figure at 0x109ae90d0>"
      ]
     },
     "metadata": {},
     "output_type": "display_data"
    }
   ],
   "source": [
    "# ---------------------------------------------------------------------------------\n",
    "# VISUALIZAR DATOS REFORMA 2015\n",
    "# ---------------------------------------------------------------------------------\n",
    "def ver_datos_2015():\n",
    "\n",
    "\tprint \"{:^45}\".format(\"DATOS IRPF GLOBAL 2015 PARA ARAGON\")\n",
    "\tprint \"{:^45}\".format(\"_\" * 45)\n",
    "\tprint \"\"\n",
    "\tprint \"{:^10}\\t{:^10}\\t{:^10}\".format(\"BASE\", \n",
    "                                          \"CUOTA\", \n",
    "                                          \"GRAVAMEN\")\n",
    "\tprint \"{:^10}\\t{:^10}\\t{:^10}\".format(\"_\" * 10, \n",
    "                                          \"_\" * 10, \n",
    "                                          \"_\" * 10)\n",
    "\tprint \"\"\n",
    "\tfor i in range(len(base_2015)):\n",
    "\t    print \"{:^10.1f}\\t{:^10.2f}\\t{:^10.3f}\".format(base_2015[i], \n",
    "                                                       cuota_2015[i], \n",
    "                                                       t_2015[i])\n",
    "\tprint \"{:^45}\".format(\"_\" * 45)\n",
    "print \"\"\n",
    "\n",
    "ver_datos_2015()\n",
    "\n",
    "plt.figure(dpi=800)\n",
    "\n",
    "plt.suptitle(u\"ESPAÑA: DATOS IRPF GLOBAL 2015 PARA ARAGÓN\", \n",
    "             fontsize=15)\n",
    "plt.plot(base_sim, \n",
    "         t_mg_2015)\n",
    "\n",
    "plt.fill_between(base_sim, \n",
    "                 t_mg_2015, \n",
    "                 0, \n",
    "                 alpha=0.3)\n",
    "\n",
    "\n",
    "plt.yticks(t_2015, \n",
    "           fontsize=12)\n",
    "plt.xticks(base_2015, \n",
    "           fontsize=12)\n",
    "plt.xlim(0,\n",
    "         65000)\n",
    "plt.xlabel(\"Base\")\n",
    "plt.ylabel(\"Tipo Impositivo\")\n",
    "plt.margins(0.03)\n",
    "\n",
    "\n",
    "plt.show()"
   ]
  },
  {
   "cell_type": "code",
   "execution_count": 11,
   "metadata": {
    "collapsed": false
   },
   "outputs": [
    {
     "data": {
      "image/png": "[encoded data removed]",
      "text/plain": [
       "<matplotlib.figure.Figure at 0x10f06f110>"
      ]
     },
     "metadata": {},
     "output_type": "display_data"
    }
   ],
   "source": [
    "plt.figure(dpi=800)\n",
    "plt.suptitle(u\"IRPF 2014-15 PARA ARAGÓN\", \n",
    "             fontsize=15)\n",
    "\n",
    "plt.plot(base_sim, \n",
    "         t_mg_actual, \n",
    "         linewidth=2, \n",
    "         label=\"2014\")\n",
    "\n",
    "plt.fill_between(base_sim, \n",
    "                 t_mg_actual, \n",
    "                 0, \n",
    "                 alpha=0.2)\n",
    "\n",
    "plt.yticks(t_actual, \n",
    "           fontsize=12)\n",
    "\n",
    "plt.xticks(base_actual, \n",
    "           fontsize=12, \n",
    "           rotation=90)\n",
    "\n",
    "plt.xlabel(\"Base\")\n",
    "plt.ylabel(\"Tipo Impositivo\")\n",
    "\n",
    "\n",
    "\n",
    "plt.plot(base_sim, \n",
    "         t_mg_2015, \n",
    "         linewidth=2, \n",
    "         label=\"2015\")\n",
    "\n",
    "plt.fill_between(base_sim, \n",
    "                 t_mg_2015, \n",
    "                 0, \n",
    "                 alpha=0.1, \n",
    "                 color=\"g\")\n",
    "\n",
    "plt.yticks(t_2015, \n",
    "           fontsize=12)\n",
    "\n",
    "plt.xticks(base_2015,\n",
    "           fontsize=12)\n",
    "\n",
    "\n",
    "\n",
    "plt.xlabel(\"Base\")\n",
    "plt.ylabel(\"Tipo Impositivo\")\n",
    "plt.margins(0.03)\n",
    "plt.legend()\n",
    "\n",
    "plt.show()\n",
    "\n"
   ]
  },
  {
   "cell_type": "markdown",
   "metadata": {},
   "source": [
    "## RESULTADOS SIMULADOS TRAS LA REFORMA:"
   ]
  },
  {
   "cell_type": "code",
   "execution_count": 12,
   "metadata": {
    "collapsed": false
   },
   "outputs": [
    {
     "name": "stdout",
     "output_type": "stream",
     "text": [
      "\n",
      "      RESULTADO CALCULOS IRPF 2015, MUESTRA FILTRADA      \n",
      "__________________________________________________________\n",
      "\n",
      "   Base   \t  Cuota   \t   t_mg   \t   t_me   \n",
      "__________\t__________\t__________\t__________\n",
      "\n",
      "      1000\t     200.0\t  0.200   \t  0.200   \n",
      "     31000\t    7775.5\t  0.310   \t  0.251   \n",
      "     61000\t   19165.5\t  0.450   \t  0.314   \n",
      "     91000\t   32665.5\t  0.450   \t  0.359   \n",
      "    121000\t   46165.5\t  0.450   \t  0.382   \n",
      "    151000\t   59665.5\t  0.450   \t  0.395   \n",
      "    181000\t   73165.5\t  0.450   \t  0.404   \n",
      "    211000\t   86665.5\t  0.450   \t  0.411   \n",
      "    241000\t  100165.5\t  0.450   \t  0.416   \n",
      "    271000\t  113665.5\t  0.450   \t  0.419   \n",
      "    301000\t  127165.5\t  0.450   \t  0.422   \n",
      "    331000\t  140665.5\t  0.450   \t  0.425   \n",
      "    361000\t  154165.5\t  0.450   \t  0.427   \n",
      "    391000\t  167665.5\t  0.450   \t  0.429   \n",
      "__________________________________________________________\n",
      "\n"
     ]
    }
   ],
   "source": [
    "# ---------------------------------------------------------------------------------\n",
    "# VISUALIZAR LOS RESULTADOS IRPF 2015:\n",
    "# ---------------------------------------------------------------------------------\n",
    "# formatear como tabla '{0:>10}\\t{1:>10}\\t{2:^10}\\t{3:^10}'.format(\"Base\", \"Cuota\", \"tme\", \"tmg\")\n",
    "# formatear como tabla numeros  '{:>10.0f}\\t{:>10.1f}\\t{:^10.3f}\\t{:^10.3f}'.format(base_sim[i], round(ci_2015[i], 3), round(t_me_2015[i], 3), round(t_mg_2015[i],3))\n",
    "\n",
    "def ver_calculos_2015():\n",
    "\tprint \"\"\n",
    "\tprint \"{0:^58}\".format(\"RESULTADO CALCULOS IRPF 2015, MUESTRA FILTRADA\")\n",
    "\tprint \"_\" * 58\n",
    "\tprint \"\"\n",
    "\tprint '{0:^10}\\t{1:^10}\\t{2:^10}\\t{3:^10}'.format(\"Base\", \n",
    "                                                      \"Cuota\", \n",
    "                                                      \"t_mg\", \n",
    "                                                      \"t_me\")\n",
    "\tprint '{0:^10}\\t{0:^10}\\t{0:^10}\\t{0:^10}'.format(\"_\"*10)\n",
    "\tprint \"\"\n",
    "\tfor i in range(0, len(base_sim), 300):\n",
    "\t\tprint '{:>10.0f}\\t{:>10.1f}\\t{:^10.3f}\\t{:^10.3f}'.format(base_sim[i], \n",
    "                                                                  round(ci_2015[i], 3), \n",
    "                                                                  round(t_mg_2015[i], 3), \n",
    "                                                                  round(t_me_2015[i],3))\n",
    "\tprint \"_\" * 58\n",
    "\tprint \"\"\n",
    "\n",
    "ver_calculos_2015()"
   ]
  },
  {
   "cell_type": "markdown",
   "metadata": {},
   "source": [
    "## ANÁLISIS GRÁFICO DE LA REFORMA:\n",
    "\n",
    "> LAS SOMBRAS SON EL AREA ENTRE LAS CURVAS RESPECTO DE TIPO MEDIO Y MARGINAL PARA EL CASO QUE NO SE GRAFICA.\n",
    "\n"
   ]
  },
  {
   "cell_type": "code",
   "execution_count": 13,
   "metadata": {
    "collapsed": false
   },
   "outputs": [
    {
     "data": {
      "image/png": "[encoded data removed]",
      "text/plain": [
       "<matplotlib.figure.Figure at 0x115479c50>"
      ]
     },
     "metadata": {},
     "output_type": "display_data"
    }
   ],
   "source": [
    "# ---------------------------------------------------------------------------------\n",
    "#                    GRAFICO DE IRFP 2014:\n",
    "# ---------------------------------------------------------------------------------\n",
    "\n",
    "\n",
    "plt.figure(figsize=(15,8), dpi=800)\n",
    "\n",
    "\n",
    "plt.subplot(2,2,1)\n",
    "\n",
    "plt.plot(ci_actual, \n",
    "         t_mg_actual, \n",
    "         label = \"cuota_tmg_2014\")\n",
    "\n",
    "plt.plot(ci_actual, \n",
    "         t_me_actual, \n",
    "         label = \"cuota_tme_2014\")\n",
    "\n",
    "plt.fill_between(ci_2015, \n",
    "                 t_mg_2015, \n",
    "                 t_me_2015, \n",
    "                 color = 'black', \n",
    "                 interpolate = True, \n",
    "                 alpha=0.1)\n",
    "\n",
    "plt.margins(0.1)\n",
    "\n",
    "plt.xlabel(\"Base (euros)\")\n",
    "plt.ylabel(\"Tipo Impositivo\")\n",
    "plt.legend(loc=\"lower right\")\n",
    "\n",
    "\n",
    "plt.subplot(2,2,3)\n",
    "\n",
    "plt.plot(t_me_actual, \n",
    "         base_sim, label = \"base_tme_2014\")\n",
    "\n",
    "plt.plot(t_me_actual, \n",
    "         ci_actual, \n",
    "         label = \"cuota_tme_2014\")\n",
    "\n",
    "plt.fill_between(t_me_2015, \n",
    "                 base_sim, \n",
    "                 ci_2015, \n",
    "                 color = 'black', \n",
    "                 interpolate = True, \n",
    "                 alpha=0.1)\n",
    "\n",
    "plt.margins(0.1)\n",
    "plt.xlabel(\"Tipo Impositivo\")\n",
    "plt.ylabel(\"Base, Cuota (euros)\")\n",
    "plt.legend(loc=\"upper left\")\n",
    "plt.xticks([round(t_actual[i], 2) for i in range(len(t_actual))])\n",
    "\n",
    "# Pinta poligonos color verde entre las lineas cuando y1 < y2 \n",
    "\n",
    "# ---------------------------------------------------------------------------------\n",
    "#                    GRAFICO DE LOS RESULTADOS DE LA REFORMA 2015:\n",
    "# ---------------------------------------------------------------------------------\n",
    "\n",
    "plt.subplot(2,2,2)\n",
    "plt.plot(ci_2015, t_mg_2015, label = \"cuota_tmg_2015\")\n",
    "plt.plot(ci_2015, t_me_2015, label = \"cuota_tme_2015\")\n",
    "plt.fill_between(ci_actual, t_mg_actual, t_me_actual, color = 'black', interpolate = True, alpha=0.1)\n",
    "plt.margins(0.031)\n",
    "plt.xlabel(\"Base (euros)\")\n",
    "plt.ylabel(\"Tipo Impositivo\")\n",
    "plt.legend(loc=\"lower right\")\n",
    "\n",
    "\n",
    "plt.subplot(2,2,4)\n",
    "plt.plot(t_me_2015, base_sim, label=\"base_tme_2015\")\n",
    "plt.plot(t_me_2015, ci_2015, label=\"cuota_tme_2015\")\n",
    "plt.fill_between(t_me_actual, base_sim, ci_actual, color = 'black', interpolate = True, alpha=0.1)\n",
    "plt.margins(0.031)\n",
    "plt.legend(loc=\"upper left\")\n",
    "plt.xlabel(\"Tipo Impositivo\")\n",
    "plt.ylabel(\"Base, Cuota (euros)\")\n",
    "plt.xticks([round(t_2015[i], 2) for i in range(len(t_2015))])\n",
    "\n",
    "plt.suptitle(u\"ESPAÑA (IRPF): Análisis Gráfico: Cuota y Base\", fontsize=15)\n",
    "plt.show()"
   ]
  },
  {
   "cell_type": "markdown",
   "metadata": {},
   "source": [
    "# ANÁLISIS DE PROGRESIVIDAD:"
   ]
  },
  {
   "cell_type": "code",
   "execution_count": 13,
   "metadata": {
    "collapsed": false
   },
   "outputs": [],
   "source": [
    "\n"
   ]
  },
  {
   "cell_type": "code",
   "execution_count": 14,
   "metadata": {
    "collapsed": false
   },
   "outputs": [],
   "source": [
    "####################################################################################\n",
    "#                       ANALISIS DE LA PROGRESIVIDAD 2015: \n",
    "####################################################################################\n",
    "\n",
    "lp_actual = np.divide(t_mg_actual, \n",
    "                      t_me_actual)\n",
    "\n",
    "arp_actual = np.divide(np.subtract(t_mg_actual,\n",
    "                                    t_me_actual),\n",
    "                       base_sim)\n",
    "\n",
    "LP_2015 = np.divide(t_mg_2015, \n",
    "                    t_me_2015) # indice LP_2015\n",
    "\n",
    "ARP_2015 = np.divide(np.subtract(t_mg_2015, \n",
    "                                  t_me_2015), \n",
    "                     base_sim) # indice ARP_2015\n"
   ]
  },
  {
   "cell_type": "code",
   "execution_count": 15,
   "metadata": {
    "collapsed": false
   },
   "outputs": [
    {
     "name": "stdout",
     "output_type": "stream",
     "text": [
      "\n",
      "                  ANALISIS DE PROGRESIVIDAD, MUESTRA FILTRADA                   \n",
      "______________________________________________________________________________  \n",
      "\n",
      "   Base   \t  LP_14   \t  LP_15   \tARP_14 * 10^6\tARP_15 * 10^6\n",
      "__________\t__________\t__________\t__________\t__________\n",
      "\n",
      "      1000\t  1.000   \t  1.000   \t 0.00000  \t  0.0000  \n",
      "     31000\t  1.111   \t  1.236   \t 0.96736  \t  1.9089  \n",
      "     61000\t  1.385   \t  1.432   \t 2.14159  \t  2.2264  \n",
      "     91000\t  1.229   \t  1.254   \t 0.96231  \t  1.0004  \n",
      "    121000\t  1.212   \t  1.179   \t 0.70821  \t  0.5658  \n",
      "    151000\t  1.163   \t  1.139   \t 0.45475  \t  0.3633  \n",
      "    181000\t  1.177   \t  1.113   \t 0.42333  \t  0.2529  \n",
      "    211000\t  1.148   \t  1.096   \t 0.31151  \t  0.1861  \n",
      "    241000\t  1.127   \t  1.083   \t 0.23878  \t  0.1426  \n",
      "    271000\t  1.112   \t  1.073   \t 0.18884  \t  0.1128  \n",
      "    301000\t  1.121   \t  1.065   \t 0.18619  \t  0.0914  \n",
      "    331000\t  1.109   \t  1.059   \t 0.15397  \t  0.0756  \n",
      "    361000\t  1.099   \t  1.054   \t 0.12944  \t  0.0636  \n",
      "    391000\t  1.090   \t  1.049   \t 0.11034  \t  0.0542  \n",
      "______________________________________________________________________________  \n",
      "\n"
     ]
    }
   ],
   "source": [
    "# ---------------------------------------------------------------------------------\n",
    "# VISUALIZAR LOS RESULTADOS PROGRESIVIDAD 2015:\n",
    "# ---------------------------------------------------------------------------------\n",
    "\n",
    "\n",
    "def ver_calculos_prog():\n",
    "\tprint \"\"\n",
    "\tprint \"{0:^80}\".format(\"ANALISIS DE PROGRESIVIDAD, MUESTRA FILTRADA\")\n",
    "\tprint \"{0:<80}\".format(\"_\"*78)\n",
    "\tprint \"\"\n",
    "\tprint \"{0:^10}\\t{1:^10}\\t{2:^10}\\t{3:^10}\\t{4:^10}\".format(\"Base\", \"LP_14\", \"LP_15\", \"ARP_14 * 10^6\", \"ARP_15 * 10^6\")\n",
    "\tprint \"{0:^10}\\t{0:^10}\\t{0:^10}\\t{0:^10}\\t{0:^10}\".format(\"_\"*10)\n",
    "\tprint \"\"\n",
    "\tfor i in range(0, len(base_sim), 300):\n",
    "\t\tprint \"{0:>10.0f}\\t{3:^10.3f}\\t{4:^10.3f}\\t{5:^10.5f}\\t{6:^10.4f}\".format(base_sim[i], \n",
    "                                                                                  round(t_mg_2015[i], 4),\n",
    "                                                                                  round(t_me_2015[i], 3), \n",
    "                                                                                  lp_actual[i], \n",
    "                                                                                  LP_2015[i], \n",
    "                                                                                  1000000 * arp_actual[i], \n",
    "                                                                                  1000000 * ARP_2015[i])\n",
    "\tprint \"{0:<80}\".format(\"_\"*78)\n",
    "\tprint \"\"\n",
    "ver_calculos_prog()\n"
   ]
  },
  {
   "cell_type": "markdown",
   "metadata": {},
   "source": [
    "# REPRESENTACION DE LOS INDICES ARP Y LP ANTES Y DESPUES DE LA REFORMA:"
   ]
  },
  {
   "cell_type": "code",
   "execution_count": 16,
   "metadata": {
    "collapsed": false
   },
   "outputs": [
    {
     "data": {
      "image/png": "[encoded data removed]",
      "text/plain": [
       "<matplotlib.figure.Figure at 0x11528edd0>"
      ]
     },
     "metadata": {},
     "output_type": "display_data"
    }
   ],
   "source": [
    "def graf_indices_lp_arp():\n",
    "    plt.figure(\"indices\", figsize=(15,8), dpi=900)\n",
    "    plt.suptitle(u\"ESPAÑA (IRPF): Índice de Progresividad: LP y ARP\", fontsize=15)\n",
    "\n",
    "    plt.subplot(2,1,1)\n",
    "    plt.plot(base_sim, arp_actual, label = \"ARP 2014\", linewidth=2.0)\n",
    "    plt.plot(base_sim, ARP_2015, label = \"ARP 2015\", linewidth=1.0, color=\"black\", alpha=0.5)\n",
    "    plt.fill_between(base_sim, arp_actual, ARP_2015, color = 'black', interpolate = True, alpha = 0.3, label=\"ARP 2015\") \n",
    "    plt.legend()\n",
    "    plt.margins(0.01)\n",
    "    plt.xticks(np.arange(0, 400000, 20000))\n",
    "    plt.ylabel(u\"Valor del índice\")\n",
    "    plt.xlabel(\"Base\")\n",
    "\n",
    "    plt.subplot(2,1,2)\n",
    "    plt.plot(base_sim, lp_actual, label = \"LP 2014\", linewidth=2.0)\n",
    "    plt.plot(base_sim, LP_2015, label = \"LP 2015\", linewidth=1.0, color=\"black\", alpha=0.5)\n",
    "    plt.fill_between(base_sim, lp_actual, LP_2015, color = 'black', interpolate = True, alpha=0.3, label=\"ARP 2015\") \n",
    "    plt.legend()\n",
    "    plt.ylabel(u\"Valor del índice\")\n",
    "    plt.xlabel(\"Base\")\n",
    "    plt.xticks(np.arange(0, 400000, 20000))\n",
    "    plt.xlim(0,400000)\n",
    "    # plt.xlim(0,310000)\n",
    "    plt.show\n",
    "graf_indices_lp_arp()"
   ]
  },
  {
   "cell_type": "markdown",
   "metadata": {},
   "source": [
    "# CALCULO DE GANACIA RELATIVA DE PROGRESIVIDAD:\n",
    "\n",
    "> POR ENCIMA DE 0 ESTAMOS ANTES GANANCIAS DE PROGRESIVIDAD (MAS INTENSO) RESPECTO DEL MODELO DE 2014\n",
    "> POR DEBAJO DE 0 PERDIDAS DE PROGRESIVIDAD RESPECTO DEL AÑO 2014"
   ]
  },
  {
   "cell_type": "code",
   "execution_count": 17,
   "metadata": {
    "collapsed": false
   },
   "outputs": [
    {
     "data": {
      "image/png": "[encoded data removed]",
      "text/plain": [
       "<matplotlib.figure.Figure at 0x115047ed0>"
      ]
     },
     "metadata": {},
     "output_type": "display_data"
    }
   ],
   "source": [
    "# CALCULO DE GANANCIA O PERDIDA DE PROGRESIVIDAD CON LOS INDICES LP Y ARP NORMALIZADOS\n",
    "\n",
    "\n",
    "\n",
    "def graf_prog_1():\n",
    "    inc_arp = []\n",
    "    inc_lp = []\n",
    "    \n",
    "    for i in range(len(base_sim)):\n",
    "        try:\n",
    "            #inc_arp.append(float(((ARP_2015[i] / arp_actual[i]) - 1) * 100))\n",
    "            inc_lp.append((float((LP_2015[i] / lp_actual[i]) - 1) * 100))\n",
    "        except:\n",
    "            #inc_arp.append(0)\n",
    "            inc_lp.append(0)\n",
    "\n",
    "    plt.figure(\"prog_relativa\", \n",
    "               figsize = (15,4), \n",
    "               dpi = 900)\n",
    "    \n",
    "    plt.suptitle(u\"ESPAÑA (IRPF): INCREMENTO DE PROGRESIVIDAD RESPECTO DE 2014\", \n",
    "                 fontsize=15)\n",
    "    \n",
    "    plt.plot(base_sim, \n",
    "             inc_lp, \n",
    "             label = \"Progresividad relativa LP\", \n",
    "             linewidth=2)\n",
    "\n",
    "#    plt.plot(base_sim, inc_arp, label = \"Progresividad relativa ARP\", linewidth=2)\n",
    "\n",
    "    plt.fill_between(base_sim, \n",
    "                     inc_lp, \n",
    "                     0, \n",
    "                     color = \"b\", \n",
    "                     alpha = 0.1,)\n",
    "    \n",
    "#    plt.fill_between(base_sim, inc_arp, 0, color = \"g\", alpha = 0.1,)\n",
    "    \n",
    "    \n",
    "    \n",
    "    plt.xticks(np.arange(0, \n",
    "                         400000, \n",
    "                         20000))\n",
    "    plt.xlim(0,\n",
    "             400000)\n",
    "    \n",
    "    \n",
    "    plt.xlabel(\"Base\", \n",
    "               fontsize=14)\n",
    "    \n",
    "    plt.ylabel(\"Incremento relativo (%)\", \n",
    "               fontsize=14)\n",
    "    \n",
    "    plt.legend()\n",
    "    return inc_arp, inc_lp\n",
    "\n",
    "v_arp, v_lp = graf_prog_1()"
   ]
  },
  {
   "cell_type": "code",
   "execution_count": 18,
   "metadata": {
    "collapsed": false
   },
   "outputs": [
    {
     "name": "stdout",
     "output_type": "stream",
     "text": [
      "321\n",
      "-17.1366670622\n"
     ]
    }
   ],
   "source": [
    "print v_lp.index(min(v_lp))\n",
    "print min(v_lp)"
   ]
  },
  {
   "cell_type": "markdown",
   "metadata": {},
   "source": [
    "# GRAFICOS DE LOS INDICES ARP Y LP INDIVIDUALIZADOS:"
   ]
  },
  {
   "cell_type": "code",
   "execution_count": 19,
   "metadata": {
    "collapsed": false
   },
   "outputs": [
    {
     "data": {
      "image/png": "[encoded data removed]",
      "text/plain": [
       "<matplotlib.figure.Figure at 0x11648f290>"
      ]
     },
     "metadata": {},
     "output_type": "display_data"
    }
   ],
   "source": [
    "# ---------------------------------------------------------------------------------\n",
    "#                        GRAFICO DEL INDICE LP 2014 2015\n",
    "# ---------------------------------------------------------------------------------\n",
    "plt.figure(figsize=(15,8), dpi=900)\n",
    "plt.suptitle(u'ESPAÑA (IRPF): ANÁLISIS DE PROGRESIVIDAD', fontsize=14)\n",
    "\n",
    "plt.subplot(2,2,3) # Divide en dos el lienzo por la vertical primer 2 y segundo 2 por la horizontal\n",
    "plt.plot(base_sim, lp_actual, label = u\"Índice LP_2014\") \n",
    "# plt.scatter(base_sim, lp_actual) # añade los puntos en cada base\n",
    "plt.xlabel(\"Base\")\n",
    "plt.ylabel(\"Valor del indice\")\n",
    "plt.margins(0.01)\n",
    "plt.legend()\n",
    "\n",
    "\n",
    "plt.subplot(2,2,4)\n",
    "plt.plot(base_sim, LP_2015, label = \"LP_2015\")\n",
    "# plt.scatter(base_sim, LP_2015)\n",
    "plt.xlabel(\"Base\")\n",
    "plt.ylabel(\"Valor del indice\")\n",
    "plt.margins(0.01) # AGREGA UN MARGEN PARA VISUALIZAR EL GRÁFICO COMPLETO EN LOS LIMITES\n",
    "plt.legend()\n",
    "\n",
    "\n",
    "# ---------------------------------------------------------------------------------\n",
    "#                        GRAFICO INDICE ARP 2014 2015\n",
    "# ---------------------------------------------------------------------------------\n",
    "\n",
    "plt.subplot(2,2,1)\n",
    "plt.plot(base_sim, arp_actual, label = u\"Índice ARP_2014\")\n",
    "# plt.scatter(base_sim, arp_actual, label = \"ARP 2014\")\n",
    "plt.margins(0.01) # AGREGA UN MARGEN PARA VISUALIZAR EL GRÁFICO COMPLETO EN LOS LIMITES\n",
    "plt.xlabel(\"Base\")\n",
    "plt.ylabel(\"Valor del indice\")\n",
    "plt.legend()\n",
    "\n",
    "plt.subplot(2,2,2)\n",
    "plt.plot(base_sim, ARP_2015, label = u\"Índice ARP_2015\")\n",
    "# plt.scatter(base_sim, ARP_2015, label = \"ARP 2015\")\n",
    "plt.legend()\n",
    "plt.xlabel(\"Base\")\n",
    "plt.ylabel(\"Valor del indice\")\n",
    "plt.margins(0.01)\n",
    "plt.show()\n",
    "\n"
   ]
  },
  {
   "cell_type": "markdown",
   "metadata": {},
   "source": [
    "# PONDERACIÓN POR FRECUENCIA DE DECLARANTES PARA TRAMOS DE BASE IMPOSNIBLE:\n",
    "> DATOS MEMORIA DE LA ADMINISTRACION TRIBUTARIA DE 2012."
   ]
  },
  {
   "cell_type": "code",
   "execution_count": 66,
   "metadata": {
    "collapsed": false
   },
   "outputs": [
    {
     "data": {
      "text/html": [
       "<div style=\"max-height:1000px;max-width:1500px;overflow:auto;\">\n",
       "<table border=\"1\" class=\"dataframe\">\n",
       "  <thead>\n",
       "    <tr>\n",
       "      <th></th>\n",
       "      <th>Tramos de Rend. e Imputac. \\n(miles de euros)</th>\n",
       "      <th>DATOS GENERALES</th>\n",
       "      <th>Unnamed: 2_level_0</th>\n",
       "      <th>INFORMACIÓN SOBRE LA PARTIDA Base imponible general</th>\n",
       "      <th>Unnamed: 4_level_0</th>\n",
       "      <th>Unnamed: 5_level_0</th>\n",
       "      <th>Unnamed: 6_level_0</th>\n",
       "      <th>Unnamed: 7_level_0</th>\n",
       "      <th>INFORMACIÓN SOBRE LA PARTIDA Total ingresos computables</th>\n",
       "      <th>Unnamed: 9_level_0</th>\n",
       "      <th>Unnamed: 10_level_0</th>\n",
       "      <th>Unnamed: 11_level_0</th>\n",
       "      <th>Unnamed: 12_level_0</th>\n",
       "      <th>INFORMACIÓN SOBRE LA PARTIDA Resultado de la declaración</th>\n",
       "      <th>Unnamed: 14_level_0</th>\n",
       "      <th>Unnamed: 15_level_0</th>\n",
       "      <th>Unnamed: 16_level_0</th>\n",
       "      <th>Unnamed: 17_level_0</th>\n",
       "    </tr>\n",
       "    <tr>\n",
       "      <th></th>\n",
       "      <th>Unnamed: 0_level_1</th>\n",
       "      <th>Liquidaciones\\nNúmero Total</th>\n",
       "      <th>Distribución\\nNúmero</th>\n",
       "      <th>LIQUIDACIONES PARTIDA</th>\n",
       "      <th>Unnamed: 4_level_1</th>\n",
       "      <th>IMPORTE PARTIDA</th>\n",
       "      <th>Unnamed: 6_level_1</th>\n",
       "      <th>Unnamed: 7_level_1</th>\n",
       "      <th>LIQUIDACIONES PARTIDA</th>\n",
       "      <th>Unnamed: 9_level_1</th>\n",
       "      <th>IMPORTE PARTIDA</th>\n",
       "      <th>Unnamed: 11_level_1</th>\n",
       "      <th>Unnamed: 12_level_1</th>\n",
       "      <th>LIQUIDACIONES PARTIDA</th>\n",
       "      <th>Unnamed: 14_level_1</th>\n",
       "      <th>IMPORTE PARTIDA</th>\n",
       "      <th>Unnamed: 16_level_1</th>\n",
       "      <th>Unnamed: 17_level_1</th>\n",
       "    </tr>\n",
       "    <tr>\n",
       "      <th></th>\n",
       "      <th>Unnamed: 0_level_2</th>\n",
       "      <th>Unnamed: 1_level_2</th>\n",
       "      <th>Unnamed: 2_level_2</th>\n",
       "      <th>Número</th>\n",
       "      <th>Distribución\\nNúmero</th>\n",
       "      <th>Importe</th>\n",
       "      <th>Distribución</th>\n",
       "      <th>Media</th>\n",
       "      <th>Número</th>\n",
       "      <th>Distribución\\nNúmero</th>\n",
       "      <th>Importe</th>\n",
       "      <th>Distribución</th>\n",
       "      <th>Media</th>\n",
       "      <th>Número</th>\n",
       "      <th>Distribución\\nNúmero</th>\n",
       "      <th>Importe</th>\n",
       "      <th>Distribución</th>\n",
       "      <th>Media</th>\n",
       "    </tr>\n",
       "  </thead>\n",
       "  <tbody>\n",
       "    <tr>\n",
       "      <th>0</th>\n",
       "      <td>        0</td>\n",
       "      <td>  10.173</td>\n",
       "      <td>  1,46</td>\n",
       "      <td>   2.399</td>\n",
       "      <td>  0,36</td>\n",
       "      <td>   -14.670.789</td>\n",
       "      <td> -0,12</td>\n",
       "      <td>  -6.115,38</td>\n",
       "      <td>   6.531</td>\n",
       "      <td>  1,04</td>\n",
       "      <td>    18.096.918</td>\n",
       "      <td>  0,14</td>\n",
       "      <td>   2.770,93</td>\n",
       "      <td>   7.076</td>\n",
       "      <td>  1,04</td>\n",
       "      <td>  -1.514.832</td>\n",
       "      <td>   1,10</td>\n",
       "      <td>    -214,08</td>\n",
       "    </tr>\n",
       "    <tr>\n",
       "      <th>1</th>\n",
       "      <td>    0-1,5</td>\n",
       "      <td>  38.489</td>\n",
       "      <td>  5,53</td>\n",
       "      <td>  23.404</td>\n",
       "      <td>  3,50</td>\n",
       "      <td>    -7.487.157</td>\n",
       "      <td> -0,06</td>\n",
       "      <td>    -319,91</td>\n",
       "      <td>  23.728</td>\n",
       "      <td>  3,79</td>\n",
       "      <td>    94.574.172</td>\n",
       "      <td>  0,72</td>\n",
       "      <td>   3.985,76</td>\n",
       "      <td>  35.303</td>\n",
       "      <td>  5,19</td>\n",
       "      <td>  -6.288.737</td>\n",
       "      <td>   4,55</td>\n",
       "      <td>    -178,14</td>\n",
       "    </tr>\n",
       "    <tr>\n",
       "      <th>2</th>\n",
       "      <td>    1,5-6</td>\n",
       "      <td>  93.545</td>\n",
       "      <td> 13,44</td>\n",
       "      <td>  90.508</td>\n",
       "      <td> 13,54</td>\n",
       "      <td>   323.532.061</td>\n",
       "      <td>  2,69</td>\n",
       "      <td>   3.574,62</td>\n",
       "      <td>  80.495</td>\n",
       "      <td> 12,87</td>\n",
       "      <td>   623.013.139</td>\n",
       "      <td>  4,73</td>\n",
       "      <td>   7.739,77</td>\n",
       "      <td>  87.167</td>\n",
       "      <td> 12,81</td>\n",
       "      <td> -28.452.863</td>\n",
       "      <td>  20,61</td>\n",
       "      <td>    -326,42</td>\n",
       "    </tr>\n",
       "    <tr>\n",
       "      <th>3</th>\n",
       "      <td>     6-12</td>\n",
       "      <td> 129.675</td>\n",
       "      <td> 18,63</td>\n",
       "      <td> 128.724</td>\n",
       "      <td> 19,25</td>\n",
       "      <td> 1.057.285.764</td>\n",
       "      <td>  8,80</td>\n",
       "      <td>   8.213,59</td>\n",
       "      <td> 114.271</td>\n",
       "      <td> 18,27</td>\n",
       "      <td> 1.321.384.256</td>\n",
       "      <td> 10,02</td>\n",
       "      <td>  11.563,60</td>\n",
       "      <td> 127.045</td>\n",
       "      <td> 18,67</td>\n",
       "      <td> -54.683.153</td>\n",
       "      <td>  39,61</td>\n",
       "      <td>    -430,42</td>\n",
       "    </tr>\n",
       "    <tr>\n",
       "      <th>4</th>\n",
       "      <td>    12-21</td>\n",
       "      <td> 194.114</td>\n",
       "      <td> 27,89</td>\n",
       "      <td> 193.812</td>\n",
       "      <td> 28,99</td>\n",
       "      <td> 2.991.088.833</td>\n",
       "      <td> 24,90</td>\n",
       "      <td>  15.432,94</td>\n",
       "      <td> 181.311</td>\n",
       "      <td> 28,99</td>\n",
       "      <td> 3.347.131.926</td>\n",
       "      <td> 25,39</td>\n",
       "      <td>  18.460,72</td>\n",
       "      <td> 193.846</td>\n",
       "      <td> 28,49</td>\n",
       "      <td> -67.498.933</td>\n",
       "      <td>  48,89</td>\n",
       "      <td>    -348,21</td>\n",
       "    </tr>\n",
       "    <tr>\n",
       "      <th>5</th>\n",
       "      <td>    21-30</td>\n",
       "      <td> 116.574</td>\n",
       "      <td> 16,75</td>\n",
       "      <td> 116.458</td>\n",
       "      <td> 17,42</td>\n",
       "      <td> 2.756.504.549</td>\n",
       "      <td> 22,95</td>\n",
       "      <td>  23.669,52</td>\n",
       "      <td> 111.539</td>\n",
       "      <td> 17,83</td>\n",
       "      <td> 2.997.836.100</td>\n",
       "      <td> 22,74</td>\n",
       "      <td>  26.877,02</td>\n",
       "      <td> 116.567</td>\n",
       "      <td> 17,13</td>\n",
       "      <td> -35.284.396</td>\n",
       "      <td>  25,56</td>\n",
       "      <td>    -302,70</td>\n",
       "    </tr>\n",
       "    <tr>\n",
       "      <th>6</th>\n",
       "      <td>    30-60</td>\n",
       "      <td>  94.665</td>\n",
       "      <td> 13,60</td>\n",
       "      <td>  94.594</td>\n",
       "      <td> 14,15</td>\n",
       "      <td> 3.433.223.867</td>\n",
       "      <td> 28,58</td>\n",
       "      <td>  36.294,31</td>\n",
       "      <td>  90.395</td>\n",
       "      <td> 14,45</td>\n",
       "      <td> 3.518.722.510</td>\n",
       "      <td> 26,69</td>\n",
       "      <td>  38.926,07</td>\n",
       "      <td>  94.663</td>\n",
       "      <td> 13,91</td>\n",
       "      <td>  -7.956.181</td>\n",
       "      <td>   5,76</td>\n",
       "      <td>     -84,05</td>\n",
       "    </tr>\n",
       "    <tr>\n",
       "      <th>7</th>\n",
       "      <td>   60-150</td>\n",
       "      <td>  17.359</td>\n",
       "      <td>  2,49</td>\n",
       "      <td>  17.335</td>\n",
       "      <td>  2,59</td>\n",
       "      <td> 1.230.424.086</td>\n",
       "      <td> 10,24</td>\n",
       "      <td>  70.979,18</td>\n",
       "      <td>  16.017</td>\n",
       "      <td>  2,56</td>\n",
       "      <td> 1.097.488.044</td>\n",
       "      <td>  8,33</td>\n",
       "      <td>  68.520,20</td>\n",
       "      <td>  17.359</td>\n",
       "      <td>  2,55</td>\n",
       "      <td>  31.401.835</td>\n",
       "      <td> -22,74</td>\n",
       "      <td>   1.808,97</td>\n",
       "    </tr>\n",
       "    <tr>\n",
       "      <th>8</th>\n",
       "      <td>  150-601</td>\n",
       "      <td>   1.369</td>\n",
       "      <td>  0,20</td>\n",
       "      <td>   1.365</td>\n",
       "      <td>  0,20</td>\n",
       "      <td>   223.481.109</td>\n",
       "      <td>  1,86</td>\n",
       "      <td> 163.722,42</td>\n",
       "      <td>   1.133</td>\n",
       "      <td>  0,18</td>\n",
       "      <td>   149.294.654</td>\n",
       "      <td>  1,13</td>\n",
       "      <td> 131.769,33</td>\n",
       "      <td>   1.369</td>\n",
       "      <td>  0,20</td>\n",
       "      <td>  24.809.440</td>\n",
       "      <td> -17,97</td>\n",
       "      <td>  18.122,31</td>\n",
       "    </tr>\n",
       "    <tr>\n",
       "      <th>9</th>\n",
       "      <td> 601-1052</td>\n",
       "      <td>  56.000</td>\n",
       "      <td>  0,01</td>\n",
       "      <td>  56.000</td>\n",
       "      <td>  0,01</td>\n",
       "      <td>    19.934.198</td>\n",
       "      <td>  0,17</td>\n",
       "      <td> 355.967,83</td>\n",
       "      <td>  46.000</td>\n",
       "      <td>  0,01</td>\n",
       "      <td>    14.334.589</td>\n",
       "      <td>  0,11</td>\n",
       "      <td> 311.621,51</td>\n",
       "      <td>  56.000</td>\n",
       "      <td>  0,01</td>\n",
       "      <td>   7.405.512</td>\n",
       "      <td>  -5,36</td>\n",
       "      <td> 132.241,29</td>\n",
       "    </tr>\n",
       "  </tbody>\n",
       "</table>\n",
       "</div>"
      ],
      "text/plain": [
       "  Tramos de Rend. e Imputac. \\n(miles de euros)             DATOS GENERALES  \\\n",
       "                             Unnamed: 0_level_1 Liquidaciones\\nNúmero Total   \n",
       "                             Unnamed: 0_level_2          Unnamed: 1_level_2   \n",
       "0                                             0                      10.173   \n",
       "1                                         0-1,5                      38.489   \n",
       "2                                         1,5-6                      93.545   \n",
       "3                                          6-12                     129.675   \n",
       "4                                         12-21                     194.114   \n",
       "5                                         21-30                     116.574   \n",
       "6                                         30-60                      94.665   \n",
       "7                                        60-150                      17.359   \n",
       "8                                       150-601                       1.369   \n",
       "9                                      601-1052                      56.000   \n",
       "\n",
       "    Unnamed: 2_level_0 INFORMACIÓN SOBRE LA PARTIDA Base imponible general  \\\n",
       "  Distribución\\nNúmero                               LIQUIDACIONES PARTIDA   \n",
       "    Unnamed: 2_level_2                                              Número   \n",
       "0                 1,46                                              2.399    \n",
       "1                 5,53                                             23.404    \n",
       "2                13,44                                             90.508    \n",
       "3                18,63                                            128.724    \n",
       "4                27,89                                            193.812    \n",
       "5                16,75                                            116.458    \n",
       "6                13,60                                             94.594    \n",
       "7                 2,49                                             17.335    \n",
       "8                 0,20                                              1.365    \n",
       "9                 0,01                                             56.000    \n",
       "\n",
       "    Unnamed: 4_level_0 Unnamed: 5_level_0 Unnamed: 6_level_0  \\\n",
       "    Unnamed: 4_level_1    IMPORTE PARTIDA Unnamed: 6_level_1   \n",
       "  Distribución\\nNúmero            Importe       Distribución   \n",
       "0                 0,36        -14.670.789              -0,12   \n",
       "1                 3,50         -7.487.157              -0,06   \n",
       "2                13,54        323.532.061               2,69   \n",
       "3                19,25      1.057.285.764               8,80   \n",
       "4                28,99      2.991.088.833              24,90   \n",
       "5                17,42      2.756.504.549              22,95   \n",
       "6                14,15      3.433.223.867              28,58   \n",
       "7                 2,59      1.230.424.086              10,24   \n",
       "8                 0,20        223.481.109               1,86   \n",
       "9                 0,01         19.934.198               0,17   \n",
       "\n",
       "  Unnamed: 7_level_0 INFORMACIÓN SOBRE LA PARTIDA Total ingresos computables  \\\n",
       "  Unnamed: 7_level_1                                   LIQUIDACIONES PARTIDA   \n",
       "               Media                                                  Número   \n",
       "0          -6.115,38                                              6.531        \n",
       "1            -319,91                                             23.728        \n",
       "2           3.574,62                                             80.495        \n",
       "3           8.213,59                                            114.271        \n",
       "4          15.432,94                                            181.311        \n",
       "5          23.669,52                                            111.539        \n",
       "6          36.294,31                                             90.395        \n",
       "7          70.979,18                                             16.017        \n",
       "8         163.722,42                                              1.133        \n",
       "9         355.967,83                                             46.000        \n",
       "\n",
       "    Unnamed: 9_level_0 Unnamed: 10_level_0 Unnamed: 11_level_0  \\\n",
       "    Unnamed: 9_level_1     IMPORTE PARTIDA Unnamed: 11_level_1   \n",
       "  Distribución\\nNúmero             Importe        Distribución   \n",
       "0                 1,04          18.096.918                0,14   \n",
       "1                 3,79          94.574.172                0,72   \n",
       "2                12,87         623.013.139                4,73   \n",
       "3                18,27       1.321.384.256               10,02   \n",
       "4                28,99       3.347.131.926               25,39   \n",
       "5                17,83       2.997.836.100               22,74   \n",
       "6                14,45       3.518.722.510               26,69   \n",
       "7                 2,56       1.097.488.044                8,33   \n",
       "8                 0,18         149.294.654                1,13   \n",
       "9                 0,01          14.334.589                0,11   \n",
       "\n",
       "  Unnamed: 12_level_0  \\\n",
       "  Unnamed: 12_level_1   \n",
       "                Media   \n",
       "0            2.770,93   \n",
       "1            3.985,76   \n",
       "2            7.739,77   \n",
       "3           11.563,60   \n",
       "4           18.460,72   \n",
       "5           26.877,02   \n",
       "6           38.926,07   \n",
       "7           68.520,20   \n",
       "8          131.769,33   \n",
       "9          311.621,51   \n",
       "\n",
       "  INFORMACIÓN SOBRE LA PARTIDA Resultado de la declaración  \\\n",
       "                                     LIQUIDACIONES PARTIDA   \n",
       "                                                    Número   \n",
       "0                                              7.076         \n",
       "1                                             35.303         \n",
       "2                                             87.167         \n",
       "3                                            127.045         \n",
       "4                                            193.846         \n",
       "5                                            116.567         \n",
       "6                                             94.663         \n",
       "7                                             17.359         \n",
       "8                                              1.369         \n",
       "9                                             56.000         \n",
       "\n",
       "   Unnamed: 14_level_0 Unnamed: 15_level_0 Unnamed: 16_level_0  \\\n",
       "   Unnamed: 14_level_1     IMPORTE PARTIDA Unnamed: 16_level_1   \n",
       "  Distribución\\nNúmero             Importe        Distribución   \n",
       "0                 1,04          -1.514.832                1,10   \n",
       "1                 5,19          -6.288.737                4,55   \n",
       "2                12,81         -28.452.863               20,61   \n",
       "3                18,67         -54.683.153               39,61   \n",
       "4                28,49         -67.498.933               48,89   \n",
       "5                17,13         -35.284.396               25,56   \n",
       "6                13,91          -7.956.181                5,76   \n",
       "7                 2,55          31.401.835              -22,74   \n",
       "8                 0,20          24.809.440              -17,97   \n",
       "9                 0,01           7.405.512               -5,36   \n",
       "\n",
       "  Unnamed: 17_level_0  \n",
       "  Unnamed: 17_level_1  \n",
       "                Media  \n",
       "0             -214,08  \n",
       "1             -178,14  \n",
       "2             -326,42  \n",
       "3             -430,42  \n",
       "4             -348,21  \n",
       "5             -302,70  \n",
       "6              -84,05  \n",
       "7            1.808,97  \n",
       "8           18.122,31  \n",
       "9          132.241,29  "
      ]
     },
     "execution_count": 66,
     "metadata": {},
     "output_type": "execute_result"
    }
   ],
   "source": [
    "des = pd.read_csv(\"irpf_aragon.csv\", \";\", header=[0,1,2], skipfooter=9)\n",
    "\n",
    "des\n",
    "\n"
   ]
  },
  {
   "cell_type": "code",
   "execution_count": 48,
   "metadata": {
    "collapsed": false
   },
   "outputs": [
    {
     "name": "stdout",
     "output_type": "stream",
     "text": [
      "105168903332.0\n",
      "322957900000.0\n"
     ]
    }
   ],
   "source": [
    "print des[\"T\"].sum()\n",
    "print des[\"M€\"].sum()*1000000"
   ]
  },
  {
   "cell_type": "markdown",
   "metadata": {},
   "source": [
    "\n",
    "# CALCULO POR TERMINAR"
   ]
  },
  {
   "cell_type": "raw",
   "metadata": {},
   "source": [
    "\n",
    "\n",
    "\n",
    "# dudas: Que me dice la densidad?\n",
    "# que me dice la frecuencia relativa\n",
    "# que es x · n?\n",
    "# \n",
    "\n",
    "\n",
    "\n",
    "datos_dist.iloc[6,:].plot(kind=\"bar\")\n",
    "datos_dist.iloc[4,:].plot(kind=\"bar\", color=\"g\", alpha=0.2, secondary_y=True)\n",
    "\n",
    "datos_dist.loc[\"Densidad\"].sum()\n",
    "\n",
    "\n",
    "\n",
    "lo que tengo que hacer es una vez convertido en unitario \n",
    "\n",
    "\n"
   ]
  },
  {
   "cell_type": "markdown",
   "metadata": {},
   "source": [
    "# CALCLO DE LOS INDICES DE PROGRESIVIDAD:\n",
    "\n",
    "\n",
    "\n"
   ]
  },
  {
   "cell_type": "raw",
   "metadata": {},
   "source": [
    "####################################################################################\n",
    "######                  PRESENTACION DE DATOS VISUALES                     #########\n",
    "####################################################################################\n",
    "\n",
    "\n",
    "# ---------------------------------------------------------------------------------\n",
    "#  CALCULOS ACTUAL:\n",
    "# ---------------------------------------------------------------------------------\n",
    "def ver_calculos_ac_pond():\n",
    "    \n",
    "    print \"{:^60}\".format(\"CALCULOS IRPF 2014 PARA ARAGON\")\n",
    "    \n",
    "    print \"{:^60}\".format(\"_\" * 60)\n",
    "    print \"\"\n",
    "    \n",
    "    print \"{:^10}\\t{:^10}\\t{:^10}\\t{:^10}\".format(\"Clase: BI\", \n",
    "                                                  \"Cuota\", \n",
    "                                                  \"tmg\", \n",
    "                                                  \"tme\")\n",
    "    \n",
    "    print \"{:^10}\\t{:^10}\\t{:^10}\\t{:^10}\".format(\"_\" * 10, \n",
    "                                                  \"_\" * 10, \n",
    "                                                  \"_\" * 10, \n",
    "                                                  \"_\" * 10)\n",
    "    \n",
    "    print \"\"\n",
    "    \n",
    "    for i,e in enumerate(base_sim_pond)):\n",
    "        print \"{:^10.0f}\\t{:^10.2f}\\t{:^10.4f}\\t{:^10.4f}\".format(e, \n",
    "                                                                  ci_ac_pond[i], \n",
    "                                                                  t_mg_ac_pond[i], \n",
    "                                                                  t_me_ac_pond[i])\n",
    "    print \"{:^60}\".format(\"_\" * 60)\n",
    "\n",
    "ver_calculos_ac_pond()\n",
    "\n",
    "\n",
    "\n"
   ]
  },
  {
   "cell_type": "markdown",
   "metadata": {},
   "source": [
    "## CALCULAMOS EL VOLUMEN TOTAL DE LAS CUOTAS PARA 2014 Y 2015:"
   ]
  },
  {
   "cell_type": "markdown",
   "metadata": {},
   "source": [
    "\n",
    "# faltan los tipos medios ponderados:\n",
    "\n",
    "\n",
    "\n",
    "\n",
    "\n",
    "# faltan los marginales de la renta ponderada\n",
    "#\n",
    "\n",
    "\n",
    "\n",
    "\n",
    "# COMPAREMOS:\n"
   ]
  },
  {
   "cell_type": "markdown",
   "metadata": {},
   "source": [
    "# RECAUDACIÓN TOTAL:\n",
    "\n"
   ]
  },
  {
   "cell_type": "markdown",
   "metadata": {},
   "source": [
    "## ¿cuanto debería ser el tmg 2015 para el ultimo tramo si queremos que se mantenga el mismo nivel de progresividad?"
   ]
  },
  {
   "cell_type": "code",
   "execution_count": 21,
   "metadata": {
    "collapsed": false
   },
   "outputs": [
    {
     "name": "stdout",
     "output_type": "stream",
     "text": [
      "([0.2475, 0.3, 0.4, 0.47, 0.49, 0.51, 0.52], 7)\n",
      "[0.2, 0.25, 0.31, 0.385, 0.44999999999999996]\n"
     ]
    },
    {
     "data": {
      "text/plain": [
       "array([ 1.        ,  1.        ,  1.        , ...,  1.0482708 ,\n",
       "        1.04825815,  1.0482455 ])"
      ]
     },
     "execution_count": 21,
     "metadata": {},
     "output_type": "execute_result"
    }
   ],
   "source": [
    "\n",
    "print(t_actual, len(t_actual))\n",
    "print(t_2015)\n",
    "lp_actual\n",
    "LP_2015\n",
    "\n"
   ]
  },
  {
   "cell_type": "markdown",
   "metadata": {},
   "source": [
    "## ¿Cuanto debería aumentar el marginal en los ultimos tramos para que la recaudacion sea la misma?\n",
    "\n"
   ]
  },
  {
   "cell_type": "markdown",
   "metadata": {},
   "source": [
    "# Efectos keynesianos:\n",
    "\n",
    "## ¿Cual es la relacion marginal de sustitucion entre el 20% mas rico y el 20% mas pobre?\n",
    "\n",
    "- Cuando se produce una disminucion en la presion de los 20 % mas pobres cuanto tendría que aumentar la presion en los 20% mas ricos.\n",
    "- Si queremos aumentar la presion fiscal para mantener la recaudacion cuanto tienen que aumentar los impuesto en las ultimas rentas.\n",
    "\n",
    "\n"
   ]
  },
  {
   "cell_type": "markdown",
   "metadata": {},
   "source": [
    "# INDICIANDO LAS TARIFAS: INFLACION DEL ULTIMO DATO DE IPC.\n",
    "\n",
    "> Ante un aumento en la inflacion aumenta la recaudacion en periodos siguientes de forma perversa, para corregir este fenomeno, incluimos la tasa de inflacion en las cuotas para mantener constante la capacidad adquisitiva y gravar a individuos iguales de la misma forma."
   ]
  },
  {
   "cell_type": "raw",
   "metadata": {},
   "source": []
  },
  {
   "cell_type": "code",
   "execution_count": 22,
   "metadata": {
    "collapsed": false
   },
   "outputs": [],
   "source": [
    "corrector = 1 + 0.02\n",
    "\n",
    "d_14_c = np.multiply(d_14.iloc[:,0:2], corrector)\n",
    "d_15_c = np.multiply(d_15.iloc[:,:2], corrector)"
   ]
  },
  {
   "cell_type": "markdown",
   "metadata": {},
   "source": [
    "#### "
   ]
  },
  {
   "cell_type": "code",
   "execution_count": 23,
   "metadata": {
    "collapsed": false
   },
   "outputs": [
    {
     "name": "stdout",
     "output_type": "stream",
     "text": [
      "20000\n",
      "5070.37\n",
      "14929.63\n"
     ]
    }
   ],
   "source": [
    "print base_sim[190]\n",
    "print ci_actual[190]\n",
    "print 20000 - 5070.37 "
   ]
  },
  {
   "cell_type": "code",
   "execution_count": 24,
   "metadata": {
    "collapsed": false
   },
   "outputs": [
    {
     "name": "stdout",
     "output_type": "stream",
     "text": [
      "__________________________________________________ \n",
      "\n",
      "base legal\tcuota legal\ttipo mg legal\n",
      "__________\t__________\t__________\n",
      "\n",
      "       0.0\t       0.0\t    0.2475\n",
      " 18061.344\t 4470.1806\t       0.3\n",
      " 33667.344\t 9151.9806\t       0.4\n",
      " 54475.344\t17475.1806\t      0.47\n",
      "  122400.0\t 49399.773\t      0.49\n",
      "  178500.0\t 76888.773\t      0.51\n",
      "  306000.0\t141913.773\t      0.52\n",
      "__________________________________________________\n",
      "20400\n",
      "5171.7774\n",
      "14929.63\n"
     ]
    }
   ],
   "source": [
    "cc, ctmg, ctme = gravar(base_sim, \n",
    "                        d_14_c.iloc[:,0],\n",
    "                        d_14_c.iloc[:,1],\n",
    "                        d_14.iloc[:,2])\n",
    "print base_sim[194]\n",
    "print cc[194]\n",
    "print (20400 - 5171.7774) / corrector"
   ]
  },
  {
   "cell_type": "code",
   "execution_count": 27,
   "metadata": {
    "collapsed": false
   },
   "outputs": [
    {
     "data": {
      "text/html": [
       "<div style=\"max-height:1000px;max-width:1500px;overflow:auto;\">\n",
       "<table border=\"1\" class=\"dataframe\">\n",
       "  <thead>\n",
       "    <tr style=\"text-align: right;\">\n",
       "      <th></th>\n",
       "      <th>bi_14</th>\n",
       "      <th>c_14</th>\n",
       "    </tr>\n",
       "  </thead>\n",
       "  <tbody>\n",
       "    <tr>\n",
       "      <th>0</th>\n",
       "      <td>      0.000</td>\n",
       "      <td>      0.0000</td>\n",
       "    </tr>\n",
       "    <tr>\n",
       "      <th>1</th>\n",
       "      <td>  18061.344</td>\n",
       "      <td>   4470.1806</td>\n",
       "    </tr>\n",
       "    <tr>\n",
       "      <th>2</th>\n",
       "      <td>  33667.344</td>\n",
       "      <td>   9151.9806</td>\n",
       "    </tr>\n",
       "    <tr>\n",
       "      <th>3</th>\n",
       "      <td>  54475.344</td>\n",
       "      <td>  17475.1806</td>\n",
       "    </tr>\n",
       "    <tr>\n",
       "      <th>4</th>\n",
       "      <td> 122400.000</td>\n",
       "      <td>  49399.7730</td>\n",
       "    </tr>\n",
       "    <tr>\n",
       "      <th>5</th>\n",
       "      <td> 178500.000</td>\n",
       "      <td>  76888.7730</td>\n",
       "    </tr>\n",
       "    <tr>\n",
       "      <th>6</th>\n",
       "      <td> 306000.000</td>\n",
       "      <td> 141913.7730</td>\n",
       "    </tr>\n",
       "  </tbody>\n",
       "</table>\n",
       "</div>"
      ],
      "text/plain": [
       "        bi_14         c_14\n",
       "0       0.000       0.0000\n",
       "1   18061.344    4470.1806\n",
       "2   33667.344    9151.9806\n",
       "3   54475.344   17475.1806\n",
       "4  122400.000   49399.7730\n",
       "5  178500.000   76888.7730\n",
       "6  306000.000  141913.7730"
      ]
     },
     "execution_count": 27,
     "metadata": {},
     "output_type": "execute_result"
    }
   ],
   "source": [
    "d_14_c\n"
   ]
  },
  {
   "cell_type": "code",
   "execution_count": null,
   "metadata": {
    "collapsed": false
   },
   "outputs": [],
   "source": [
    "4382.53  * corrector"
   ]
  },
  {
   "cell_type": "markdown",
   "metadata": {},
   "source": [
    "SUPONEMOS QUE TENEMOS LOS MISMO INDIVIDUOS QUE UN AÑO MAS TARDE AUMENTAN SU RENTA EN UN 2% Y LA INFLACION HA SIDO DE UN 2%:\n",
    "\n",
    "\n",
    "\n",
    "\n",
    "\n",
    "\n",
    "\n",
    "\n",
    "\n",
    "\n",
    "\n",
    "\n",
    "\n",
    "\n",
    "\n",
    "\n"
   ]
  }
 ],
 "metadata": {
  "kernelspec": {
   "display_name": "Python 2",
   "language": "python",
   "name": "python2"
  },
  "language_info": {
   "codemirror_mode": {
    "name": "ipython",
    "version": 2
   },
   "file_extension": ".py",
   "mimetype": "text/x-python",
   "name": "python",
   "nbconvert_exporter": "python",
   "pygments_lexer": "ipython2",
   "version": "2.7.10"
  }
 },
 "nbformat": 4,
 "nbformat_minor": 0
}
