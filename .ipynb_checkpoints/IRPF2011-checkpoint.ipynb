{
 "cells": [
  {
   "cell_type": "code",
   "execution_count": 2,
   "metadata": {
    "collapsed": true
   },
   "outputs": [],
   "source": [
    "import numpy as np\n",
    "import pandas as pd\n",
    "import matplotlib.pyplot as plt\n",
    "import seaborn as sns\n",
    "from datetime import datetime"
   ]
  },
  {
   "cell_type": "code",
   "execution_count": 3,
   "metadata": {
    "collapsed": true
   },
   "outputs": [],
   "source": [
    "import scipy.integrate as si"
   ]
  },
  {
   "cell_type": "code",
   "execution_count": 4,
   "metadata": {
    "collapsed": true
   },
   "outputs": [],
   "source": [
    "from pandas import Series, DataFrame"
   ]
  },
  {
   "cell_type": "code",
   "execution_count": 5,
   "metadata": {
    "collapsed": false
   },
   "outputs": [],
   "source": [
    "date = datetime.now()                                            # fecha para nombrar archivos\n",
    "date = str(date).replace(':', '').replace(' ','_').split('.')[0] # cambio de formato"
   ]
  },
  {
   "cell_type": "code",
   "execution_count": 6,
   "metadata": {
    "collapsed": false
   },
   "outputs": [],
   "source": [
    "#sns.set_style('whitegrid')\n",
    "sns.set(style=\"ticks\", palette=\"Set2\")\n",
    "sns.despine()"
   ]
  },
  {
   "cell_type": "code",
   "execution_count": 7,
   "metadata": {
    "collapsed": false
   },
   "outputs": [],
   "source": [
    "pd.set_option('display.max_rows', 500)\n",
    "pd.set_option('display.max_columns', 100)\n",
    "pd.set_option('display.max_colwidth', 150)"
   ]
  },
  {
   "cell_type": "code",
   "execution_count": 8,
   "metadata": {
    "collapsed": false
   },
   "outputs": [],
   "source": [
    "%load_ext rpy2.ipython"
   ]
  },
  {
   "cell_type": "code",
   "execution_count": 10,
   "metadata": {
    "collapsed": false
   },
   "outputs": [],
   "source": [
    "%matplotlib inline"
   ]
  },
  {
   "cell_type": "code",
   "execution_count": 12,
   "metadata": {
    "collapsed": false
   },
   "outputs": [
    {
     "data": {
      "text/plain": [
       "'%r'"
      ]
     },
     "execution_count": 12,
     "metadata": {},
     "output_type": "execute_result"
    }
   ],
   "source": [
    "%precision 3        # números con 3 decimales"
   ]
  },
  {
   "cell_type": "code",
   "execution_count": 13,
   "metadata": {
    "collapsed": false
   },
   "outputs": [
    {
     "data": {
      "text/plain": [
       "[]"
      ]
     },
     "execution_count": 13,
     "metadata": {},
     "output_type": "execute_result"
    }
   ],
   "source": [
    "%%!\n",
    "\n",
    "open doc/doc_2014_18.pdf\n",
    "open ."
   ]
  },
  {
   "cell_type": "markdown",
   "metadata": {},
   "source": [
    "![metodología muestreo 1][img1]\n",
    "\n",
    "![metodología muestreo 1][img2]\n",
    "\n",
    "![metodología muestreo 1][img3]\n",
    "\n",
    "[img1]: doc/1.jpg\n",
    "[img2]: doc/2.jpg\n",
    "[img3]: doc/3.jpg"
   ]
  },
  {
   "cell_type": "markdown",
   "metadata": {},
   "source": [
    "$\\sigma_X^2 = ( \\sum_{i=1}^n p_i\\cdot(x_i - \\mu)^2)$\n",
    "donde\n",
    "\n",
    "$\\mu = ( \\sum_{i=1}^n p_i\\cdot x_i )$"
   ]
  },
  {
   "cell_type": "markdown",
   "metadata": {},
   "source": [
    "# DATOS:"
   ]
  },
  {
   "cell_type": "raw",
   "metadata": {
    "collapsed": false
   },
   "source": [
    "f = 'data/2011/2011principales.txt'\n",
    "df = pd.read_table(f, sep='\\t')\n",
    "df.head()"
   ]
  },
  {
   "cell_type": "code",
   "execution_count": 14,
   "metadata": {
    "collapsed": true
   },
   "outputs": [],
   "source": [
    "data_2010 = 'data/2010/dmuestra.csv'  # muestra de 2010\n",
    "data_2011 = 'data/2011/dmuestra.csv'  # muestra de 2011"
   ]
  },
  {
   "cell_type": "code",
   "execution_count": 15,
   "metadata": {
    "collapsed": true
   },
   "outputs": [],
   "source": [
    "INFO = pd.read_csv('data/variables_descripcion.csv', encoding='utf-8', index_col=0) # informacion de las variables"
   ]
  },
  {
   "cell_type": "code",
   "execution_count": 16,
   "metadata": {
    "collapsed": false
   },
   "outputs": [
    {
     "data": {
      "text/html": [
       "<div>\n",
       "<table border=\"1\" class=\"dataframe\">\n",
       "  <thead>\n",
       "    <tr style=\"text-align: right;\">\n",
       "      <th></th>\n",
       "      <th>descripcion</th>\n",
       "    </tr>\n",
       "    <tr>\n",
       "      <th>variables</th>\n",
       "      <th></th>\n",
       "    </tr>\n",
       "  </thead>\n",
       "  <tbody>\n",
       "    <tr>\n",
       "      <th>c455</th>\n",
       "      <td>BASE IMPONIBLE GENERAL (450 ­ 451 + 452 ­ 453 ­ 454)</td>\n",
       "    </tr>\n",
       "    <tr>\n",
       "      <th>c620</th>\n",
       "      <td>BASE LIQUIDABLE GENERAL SOMETIDA A GRAVAMEN. (618 ­ 619)</td>\n",
       "    </tr>\n",
       "    <tr>\n",
       "      <th>c689</th>\n",
       "      <td>APLICACIÓN DE LAS ESCALAS DEL IMPUESTO AL IMPORTE DE LA CASILLA 620 (Parte Estatal).</td>\n",
       "    </tr>\n",
       "    <tr>\n",
       "      <th>c690</th>\n",
       "      <td>APLICACIÓN DE LAS ESCALAS DEL IMPUESTO AL IMPORTE DE LA CASILLA 620 (Parte Autonómica)</td>\n",
       "    </tr>\n",
       "    <tr>\n",
       "      <th>c698</th>\n",
       "      <td>CUOTAS INTEGRAS (693 + 696) (Parte Estatal)</td>\n",
       "    </tr>\n",
       "    <tr>\n",
       "      <th>c699</th>\n",
       "      <td>CUOTAS INTEGRAS (694 + 697) (Parte Autonómica)</td>\n",
       "    </tr>\n",
       "    <tr>\n",
       "      <th>c730</th>\n",
       "      <td>CUOTAS LIQUIDAS INCREMENTADAS ( 720 + 722 + 723 + 724 + 725 )  (Parte Estatal).</td>\n",
       "    </tr>\n",
       "    <tr>\n",
       "      <th>c731</th>\n",
       "      <td>CUOTAS LIQUIDAS INCREMENTADAS ( 721 + 726 + 727 + 728 + 729 )  (Parte Autonómica).</td>\n",
       "    </tr>\n",
       "    <tr>\n",
       "      <th>categoriadecla</th>\n",
       "      <td>Variable creada para recoger las posibles combinaciones del tipo de tributación y el estado civil.</td>\n",
       "    </tr>\n",
       "    <tr>\n",
       "      <th>ccaa</th>\n",
       "      <td>Código que identifica la Comunidad Autónoma de residencia fiscal del declarante o de los declaran­ tes. Hay un total de 17 códigos, las comunid...</td>\n",
       "    </tr>\n",
       "    <tr>\n",
       "      <th>factoroptimizado</th>\n",
       "      <td>Factor de elevación poblacional de la observación. Se calcula como el cociente entre el tamaño po­ blacional del estrato al que pertenece la de...</td>\n",
       "    </tr>\n",
       "    <tr>\n",
       "      <th>fechappal</th>\n",
       "      <td>Indica la fecha de nacimiento del primer declarante en el formato AAAAMMDD.</td>\n",
       "    </tr>\n",
       "    <tr>\n",
       "      <th>ingresostrabajo</th>\n",
       "      <td>Recoge la renta que proviene de los ingresos íntegros del trabajo, a través de las casillas del modelo 100 de IRPF para el año en cuestión.</td>\n",
       "    </tr>\n",
       "    <tr>\n",
       "      <th>marcafuente</th>\n",
       "      <td>Esta variable es creada para la estratificación, en ella se crean dos categorías para agrupar las decla­ raciones en función de la renta del tr...</td>\n",
       "    </tr>\n",
       "    <tr>\n",
       "      <th>sexoppal</th>\n",
       "      <td>Sexo del declarante principal. Toma valor 1 para hombres y 2 para mujeres.</td>\n",
       "    </tr>\n",
       "    <tr>\n",
       "      <th>tipotributacion</th>\n",
       "      <td>Indica el régimen tributario al que pertenece la declaración. Se denota por I en el caso de declaración individual y por C en el caso de conjunta.</td>\n",
       "    </tr>\n",
       "    <tr>\n",
       "      <th>tramo</th>\n",
       "      <td>Esta variable es creada para la estratificación, nos dice el tramo de la variable renta muestreo en el que se encuentra cada observación. Distin...</td>\n",
       "    </tr>\n",
       "  </tbody>\n",
       "</table>\n",
       "</div>"
      ],
      "text/plain": [
       "                                                                                                                                                            descripcion\n",
       "variables                                                                                                                                                              \n",
       "c455                                                                                                               BASE IMPONIBLE GENERAL (450 ­ 451 + 452 ­ 453 ­ 454)\n",
       "c620                                                                                                           BASE LIQUIDABLE GENERAL SOMETIDA A GRAVAMEN. (618 ­ 619)\n",
       "c689                                                                               APLICACIÓN DE LAS ESCALAS DEL IMPUESTO AL IMPORTE DE LA CASILLA 620 (Parte Estatal).\n",
       "c690                                                                             APLICACIÓN DE LAS ESCALAS DEL IMPUESTO AL IMPORTE DE LA CASILLA 620 (Parte Autonómica)\n",
       "c698                                                                                                                        CUOTAS INTEGRAS (693 + 696) (Parte Estatal)\n",
       "c699                                                                                                                    CUOTAS INTEGRAS (694 + 697) (Parte Autonómica)\n",
       "c730                                                                                    CUOTAS LIQUIDAS INCREMENTADAS ( 720 + 722 + 723 + 724 + 725 )  (Parte Estatal).\n",
       "c731                                                                                 CUOTAS LIQUIDAS INCREMENTADAS ( 721 + 726 + 727 + 728 + 729 )  (Parte Autonómica).\n",
       "categoriadecla                                                      Variable creada para recoger las posibles combinaciones del tipo de tributación y el estado civil.\n",
       "ccaa              Código que identifica la Comunidad Autónoma de residencia fiscal del declarante o de los declaran­ tes. Hay un total de 17 códigos, las comunid...\n",
       "factoroptimizado  Factor de elevación poblacional de la observación. Se calcula como el cociente entre el tamaño po­ blacional del estrato al que pertenece la de...\n",
       "fechappal                                                                                   Indica la fecha de nacimiento del primer declarante en el formato AAAAMMDD.\n",
       "ingresostrabajo         Recoge la renta que proviene de los ingresos íntegros del trabajo, a través de las casillas del modelo 100 de IRPF para el año en cuestión.\n",
       "marcafuente       Esta variable es creada para la estratificación, en ella se crean dos categorías para agrupar las decla­ raciones en función de la renta del tr...\n",
       "sexoppal                                                                                     Sexo del declarante principal. Toma valor 1 para hombres y 2 para mujeres.\n",
       "tipotributacion   Indica el régimen tributario al que pertenece la declaración. Se denota por I en el caso de declaración individual y por C en el caso de conjunta.\n",
       "tramo             Esta variable es creada para la estratificación, nos dice el tramo de la variable renta muestreo en el que se encuentra cada observación. Distin..."
      ]
     },
     "execution_count": 16,
     "metadata": {},
     "output_type": "execute_result"
    }
   ],
   "source": [
    "INFO"
   ]
  },
  {
   "cell_type": "code",
   "execution_count": 17,
   "metadata": {
    "collapsed": false
   },
   "outputs": [
    {
     "data": {
      "text/html": [
       "<div>\n",
       "<table border=\"1\" class=\"dataframe\">\n",
       "  <thead>\n",
       "    <tr style=\"text-align: right;\">\n",
       "      <th></th>\n",
       "      <th>c455</th>\n",
       "      <th>c620</th>\n",
       "      <th>c689</th>\n",
       "      <th>c690</th>\n",
       "      <th>c698</th>\n",
       "      <th>c699</th>\n",
       "      <th>c730</th>\n",
       "      <th>c731</th>\n",
       "      <th>c732</th>\n",
       "      <th>categoriadecla</th>\n",
       "      <th>ccaa</th>\n",
       "      <th>factoroptimizado</th>\n",
       "      <th>fechappal</th>\n",
       "      <th>ingresostrabajo</th>\n",
       "      <th>marcafuente</th>\n",
       "      <th>sexoppal</th>\n",
       "      <th>tipotributacion</th>\n",
       "      <th>tramo</th>\n",
       "    </tr>\n",
       "  </thead>\n",
       "  <tbody>\n",
       "    <tr>\n",
       "      <th>0</th>\n",
       "      <td>1112414</td>\n",
       "      <td>1112414</td>\n",
       "      <td>133489</td>\n",
       "      <td>129040</td>\n",
       "      <td>2156</td>\n",
       "      <td>0</td>\n",
       "      <td>0</td>\n",
       "      <td>0</td>\n",
       "      <td>0</td>\n",
       "      <td>4</td>\n",
       "      <td>12</td>\n",
       "      <td>22.156199</td>\n",
       "      <td>19600124</td>\n",
       "      <td>0</td>\n",
       "      <td>0</td>\n",
       "      <td>1</td>\n",
       "      <td>I</td>\n",
       "      <td>5</td>\n",
       "    </tr>\n",
       "    <tr>\n",
       "      <th>1</th>\n",
       "      <td>12518734</td>\n",
       "      <td>11068734</td>\n",
       "      <td>2035609</td>\n",
       "      <td>2076983</td>\n",
       "      <td>2096147</td>\n",
       "      <td>2137521</td>\n",
       "      <td>2075538</td>\n",
       "      <td>2116912</td>\n",
       "      <td>4192450</td>\n",
       "      <td>4</td>\n",
       "      <td>1</td>\n",
       "      <td>1.054458</td>\n",
       "      <td>19520412</td>\n",
       "      <td>0</td>\n",
       "      <td>0</td>\n",
       "      <td>1</td>\n",
       "      <td>I</td>\n",
       "      <td>9</td>\n",
       "    </tr>\n",
       "    <tr>\n",
       "      <th>2</th>\n",
       "      <td>784688</td>\n",
       "      <td>784688</td>\n",
       "      <td>94162</td>\n",
       "      <td>93377</td>\n",
       "      <td>44610</td>\n",
       "      <td>44341</td>\n",
       "      <td>44610</td>\n",
       "      <td>44341</td>\n",
       "      <td>88951</td>\n",
       "      <td>4</td>\n",
       "      <td>17</td>\n",
       "      <td>53.472625</td>\n",
       "      <td>19540408</td>\n",
       "      <td>981000</td>\n",
       "      <td>1</td>\n",
       "      <td>1</td>\n",
       "      <td>I</td>\n",
       "      <td>5</td>\n",
       "    </tr>\n",
       "    <tr>\n",
       "      <th>3</th>\n",
       "      <td>748352</td>\n",
       "      <td>748352</td>\n",
       "      <td>89802</td>\n",
       "      <td>89802</td>\n",
       "      <td>8713</td>\n",
       "      <td>8713</td>\n",
       "      <td>0</td>\n",
       "      <td>0</td>\n",
       "      <td>0</td>\n",
       "      <td>1</td>\n",
       "      <td>8</td>\n",
       "      <td>23.522815</td>\n",
       "      <td>19650716</td>\n",
       "      <td>0</td>\n",
       "      <td>0</td>\n",
       "      <td>2</td>\n",
       "      <td>I</td>\n",
       "      <td>4</td>\n",
       "    </tr>\n",
       "    <tr>\n",
       "      <th>4</th>\n",
       "      <td>1103390</td>\n",
       "      <td>763390</td>\n",
       "      <td>91606</td>\n",
       "      <td>88553</td>\n",
       "      <td>40783</td>\n",
       "      <td>40783</td>\n",
       "      <td>40783</td>\n",
       "      <td>40783</td>\n",
       "      <td>81566</td>\n",
       "      <td>3</td>\n",
       "      <td>12</td>\n",
       "      <td>50.503532</td>\n",
       "      <td>19330422</td>\n",
       "      <td>1194662</td>\n",
       "      <td>1</td>\n",
       "      <td>1</td>\n",
       "      <td>C</td>\n",
       "      <td>6</td>\n",
       "    </tr>\n",
       "  </tbody>\n",
       "</table>\n",
       "</div>"
      ],
      "text/plain": [
       "       c455      c620     c689     c690     c698     c699     c730     c731  \\\n",
       "0   1112414   1112414   133489   129040     2156        0        0        0   \n",
       "1  12518734  11068734  2035609  2076983  2096147  2137521  2075538  2116912   \n",
       "2    784688    784688    94162    93377    44610    44341    44610    44341   \n",
       "3    748352    748352    89802    89802     8713     8713        0        0   \n",
       "4   1103390    763390    91606    88553    40783    40783    40783    40783   \n",
       "\n",
       "      c732  categoriadecla  ccaa  factoroptimizado  fechappal  \\\n",
       "0        0               4    12         22.156199   19600124   \n",
       "1  4192450               4     1          1.054458   19520412   \n",
       "2    88951               4    17         53.472625   19540408   \n",
       "3        0               1     8         23.522815   19650716   \n",
       "4    81566               3    12         50.503532   19330422   \n",
       "\n",
       "   ingresostrabajo  marcafuente  sexoppal tipotributacion  tramo  \n",
       "0                0            0         1               I      5  \n",
       "1                0            0         1               I      9  \n",
       "2           981000            1         1               I      5  \n",
       "3                0            0         2               I      4  \n",
       "4          1194662            1         1               C      6  "
      ]
     },
     "execution_count": 17,
     "metadata": {},
     "output_type": "execute_result"
    }
   ],
   "source": [
    "data = pd.read_csv(data_2011, index_col=0) # importar el archivo de muestra\n",
    "data.head()                                # ver las primeras 5 líneas."
   ]
  },
  {
   "cell_type": "code",
   "execution_count": 18,
   "metadata": {
    "collapsed": false
   },
   "outputs": [
    {
     "name": "stderr",
     "output_type": "stream",
     "text": [
      "/Users/mmngreco/Virtualenvs/ipynb/lib/python3.5/site-packages/matplotlib/collections.py:590: FutureWarning: elementwise comparison failed; returning scalar instead, but in the future will perform elementwise comparison\n",
      "  if self._edgecolors == str('face'):\n"
     ]
    },
    {
     "data": {
      "text/plain": [
       "<matplotlib.text.Text at 0x1127234e0>"
      ]
     },
     "execution_count": 18,
     "metadata": {},
     "output_type": "execute_result"
    },
    {
     "data": {
      "image/png": "[encoded data removed]",
      "text/plain": [
       "<matplotlib.figure.Figure at 0x11155da90>"
      ]
     },
     "metadata": {},
     "output_type": "display_data"
    }
   ],
   "source": [
    "# distribucion de declarantes por tramo y ccaa\n",
    "\n",
    "dist = data.pivot_table(index='tramo',                     # Tramos en filas\n",
    "                        columns='ccaa',                    # CCCAA en columnas \n",
    "                        values='factoroptimizado',         # Valores = factoroptimizado\n",
    "                        aggfunc='sum')                     # Se representa la suma de valores\n",
    "\n",
    "orden_ca = dist.sum().sort_values(ascending=False).index   # Ordenar de mayor a menor las CCAA\n",
    "dist = dist[orden_ca]\n",
    "\n",
    "N = dist.sum().sum()                                       # poblacion total\n",
    "dist = dist / N                                            # frecuencia relativa\n",
    "dist_t = dist.sum(0) / N                                   # frecuencia relativa de tramo\n",
    "dist_ca = dist.sum(1) / N                                  # frecuencia relativa de ccaa\n",
    "\n",
    "# GRAFICO\n",
    "\n",
    "plt.figure(figsize=(10,10))\n",
    "ax1 = plt.subplot(2,2,3)\n",
    "ax3 = plt.subplot(2,2,4)\n",
    "ax2 = plt.subplot(2,2,1)\n",
    "\n",
    "sns.heatmap(dist, ax=ax1, cbar=False, cmap='Greens')\n",
    "\n",
    "g2 = sns.barplot(x=dist_t.index, y=dist_t.values, ax=ax2, color=sns.xkcd_rgb[\"medium green\"]).set_xticklabels('')\n",
    "g3 = sns.barplot(x=dist_ca, y=dist.index, ax=ax3, orient='horizontal', color=sns.xkcd_rgb[\"medium green\"]).set_yticklabels('')\n",
    "\n",
    "sns.despine(ax=ax2, left=True, bottom=True)\n",
    "sns.despine(ax=ax3, left=True, bottom=True)\n",
    "ax2.set_xlabel('')\n",
    "ax3.set_ylabel('')\n",
    "plt.suptitle('DISTRIBUCIÓN RELATIVA DE DECLARANTES \\nRESPECTO DEL TOTAL NACIONAL(%)', fontsize=15)"
   ]
  },
  {
   "cell_type": "code",
   "execution_count": 22,
   "metadata": {
    "collapsed": false
   },
   "outputs": [
    {
     "data": {
      "text/html": [
       "<div>\n",
       "<table border=\"1\" class=\"dataframe\">\n",
       "  <thead>\n",
       "    <tr style=\"text-align: right;\">\n",
       "      <th>ccaa</th>\n",
       "      <th>1</th>\n",
       "      <th>2</th>\n",
       "      <th>3</th>\n",
       "      <th>4</th>\n",
       "      <th>5</th>\n",
       "      <th>6</th>\n",
       "      <th>7</th>\n",
       "      <th>8</th>\n",
       "      <th>9</th>\n",
       "      <th>10</th>\n",
       "      <th>11</th>\n",
       "      <th>12</th>\n",
       "      <th>13</th>\n",
       "      <th>16</th>\n",
       "      <th>17</th>\n",
       "      <th>18</th>\n",
       "      <th>19</th>\n",
       "    </tr>\n",
       "    <tr>\n",
       "      <th>tramo</th>\n",
       "      <th></th>\n",
       "      <th></th>\n",
       "      <th></th>\n",
       "      <th></th>\n",
       "      <th></th>\n",
       "      <th></th>\n",
       "      <th></th>\n",
       "      <th></th>\n",
       "      <th></th>\n",
       "      <th></th>\n",
       "      <th></th>\n",
       "      <th></th>\n",
       "      <th></th>\n",
       "      <th></th>\n",
       "      <th></th>\n",
       "      <th></th>\n",
       "      <th></th>\n",
       "    </tr>\n",
       "  </thead>\n",
       "  <tbody>\n",
       "    <tr>\n",
       "      <th>1</th>\n",
       "      <td>31843.520617</td>\n",
       "      <td>5292.624574</td>\n",
       "      <td>5253.000000</td>\n",
       "      <td>5777.000000</td>\n",
       "      <td>5863.156323</td>\n",
       "      <td>2806.000000</td>\n",
       "      <td>8165.170861</td>\n",
       "      <td>10982.000000</td>\n",
       "      <td>27244.560442</td>\n",
       "      <td>4334.280047</td>\n",
       "      <td>14196.199336</td>\n",
       "      <td>20936.570351</td>\n",
       "      <td>4733.904301</td>\n",
       "      <td>1343.000000</td>\n",
       "      <td>21037.922984</td>\n",
       "      <td>109.000000</td>\n",
       "      <td>122.000000</td>\n",
       "    </tr>\n",
       "    <tr>\n",
       "      <th>2</th>\n",
       "      <td>137688.000000</td>\n",
       "      <td>26949.000000</td>\n",
       "      <td>25316.000000</td>\n",
       "      <td>14415.000000</td>\n",
       "      <td>25940.000000</td>\n",
       "      <td>10977.000000</td>\n",
       "      <td>40743.595238</td>\n",
       "      <td>54732.000000</td>\n",
       "      <td>106046.000001</td>\n",
       "      <td>21973.123595</td>\n",
       "      <td>58694.000000</td>\n",
       "      <td>85484.626886</td>\n",
       "      <td>25461.000000</td>\n",
       "      <td>6863.000000</td>\n",
       "      <td>99047.000001</td>\n",
       "      <td>576.000000</td>\n",
       "      <td>713.000000</td>\n",
       "    </tr>\n",
       "    <tr>\n",
       "      <th>3</th>\n",
       "      <td>200387.326003</td>\n",
       "      <td>28524.000000</td>\n",
       "      <td>23277.000000</td>\n",
       "      <td>19948.000000</td>\n",
       "      <td>43329.000000</td>\n",
       "      <td>11843.000000</td>\n",
       "      <td>48540.000000</td>\n",
       "      <td>56911.738419</td>\n",
       "      <td>132839.000000</td>\n",
       "      <td>34624.000000</td>\n",
       "      <td>66863.000000</td>\n",
       "      <td>97696.000000</td>\n",
       "      <td>32378.115278</td>\n",
       "      <td>7521.000000</td>\n",
       "      <td>126365.999999</td>\n",
       "      <td>782.000000</td>\n",
       "      <td>978.000000</td>\n",
       "    </tr>\n",
       "    <tr>\n",
       "      <th>4</th>\n",
       "      <td>740227.385536</td>\n",
       "      <td>126586.999999</td>\n",
       "      <td>86562.000000</td>\n",
       "      <td>83066.000000</td>\n",
       "      <td>161486.000000</td>\n",
       "      <td>45813.999999</td>\n",
       "      <td>187593.999999</td>\n",
       "      <td>244760.999999</td>\n",
       "      <td>523447.575986</td>\n",
       "      <td>127462.000001</td>\n",
       "      <td>270721.000001</td>\n",
       "      <td>371142.000001</td>\n",
       "      <td>123727.020692</td>\n",
       "      <td>30375.000000</td>\n",
       "      <td>461118.999998</td>\n",
       "      <td>3060.000000</td>\n",
       "      <td>3323.000000</td>\n",
       "    </tr>\n",
       "    <tr>\n",
       "      <th>5</th>\n",
       "      <td>653134.848522</td>\n",
       "      <td>136518.999999</td>\n",
       "      <td>92876.000000</td>\n",
       "      <td>109514.000001</td>\n",
       "      <td>176931.604833</td>\n",
       "      <td>55239.000000</td>\n",
       "      <td>204723.999999</td>\n",
       "      <td>264916.833171</td>\n",
       "      <td>618361.326452</td>\n",
       "      <td>105883.000000</td>\n",
       "      <td>273097.000001</td>\n",
       "      <td>529447.177405</td>\n",
       "      <td>125492.000000</td>\n",
       "      <td>34489.000000</td>\n",
       "      <td>469138.054751</td>\n",
       "      <td>3647.000000</td>\n",
       "      <td>3641.000000</td>\n",
       "    </tr>\n",
       "    <tr>\n",
       "      <th>6</th>\n",
       "      <td>790839.424737</td>\n",
       "      <td>205673.063438</td>\n",
       "      <td>152765.000001</td>\n",
       "      <td>128459.000000</td>\n",
       "      <td>195499.832147</td>\n",
       "      <td>80429.950245</td>\n",
       "      <td>237879.237199</td>\n",
       "      <td>343376.753452</td>\n",
       "      <td>1069357.312031</td>\n",
       "      <td>105633.525573</td>\n",
       "      <td>325897.251510</td>\n",
       "      <td>896037.971741</td>\n",
       "      <td>144818.422581</td>\n",
       "      <td>48020.356868</td>\n",
       "      <td>560000.434683</td>\n",
       "      <td>8057.000000</td>\n",
       "      <td>7352.000000</td>\n",
       "    </tr>\n",
       "    <tr>\n",
       "      <th>7</th>\n",
       "      <td>506058.587408</td>\n",
       "      <td>128127.171837</td>\n",
       "      <td>111302.298210</td>\n",
       "      <td>80154.082539</td>\n",
       "      <td>124193.412950</td>\n",
       "      <td>53739.959975</td>\n",
       "      <td>138245.473651</td>\n",
       "      <td>220035.340050</td>\n",
       "      <td>733498.863613</td>\n",
       "      <td>59064.223103</td>\n",
       "      <td>190277.222928</td>\n",
       "      <td>718088.782237</td>\n",
       "      <td>92243.014493</td>\n",
       "      <td>27938.857507</td>\n",
       "      <td>338254.433334</td>\n",
       "      <td>8402.120000</td>\n",
       "      <td>7378.408696</td>\n",
       "    </tr>\n",
       "    <tr>\n",
       "      <th>8</th>\n",
       "      <td>20929.173109</td>\n",
       "      <td>5491.248838</td>\n",
       "      <td>3680.152305</td>\n",
       "      <td>5127.901749</td>\n",
       "      <td>4878.600698</td>\n",
       "      <td>2598.854582</td>\n",
       "      <td>6942.129247</td>\n",
       "      <td>12095.737216</td>\n",
       "      <td>35047.243305</td>\n",
       "      <td>2473.600248</td>\n",
       "      <td>7316.164609</td>\n",
       "      <td>32476.325221</td>\n",
       "      <td>3805.248521</td>\n",
       "      <td>1507.257934</td>\n",
       "      <td>15794.805773</td>\n",
       "      <td>300.525424</td>\n",
       "      <td>374.697895</td>\n",
       "    </tr>\n",
       "    <tr>\n",
       "      <th>9</th>\n",
       "      <td>2935.612208</td>\n",
       "      <td>853.703390</td>\n",
       "      <td>599.170732</td>\n",
       "      <td>865.522255</td>\n",
       "      <td>1064.878543</td>\n",
       "      <td>416.571429</td>\n",
       "      <td>596.876827</td>\n",
       "      <td>1330.480365</td>\n",
       "      <td>6846.101695</td>\n",
       "      <td>268.976271</td>\n",
       "      <td>1375.234807</td>\n",
       "      <td>6116.761448</td>\n",
       "      <td>623.218182</td>\n",
       "      <td>205.773279</td>\n",
       "      <td>2952.035471</td>\n",
       "      <td>63.846154</td>\n",
       "      <td>70.571429</td>\n",
       "    </tr>\n",
       "    <tr>\n",
       "      <th>10</th>\n",
       "      <td>729.318436</td>\n",
       "      <td>234.972136</td>\n",
       "      <td>147.583333</td>\n",
       "      <td>249.193717</td>\n",
       "      <td>354.122222</td>\n",
       "      <td>94.800000</td>\n",
       "      <td>111.800000</td>\n",
       "      <td>295.533333</td>\n",
       "      <td>2061.839781</td>\n",
       "      <td>49.672414</td>\n",
       "      <td>310.197826</td>\n",
       "      <td>2788.536631</td>\n",
       "      <td>203.666667</td>\n",
       "      <td>70.125000</td>\n",
       "      <td>875.385965</td>\n",
       "      <td>32.521739</td>\n",
       "      <td>29.363636</td>\n",
       "    </tr>\n",
       "  </tbody>\n",
       "</table>\n",
       "</div>"
      ],
      "text/plain": [
       "ccaa              1              2              3              4   \\\n",
       "tramo                                                               \n",
       "1       31843.520617    5292.624574    5253.000000    5777.000000   \n",
       "2      137688.000000   26949.000000   25316.000000   14415.000000   \n",
       "3      200387.326003   28524.000000   23277.000000   19948.000000   \n",
       "4      740227.385536  126586.999999   86562.000000   83066.000000   \n",
       "5      653134.848522  136518.999999   92876.000000  109514.000001   \n",
       "6      790839.424737  205673.063438  152765.000001  128459.000000   \n",
       "7      506058.587408  128127.171837  111302.298210   80154.082539   \n",
       "8       20929.173109    5491.248838    3680.152305    5127.901749   \n",
       "9        2935.612208     853.703390     599.170732     865.522255   \n",
       "10        729.318436     234.972136     147.583333     249.193717   \n",
       "\n",
       "ccaa              5             6              7              8   \\\n",
       "tramo                                                              \n",
       "1        5863.156323   2806.000000    8165.170861   10982.000000   \n",
       "2       25940.000000  10977.000000   40743.595238   54732.000000   \n",
       "3       43329.000000  11843.000000   48540.000000   56911.738419   \n",
       "4      161486.000000  45813.999999  187593.999999  244760.999999   \n",
       "5      176931.604833  55239.000000  204723.999999  264916.833171   \n",
       "6      195499.832147  80429.950245  237879.237199  343376.753452   \n",
       "7      124193.412950  53739.959975  138245.473651  220035.340050   \n",
       "8        4878.600698   2598.854582    6942.129247   12095.737216   \n",
       "9        1064.878543    416.571429     596.876827    1330.480365   \n",
       "10        354.122222     94.800000     111.800000     295.533333   \n",
       "\n",
       "ccaa               9              10             11             12  \\\n",
       "tramo                                                                \n",
       "1        27244.560442    4334.280047   14196.199336   20936.570351   \n",
       "2       106046.000001   21973.123595   58694.000000   85484.626886   \n",
       "3       132839.000000   34624.000000   66863.000000   97696.000000   \n",
       "4       523447.575986  127462.000001  270721.000001  371142.000001   \n",
       "5       618361.326452  105883.000000  273097.000001  529447.177405   \n",
       "6      1069357.312031  105633.525573  325897.251510  896037.971741   \n",
       "7       733498.863613   59064.223103  190277.222928  718088.782237   \n",
       "8        35047.243305    2473.600248    7316.164609   32476.325221   \n",
       "9         6846.101695     268.976271    1375.234807    6116.761448   \n",
       "10        2061.839781      49.672414     310.197826    2788.536631   \n",
       "\n",
       "ccaa              13            16             17           18           19  \n",
       "tramo                                                                        \n",
       "1        4733.904301   1343.000000   21037.922984   109.000000   122.000000  \n",
       "2       25461.000000   6863.000000   99047.000001   576.000000   713.000000  \n",
       "3       32378.115278   7521.000000  126365.999999   782.000000   978.000000  \n",
       "4      123727.020692  30375.000000  461118.999998  3060.000000  3323.000000  \n",
       "5      125492.000000  34489.000000  469138.054751  3647.000000  3641.000000  \n",
       "6      144818.422581  48020.356868  560000.434683  8057.000000  7352.000000  \n",
       "7       92243.014493  27938.857507  338254.433334  8402.120000  7378.408696  \n",
       "8        3805.248521   1507.257934   15794.805773   300.525424   374.697895  \n",
       "9         623.218182    205.773279    2952.035471    63.846154    70.571429  \n",
       "10        203.666667     70.125000     875.385965    32.521739    29.363636  "
      ]
     },
     "execution_count": 22,
     "metadata": {},
     "output_type": "execute_result"
    }
   ],
   "source": [
    "percentil_90 = data['ingresostrabajo'].quantile(0.9)\n",
    "d = data[data.ingresostrabajo <= percentil_90]\n",
    "\n",
    "data_p90 = pd.pivot_table(d, values='factoroptimizado', index='tramo', columns='ccaa', aggfunc='sum')\n",
    "data_p90"
   ]
  },
  {
   "cell_type": "code",
   "execution_count": 23,
   "metadata": {
    "collapsed": false
   },
   "outputs": [
    {
     "name": "stderr",
     "output_type": "stream",
     "text": [
      "/Users/mmngreco/Virtualenvs/ipynb/lib/python3.5/site-packages/matplotlib/collections.py:590: FutureWarning: elementwise comparison failed; returning scalar instead, but in the future will perform elementwise comparison\n",
      "  if self._edgecolors == str('face'):\n"
     ]
    },
    {
     "data": {
      "text/plain": [
       "<matplotlib.axes._subplots.AxesSubplot at 0x11298d4a8>"
      ]
     },
     "execution_count": 23,
     "metadata": {},
     "output_type": "execute_result"
    },
    {
     "data": {
      "image/png": "[encoded data removed]",
      "text/plain": [
       "<matplotlib.figure.Figure at 0x11159d0f0>"
      ]
     },
     "metadata": {},
     "output_type": "display_data"
    }
   ],
   "source": [
    "total = data_p90.sum().sum()\n",
    "orden_ca = data_p90.sum().sort_values(ascending=False).index\n",
    "data_p90 = data_p90[orden_ca]/total\n",
    "sns.heatmap(data_p90, robust=True)"
   ]
  },
  {
   "cell_type": "code",
   "execution_count": 24,
   "metadata": {
    "collapsed": false
   },
   "outputs": [
    {
     "data": {
      "text/html": [
       "<div>\n",
       "<table border=\"1\" class=\"dataframe\">\n",
       "  <thead>\n",
       "    <tr style=\"text-align: right;\">\n",
       "      <th></th>\n",
       "      <th>descripcion</th>\n",
       "    </tr>\n",
       "    <tr>\n",
       "      <th>variables</th>\n",
       "      <th></th>\n",
       "    </tr>\n",
       "  </thead>\n",
       "  <tbody>\n",
       "    <tr>\n",
       "      <th>c455</th>\n",
       "      <td>BASE IMPONIBLE GENERAL (450 ­ 451 + 452 ­ 453 ­ 454)</td>\n",
       "    </tr>\n",
       "    <tr>\n",
       "      <th>c620</th>\n",
       "      <td>BASE LIQUIDABLE GENERAL SOMETIDA A GRAVAMEN. (618 ­ 619)</td>\n",
       "    </tr>\n",
       "    <tr>\n",
       "      <th>c689</th>\n",
       "      <td>APLICACIÓN DE LAS ESCALAS DEL IMPUESTO AL IMPORTE DE LA CASILLA 620 (Parte Estatal).</td>\n",
       "    </tr>\n",
       "    <tr>\n",
       "      <th>c690</th>\n",
       "      <td>APLICACIÓN DE LAS ESCALAS DEL IMPUESTO AL IMPORTE DE LA CASILLA 620 (Parte Autonómica)</td>\n",
       "    </tr>\n",
       "    <tr>\n",
       "      <th>c698</th>\n",
       "      <td>CUOTAS INTEGRAS (693 + 696) (Parte Estatal)</td>\n",
       "    </tr>\n",
       "    <tr>\n",
       "      <th>c699</th>\n",
       "      <td>CUOTAS INTEGRAS (694 + 697) (Parte Autonómica)</td>\n",
       "    </tr>\n",
       "    <tr>\n",
       "      <th>c730</th>\n",
       "      <td>CUOTAS LIQUIDAS INCREMENTADAS ( 720 + 722 + 723 + 724 + 725 )  (Parte Estatal).</td>\n",
       "    </tr>\n",
       "    <tr>\n",
       "      <th>c731</th>\n",
       "      <td>CUOTAS LIQUIDAS INCREMENTADAS ( 721 + 726 + 727 + 728 + 729 )  (Parte Autonómica).</td>\n",
       "    </tr>\n",
       "    <tr>\n",
       "      <th>categoriadecla</th>\n",
       "      <td>Variable creada para recoger las posibles combinaciones del tipo de tributación y el estado civil.</td>\n",
       "    </tr>\n",
       "    <tr>\n",
       "      <th>ccaa</th>\n",
       "      <td>Código que identifica la Comunidad Autónoma de residencia fiscal del declarante o de los declaran­ tes. Hay un total de 17 códigos, las comunid...</td>\n",
       "    </tr>\n",
       "    <tr>\n",
       "      <th>factoroptimizado</th>\n",
       "      <td>Factor de elevación poblacional de la observación. Se calcula como el cociente entre el tamaño po­ blacional del estrato al que pertenece la de...</td>\n",
       "    </tr>\n",
       "    <tr>\n",
       "      <th>fechappal</th>\n",
       "      <td>Indica la fecha de nacimiento del primer declarante en el formato AAAAMMDD.</td>\n",
       "    </tr>\n",
       "    <tr>\n",
       "      <th>ingresostrabajo</th>\n",
       "      <td>Recoge la renta que proviene de los ingresos íntegros del trabajo, a través de las casillas del modelo 100 de IRPF para el año en cuestión.</td>\n",
       "    </tr>\n",
       "    <tr>\n",
       "      <th>marcafuente</th>\n",
       "      <td>Esta variable es creada para la estratificación, en ella se crean dos categorías para agrupar las decla­ raciones en función de la renta del tr...</td>\n",
       "    </tr>\n",
       "    <tr>\n",
       "      <th>sexoppal</th>\n",
       "      <td>Sexo del declarante principal. Toma valor 1 para hombres y 2 para mujeres.</td>\n",
       "    </tr>\n",
       "    <tr>\n",
       "      <th>tipotributacion</th>\n",
       "      <td>Indica el régimen tributario al que pertenece la declaración. Se denota por I en el caso de declaración individual y por C en el caso de conjunta.</td>\n",
       "    </tr>\n",
       "    <tr>\n",
       "      <th>tramo</th>\n",
       "      <td>Esta variable es creada para la estratificación, nos dice el tramo de la variable renta muestreo en el que se encuentra cada observación. Distin...</td>\n",
       "    </tr>\n",
       "  </tbody>\n",
       "</table>\n",
       "</div>"
      ],
      "text/plain": [
       "                                                                                                                                                            descripcion\n",
       "variables                                                                                                                                                              \n",
       "c455                                                                                                               BASE IMPONIBLE GENERAL (450 ­ 451 + 452 ­ 453 ­ 454)\n",
       "c620                                                                                                           BASE LIQUIDABLE GENERAL SOMETIDA A GRAVAMEN. (618 ­ 619)\n",
       "c689                                                                               APLICACIÓN DE LAS ESCALAS DEL IMPUESTO AL IMPORTE DE LA CASILLA 620 (Parte Estatal).\n",
       "c690                                                                             APLICACIÓN DE LAS ESCALAS DEL IMPUESTO AL IMPORTE DE LA CASILLA 620 (Parte Autonómica)\n",
       "c698                                                                                                                        CUOTAS INTEGRAS (693 + 696) (Parte Estatal)\n",
       "c699                                                                                                                    CUOTAS INTEGRAS (694 + 697) (Parte Autonómica)\n",
       "c730                                                                                    CUOTAS LIQUIDAS INCREMENTADAS ( 720 + 722 + 723 + 724 + 725 )  (Parte Estatal).\n",
       "c731                                                                                 CUOTAS LIQUIDAS INCREMENTADAS ( 721 + 726 + 727 + 728 + 729 )  (Parte Autonómica).\n",
       "categoriadecla                                                      Variable creada para recoger las posibles combinaciones del tipo de tributación y el estado civil.\n",
       "ccaa              Código que identifica la Comunidad Autónoma de residencia fiscal del declarante o de los declaran­ tes. Hay un total de 17 códigos, las comunid...\n",
       "factoroptimizado  Factor de elevación poblacional de la observación. Se calcula como el cociente entre el tamaño po­ blacional del estrato al que pertenece la de...\n",
       "fechappal                                                                                   Indica la fecha de nacimiento del primer declarante en el formato AAAAMMDD.\n",
       "ingresostrabajo         Recoge la renta que proviene de los ingresos íntegros del trabajo, a través de las casillas del modelo 100 de IRPF para el año en cuestión.\n",
       "marcafuente       Esta variable es creada para la estratificación, en ella se crean dos categorías para agrupar las decla­ raciones en función de la renta del tr...\n",
       "sexoppal                                                                                     Sexo del declarante principal. Toma valor 1 para hombres y 2 para mujeres.\n",
       "tipotributacion   Indica el régimen tributario al que pertenece la declaración. Se denota por I en el caso de declaración individual y por C en el caso de conjunta.\n",
       "tramo             Esta variable es creada para la estratificación, nos dice el tramo de la variable renta muestreo en el que se encuentra cada observación. Distin..."
      ]
     },
     "execution_count": 24,
     "metadata": {},
     "output_type": "execute_result"
    }
   ],
   "source": [
    "INFO"
   ]
  },
  {
   "cell_type": "code",
   "execution_count": 54,
   "metadata": {
    "collapsed": true
   },
   "outputs": [],
   "source": [
    "c = 0\n",
    "lc = {}"
   ]
  },
  {
   "cell_type": "code",
   "execution_count": 79,
   "metadata": {
    "collapsed": false
   },
   "outputs": [
    {
     "data": {
      "text/html": [
       "<div>\n",
       "<table border=\"1\" class=\"dataframe\">\n",
       "  <thead>\n",
       "    <tr style=\"text-align: right;\">\n",
       "      <th></th>\n",
       "      <th>factoroptimizado</th>\n",
       "      <th>ingresostrabajo</th>\n",
       "    </tr>\n",
       "  </thead>\n",
       "  <tbody>\n",
       "    <tr>\n",
       "      <th>0</th>\n",
       "      <td>0.000001</td>\n",
       "      <td>0</td>\n",
       "    </tr>\n",
       "    <tr>\n",
       "      <th>270594</th>\n",
       "      <td>0.000002</td>\n",
       "      <td>0</td>\n",
       "    </tr>\n",
       "    <tr>\n",
       "      <th>270595</th>\n",
       "      <td>0.000003</td>\n",
       "      <td>0</td>\n",
       "    </tr>\n",
       "    <tr>\n",
       "      <th>270598</th>\n",
       "      <td>0.000004</td>\n",
       "      <td>0</td>\n",
       "    </tr>\n",
       "    <tr>\n",
       "      <th>270613</th>\n",
       "      <td>0.000005</td>\n",
       "      <td>0</td>\n",
       "    </tr>\n",
       "  </tbody>\n",
       "</table>\n",
       "</div>"
      ],
      "text/plain": [
       "        factoroptimizado  ingresostrabajo\n",
       "0               0.000001                0\n",
       "270594          0.000002                0\n",
       "270595          0.000003                0\n",
       "270598          0.000004                0\n",
       "270613          0.000005                0"
      ]
     },
     "execution_count": 79,
     "metadata": {},
     "output_type": "execute_result"
    }
   ],
   "source": [
    "# PERCENTIL 10%\n",
    "# TODO: DATOS POBLACIONALES\n",
    "\n",
    "#c += 1\n",
    "#variables = ['factoroptimizado', data.columns[c]]\n",
    "variables = ['factoroptimizado', 'ingresostrabajo']\n",
    "cdf = data[variables].copy()\n",
    "\n",
    "cdf = cdf.sort_values(by=variables[1], ascending=True)\n",
    "#cdf = cdf.reset_index(drop=True)\n",
    "cdf[variables[1]] = cdf.product(axis=1)\n",
    "cdf[variables] = cdf[variables].cumsum(axis=0) / cdf.sum()\n",
    "\n",
    "cdf.head()"
   ]
  },
  {
   "cell_type": "code",
   "execution_count": 80,
   "metadata": {
    "collapsed": false
   },
   "outputs": [
    {
     "data": {
      "image/png": "[encoded data removed]",
      "text/plain": [
       "<matplotlib.figure.Figure at 0x12de74f98>"
      ]
     },
     "metadata": {},
     "output_type": "display_data"
    }
   ],
   "source": [
    "cdf.plot(kind='line', x=variables[0], y=variables[1], linewidth=2, figsize=(5,5))\n",
    "\n",
    "plt.plot([0,1])\n",
    "plt.title('Curva de Lorentz')\n",
    "plt.xlabel('% Población')\n",
    "plt.ylabel('% {}'.format(variables[1].title()))\n",
    "plt.xlim(0,1)\n",
    "plt.ylim(0,1)\n",
    "plt.savefig('imgs/lorentz_%s_%s.png' % (variables[1], date), bbox_iches='tight')\n",
    "\n",
    "# Guardar la distribución.\n",
    "\n",
    "lc[variables[1]] =  [cdf[variables[0]], cdf[variables[1]]]\n",
    "lc.keys()"
   ]
  },
  {
   "cell_type": "code",
   "execution_count": 90,
   "metadata": {
    "collapsed": false
   },
   "outputs": [
    {
     "data": {
      "text/plain": [
       "<matplotlib.legend.Legend at 0x123383cf8>"
      ]
     },
     "execution_count": 90,
     "metadata": {},
     "output_type": "execute_result"
    },
    {
     "data": {
      "image/png": "[encoded data removed]",
      "text/plain": [
       "<matplotlib.figure.Figure at 0x12de76ef0>"
      ]
     },
     "metadata": {},
     "output_type": "display_data"
    }
   ],
   "source": [
    "plt.figure(figsize=(5,5))\n",
    "\n",
    "for k in lc.keys():    \n",
    "    plt.plot(lc[k][0], lc[k][1], label=k)\n",
    "\n",
    "plt.plot([0,1])\n",
    "plt.suptitle('Curva de Lorentz')\n",
    "plt.xlabel('% Población')\n",
    "plt.ylabel('% $')\n",
    "plt.xlim(0,1)\n",
    "plt.ylim(0,1)\n",
    "plt.legend(loc=0)\n",
    "#plt.savefig('imgs/lorentz_%s_%s.png' % (variables[1], date), bbox_iches='tight')"
   ]
  },
  {
   "cell_type": "code",
   "execution_count": 81,
   "metadata": {
    "collapsed": false
   },
   "outputs": [
    {
     "data": {
      "text/plain": [
       "dict_keys(['ingresostrabajo', 'c698', 'c690', 'c731', 'c699', 'c620', 'c689', 'c730'])"
      ]
     },
     "execution_count": 81,
     "metadata": {},
     "output_type": "execute_result"
    }
   ],
   "source": [
    "lc[variables[1]] =  [cdf[variables[0]], cdf[variables[1]]]\n",
    "lc.keys()"
   ]
  },
  {
   "cell_type": "code",
   "execution_count": 92,
   "metadata": {
    "collapsed": false
   },
   "outputs": [
    {
     "data": {
      "text/html": [
       "<iframe src=\"//giphy.com/embed/DXzihcl9gQERa\" width=\"480\" height=\"480\" frameBorder=\"0\" class=\"giphy-embed\" allowFullScreen></iframe><p><a href=\"http://giphy.com/gifs/DXzihcl9gQERa\">via GIPHY</a></p>"
      ],
      "text/plain": [
       "<IPython.core.display.HTML object>"
      ]
     },
     "metadata": {},
     "output_type": "display_data"
    }
   ],
   "source": [
    "%%html\n",
    "<iframe src=\"//giphy.com/embed/DXzihcl9gQERa\" width=\"480\" height=\"480\" frameBorder=\"0\" class=\"giphy-embed\" allowFullScreen></iframe><p><a href=\"http://giphy.com/gifs/DXzihcl9gQERa\">via GIPHY</a></p>"
   ]
  },
  {
   "cell_type": "code",
   "execution_count": 103,
   "metadata": {
    "collapsed": false
   },
   "outputs": [
    {
     "name": "stdout",
     "output_type": "stream",
     "text": [
      "                     Gini\n",
      "ingresostrabajo  0.461160\n",
      "c690             0.551929\n",
      "c689             0.552380\n",
      "c699             0.697796\n",
      "c698             0.698056\n",
      "c730             0.720683\n",
      "c731             0.725347\n",
      "c620             0.991811\n"
     ]
    },
    {
     "data": {
      "image/png": "[encoded data removed]",
      "text/plain": [
       "<matplotlib.figure.Figure at 0x11be687f0>"
      ]
     },
     "metadata": {},
     "output_type": "display_data"
    }
   ],
   "source": [
    "# indice de gini\n",
    "\n",
    "gini = {}\n",
    "\n",
    "for k in lc.keys():\n",
    "    area_total = 0.5\n",
    "    area_bajo = si.trapz(x=lc[k][0], y=lc[k][1])\n",
    "    area_entre = area_total - area_bajo\n",
    "    gini[k] = area_entre / area_total\n",
    "\n",
    "df_gini = pd.DataFrame.from_dict(gini, orient='index').sort_values(by=0)\n",
    "df_gini.columns = ['Gini']\n",
    "df_gini.plot(kind='barh')\n",
    "plt.suptitle('Indice de Gini', fontsize=15)\n",
    "print(df_gini)"
   ]
  },
  {
   "cell_type": "code",
   "execution_count": 36,
   "metadata": {
    "collapsed": false
   },
   "outputs": [],
   "source": [
    "# indice de gini\n",
    "area_total = 0.5\n",
    "area_bajo = si.trapz(x=cdf[variables[0]], y=cdf[variables[1]])\n",
    "area_entre = area_total - area_bajo\n",
    "gini = area_entre / area_total\n",
    "gini"
   ]
  },
  {
   "cell_type": "code",
   "execution_count": null,
   "metadata": {
    "collapsed": false
   },
   "outputs": [],
   "source": [
    "d = data[data.ingresostrabajo <= percentil_10]\n",
    "\n",
    "data_p10 = pd.pivot_table(d, values='factoroptimizado', index='tramo', columns='ccaa', aggfunc='sum')\n",
    "data_p10.head()\n",
    "\n",
    "total = data_p10.sum().sum()\n",
    "orden_ca = data_p10.sum().sort_values(ascending=False).index\n",
    "data_p10 = data_p10[orden_ca]/total\n",
    "\n",
    "sns.heatmap(data_p10, robust=True)"
   ]
  },
  {
   "cell_type": "code",
   "execution_count": 16,
   "metadata": {
    "collapsed": false
   },
   "outputs": [
    {
     "data": {
      "text/html": [
       "<div>\n",
       "<table border=\"1\" class=\"dataframe\">\n",
       "  <thead>\n",
       "    <tr style=\"text-align: right;\">\n",
       "      <th></th>\n",
       "      <th>descripcion</th>\n",
       "    </tr>\n",
       "    <tr>\n",
       "      <th>variables</th>\n",
       "      <th></th>\n",
       "    </tr>\n",
       "  </thead>\n",
       "  <tbody>\n",
       "    <tr>\n",
       "      <th>c455</th>\n",
       "      <td>BASE IMPONIBLE GENERAL (450 ­ 451 + 452 ­ 453 ­ 454)</td>\n",
       "    </tr>\n",
       "    <tr>\n",
       "      <th>c620</th>\n",
       "      <td>BASE LIQUIDABLE GENERAL SOMETIDA A GRAVAMEN. (618 ­ 619)</td>\n",
       "    </tr>\n",
       "    <tr>\n",
       "      <th>c689</th>\n",
       "      <td>APLICACIÓN DE LAS ESCALAS DEL IMPUESTO AL IMPORTE DE LA CASILLA 620 (Parte Estatal).</td>\n",
       "    </tr>\n",
       "    <tr>\n",
       "      <th>c690</th>\n",
       "      <td>APLICACIÓN DE LAS ESCALAS DEL IMPUESTO AL IMPORTE DE LA CASILLA 620 (Parte Autonómica)</td>\n",
       "    </tr>\n",
       "    <tr>\n",
       "      <th>c698</th>\n",
       "      <td>CUOTAS INTEGRAS (693 + 696) (Parte Estatal)</td>\n",
       "    </tr>\n",
       "    <tr>\n",
       "      <th>c699</th>\n",
       "      <td>CUOTAS INTEGRAS (694 + 697) (Parte Autonómica)</td>\n",
       "    </tr>\n",
       "    <tr>\n",
       "      <th>c730</th>\n",
       "      <td>CUOTAS LIQUIDAS INCREMENTADAS ( 720 + 722 + 723 + 724 + 725 )  (Parte Estatal).</td>\n",
       "    </tr>\n",
       "    <tr>\n",
       "      <th>c731</th>\n",
       "      <td>CUOTAS LIQUIDAS INCREMENTADAS ( 721 + 726 + 727 + 728 + 729 )  (Parte Autonómica).</td>\n",
       "    </tr>\n",
       "    <tr>\n",
       "      <th>categoriadecla</th>\n",
       "      <td>Variable creada para recoger las posibles combinaciones del tipo de tributación y el estado civil.</td>\n",
       "    </tr>\n",
       "    <tr>\n",
       "      <th>ccaa</th>\n",
       "      <td>Código que identifica la Comunidad Autónoma de residencia fiscal del declarante o de los declaran­ tes. Hay un total de 17 códigos, las comunid...</td>\n",
       "    </tr>\n",
       "    <tr>\n",
       "      <th>factoroptimizado</th>\n",
       "      <td>Factor de elevación poblacional de la observación. Se calcula como el cociente entre el tamaño po­ blacional del estrato al que pertenece la de...</td>\n",
       "    </tr>\n",
       "    <tr>\n",
       "      <th>fechappal</th>\n",
       "      <td>Indica la fecha de nacimiento del primer declarante en el formato AAAAMMDD.</td>\n",
       "    </tr>\n",
       "    <tr>\n",
       "      <th>ingresostrabajo</th>\n",
       "      <td>Recoge la renta que proviene de los ingresos íntegros del trabajo, a través de las casillas del modelo 100 de IRPF para el año en cuestión.</td>\n",
       "    </tr>\n",
       "    <tr>\n",
       "      <th>marcafuente</th>\n",
       "      <td>Esta variable es creada para la estratificación, en ella se crean dos categorías para agrupar las decla­ raciones en función de la renta del tr...</td>\n",
       "    </tr>\n",
       "    <tr>\n",
       "      <th>sexoppal</th>\n",
       "      <td>Sexo del declarante principal. Toma valor 1 para hombres y 2 para mujeres.</td>\n",
       "    </tr>\n",
       "    <tr>\n",
       "      <th>tipotributacion</th>\n",
       "      <td>Indica el régimen tributario al que pertenece la declaración. Se denota por I en el caso de declaración individual y por C en el caso de conjunta.</td>\n",
       "    </tr>\n",
       "    <tr>\n",
       "      <th>tramo</th>\n",
       "      <td>Esta variable es creada para la estratificación, nos dice el tramo de la variable renta muestreo en el que se encuentra cada observación. Distin...</td>\n",
       "    </tr>\n",
       "  </tbody>\n",
       "</table>\n",
       "</div>"
      ],
      "text/plain": [
       "                                                                                                                                                            descripcion\n",
       "variables                                                                                                                                                              \n",
       "c455                                                                                                               BASE IMPONIBLE GENERAL (450 ­ 451 + 452 ­ 453 ­ 454)\n",
       "c620                                                                                                           BASE LIQUIDABLE GENERAL SOMETIDA A GRAVAMEN. (618 ­ 619)\n",
       "c689                                                                               APLICACIÓN DE LAS ESCALAS DEL IMPUESTO AL IMPORTE DE LA CASILLA 620 (Parte Estatal).\n",
       "c690                                                                             APLICACIÓN DE LAS ESCALAS DEL IMPUESTO AL IMPORTE DE LA CASILLA 620 (Parte Autonómica)\n",
       "c698                                                                                                                        CUOTAS INTEGRAS (693 + 696) (Parte Estatal)\n",
       "c699                                                                                                                    CUOTAS INTEGRAS (694 + 697) (Parte Autonómica)\n",
       "c730                                                                                    CUOTAS LIQUIDAS INCREMENTADAS ( 720 + 722 + 723 + 724 + 725 )  (Parte Estatal).\n",
       "c731                                                                                 CUOTAS LIQUIDAS INCREMENTADAS ( 721 + 726 + 727 + 728 + 729 )  (Parte Autonómica).\n",
       "categoriadecla                                                      Variable creada para recoger las posibles combinaciones del tipo de tributación y el estado civil.\n",
       "ccaa              Código que identifica la Comunidad Autónoma de residencia fiscal del declarante o de los declaran­ tes. Hay un total de 17 códigos, las comunid...\n",
       "factoroptimizado  Factor de elevación poblacional de la observación. Se calcula como el cociente entre el tamaño po­ blacional del estrato al que pertenece la de...\n",
       "fechappal                                                                                   Indica la fecha de nacimiento del primer declarante en el formato AAAAMMDD.\n",
       "ingresostrabajo         Recoge la renta que proviene de los ingresos íntegros del trabajo, a través de las casillas del modelo 100 de IRPF para el año en cuestión.\n",
       "marcafuente       Esta variable es creada para la estratificación, en ella se crean dos categorías para agrupar las decla­ raciones en función de la renta del tr...\n",
       "sexoppal                                                                                     Sexo del declarante principal. Toma valor 1 para hombres y 2 para mujeres.\n",
       "tipotributacion   Indica el régimen tributario al que pertenece la declaración. Se denota por I en el caso de declaración individual y por C en el caso de conjunta.\n",
       "tramo             Esta variable es creada para la estratificación, nos dice el tramo de la variable renta muestreo en el que se encuentra cada observación. Distin..."
      ]
     },
     "execution_count": 16,
     "metadata": {},
     "output_type": "execute_result"
    }
   ],
   "source": [
    "pd.DataFrame.quantile()"
   ]
  },
  {
   "cell_type": "code",
   "execution_count": 109,
   "metadata": {
    "collapsed": false
   },
   "outputs": [],
   "source": [
    "lc_df = pd.DataFrame.from_dict(lc)\n"
   ]
  },
  {
   "cell_type": "code",
   "execution_count": 114,
   "metadata": {
    "collapsed": false
   },
   "outputs": [
    {
     "data": {
      "text/plain": [
       "character(0)\n"
      ]
     },
     "metadata": {},
     "output_type": "display_data"
    }
   ],
   "source": [
    "%%R -i lc_df\n",
    "\n",
    "require(\"ineq\")\n",
    "require('')"
   ]
  },
  {
   "cell_type": "code",
   "execution_count": 71,
   "metadata": {
    "collapsed": false
   },
   "outputs": [
    {
     "ename": "AttributeError",
     "evalue": "'DataFrame' object has no attribute 'average'",
     "output_type": "error",
     "traceback": [
      "\u001b[0;31m---------------------------------------------------------------------------\u001b[0m",
      "\u001b[0;31mAttributeError\u001b[0m                            Traceback (most recent call last)",
      "\u001b[0;32m<ipython-input-71-c9ae89737f95>\u001b[0m in \u001b[0;36m<module>\u001b[0;34m()\u001b[0m\n\u001b[1;32m      1\u001b[0m \u001b[0;31m# media de los ingresos del trabajo\u001b[0m\u001b[0;34m\u001b[0m\u001b[0;34m\u001b[0m\u001b[0m\n\u001b[1;32m      2\u001b[0m \u001b[0mnp\u001b[0m\u001b[0;34m.\u001b[0m\u001b[0maverage\u001b[0m\u001b[0;34m(\u001b[0m\u001b[0mdata\u001b[0m\u001b[0;34m.\u001b[0m\u001b[0mingresostrabajo\u001b[0m\u001b[0;34m,\u001b[0m \u001b[0mweights\u001b[0m\u001b[0;34m=\u001b[0m\u001b[0mdata\u001b[0m\u001b[0;34m.\u001b[0m\u001b[0mfactoroptimizado\u001b[0m\u001b[0;34m)\u001b[0m \u001b[0;34m/\u001b[0m \u001b[0;36m100\u001b[0m\u001b[0;34m\u001b[0m\u001b[0m\n\u001b[0;32m----> 3\u001b[0;31m \u001b[0mdata\u001b[0m\u001b[0;34m.\u001b[0m\u001b[0maverage\u001b[0m\u001b[0;34m(\u001b[0m\u001b[0mweights\u001b[0m\u001b[0;34m=\u001b[0m\u001b[0;34m'factoroptimizado'\u001b[0m\u001b[0;34m)\u001b[0m\u001b[0;34m\u001b[0m\u001b[0m\n\u001b[0m",
      "\u001b[0;32m/Users/mmngreco/Virtualenvs/ipynb/lib/python3.5/site-packages/pandas/core/generic.py\u001b[0m in \u001b[0;36m__getattr__\u001b[0;34m(self, name)\u001b[0m\n\u001b[1;32m   2244\u001b[0m                 \u001b[0;32mreturn\u001b[0m \u001b[0mself\u001b[0m\u001b[0;34m[\u001b[0m\u001b[0mname\u001b[0m\u001b[0;34m]\u001b[0m\u001b[0;34m\u001b[0m\u001b[0m\n\u001b[1;32m   2245\u001b[0m             raise AttributeError(\"'%s' object has no attribute '%s'\" %\n\u001b[0;32m-> 2246\u001b[0;31m                                  (type(self).__name__, name))\n\u001b[0m\u001b[1;32m   2247\u001b[0m \u001b[0;34m\u001b[0m\u001b[0m\n\u001b[1;32m   2248\u001b[0m     \u001b[0;32mdef\u001b[0m \u001b[0m__setattr__\u001b[0m\u001b[0;34m(\u001b[0m\u001b[0mself\u001b[0m\u001b[0;34m,\u001b[0m \u001b[0mname\u001b[0m\u001b[0;34m,\u001b[0m \u001b[0mvalue\u001b[0m\u001b[0;34m)\u001b[0m\u001b[0;34m:\u001b[0m\u001b[0;34m\u001b[0m\u001b[0m\n",
      "\u001b[0;31mAttributeError\u001b[0m: 'DataFrame' object has no attribute 'average'"
     ]
    }
   ],
   "source": [
    "# MEDIA DE LOS INGRESOS DEL TRABAJO\n",
    "np.average(data.ingresostrabajo, weights=data.factoroptimizado) / 100\n",
    "data.pivot_table(index='tramo', \n",
    "                 columns='ccaa', \n",
    "                 values='ingresostrabajo', \n",
    "                 aggfunc='media_pond')"
   ]
  },
  {
   "cell_type": "code",
   "execution_count": 42,
   "metadata": {
    "collapsed": false
   },
   "outputs": [
    {
     "data": {
      "image/png": "[encoded data removed]",
      "text/plain": [
       "<matplotlib.figure.Figure at 0x109d53e48>"
      ]
     },
     "metadata": {},
     "output_type": "display_data"
    }
   ],
   "source": [
    "for ca, g in dist.groupby('ccaa'):\n",
    "    plt.barh(ca, np.average(g.ingresostrabajo, weights=g.factoroptimizado)/100)\n",
    "    plt.axvline(np.average(dist.ingresostrabajo, weights=dist.factoroptimizado) / 100, sum(dist.ingresostrabajo * dist.factoroptimizado) / dist.factoroptimizado.sum() / 100)"
   ]
  },
  {
   "cell_type": "code",
   "execution_count": null,
   "metadata": {
    "collapsed": true
   },
   "outputs": [],
   "source": []
  }
 ],
 "metadata": {
  "kernelspec": {
   "display_name": "Python 3",
   "language": "python",
   "name": "python3"
  },
  "language_info": {
   "codemirror_mode": {
    "name": "ipython",
    "version": 3
   },
   "file_extension": ".py",
   "mimetype": "text/x-python",
   "name": "python",
   "nbconvert_exporter": "python",
   "pygments_lexer": "ipython3",
   "version": "3.5.0"
  },
  "latex_envs": {
   "bibliofile": "biblio.bib",
   "cite_by": "apalike",
   "current_citInitial": 1,
   "eqLabelWithNumbers": true,
   "eqNumInitial": 0
  }
 },
 "nbformat": 4,
 "nbformat_minor": 0
}
