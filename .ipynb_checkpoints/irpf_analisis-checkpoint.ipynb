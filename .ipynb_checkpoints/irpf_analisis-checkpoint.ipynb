{
 "cells": [
  {
   "cell_type": "code",
   "execution_count": 1,
   "metadata": {
    "collapsed": false
   },
   "outputs": [],
   "source": [
    "import numpy as np\n",
    "import pandas as pd\n",
    "import matplotlib.pyplot as plt\n",
    "import seaborn as sns"
   ]
  },
  {
   "cell_type": "code",
   "execution_count": 2,
   "metadata": {
    "collapsed": true
   },
   "outputs": [],
   "source": [
    "from pandas import Series, DataFrame"
   ]
  },
  {
   "cell_type": "code",
   "execution_count": 3,
   "metadata": {
    "collapsed": false
   },
   "outputs": [],
   "source": [
    "#sns.set_style('whitegrid')\n",
    "sns.set(style=\"ticks\", palette=\"Set2\")\n",
    "sns.despine()"
   ]
  },
  {
   "cell_type": "code",
   "execution_count": 4,
   "metadata": {
    "collapsed": false
   },
   "outputs": [],
   "source": [
    "pd.set_option('display.max_rows', 500)\n",
    "pd.set_option('display.max_columns', 100)\n",
    "pd.set_option('display.max_colwidth', 150)"
   ]
  },
  {
   "cell_type": "code",
   "execution_count": 5,
   "metadata": {
    "collapsed": false
   },
   "outputs": [],
   "source": [
    "%matplotlib inline"
   ]
  },
  {
   "cell_type": "code",
   "execution_count": 6,
   "metadata": {
    "collapsed": false
   },
   "outputs": [
    {
     "data": {
      "text/plain": [
       "[]"
      ]
     },
     "execution_count": 6,
     "metadata": {},
     "output_type": "execute_result"
    }
   ],
   "source": [
    "%%!\n",
    "open doc/2014_18.pdf\n",
    "open ."
   ]
  },
  {
   "cell_type": "markdown",
   "metadata": {},
   "source": [
    "![metodología muestreo 1][img1]\n",
    "\n",
    "![metodología muestreo 1][img2]\n",
    "\n",
    "![metodología muestreo 1][img3]\n",
    "\n",
    "[img1]: doc/1.jpg\n",
    "[img2]: doc/2.jpg\n",
    "[img3]: doc/3.jpg"
   ]
  },
  {
   "cell_type": "markdown",
   "metadata": {},
   "source": [
    "# DATOS:"
   ]
  },
  {
   "cell_type": "raw",
   "metadata": {
    "collapsed": false
   },
   "source": [
    "f = 'data/2011/2011principales.txt'\n",
    "df = pd.read_table(f, sep='\\t')\n",
    "df.head()"
   ]
  },
  {
   "cell_type": "code",
   "execution_count": 7,
   "metadata": {
    "collapsed": true
   },
   "outputs": [],
   "source": [
    "data_2010 = 'data/2010/dmuestra.csv'\n",
    "data_2011 = 'data/2011/dmuestra.csv'\n",
    "\n",
    "INFO = pd.read_csv('data/variables_descripcion.csv', encoding='utf-8', index_col=0)"
   ]
  },
  {
   "cell_type": "code",
   "execution_count": 8,
   "metadata": {
    "collapsed": false
   },
   "outputs": [
    {
     "data": {
      "text/html": [
       "<div>\n",
       "<table border=\"1\" class=\"dataframe\">\n",
       "  <thead>\n",
       "    <tr style=\"text-align: right;\">\n",
       "      <th></th>\n",
       "      <th>descripcion</th>\n",
       "    </tr>\n",
       "    <tr>\n",
       "      <th>variables</th>\n",
       "      <th></th>\n",
       "    </tr>\n",
       "  </thead>\n",
       "  <tbody>\n",
       "    <tr>\n",
       "      <th>c455</th>\n",
       "      <td>BASE IMPONIBLE GENERAL (450 ­ 451 + 452 ­ 453 ­ 454)</td>\n",
       "    </tr>\n",
       "    <tr>\n",
       "      <th>c620</th>\n",
       "      <td>BASE LIQUIDABLE GENERAL SOMETIDA A GRAVAMEN. (618 ­ 619)</td>\n",
       "    </tr>\n",
       "    <tr>\n",
       "      <th>c689</th>\n",
       "      <td>APLICACIÓN DE LAS ESCALAS DEL IMPUESTO AL IMPORTE DE LA CASILLA 620 (Parte Estatal).</td>\n",
       "    </tr>\n",
       "    <tr>\n",
       "      <th>c690</th>\n",
       "      <td>APLICACIÓN DE LAS ESCALAS DEL IMPUESTO AL IMPORTE DE LA CASILLA 620 (Parte Autonómica)</td>\n",
       "    </tr>\n",
       "    <tr>\n",
       "      <th>c698</th>\n",
       "      <td>CUOTAS INTEGRAS (693 + 696) (Parte Estatal)</td>\n",
       "    </tr>\n",
       "    <tr>\n",
       "      <th>c699</th>\n",
       "      <td>CUOTAS INTEGRAS (694 + 697) (Parte Autonómica)</td>\n",
       "    </tr>\n",
       "    <tr>\n",
       "      <th>c730</th>\n",
       "      <td>CUOTAS LIQUIDAS INCREMENTADAS ( 720 + 722 + 723 + 724 + 725 )  (Parte Estatal).</td>\n",
       "    </tr>\n",
       "    <tr>\n",
       "      <th>c731</th>\n",
       "      <td>CUOTAS LIQUIDAS INCREMENTADAS ( 721 + 726 + 727 + 728 + 729 )  (Parte Autonómica).</td>\n",
       "    </tr>\n",
       "    <tr>\n",
       "      <th>categoriadecla</th>\n",
       "      <td>Variable creada para recoger las posibles combinaciones del tipo de tributación y el estado civil.</td>\n",
       "    </tr>\n",
       "    <tr>\n",
       "      <th>ccaa</th>\n",
       "      <td>Código que identifica la Comunidad Autónoma de residencia fiscal del declarante o de los declaran­ tes. Hay un total de 17 códigos, las comunid...</td>\n",
       "    </tr>\n",
       "    <tr>\n",
       "      <th>factoroptimizado</th>\n",
       "      <td>Factor de elevación poblacional de la observación. Se calcula como el cociente entre el tamaño po­ blacional del estrato al que pertenece la de...</td>\n",
       "    </tr>\n",
       "    <tr>\n",
       "      <th>fechappal</th>\n",
       "      <td>Indica la fecha de nacimiento del primer declarante en el formato AAAAMMDD.</td>\n",
       "    </tr>\n",
       "    <tr>\n",
       "      <th>ingresostrabajo</th>\n",
       "      <td>Recoge la renta que proviene de los ingresos íntegros del trabajo, a través de las casillas del modelo 100 de IRPF para el año en cuestión.</td>\n",
       "    </tr>\n",
       "    <tr>\n",
       "      <th>marcafuente</th>\n",
       "      <td>Esta variable es creada para la estratificación, en ella se crean dos categorías para agrupar las decla­ raciones en función de la renta del tr...</td>\n",
       "    </tr>\n",
       "    <tr>\n",
       "      <th>sexoppal</th>\n",
       "      <td>Sexo del declarante principal. Toma valor 1 para hombres y 2 para mujeres.</td>\n",
       "    </tr>\n",
       "    <tr>\n",
       "      <th>tipotributacion</th>\n",
       "      <td>Indica el régimen tributario al que pertenece la declaración. Se denota por I en el caso de declaración individual y por C en el caso de conjunta.</td>\n",
       "    </tr>\n",
       "    <tr>\n",
       "      <th>tramo</th>\n",
       "      <td>Esta variable es creada para la estratificación, nos dice el tramo de la variable renta muestreo en el que se encuentra cada observación. Distin...</td>\n",
       "    </tr>\n",
       "  </tbody>\n",
       "</table>\n",
       "</div>"
      ],
      "text/plain": [
       "                                                                                                                                                            descripcion\n",
       "variables                                                                                                                                                              \n",
       "c455                                                                                                               BASE IMPONIBLE GENERAL (450 ­ 451 + 452 ­ 453 ­ 454)\n",
       "c620                                                                                                           BASE LIQUIDABLE GENERAL SOMETIDA A GRAVAMEN. (618 ­ 619)\n",
       "c689                                                                               APLICACIÓN DE LAS ESCALAS DEL IMPUESTO AL IMPORTE DE LA CASILLA 620 (Parte Estatal).\n",
       "c690                                                                             APLICACIÓN DE LAS ESCALAS DEL IMPUESTO AL IMPORTE DE LA CASILLA 620 (Parte Autonómica)\n",
       "c698                                                                                                                        CUOTAS INTEGRAS (693 + 696) (Parte Estatal)\n",
       "c699                                                                                                                    CUOTAS INTEGRAS (694 + 697) (Parte Autonómica)\n",
       "c730                                                                                    CUOTAS LIQUIDAS INCREMENTADAS ( 720 + 722 + 723 + 724 + 725 )  (Parte Estatal).\n",
       "c731                                                                                 CUOTAS LIQUIDAS INCREMENTADAS ( 721 + 726 + 727 + 728 + 729 )  (Parte Autonómica).\n",
       "categoriadecla                                                      Variable creada para recoger las posibles combinaciones del tipo de tributación y el estado civil.\n",
       "ccaa              Código que identifica la Comunidad Autónoma de residencia fiscal del declarante o de los declaran­ tes. Hay un total de 17 códigos, las comunid...\n",
       "factoroptimizado  Factor de elevación poblacional de la observación. Se calcula como el cociente entre el tamaño po­ blacional del estrato al que pertenece la de...\n",
       "fechappal                                                                                   Indica la fecha de nacimiento del primer declarante en el formato AAAAMMDD.\n",
       "ingresostrabajo         Recoge la renta que proviene de los ingresos íntegros del trabajo, a través de las casillas del modelo 100 de IRPF para el año en cuestión.\n",
       "marcafuente       Esta variable es creada para la estratificación, en ella se crean dos categorías para agrupar las decla­ raciones en función de la renta del tr...\n",
       "sexoppal                                                                                     Sexo del declarante principal. Toma valor 1 para hombres y 2 para mujeres.\n",
       "tipotributacion   Indica el régimen tributario al que pertenece la declaración. Se denota por I en el caso de declaración individual y por C en el caso de conjunta.\n",
       "tramo             Esta variable es creada para la estratificación, nos dice el tramo de la variable renta muestreo en el que se encuentra cada observación. Distin..."
      ]
     },
     "execution_count": 8,
     "metadata": {},
     "output_type": "execute_result"
    }
   ],
   "source": [
    "INFO"
   ]
  },
  {
   "cell_type": "code",
   "execution_count": 9,
   "metadata": {
    "collapsed": false
   },
   "outputs": [
    {
     "data": {
      "text/html": [
       "<div>\n",
       "<table border=\"1\" class=\"dataframe\">\n",
       "  <thead>\n",
       "    <tr style=\"text-align: right;\">\n",
       "      <th></th>\n",
       "      <th>c455</th>\n",
       "      <th>c620</th>\n",
       "      <th>c689</th>\n",
       "      <th>c690</th>\n",
       "      <th>c698</th>\n",
       "      <th>c699</th>\n",
       "      <th>c730</th>\n",
       "      <th>c731</th>\n",
       "      <th>c732</th>\n",
       "      <th>categoriadecla</th>\n",
       "      <th>ccaa</th>\n",
       "      <th>factoroptimizado</th>\n",
       "      <th>fechappal</th>\n",
       "      <th>ingresostrabajo</th>\n",
       "      <th>marcafuente</th>\n",
       "      <th>sexoppal</th>\n",
       "      <th>tipotributacion</th>\n",
       "      <th>tramo</th>\n",
       "    </tr>\n",
       "  </thead>\n",
       "  <tbody>\n",
       "    <tr>\n",
       "      <th>0</th>\n",
       "      <td>1112414</td>\n",
       "      <td>1112414</td>\n",
       "      <td>133489</td>\n",
       "      <td>129040</td>\n",
       "      <td>2156</td>\n",
       "      <td>0</td>\n",
       "      <td>0</td>\n",
       "      <td>0</td>\n",
       "      <td>0</td>\n",
       "      <td>4</td>\n",
       "      <td>12</td>\n",
       "      <td>22.156199</td>\n",
       "      <td>19600124</td>\n",
       "      <td>0</td>\n",
       "      <td>0</td>\n",
       "      <td>1</td>\n",
       "      <td>I</td>\n",
       "      <td>5</td>\n",
       "    </tr>\n",
       "    <tr>\n",
       "      <th>1</th>\n",
       "      <td>12518734</td>\n",
       "      <td>11068734</td>\n",
       "      <td>2035609</td>\n",
       "      <td>2076983</td>\n",
       "      <td>2096147</td>\n",
       "      <td>2137521</td>\n",
       "      <td>2075538</td>\n",
       "      <td>2116912</td>\n",
       "      <td>4192450</td>\n",
       "      <td>4</td>\n",
       "      <td>1</td>\n",
       "      <td>1.054458</td>\n",
       "      <td>19520412</td>\n",
       "      <td>0</td>\n",
       "      <td>0</td>\n",
       "      <td>1</td>\n",
       "      <td>I</td>\n",
       "      <td>9</td>\n",
       "    </tr>\n",
       "    <tr>\n",
       "      <th>2</th>\n",
       "      <td>784688</td>\n",
       "      <td>784688</td>\n",
       "      <td>94162</td>\n",
       "      <td>93377</td>\n",
       "      <td>44610</td>\n",
       "      <td>44341</td>\n",
       "      <td>44610</td>\n",
       "      <td>44341</td>\n",
       "      <td>88951</td>\n",
       "      <td>4</td>\n",
       "      <td>17</td>\n",
       "      <td>53.472625</td>\n",
       "      <td>19540408</td>\n",
       "      <td>981000</td>\n",
       "      <td>1</td>\n",
       "      <td>1</td>\n",
       "      <td>I</td>\n",
       "      <td>5</td>\n",
       "    </tr>\n",
       "    <tr>\n",
       "      <th>3</th>\n",
       "      <td>748352</td>\n",
       "      <td>748352</td>\n",
       "      <td>89802</td>\n",
       "      <td>89802</td>\n",
       "      <td>8713</td>\n",
       "      <td>8713</td>\n",
       "      <td>0</td>\n",
       "      <td>0</td>\n",
       "      <td>0</td>\n",
       "      <td>1</td>\n",
       "      <td>8</td>\n",
       "      <td>23.522815</td>\n",
       "      <td>19650716</td>\n",
       "      <td>0</td>\n",
       "      <td>0</td>\n",
       "      <td>2</td>\n",
       "      <td>I</td>\n",
       "      <td>4</td>\n",
       "    </tr>\n",
       "    <tr>\n",
       "      <th>4</th>\n",
       "      <td>1103390</td>\n",
       "      <td>763390</td>\n",
       "      <td>91606</td>\n",
       "      <td>88553</td>\n",
       "      <td>40783</td>\n",
       "      <td>40783</td>\n",
       "      <td>40783</td>\n",
       "      <td>40783</td>\n",
       "      <td>81566</td>\n",
       "      <td>3</td>\n",
       "      <td>12</td>\n",
       "      <td>50.503532</td>\n",
       "      <td>19330422</td>\n",
       "      <td>1194662</td>\n",
       "      <td>1</td>\n",
       "      <td>1</td>\n",
       "      <td>C</td>\n",
       "      <td>6</td>\n",
       "    </tr>\n",
       "  </tbody>\n",
       "</table>\n",
       "</div>"
      ],
      "text/plain": [
       "       c455      c620     c689     c690     c698     c699     c730     c731  \\\n",
       "0   1112414   1112414   133489   129040     2156        0        0        0   \n",
       "1  12518734  11068734  2035609  2076983  2096147  2137521  2075538  2116912   \n",
       "2    784688    784688    94162    93377    44610    44341    44610    44341   \n",
       "3    748352    748352    89802    89802     8713     8713        0        0   \n",
       "4   1103390    763390    91606    88553    40783    40783    40783    40783   \n",
       "\n",
       "      c732  categoriadecla  ccaa  factoroptimizado  fechappal  \\\n",
       "0        0               4    12         22.156199   19600124   \n",
       "1  4192450               4     1          1.054458   19520412   \n",
       "2    88951               4    17         53.472625   19540408   \n",
       "3        0               1     8         23.522815   19650716   \n",
       "4    81566               3    12         50.503532   19330422   \n",
       "\n",
       "   ingresostrabajo  marcafuente  sexoppal tipotributacion  tramo  \n",
       "0                0            0         1               I      5  \n",
       "1                0            0         1               I      9  \n",
       "2           981000            1         1               I      5  \n",
       "3                0            0         2               I      4  \n",
       "4          1194662            1         1               C      6  "
      ]
     },
     "execution_count": 9,
     "metadata": {},
     "output_type": "execute_result"
    }
   ],
   "source": [
    "data = pd.read_csv(data_2011, index_col=0)\n",
    "data.head()"
   ]
  },
  {
   "cell_type": "code",
   "execution_count": 56,
   "metadata": {
    "collapsed": false
   },
   "outputs": [
    {
     "data": {
      "text/plain": [
       "<matplotlib.axes._subplots.AxesSubplot at 0x118695470>"
      ]
     },
     "execution_count": 56,
     "metadata": {},
     "output_type": "execute_result"
    },
    {
     "name": "stderr",
     "output_type": "stream",
     "text": [
      "/Users/mmngreco/Virtualenvs/ipynb/lib/python3.5/site-packages/matplotlib/collections.py:590: FutureWarning: elementwise comparison failed; returning scalar instead, but in the future will perform elementwise comparison\n",
      "  if self._edgecolors == str('face'):\n"
     ]
    },
    {
     "data": {
      "image/png": "[encoded data removed]",
      "text/plain": [
       "<matplotlib.figure.Figure at 0x118695240>"
      ]
     },
     "metadata": {},
     "output_type": "display_data"
    },
    {
     "data": {
      "text/plain": [
       "<matplotlib.figure.Figure at 0x117fc3d30>"
      ]
     },
     "metadata": {},
     "output_type": "display_data"
    }
   ],
   "source": [
    "# distribucion de declarantes por tramo y ccaa\n",
    "dist = data.pivot_table(index='tramo', columns='ccaa', values='factoroptimizado', aggfunc='sum')\n",
    "N = dist.sum().sum()\n",
    "dist_t = dist.sum(0) / N\n",
    "dist = dist / N\n",
    "\n",
    "ax1 = plt.subplot(2,1,1)\n",
    "ax2 = plt.subplot(2,1,2, sharex=ax1)\n",
    "plt.figure(figsize=(10,5))\n",
    "\n",
    "\n",
    "sns.heatmap(dist, ax=ax1)\n",
    "sns.barplot(x=dist_t.index, y=dist_t.values, ax=ax2)"
   ]
  },
  {
   "cell_type": "code",
   "execution_count": 37,
   "metadata": {
    "collapsed": false
   },
   "outputs": [
    {
     "data": {
      "text/plain": [
       "ccaa\n",
       "1     3220587.000009\n",
       "2      699376.000000\n",
       "3      532041.999999\n",
       "4      470833.000001\n",
       "5      775021.000001\n",
       "6      278669.999999\n",
       "7      902742.999999\n",
       "8     1257025.000001\n",
       "9     3508622.000006\n",
       "10     474836.000000\n",
       "11    1261576.999999\n",
       "12    3098234.999999\n",
       "13     575953.000000\n",
       "16     165079.000001\n",
       "17    2190662.999997\n",
       "18      27445.000000\n",
       "19      26126.000000\n",
       "dtype: float64"
      ]
     },
     "execution_count": 37,
     "metadata": {},
     "output_type": "execute_result"
    }
   ],
   "source": [
    "N"
   ]
  },
  {
   "cell_type": "code",
   "execution_count": 13,
   "metadata": {
    "collapsed": false
   },
   "outputs": [
    {
     "data": {
      "text/plain": [
       "<matplotlib.axes._subplots.AxesSubplot at 0x1029c8dd8>"
      ]
     },
     "execution_count": 13,
     "metadata": {},
     "output_type": "execute_result"
    },
    {
     "data": {
      "image/png": "[encoded data removed]",
      "text/plain": [
       "<matplotlib.figure.Figure at 0x1129fbc18>"
      ]
     },
     "metadata": {},
     "output_type": "display_data"
    }
   ],
   "source": [
    "sns.kdeplot(data.factoroptimizado, cumulative=True)"
   ]
  },
  {
   "cell_type": "code",
   "execution_count": 14,
   "metadata": {
    "collapsed": false
   },
   "outputs": [
    {
     "data": {
      "text/plain": [
       "<seaborn.axisgrid.JointGrid at 0x1129d0080>"
      ]
     },
     "execution_count": 14,
     "metadata": {},
     "output_type": "execute_result"
    },
    {
     "name": "stderr",
     "output_type": "stream",
     "text": [
      "/Users/mmngreco/Virtualenvs/ipynb/lib/python3.5/site-packages/matplotlib/collections.py:590: FutureWarning: elementwise comparison failed; returning scalar instead, but in the future will perform elementwise comparison\n",
      "  if self._edgecolors == str('face'):\n"
     ]
    },
    {
     "data": {
      "image/png": "[encoded data removed]",
      "text/plain": [
       "<matplotlib.figure.Figure at 0x1129d2ac8>"
      ]
     },
     "metadata": {},
     "output_type": "display_data"
    }
   ],
   "source": [
    "sns.jointplot('ingresostrabajo', 'factoroptimizado', data, )"
   ]
  },
  {
   "cell_type": "code",
   "execution_count": 26,
   "metadata": {
    "collapsed": true
   },
   "outputs": [],
   "source": [
    "dist = data[['factoroptimizado', 'ingresostrabajo', 'ccaa', 'marcafuente', 'tramo']].copy()"
   ]
  },
  {
   "cell_type": "code",
   "execution_count": 27,
   "metadata": {
    "collapsed": false
   },
   "outputs": [
    {
     "name": "stderr",
     "output_type": "stream",
     "text": [
      "/Users/mmngreco/Virtualenvs/ipynb/lib/python3.5/site-packages/ipykernel/__main__.py:2: FutureWarning: sort(columns=....) is deprecated, use sort_values(by=.....)\n",
      "  from ipykernel import kernelapp as app\n"
     ]
    },
    {
     "data": {
      "text/html": [
       "<div>\n",
       "<table border=\"1\" class=\"dataframe\">\n",
       "  <thead>\n",
       "    <tr style=\"text-align: right;\">\n",
       "      <th></th>\n",
       "      <th>index</th>\n",
       "      <th>factoroptimizado</th>\n",
       "      <th>ingresostrabajo</th>\n",
       "      <th>ccaa</th>\n",
       "      <th>marcafuente</th>\n",
       "      <th>tramo</th>\n",
       "      <th>F_factor</th>\n",
       "    </tr>\n",
       "  </thead>\n",
       "  <tbody>\n",
       "    <tr>\n",
       "      <th>0</th>\n",
       "      <td>0</td>\n",
       "      <td>22.156199</td>\n",
       "      <td>0</td>\n",
       "      <td>12</td>\n",
       "      <td>0</td>\n",
       "      <td>5</td>\n",
       "      <td>0.000001</td>\n",
       "    </tr>\n",
       "    <tr>\n",
       "      <th>1</th>\n",
       "      <td>270594</td>\n",
       "      <td>19.878981</td>\n",
       "      <td>0</td>\n",
       "      <td>9</td>\n",
       "      <td>0</td>\n",
       "      <td>2</td>\n",
       "      <td>0.449205</td>\n",
       "    </tr>\n",
       "    <tr>\n",
       "      <th>2</th>\n",
       "      <td>270595</td>\n",
       "      <td>18.173132</td>\n",
       "      <td>0</td>\n",
       "      <td>9</td>\n",
       "      <td>0</td>\n",
       "      <td>3</td>\n",
       "      <td>0.449206</td>\n",
       "    </tr>\n",
       "    <tr>\n",
       "      <th>3</th>\n",
       "      <td>270598</td>\n",
       "      <td>18.365727</td>\n",
       "      <td>0</td>\n",
       "      <td>9</td>\n",
       "      <td>0</td>\n",
       "      <td>7</td>\n",
       "      <td>0.449210</td>\n",
       "    </tr>\n",
       "    <tr>\n",
       "      <th>4</th>\n",
       "      <td>270613</td>\n",
       "      <td>18.173132</td>\n",
       "      <td>0</td>\n",
       "      <td>9</td>\n",
       "      <td>0</td>\n",
       "      <td>3</td>\n",
       "      <td>0.449232</td>\n",
       "    </tr>\n",
       "  </tbody>\n",
       "</table>\n",
       "</div>"
      ],
      "text/plain": [
       "    index  factoroptimizado  ingresostrabajo  ccaa  marcafuente  tramo  \\\n",
       "0       0         22.156199                0    12            0      5   \n",
       "1  270594         19.878981                0     9            0      2   \n",
       "2  270595         18.173132                0     9            0      3   \n",
       "3  270598         18.365727                0     9            0      7   \n",
       "4  270613         18.173132                0     9            0      3   \n",
       "\n",
       "   F_factor  \n",
       "0  0.000001  \n",
       "1  0.449205  \n",
       "2  0.449206  \n",
       "3  0.449210  \n",
       "4  0.449232  "
      ]
     },
     "execution_count": 27,
     "metadata": {},
     "output_type": "execute_result"
    }
   ],
   "source": [
    "dist['F_factor'] = dist.factoroptimizado.cumsum() / dist.factoroptimizado.sum()\n",
    "dist.sort(columns='ingresostrabajo', inplace=True)\n",
    "dist.reset_index(inplace=True)\n",
    "dist.head()"
   ]
  },
  {
   "cell_type": "code",
   "execution_count": 37,
   "metadata": {
    "collapsed": false
   },
   "outputs": [
    {
     "data": {
      "text/plain": [
       "(20525.015049886602, 20525.015049887239)"
      ]
     },
     "execution_count": 37,
     "metadata": {},
     "output_type": "execute_result"
    }
   ],
   "source": [
    "# media de los ingresos del trabajo\n",
    "np.average(dist.ingresostrabajo, weights=dist.factoroptimizado) / 100, sum(dist.ingresostrabajo * dist.factoroptimizado) / dist.factoroptimizado.sum() / 100"
   ]
  },
  {
   "cell_type": "code",
   "execution_count": 42,
   "metadata": {
    "collapsed": false
   },
   "outputs": [
    {
     "data": {
      "image/png": "[encoded data removed]",
      "text/plain": [
       "<matplotlib.figure.Figure at 0x109d53e48>"
      ]
     },
     "metadata": {},
     "output_type": "display_data"
    }
   ],
   "source": [
    "for ca, g in dist.groupby('ccaa'):\n",
    "    plt.barh(ca, np.average(g.ingresostrabajo, weights=g.factoroptimizado)/100)\n",
    "    plt.axvline(np.average(dist.ingresostrabajo, weights=dist.factoroptimizado) / 100, sum(dist.ingresostrabajo * dist.factoroptimizado) / dist.factoroptimizado.sum() / 100)"
   ]
  },
  {
   "cell_type": "code",
   "execution_count": null,
   "metadata": {
    "collapsed": true
   },
   "outputs": [],
   "source": []
  }
 ],
 "metadata": {
  "kernelspec": {
   "display_name": "Python 3",
   "language": "python",
   "name": "python3"
  },
  "language_info": {
   "codemirror_mode": {
    "name": "ipython",
    "version": 3
   },
   "file_extension": ".py",
   "mimetype": "text/x-python",
   "name": "python",
   "nbconvert_exporter": "python",
   "pygments_lexer": "ipython3",
   "version": "3.5.0"
  },
  "latex_envs": {
   "bibliofile": "biblio.bib",
   "cite_by": "apalike",
   "current_citInitial": 1,
   "eqLabelWithNumbers": true,
   "eqNumInitial": 0
  }
 },
 "nbformat": 4,
 "nbformat_minor": 0
}
