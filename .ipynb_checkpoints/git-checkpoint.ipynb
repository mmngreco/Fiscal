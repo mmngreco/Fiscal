{
 "cells": [
  {
   "cell_type": "code",
   "execution_count": 1,
   "metadata": {
    "collapsed": true
   },
   "outputs": [],
   "source": [
    "import datetime"
   ]
  },
  {
   "cell_type": "code",
   "execution_count": 14,
   "metadata": {
    "collapsed": false
   },
   "outputs": [
    {
     "data": {
      "text/plain": [
       "'2015-09-17 06:06:23.860348'"
      ]
     },
     "execution_count": 14,
     "metadata": {},
     "output_type": "execute_result"
    }
   ],
   "source": [
    "hoy = str(datetime.datetime.today())\n",
    "hoy"
   ]
  },
  {
   "cell_type": "code",
   "execution_count": 15,
   "metadata": {
    "collapsed": false
   },
   "outputs": [
    {
     "data": {
      "text/plain": [
       "['Reinitialized existing Git repository in /Users/mmngreco/Documents/repos/Fiscal/.git/',\n",
       " '[master 15f37a5] update 9.17.0606',\n",
       " ' 22 files changed, 216 insertions(+), 217 deletions(-)',\n",
       " ' create mode 100644 .ipynb_checkpoints/Untitled-checkpoint.ipynb',\n",
       " ' create mode 100644 Untitled.ipynb',\n",
       " ' rename nombres_ccaa_acentos.csv => data/nombres_ccaa_acentos.csv (100%)',\n",
       " ' rename nombres_ccaa_sin_acentos.csv => data/nombres_ccaa_sin_acentos.csv (100%)',\n",
       " ' rename variables_descripcion.csv => data/variables_descripcion.csv (100%)',\n",
       " ' rename {plots => imgs}/box_dist_tramo_by_ccaa.png (100%)',\n",
       " ' rename {plots => imgs}/dist_ascending_tramo_by_ccaa.png (100%)',\n",
       " ' rename plots/dist_declarantes_por_tramos_españa.png => imgs/dist_declarantes_por_tramos_españa copia.png (100%)',\n",
       " ' rename dist_declarantes_por_tramos_españa.png => imgs/dist_declarantes_por_tramos_españa.png (100%)',\n",
       " ' rename {plots => imgs}/frec_relativa_dist_por_ccaa.png (100%)',\n",
       " ' rename plots/hist_dist_tramo_by_ccaa.png => imgs/hist_dist_tramo_by_ccaa copia.png (100%)',\n",
       " ' rename hist_dist_tramo_by_ccaa.png => imgs/hist_dist_tramo_by_ccaa.png (100%)',\n",
       " ' rename {plots => imgs}/hists_frec_relativa_dist_tramo_by_ccaa.png (100%)',\n",
       " ' rename img1.jpg => imgs/img1.jpg (100%)',\n",
       " ' rename img2.jpg => imgs/img2.jpg (100%)',\n",
       " ' rename img3.jpg => imgs/img3.jpg (100%)',\n",
       " ' rename {plots => imgs}/seaborn_hist_dist_tramo_by_ccaa.png (100%)',\n",
       " ' rename {plots => imgs}/sum_ascending_cuota_by_ccaa3.png (100%)',\n",
       " ' rename {plots => imgs}/sum_ascending_cuota_by_tramo.png (100%)',\n",
       " ' rename {plots => imgs}/sum_ascending_cuota_by_tramo_ccaa3.png (100%)',\n",
       " ' rename {plots => imgs}/sum_ascending_cuota_liquida_estado_ca_by_ccaa.png (100%)',\n",
       " 'To https://github.com/mmngreco/Fiscal.git',\n",
       " '   d16ef9b..15f37a5  master -> master']"
      ]
     },
     "execution_count": 15,
     "metadata": {},
     "output_type": "execute_result"
    }
   ],
   "source": [
    "%%!\n",
    "git init\n",
    "git add .\n",
    "git commit -a -m 'update 9.17.0606'\n",
    "git push origin master"
   ]
  },
  {
   "cell_type": "code",
   "execution_count": null,
   "metadata": {
    "collapsed": true
   },
   "outputs": [],
   "source": []
  }
 ],
 "metadata": {
  "kernelspec": {
   "display_name": "Python 3",
   "language": "python",
   "name": "python3"
  },
  "language_info": {
   "codemirror_mode": {
    "name": "ipython",
    "version": 3
   },
   "file_extension": ".py",
   "mimetype": "text/x-python",
   "name": "python",
   "nbconvert_exporter": "python",
   "pygments_lexer": "ipython3",
   "version": "3.4.3"
  }
 },
 "nbformat": 4,
 "nbformat_minor": 0
}
