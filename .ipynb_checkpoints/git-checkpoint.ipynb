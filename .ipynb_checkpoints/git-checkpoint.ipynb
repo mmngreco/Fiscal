{
 "cells": [
  {
   "cell_type": "code",
   "execution_count": 1,
   "metadata": {
    "collapsed": true
   },
   "outputs": [],
   "source": [
    "import datetime"
   ]
  },
  {
   "cell_type": "code",
   "execution_count": 2,
   "metadata": {
    "collapsed": false
   },
   "outputs": [
    {
     "data": {
      "text/plain": [
       "'2015-09-18 14:53:42.587657'"
      ]
     },
     "execution_count": 2,
     "metadata": {},
     "output_type": "execute_result"
    }
   ],
   "source": [
    "hoy = str(datetime.datetime.today())\n",
    "hoy"
   ]
  },
  {
   "cell_type": "code",
   "execution_count": 3,
   "metadata": {
    "collapsed": false
   },
   "outputs": [
    {
     "data": {
      "text/plain": [
       "['Reinitialized existing Git repository in /Users/mmngreco/Documents/repos/Fiscal/.git/']"
      ]
     },
     "execution_count": 3,
     "metadata": {},
     "output_type": "execute_result"
    }
   ],
   "source": [
    "%%!\n",
    "git init"
   ]
  },
  {
   "cell_type": "code",
   "execution_count": 4,
   "metadata": {
    "collapsed": true
   },
   "outputs": [],
   "source": [
    "!git add ."
   ]
  },
  {
   "cell_type": "code",
   "execution_count": 5,
   "metadata": {
    "collapsed": false
   },
   "outputs": [
    {
     "name": "stdout",
     "output_type": "stream",
     "text": [
      "[master cb1883b] update 9.18.1453\n",
      " 13 files changed, 587200 insertions(+), 7091 deletions(-)\n",
      " rewrite .ipynb_checkpoints/irpf_analisis-checkpoint.ipynb (72%)\n",
      " create mode 100644 data/data_2010.csv\n",
      " delete mode 100644 data/nombres_ccaa_sin_acentos.csv\n",
      " rewrite imgs/box_dist_tramo_by_ccaa.png (96%)\n",
      " rewrite imgs/dist_ascending_tramo_by_ccaa.png (98%)\n",
      " rewrite imgs/frec_relativa_dist_por_ccaa.png (98%)\n",
      " rewrite imgs/hist_dist_tramo_by_ccaa.png (94%)\n",
      " rewrite imgs/hists_frec_relativa_dist_tramo_by_ccaa.png (97%)\n",
      " rewrite imgs/seaborn_hist_dist_tramo_by_ccaa.png (98%)\n",
      " rewrite imgs/sum_ascending_cuota_by_ccaa3.png (98%)\n",
      " rewrite imgs/sum_ascending_cuota_liquida_estado_ca_by_ccaa.png (98%)\n",
      " rewrite irpf_analisis.ipynb (72%)\n"
     ]
    }
   ],
   "source": [
    "!git commit -a -m 'update 9.18.1453'"
   ]
  },
  {
   "cell_type": "code",
   "execution_count": 6,
   "metadata": {
    "collapsed": false
   },
   "outputs": [
    {
     "name": "stdout",
     "output_type": "stream",
     "text": [
      "Counting objects: 19, done.\n",
      "Delta compression using up to 4 threads.\n",
      "Compressing objects: 100% (18/18), done.\n",
      "Writing objects: 100% (19/19), 20.95 MiB | 557.00 KiB/s, done.\n",
      "Total 19 (delta 4), reused 0 (delta 0)\n",
      "remote: warning: GH001: Large files detected.\u001b[K\n",
      "remote: warning: See http://git.io/iEPt8g for more information.\u001b[K\n",
      "remote: warning: File data/data_2010.csv is 69.09 MB; this is larger than GitHub's recommended maximum file size of 50.00 MB\u001b[K\n",
      "To https://github.com/mmngreco/Fiscal.git\n",
      "   6812fce..cb1883b  master -> master\n"
     ]
    }
   ],
   "source": [
    "!git push origin master"
   ]
  },
  {
   "cell_type": "code",
   "execution_count": 7,
   "metadata": {
    "collapsed": false
   },
   "outputs": [
    {
     "name": "stdout",
     "output_type": "stream",
     "text": [
      "On branch master\r\n",
      "Your branch is up-to-date with 'origin/master'.\r\n",
      "Changes not staged for commit:\r\n",
      "  (use \"git add <file>...\" to update what will be committed)\r\n",
      "  (use \"git checkout -- <file>...\" to discard changes in working directory)\r\n",
      "\r\n",
      "\t\u001b[31mmodified:   git.ipynb\u001b[m\r\n",
      "\r\n",
      "no changes added to commit (use \"git add\" and/or \"git commit -a\")\r\n"
     ]
    }
   ],
   "source": [
    "!git status"
   ]
  },
  {
   "cell_type": "code",
   "execution_count": null,
   "metadata": {
    "collapsed": true
   },
   "outputs": [],
   "source": []
  }
 ],
 "metadata": {
  "kernelspec": {
   "display_name": "Python 3",
   "language": "python",
   "name": "python3"
  },
  "language_info": {
   "codemirror_mode": {
    "name": "ipython",
    "version": 3
   },
   "file_extension": ".py",
   "mimetype": "text/x-python",
   "name": "python",
   "nbconvert_exporter": "python",
   "pygments_lexer": "ipython3",
   "version": "3.4.3"
  }
 },
 "nbformat": 4,
 "nbformat_minor": 0
}
