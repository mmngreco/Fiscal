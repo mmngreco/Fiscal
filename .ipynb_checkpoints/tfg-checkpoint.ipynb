{
 "cells": [
  {
   "cell_type": "markdown",
   "metadata": {},
   "source": [
    "![Imgur](http://i.imgur.com/eCb65SE.jpg)\n",
    "\n",
    "# Trabajo Fin de Grado\n",
    "\n",
    "## ANÁLISIS REGIONAL DEL IPRF : DESIGUALDAD Y PROGRESIVIDAD REGIONAL PARA ESPAÑA\n",
    "\n",
    "\n",
    "### Autor\n",
    "\n",
    "Maximiliano Greco\n",
    "\n",
    "\n",
    "\n",
    "\n",
    "### Director\n",
    "\n",
    "Fernando Rodrigo Sauco\n",
    "\n",
    "\n",
    "--- \n",
    "\n",
    "Facultad de Ciencias Económicas y Empresariales\n",
    "Año 2015\n",
    "\n",
    "## NOTEBOOK\n",
    "[TFG](http://nbviewer.ipython.org/github/mmngreco/Fiscal/blob/master/tfg.ipynb)\n",
    "\n",
    "## PREGUNTAS\n",
    "\n",
    "1. Contexto del IRPF 2011\n",
    "1. El perfil del IRPF en España y CCAA\n",
    "    + Distribucion de población, España y CCAA\n",
    "    + Distribucion de los ingresos CCAA\n",
    "    + Distribucion de declarantes por renta\n",
    "    + Distribucion de declarantes por CCAA y tg\n",
    "    + Diferencia entre Ingresos CCAA y Estatal\n",
    "    + Disperción de Cuota Liquida autonómica y Rentas altas\n",
    "1. ¿Es el IRPF un impuesto progresivo?\n",
    "    + Progresividad Local\n",
    "        * LP\n",
    "        * ARP\n",
    "    + Progresividad Global\n",
    "        * Gini\n",
    "        * RS\n",
    "        * Atkinson\n",
    "1. Caso de Aragón. (sería interesante agregar cataluña o madrid y comparar)\n",
    "    + Perfil\n",
    "    + Como se sitúa en presión fiscal\n",
    "    + Indices\n",
    "        * LP\n",
    "        * Gini\n",
    "        * RS\n",
    "1. Simulación\n",
    "    + Hipótesis de partida evolución hasta 2016\n",
    "        * Evolución BI (PIB o Renta Disponible, media BI)\n",
    "\n",
    "1. Conclusiones\n",
    "1. Extensiones del Trabajo\n",
    "    + Competencia Fiscal\n",
    "\n",
    "---\n",
    "\n",
    "IDEAS:\n",
    "1. ¿Es el gasto público progresivo?\n",
    "1. Modelo de distribución de la renta, partiendo del ideal y ver su evolución.\n",
    "1. ¿Son los individuos racionales?\n",
    "    - Tributación conjunta vs tributación individual para mismas rentas\n",
    "1. Contraste de Hipótesis:\n",
    "     - PARA TODOS LOS SUPUESTOS\n",
    "     - INTERVALO DE CONFIANZA\n",
    "\n",
    "\n",
    "# NOTAS\n",
    "\n",
    "## EXTENSIONES DEL TRABAJO\n",
    "1. ¿Es el gasto público progresivo?\n",
    "1. Modelo de distribución de la renta, partiendo del ideal y ver su evolución.\n",
    "1. ¿Son los individuos racionales?\n",
    "    - Tributación conjunta vs tributación individual para mismas rentas\n",
    "1. Contraste de Hipótesis:\n",
    "     - PARA TODOS LOS SUPUESTOS\n",
    "     - INTERVALO DE CONFIANZA\n",
    "1. TERNARY PLOT"
   ]
  },
  {
   "cell_type": "code",
   "execution_count": 35,
   "metadata": {
    "collapsed": false
   },
   "outputs": [],
   "source": [
    "import pandas as pd\n",
    "import numpy as np\n",
    "import seaborn as sns\n",
    "import matplotlib.pyplot as plt\n",
    "from statsmodels.formula.api import ols, rlm\n",
    "import scipy as sp\n",
    "import prettyplotlib as ppl"
   ]
  },
  {
   "cell_type": "code",
   "execution_count": 2,
   "metadata": {
    "collapsed": true
   },
   "outputs": [],
   "source": [
    "%matplotlib inline"
   ]
  },
  {
   "cell_type": "code",
   "execution_count": 3,
   "metadata": {
    "collapsed": false
   },
   "outputs": [],
   "source": [
    "data = pd.read_csv('data/2011/dmuestra.csv', index_col=0)"
   ]
  },
  {
   "cell_type": "code",
   "execution_count": 4,
   "metadata": {
    "collapsed": true
   },
   "outputs": [],
   "source": [
    "data['ccaa'] = data['ccaa'].astype('category')"
   ]
  },
  {
   "cell_type": "code",
   "execution_count": 5,
   "metadata": {
    "collapsed": false
   },
   "outputs": [
    {
     "data": {
      "text/html": [
       "<div>\n",
       "<table border=\"1\" class=\"dataframe\">\n",
       "  <thead>\n",
       "    <tr style=\"text-align: right;\">\n",
       "      <th></th>\n",
       "      <th>c455</th>\n",
       "      <th>c620</th>\n",
       "      <th>c689</th>\n",
       "      <th>c690</th>\n",
       "      <th>c698</th>\n",
       "      <th>c699</th>\n",
       "      <th>c730</th>\n",
       "      <th>c731</th>\n",
       "      <th>c732</th>\n",
       "      <th>categoriadecla</th>\n",
       "      <th>ccaa</th>\n",
       "      <th>factoroptimizado</th>\n",
       "      <th>fechappal</th>\n",
       "      <th>ingresostrabajo</th>\n",
       "      <th>marcafuente</th>\n",
       "      <th>sexoppal</th>\n",
       "      <th>tipotributacion</th>\n",
       "      <th>tramo</th>\n",
       "    </tr>\n",
       "  </thead>\n",
       "  <tbody>\n",
       "    <tr>\n",
       "      <th>0</th>\n",
       "      <td>1112414</td>\n",
       "      <td>1112414</td>\n",
       "      <td>133489</td>\n",
       "      <td>129040</td>\n",
       "      <td>2156</td>\n",
       "      <td>0</td>\n",
       "      <td>0</td>\n",
       "      <td>0</td>\n",
       "      <td>0</td>\n",
       "      <td>4</td>\n",
       "      <td>12</td>\n",
       "      <td>22.156199</td>\n",
       "      <td>19600124</td>\n",
       "      <td>0</td>\n",
       "      <td>0</td>\n",
       "      <td>1</td>\n",
       "      <td>I</td>\n",
       "      <td>5</td>\n",
       "    </tr>\n",
       "    <tr>\n",
       "      <th>1</th>\n",
       "      <td>12518734</td>\n",
       "      <td>11068734</td>\n",
       "      <td>2035609</td>\n",
       "      <td>2076983</td>\n",
       "      <td>2096147</td>\n",
       "      <td>2137521</td>\n",
       "      <td>2075538</td>\n",
       "      <td>2116912</td>\n",
       "      <td>4192450</td>\n",
       "      <td>4</td>\n",
       "      <td>1</td>\n",
       "      <td>1.054458</td>\n",
       "      <td>19520412</td>\n",
       "      <td>0</td>\n",
       "      <td>0</td>\n",
       "      <td>1</td>\n",
       "      <td>I</td>\n",
       "      <td>9</td>\n",
       "    </tr>\n",
       "    <tr>\n",
       "      <th>2</th>\n",
       "      <td>784688</td>\n",
       "      <td>784688</td>\n",
       "      <td>94162</td>\n",
       "      <td>93377</td>\n",
       "      <td>44610</td>\n",
       "      <td>44341</td>\n",
       "      <td>44610</td>\n",
       "      <td>44341</td>\n",
       "      <td>88951</td>\n",
       "      <td>4</td>\n",
       "      <td>17</td>\n",
       "      <td>53.472625</td>\n",
       "      <td>19540408</td>\n",
       "      <td>981000</td>\n",
       "      <td>1</td>\n",
       "      <td>1</td>\n",
       "      <td>I</td>\n",
       "      <td>5</td>\n",
       "    </tr>\n",
       "    <tr>\n",
       "      <th>3</th>\n",
       "      <td>748352</td>\n",
       "      <td>748352</td>\n",
       "      <td>89802</td>\n",
       "      <td>89802</td>\n",
       "      <td>8713</td>\n",
       "      <td>8713</td>\n",
       "      <td>0</td>\n",
       "      <td>0</td>\n",
       "      <td>0</td>\n",
       "      <td>1</td>\n",
       "      <td>8</td>\n",
       "      <td>23.522815</td>\n",
       "      <td>19650716</td>\n",
       "      <td>0</td>\n",
       "      <td>0</td>\n",
       "      <td>2</td>\n",
       "      <td>I</td>\n",
       "      <td>4</td>\n",
       "    </tr>\n",
       "    <tr>\n",
       "      <th>4</th>\n",
       "      <td>1103390</td>\n",
       "      <td>763390</td>\n",
       "      <td>91606</td>\n",
       "      <td>88553</td>\n",
       "      <td>40783</td>\n",
       "      <td>40783</td>\n",
       "      <td>40783</td>\n",
       "      <td>40783</td>\n",
       "      <td>81566</td>\n",
       "      <td>3</td>\n",
       "      <td>12</td>\n",
       "      <td>50.503532</td>\n",
       "      <td>19330422</td>\n",
       "      <td>1194662</td>\n",
       "      <td>1</td>\n",
       "      <td>1</td>\n",
       "      <td>C</td>\n",
       "      <td>6</td>\n",
       "    </tr>\n",
       "  </tbody>\n",
       "</table>\n",
       "</div>"
      ],
      "text/plain": [
       "       c455      c620     c689     c690     c698     c699     c730     c731  \\\n",
       "0   1112414   1112414   133489   129040     2156        0        0        0   \n",
       "1  12518734  11068734  2035609  2076983  2096147  2137521  2075538  2116912   \n",
       "2    784688    784688    94162    93377    44610    44341    44610    44341   \n",
       "3    748352    748352    89802    89802     8713     8713        0        0   \n",
       "4   1103390    763390    91606    88553    40783    40783    40783    40783   \n",
       "\n",
       "      c732  categoriadecla ccaa  factoroptimizado  fechappal  ingresostrabajo  \\\n",
       "0        0               4   12         22.156199   19600124                0   \n",
       "1  4192450               4    1          1.054458   19520412                0   \n",
       "2    88951               4   17         53.472625   19540408           981000   \n",
       "3        0               1    8         23.522815   19650716                0   \n",
       "4    81566               3   12         50.503532   19330422          1194662   \n",
       "\n",
       "   marcafuente  sexoppal tipotributacion  tramo  \n",
       "0            0         1               I      5  \n",
       "1            0         1               I      9  \n",
       "2            1         1               I      5  \n",
       "3            0         2               I      4  \n",
       "4            1         1               C      6  "
      ]
     },
     "execution_count": 5,
     "metadata": {},
     "output_type": "execute_result"
    }
   ],
   "source": [
    "data.head()"
   ]
  },
  {
   "cell_type": "markdown",
   "metadata": {},
   "source": [
    "## CONTEXTO IRPF 2011"
   ]
  },
  {
   "cell_type": "code",
   "execution_count": 36,
   "metadata": {
    "collapsed": false
   },
   "outputs": [
    {
     "name": "stderr",
     "output_type": "stream",
     "text": [
      "/Users/mmngreco/Virtualenvs/ipynb/lib/python3.5/site-packages/ipykernel/__main__.py:2: FutureWarning: sort(columns=....) is deprecated, use sort_values(by=.....)\n",
      "  from ipykernel import kernelapp as app\n"
     ]
    },
    {
     "data": {
      "text/html": [
       "<div>\n",
       "<table border=\"1\" class=\"dataframe\">\n",
       "  <thead>\n",
       "    <tr style=\"text-align: right;\">\n",
       "      <th></th>\n",
       "      <th>ingresostrabajo</th>\n",
       "      <th>factoroptimizado</th>\n",
       "      <th>F</th>\n",
       "    </tr>\n",
       "  </thead>\n",
       "  <tbody>\n",
       "    <tr>\n",
       "      <th>208678</th>\n",
       "      <td>1633196</td>\n",
       "      <td>3.216222e-06</td>\n",
       "      <td>0.499991</td>\n",
       "    </tr>\n",
       "    <tr>\n",
       "      <th>74208</th>\n",
       "      <td>1633198</td>\n",
       "      <td>2.880874e-06</td>\n",
       "      <td>0.499994</td>\n",
       "    </tr>\n",
       "    <tr>\n",
       "      <th>236207</th>\n",
       "      <td>1633213</td>\n",
       "      <td>5.087848e-07</td>\n",
       "      <td>0.499994</td>\n",
       "    </tr>\n",
       "    <tr>\n",
       "      <th>394004</th>\n",
       "      <td>1633217</td>\n",
       "      <td>2.880874e-06</td>\n",
       "      <td>0.499997</td>\n",
       "    </tr>\n",
       "    <tr>\n",
       "      <th>333696</th>\n",
       "      <td>1633240</td>\n",
       "      <td>2.594604e-06</td>\n",
       "      <td>0.500000</td>\n",
       "    </tr>\n",
       "    <tr>\n",
       "      <th>477770</th>\n",
       "      <td>1633245</td>\n",
       "      <td>2.531631e-06</td>\n",
       "      <td>0.500002</td>\n",
       "    </tr>\n",
       "    <tr>\n",
       "      <th>126773</th>\n",
       "      <td>1633250</td>\n",
       "      <td>2.654713e-06</td>\n",
       "      <td>0.500005</td>\n",
       "    </tr>\n",
       "    <tr>\n",
       "      <th>563312</th>\n",
       "      <td>1633255</td>\n",
       "      <td>2.936929e-06</td>\n",
       "      <td>0.500008</td>\n",
       "    </tr>\n",
       "  </tbody>\n",
       "</table>\n",
       "</div>"
      ],
      "text/plain": [
       "        ingresostrabajo  factoroptimizado         F\n",
       "208678          1633196      3.216222e-06  0.499991\n",
       "74208           1633198      2.880874e-06  0.499994\n",
       "236207          1633213      5.087848e-07  0.499994\n",
       "394004          1633217      2.880874e-06  0.499997\n",
       "333696          1633240      2.594604e-06  0.500000\n",
       "477770          1633245      2.531631e-06  0.500002\n",
       "126773          1633250      2.654713e-06  0.500005\n",
       "563312          1633255      2.936929e-06  0.500008"
      ]
     },
     "execution_count": 36,
     "metadata": {},
     "output_type": "execute_result"
    }
   ],
   "source": [
    "# salario mediano\n",
    "wages = data[['ingresostrabajo', 'factoroptimizado']].copy()\n",
    "wages.sort('ingresostrabajo', ascending=True, inplace=True)\n",
    "wages.factoroptimizado = wages.factoroptimizado / wages.factoroptimizado.sum()\n",
    "wages['F'] = wages.factoroptimizado.cumsum()\n",
    "\n",
    "wages[(0.49999 < wages.F) & (wages.F < 0.50001)]"
   ]
  },
  {
   "cell_type": "code",
   "execution_count": 42,
   "metadata": {
    "collapsed": false
   },
   "outputs": [
    {
     "data": {
      "text/plain": [
       "(0, 0.51)"
      ]
     },
     "execution_count": 42,
     "metadata": {},
     "output_type": "execute_result"
    },
    {
     "name": "stderr",
     "output_type": "stream",
     "text": [
      "/Users/mmngreco/Virtualenvs/ipynb/lib/python3.5/site-packages/matplotlib/collections.py:590: FutureWarning: elementwise comparison failed; returning scalar instead, but in the future will perform elementwise comparison\n",
      "  if self._edgecolors == str('face'):\n"
     ]
    },
    {
     "data": {
      "image/png": "[encoded data removed]",
      "text/plain": [
       "<matplotlib.figure.Figure at 0x11cfca208>"
      ]
     },
     "metadata": {},
     "output_type": "display_data"
    }
   ],
   "source": [
    "plt.figure(figsize=(10,7))\n",
    "ax=plt.subplot(2,1,1)\n",
    "ppl.scatter(x=wages.F, y=wages.ingresostrabajo, ax=ax)\n",
    "ax.axvline(0.5)\n",
    "ax=plt.subplot(2,1,2)\n",
    "ppl.scatter(x=wages.F, y=wages.ingresostrabajo, ax=ax)\n",
    "ax.axvline(0.5)\n",
    "plt.ylim(0,20*10**5)\n",
    "plt.xlim(0,.51)"
   ]
  },
  {
   "cell_type": "code",
   "execution_count": 48,
   "metadata": {
    "collapsed": false
   },
   "outputs": [
    {
     "name": "stdout",
     "output_type": "stream",
     "text": [
      "Mediana Ingresos del trabajo: 1633240\n",
      "Mediana Ingresos del trabajo / mes: 136103.33333333334\n",
      "Mediana Ingresos del trabajo / día: 4474.630136986301\n",
      "Mediana Ingresos del trabajo / hora: 74.57716894977169\n"
     ]
    }
   ],
   "source": [
    "w_mediano = 1633240\n",
    "\n",
    "print('Mediana Ingresos del trabajo:', w_mediano)\n",
    "print('Mediana Ingresos del trabajo / mes:', w_mediano / 12)\n",
    "print('Mediana Ingresos del trabajo / día:', w_mediano / (365))\n",
    "print('Mediana Ingresos del trabajo / hora:', w_mediano / (365 * 60))"
   ]
  },
  {
   "cell_type": "code",
   "execution_count": 28,
   "metadata": {
    "collapsed": false
   },
   "outputs": [
    {
     "name": "stdout",
     "output_type": "stream",
     "text": [
      "[12, 1, 17, 8, 6, 9, 2, 10, 13, 5, 16, 11, 7, 4, 3, 19, 18]\n"
     ]
    }
   ],
   "source": [
    "print(list(data.ccaa.unique()))"
   ]
  },
  {
   "cell_type": "markdown",
   "metadata": {},
   "source": [
    "# BIBLIOGRAFÍA\n",
    "\n",
    "- Caro, C. D., Fernández, J. O., & Mayo, J. P. (2013). Progresividad y redistribución por fuentes de renta en el IRPF dual. Hacienda pública española, (206), 57-87. http://dialnet.unirioja.es/servlet/articulo?codigo=4604712\n",
    "- Álvarez, J. A. (2007). Guía del impuesto sobre la renta de las personas físicas. CISS.\n",
    "- Dept, I. M. F. F. A. (2013). Fiscal Monitor, October 2013. International Monetary Fund.\n",
    "- Eichhorn, W. (2012a). Models and Measurement of Welfare and Inequality. (W. Eichhorn, Ed.). Berlin, Heidelberg: Springer Science & Business Media. http://doi.org/10.1007/978-3-642-79037-9\n",
    "- Eichhorn, W. (2012b). Models and Measurement of Welfare and Inequality. (W. Eichhorn, Ed.). Berlin, Heidelberg: Springer Science & Business Media. http://doi.org/10.1007/978-3-642-79037-9\n",
    "- Galapero Flores, R. (2015). Las rentas del trabajo en el Impuesto sobre la Renta de las Personas Físicas. Estudio jurídico tributario. Dykinson.\n",
    "- Garcia, S. A. (2010). Diccionario de Economia Publica. ECOBOOK.\n",
    "- Jorratt, M. (2011). Evaluando la equidad vertical y horizontal en el impuesto al valor agregado y el impuesto a la renta: el impacto de reformas tributarias potenciales. Los casos del Ecuador, Guatemala y el Paraguay.\n",
    "- López-Laborda, J. (2009). Tributación de rentas a tipo fijo y progresividad de la imposición sobre la renta. F. Picos y S. Díaz de Sarralde (cords.).\n",
    "- Nolan, B., Salverda, W., Checchi, D., Marx, I., McKnight, A., & Tóth, I. G. (2014). Changing Inequalities and Societal Impacts in Rich Countries. Oxford University Press.\n",
    "- OECD. (2015). In It Together: Why Less Inequality Benefits All. OECD Publishing. http://doi.org/10.1787/9789264235120-en\n",
    "- Pfingsten, A. (2012). The Measurement of Tax Progression (Vol. 20). Berlin, Heidelberg: Springer Science & Business Media. http://doi.org/10.1007/978-3-642-82652-8\n",
    "- Salverda, W., Nolan, B., & Smeeding, T. M. (2009). The Oxford Handbook of Economic Inequality. OUP Oxford.\n",
    "- Shi, L., Li, S., Sato, H., & Sicular, T. (2013). Rising Inequality in China. (S. Li, H. Sato, & T. Sicular, Eds.). Cambridge: Cambridge University Press. http://doi.org/10.1017/CBO9781139035057\n",
    "- Silber, J. (2012a). Handbook of Income Inequality Measurement. (J. Silber, Ed.). Dordrecht: Springer Science & Business Media. http://doi.org/10.1007/978-94-011-4413-1\n",
    "- Silber, J. (2012b). Handbook of Income Inequality Measurement. (J. Silber, Ed.). Dordrecht: Springer Science & Business Media. http://doi.org/10.1007/978-94-011-4413-1\n",
    "- Stiglitz, J. E. (2003). La economía del sector público. Antoni Bosch editor.\n"
   ]
  },
  {
   "cell_type": "code",
   "execution_count": null,
   "metadata": {
    "collapsed": true
   },
   "outputs": [],
   "source": []
  }
 ],
 "metadata": {
  "kernelspec": {
   "display_name": "Python 3",
   "language": "python",
   "name": "python3"
  },
  "language_info": {
   "codemirror_mode": {
    "name": "ipython",
    "version": 3
   },
   "file_extension": ".py",
   "mimetype": "text/x-python",
   "name": "python",
   "nbconvert_exporter": "python",
   "pygments_lexer": "ipython3",
   "version": "3.5.0"
  },
  "latex_envs": {
   "bibliofile": "biblio.bib",
   "cite_by": "apalike",
   "current_citInitial": 1,
   "eqLabelWithNumbers": true,
   "eqNumInitial": 0
  }
 },
 "nbformat": 4,
 "nbformat_minor": 0
}
