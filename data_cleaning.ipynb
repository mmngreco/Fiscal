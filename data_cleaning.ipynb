{
 "cells": [
  {
   "cell_type": "code",
   "execution_count": 1,
   "metadata": {
    "collapsed": true
   },
   "outputs": [],
   "source": [
    "import pandas as pd"
   ]
  },
  {
   "cell_type": "code",
   "execution_count": 25,
   "metadata": {
    "collapsed": true
   },
   "outputs": [],
   "source": [
    "y = '2010'\n",
    "f = 'data/2010/2010principales.txt'"
   ]
  },
  {
   "cell_type": "code",
   "execution_count": 26,
   "metadata": {
    "collapsed": false
   },
   "outputs": [],
   "source": [
    "df = pd.read_table(f)"
   ]
  },
  {
   "cell_type": "code",
   "execution_count": 27,
   "metadata": {
    "collapsed": false
   },
   "outputs": [
    {
     "data": {
      "text/plain": [
       "Index(['ndecla', 'nhogar', 'nppal', 'ncyge', 'expediente', 'municipio', 'dh',\n",
       "       'ccaa', 'tramo', 'marcafuente',\n",
       "       ...\n",
       "       'c932', 'c933', 'c934', 'c935', 'c936', 'c937', 'c938', 'c990', 'c994',\n",
       "       'c995'],\n",
       "      dtype='object', length=388)"
      ]
     },
     "execution_count": 27,
     "metadata": {},
     "output_type": "execute_result"
    }
   ],
   "source": [
    "df.columns"
   ]
  },
  {
   "cell_type": "code",
   "execution_count": 16,
   "metadata": {
    "collapsed": true
   },
   "outputs": [],
   "source": [
    "var = pd.read_csv('data/variables_descripcion.csv', index_col=0)"
   ]
  },
  {
   "cell_type": "code",
   "execution_count": 28,
   "metadata": {
    "collapsed": false
   },
   "outputs": [
    {
     "data": {
      "text/plain": [
       "Index(['c455', 'c620', 'c689', 'c690', 'c698', 'c699', 'c730', 'c731', 'c732',\n",
       "       'categoriadecla', 'ccaa', 'factoroptimizado', 'fechappal',\n",
       "       'ingresostrabajo', 'marcafuente', 'sexoppal', 'tipotributacion',\n",
       "       'tramo'],\n",
       "      dtype='object', name='variables')"
      ]
     },
     "execution_count": 28,
     "metadata": {},
     "output_type": "execute_result"
    }
   ],
   "source": [
    "var.index"
   ]
  },
  {
   "cell_type": "code",
   "execution_count": 29,
   "metadata": {
    "collapsed": false
   },
   "outputs": [],
   "source": [
    "sample = df[var.index]"
   ]
  },
  {
   "cell_type": "code",
   "execution_count": 30,
   "metadata": {
    "collapsed": false
   },
   "outputs": [
    {
     "data": {
      "text/html": [
       "<div>\n",
       "<table border=\"1\" class=\"dataframe\">\n",
       "  <thead>\n",
       "    <tr style=\"text-align: right;\">\n",
       "      <th></th>\n",
       "      <th>c455</th>\n",
       "      <th>c620</th>\n",
       "      <th>c689</th>\n",
       "      <th>c690</th>\n",
       "      <th>c698</th>\n",
       "      <th>c699</th>\n",
       "      <th>c730</th>\n",
       "      <th>c731</th>\n",
       "      <th>c732</th>\n",
       "      <th>categoriadecla</th>\n",
       "      <th>ccaa</th>\n",
       "      <th>factoroptimizado</th>\n",
       "      <th>fechappal</th>\n",
       "      <th>ingresostrabajo</th>\n",
       "      <th>marcafuente</th>\n",
       "      <th>sexoppal</th>\n",
       "      <th>tipotributacion</th>\n",
       "      <th>tramo</th>\n",
       "    </tr>\n",
       "  </thead>\n",
       "  <tbody>\n",
       "    <tr>\n",
       "      <th>0</th>\n",
       "      <td>7017232</td>\n",
       "      <td>7017232</td>\n",
       "      <td>1164536</td>\n",
       "      <td>1147107</td>\n",
       "      <td>1032785</td>\n",
       "      <td>1019763</td>\n",
       "      <td>617087</td>\n",
       "      <td>604066</td>\n",
       "      <td>1221153</td>\n",
       "      <td>4</td>\n",
       "      <td>12</td>\n",
       "      <td>10.224510</td>\n",
       "      <td>19600124</td>\n",
       "      <td>0</td>\n",
       "      <td>0</td>\n",
       "      <td>1</td>\n",
       "      <td>I</td>\n",
       "      <td>8</td>\n",
       "    </tr>\n",
       "    <tr>\n",
       "      <th>1</th>\n",
       "      <td>21948858</td>\n",
       "      <td>20498858</td>\n",
       "      <td>4063085</td>\n",
       "      <td>4063085</td>\n",
       "      <td>4086601</td>\n",
       "      <td>4086601</td>\n",
       "      <td>4065923</td>\n",
       "      <td>4065923</td>\n",
       "      <td>8131846</td>\n",
       "      <td>4</td>\n",
       "      <td>1</td>\n",
       "      <td>1.054162</td>\n",
       "      <td>19520412</td>\n",
       "      <td>0</td>\n",
       "      <td>0</td>\n",
       "      <td>1</td>\n",
       "      <td>I</td>\n",
       "      <td>9</td>\n",
       "    </tr>\n",
       "    <tr>\n",
       "      <th>2</th>\n",
       "      <td>1421115</td>\n",
       "      <td>1081115</td>\n",
       "      <td>129733</td>\n",
       "      <td>129733</td>\n",
       "      <td>72871</td>\n",
       "      <td>72871</td>\n",
       "      <td>72871</td>\n",
       "      <td>72871</td>\n",
       "      <td>145742</td>\n",
       "      <td>3</td>\n",
       "      <td>13</td>\n",
       "      <td>49.700609</td>\n",
       "      <td>19540408</td>\n",
       "      <td>1915000</td>\n",
       "      <td>1</td>\n",
       "      <td>1</td>\n",
       "      <td>C</td>\n",
       "      <td>5</td>\n",
       "    </tr>\n",
       "    <tr>\n",
       "      <th>3</th>\n",
       "      <td>1843496</td>\n",
       "      <td>1628496</td>\n",
       "      <td>195419</td>\n",
       "      <td>195419</td>\n",
       "      <td>114657</td>\n",
       "      <td>114657</td>\n",
       "      <td>47044</td>\n",
       "      <td>47044</td>\n",
       "      <td>94088</td>\n",
       "      <td>2</td>\n",
       "      <td>8</td>\n",
       "      <td>15.634339</td>\n",
       "      <td>19650716</td>\n",
       "      <td>0</td>\n",
       "      <td>0</td>\n",
       "      <td>2</td>\n",
       "      <td>C</td>\n",
       "      <td>6</td>\n",
       "    </tr>\n",
       "    <tr>\n",
       "      <th>4</th>\n",
       "      <td>898966</td>\n",
       "      <td>558966</td>\n",
       "      <td>67075</td>\n",
       "      <td>64840</td>\n",
       "      <td>8405</td>\n",
       "      <td>8405</td>\n",
       "      <td>8405</td>\n",
       "      <td>8405</td>\n",
       "      <td>16810</td>\n",
       "      <td>3</td>\n",
       "      <td>12</td>\n",
       "      <td>53.170935</td>\n",
       "      <td>19330422</td>\n",
       "      <td>1164702</td>\n",
       "      <td>1</td>\n",
       "      <td>1</td>\n",
       "      <td>C</td>\n",
       "      <td>5</td>\n",
       "    </tr>\n",
       "  </tbody>\n",
       "</table>\n",
       "</div>"
      ],
      "text/plain": [
       "       c455      c620     c689     c690     c698     c699     c730     c731  \\\n",
       "0   7017232   7017232  1164536  1147107  1032785  1019763   617087   604066   \n",
       "1  21948858  20498858  4063085  4063085  4086601  4086601  4065923  4065923   \n",
       "2   1421115   1081115   129733   129733    72871    72871    72871    72871   \n",
       "3   1843496   1628496   195419   195419   114657   114657    47044    47044   \n",
       "4    898966    558966    67075    64840     8405     8405     8405     8405   \n",
       "\n",
       "      c732  categoriadecla  ccaa  factoroptimizado  fechappal  \\\n",
       "0  1221153               4    12         10.224510   19600124   \n",
       "1  8131846               4     1          1.054162   19520412   \n",
       "2   145742               3    13         49.700609   19540408   \n",
       "3    94088               2     8         15.634339   19650716   \n",
       "4    16810               3    12         53.170935   19330422   \n",
       "\n",
       "   ingresostrabajo  marcafuente  sexoppal tipotributacion  tramo  \n",
       "0                0            0         1               I      8  \n",
       "1                0            0         1               I      9  \n",
       "2          1915000            1         1               C      5  \n",
       "3                0            0         2               C      6  \n",
       "4          1164702            1         1               C      5  "
      ]
     },
     "execution_count": 30,
     "metadata": {},
     "output_type": "execute_result"
    }
   ],
   "source": [
    "sample.head()"
   ]
  },
  {
   "cell_type": "code",
   "execution_count": 31,
   "metadata": {
    "collapsed": true
   },
   "outputs": [],
   "source": [
    "sample.to_csv('data/2010/dmuestra.csv')"
   ]
  },
  {
   "cell_type": "code",
   "execution_count": 32,
   "metadata": {
    "collapsed": true
   },
   "outputs": [],
   "source": [
    "!open ."
   ]
  },
  {
   "cell_type": "code",
   "execution_count": null,
   "metadata": {
    "collapsed": true
   },
   "outputs": [],
   "source": []
  }
 ],
 "metadata": {
  "kernelspec": {
   "display_name": "Python 3",
   "language": "python",
   "name": "python3"
  },
  "language_info": {
   "codemirror_mode": {
    "name": "ipython",
    "version": 3
   },
   "file_extension": ".py",
   "mimetype": "text/x-python",
   "name": "python",
   "nbconvert_exporter": "python",
   "pygments_lexer": "ipython3",
   "version": "3.5.0"
  },
  "latex_envs": {
   "bibliofile": "biblio.bib",
   "cite_by": "apalike",
   "current_citInitial": 1,
   "eqLabelWithNumbers": true,
   "eqNumInitial": 0
  }
 },
 "nbformat": 4,
 "nbformat_minor": 0
}
