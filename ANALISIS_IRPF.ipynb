{
 "cells": [
  {
   "cell_type": "markdown",
   "metadata": {},
   "source": [
    "# INDICE:\n",
    "\n"
   ]
  },
  {
   "cell_type": "code",
   "execution_count": 1,
   "metadata": {
    "collapsed": false
   },
   "outputs": [],
   "source": [
    "from __future__ import division\n",
    "from numpy import *\n",
    "import pandas as pd\n",
    "from pandas import Series, DataFrame\n",
    "import matplotlib.pyplot as plt\n",
    "import csv\n",
    "# import scipy as sp\n",
    "# import prettyplotlib as ppl\n",
    "\n",
    "import seaborn as sns\n",
    "from pylab import *\n",
    "\n",
    "sns.set_style('whitegrid')\n",
    "sns.set(style=\"ticks\", palette=\"Set2\")\n",
    "sns.despine()\n",
    "\n",
    "%matplotlib inline"
   ]
  },
  {
   "cell_type": "markdown",
   "metadata": {},
   "source": [
    "# ALGUNOS PROBLEMAS TÉCNICOS:\n",
    "\n",
    "## ACENTOS:\n",
    "\n",
    "Algunas librerias tienen problemas para reconocer/traducir la codificación del texto de utf-8 a ascii. Por lo que lo mejor es trabajar sin acentos y evitar complicaciones."
   ]
  },
  {
   "cell_type": "markdown",
   "metadata": {},
   "source": [
    "# TABULACIÓN Y LIMPIEZA DE DATOS:"
   ]
  },
  {
   "cell_type": "raw",
   "metadata": {
    "collapsed": false
   },
   "source": [
    "!open .\n",
    "!pwd"
   ]
  },
  {
   "cell_type": "raw",
   "metadata": {
    "collapsed": false
   },
   "source": [
    "d = pd.read_csv('2010principales.txt', sep='\\t')\n",
    "d.head()"
   ]
  },
  {
   "cell_type": "raw",
   "metadata": {},
   "source": [
    "d[['c689', 'c690']].head()"
   ]
  },
  {
   "cell_type": "code",
   "execution_count": 2,
   "metadata": {
    "collapsed": false
   },
   "outputs": [
    {
     "name": "stdout",
     "output_type": "stream",
     "text": [
      "0 ccaa\n",
      "1 tramo\n",
      "2 c689\n",
      "3 c690\n",
      "4 marcafuente\n",
      "5 factor\n",
      "6 fechappal\n",
      "7 sexoppal\n",
      "8 tipotributacion\n",
      "9 categoriadecla\n",
      "10 minimosdecla\n",
      "11 rentamuestreo\n",
      "12 ingresostrabajo\n",
      "13 c17\n",
      "14 c455\n",
      "15 c465\n",
      "16 c620\n",
      "17 c630\n",
      "18 c679\n",
      "19 c698\n",
      "20 c699\n",
      "21 c720\n",
      "22 c721\n",
      "23 c732\n"
     ]
    }
   ],
   "source": [
    "cls = open('variables.txt', 'r')\n",
    "cols = csv.reader(cls).next()\n",
    "\n",
    "# Mostramos la lista de variables que he filtrado del panel de datos IRPF.\n",
    "for i, e in enumerate(cols):\n",
    "    print i, e"
   ]
  },
  {
   "cell_type": "raw",
   "metadata": {
    "collapsed": true
   },
   "source": [
    "dwork = d[cols] # creamos el dataframe con dichas variables\n",
    "\n",
    "dwork.to_csv('dwork.csv', index=False) # exportamos el dataframe a un csv de menor tamaño"
   ]
  },
  {
   "cell_type": "code",
   "execution_count": 3,
   "metadata": {
    "collapsed": false
   },
   "outputs": [],
   "source": [
    "dwork = pd.read_csv('dwork.csv') # importamos el dataframe filtrado"
   ]
  },
  {
   "cell_type": "code",
   "execution_count": 4,
   "metadata": {
    "collapsed": false
   },
   "outputs": [
    {
     "data": {
      "text/html": [
       "<div>\n",
       "<table border=\"1\" class=\"dataframe\">\n",
       "  <thead>\n",
       "    <tr style=\"text-align: right;\">\n",
       "      <th></th>\n",
       "      <th>ccaa</th>\n",
       "      <th>tramo</th>\n",
       "      <th>c698</th>\n",
       "      <th>c699</th>\n",
       "      <th>marcafuente</th>\n",
       "      <th>factor</th>\n",
       "      <th>fechappal</th>\n",
       "      <th>sexoppal</th>\n",
       "      <th>tipotributacion</th>\n",
       "      <th>categoriadecla</th>\n",
       "      <th>...</th>\n",
       "      <th>c455</th>\n",
       "      <th>c465</th>\n",
       "      <th>c620</th>\n",
       "      <th>c630</th>\n",
       "      <th>c679</th>\n",
       "      <th>c698.1</th>\n",
       "      <th>c699.1</th>\n",
       "      <th>c720</th>\n",
       "      <th>c721</th>\n",
       "      <th>c732</th>\n",
       "    </tr>\n",
       "  </thead>\n",
       "  <tbody>\n",
       "    <tr>\n",
       "      <th>0</th>\n",
       "      <td>12</td>\n",
       "      <td>8</td>\n",
       "      <td>1032785</td>\n",
       "      <td>1019763</td>\n",
       "      <td>0</td>\n",
       "      <td>10.164443</td>\n",
       "      <td>19600124</td>\n",
       "      <td>1</td>\n",
       "      <td>I</td>\n",
       "      <td>4</td>\n",
       "      <td>...</td>\n",
       "      <td>7017232</td>\n",
       "      <td>4652</td>\n",
       "      <td>7017232</td>\n",
       "      <td>4652</td>\n",
       "      <td>1101600</td>\n",
       "      <td>1032785</td>\n",
       "      <td>1019763</td>\n",
       "      <td>617087</td>\n",
       "      <td>604066</td>\n",
       "      <td>1221153</td>\n",
       "    </tr>\n",
       "    <tr>\n",
       "      <th>1</th>\n",
       "      <td>1</td>\n",
       "      <td>9</td>\n",
       "      <td>4086601</td>\n",
       "      <td>4086601</td>\n",
       "      <td>0</td>\n",
       "      <td>1.006695</td>\n",
       "      <td>19520412</td>\n",
       "      <td>1</td>\n",
       "      <td>I</td>\n",
       "      <td>4</td>\n",
       "      <td>...</td>\n",
       "      <td>21948858</td>\n",
       "      <td>974709</td>\n",
       "      <td>20498858</td>\n",
       "      <td>974709</td>\n",
       "      <td>606900</td>\n",
       "      <td>4086601</td>\n",
       "      <td>4086601</td>\n",
       "      <td>4065923</td>\n",
       "      <td>4065923</td>\n",
       "      <td>8131846</td>\n",
       "    </tr>\n",
       "    <tr>\n",
       "      <th>2</th>\n",
       "      <td>13</td>\n",
       "      <td>5</td>\n",
       "      <td>72871</td>\n",
       "      <td>72871</td>\n",
       "      <td>1</td>\n",
       "      <td>50.027794</td>\n",
       "      <td>19540408</td>\n",
       "      <td>1</td>\n",
       "      <td>C</td>\n",
       "      <td>3</td>\n",
       "      <td>...</td>\n",
       "      <td>1421115</td>\n",
       "      <td>52107</td>\n",
       "      <td>1081115</td>\n",
       "      <td>52107</td>\n",
       "      <td>515100</td>\n",
       "      <td>72871</td>\n",
       "      <td>72871</td>\n",
       "      <td>72871</td>\n",
       "      <td>72871</td>\n",
       "      <td>145742</td>\n",
       "    </tr>\n",
       "    <tr>\n",
       "      <th>3</th>\n",
       "      <td>8</td>\n",
       "      <td>6</td>\n",
       "      <td>114657</td>\n",
       "      <td>114657</td>\n",
       "      <td>0</td>\n",
       "      <td>15.569221</td>\n",
       "      <td>19650716</td>\n",
       "      <td>2</td>\n",
       "      <td>C</td>\n",
       "      <td>2</td>\n",
       "      <td>...</td>\n",
       "      <td>1843496</td>\n",
       "      <td>32443</td>\n",
       "      <td>1628496</td>\n",
       "      <td>32443</td>\n",
       "      <td>698700</td>\n",
       "      <td>114657</td>\n",
       "      <td>114657</td>\n",
       "      <td>47044</td>\n",
       "      <td>47044</td>\n",
       "      <td>94088</td>\n",
       "    </tr>\n",
       "    <tr>\n",
       "      <th>4</th>\n",
       "      <td>12</td>\n",
       "      <td>5</td>\n",
       "      <td>8405</td>\n",
       "      <td>8405</td>\n",
       "      <td>1</td>\n",
       "      <td>52.682674</td>\n",
       "      <td>19330422</td>\n",
       "      <td>1</td>\n",
       "      <td>C</td>\n",
       "      <td>3</td>\n",
       "      <td>...</td>\n",
       "      <td>898966</td>\n",
       "      <td>452612</td>\n",
       "      <td>558966</td>\n",
       "      <td>452612</td>\n",
       "      <td>923100</td>\n",
       "      <td>8405</td>\n",
       "      <td>8405</td>\n",
       "      <td>8405</td>\n",
       "      <td>8405</td>\n",
       "      <td>16810</td>\n",
       "    </tr>\n",
       "  </tbody>\n",
       "</table>\n",
       "<p>5 rows × 24 columns</p>\n",
       "</div>"
      ],
      "text/plain": [
       "   ccaa  tramo     c698     c699  marcafuente     factor  fechappal  sexoppal  \\\n",
       "0    12      8  1032785  1019763            0  10.164443   19600124         1   \n",
       "1     1      9  4086601  4086601            0   1.006695   19520412         1   \n",
       "2    13      5    72871    72871            1  50.027794   19540408         1   \n",
       "3     8      6   114657   114657            0  15.569221   19650716         2   \n",
       "4    12      5     8405     8405            1  52.682674   19330422         1   \n",
       "\n",
       "  tipotributacion  categoriadecla   ...         c455    c465      c620  \\\n",
       "0               I               4   ...      7017232    4652   7017232   \n",
       "1               I               4   ...     21948858  974709  20498858   \n",
       "2               C               3   ...      1421115   52107   1081115   \n",
       "3               C               2   ...      1843496   32443   1628496   \n",
       "4               C               3   ...       898966  452612    558966   \n",
       "\n",
       "     c630     c679   c698.1   c699.1     c720     c721     c732  \n",
       "0    4652  1101600  1032785  1019763   617087   604066  1221153  \n",
       "1  974709   606900  4086601  4086601  4065923  4065923  8131846  \n",
       "2   52107   515100    72871    72871    72871    72871   145742  \n",
       "3   32443   698700   114657   114657    47044    47044    94088  \n",
       "4  452612   923100     8405     8405     8405     8405    16810  \n",
       "\n",
       "[5 rows x 24 columns]"
      ]
     },
     "execution_count": 4,
     "metadata": {},
     "output_type": "execute_result"
    }
   ],
   "source": [
    "dwork.head() # comprobamos"
   ]
  },
  {
   "cell_type": "markdown",
   "metadata": {},
   "source": [
    "# INFORMACIÓN UTIL:"
   ]
  },
  {
   "cell_type": "code",
   "execution_count": 5,
   "metadata": {
    "collapsed": false
   },
   "outputs": [],
   "source": [
    "cs = [u'Código que identifica la Comunidad Autónoma de residencia fiscal del declarante o de los declaran­ tes. Hay un total de 17 códigos, las comunidades de régimen común más las dos Ciudades Autóno­ mas Ceuta y Melilla, los cuales se pueden consultar en la Tabla 3 del anexo.',\n",
    "      u'Esta variable es creada para la estratificación, nos dice el tramo de la variable renta muestreo en el que se encuentra cada observación. Distinguimos 10 tramos y a cada uno se le asignara un número',\n",
    "      u'APLICACIÓN DE LAS ESCALAS DEL IMPUESTO AL IMPORTE DE LA CASILLA 620 (Parte Estatal).',\n",
    "      u'APLICACIÓN DE LAS ESCALAS DEL IMPUESTO AL IMPORTE DE LA CASILLA 620 (Parte Autonómica)',\n",
    "      u'Esta variable es creada para la estratificación, en ella se crean dos categorías para agrupar las decla­ raciones en función de la renta del trabajo. La variable que clasificamos es la resultante entre ingre­ sos trabajo y renta muestreo',\n",
    "      u'Factor de elevación poblacional de la observación. Se calcula como el cociente entre el tamaño po­ blacional del estrato al que pertenece la declaración y el tamaño muestral de ese mismo estrato.',\n",
    "      u'Indica la fecha de nacimiento del primer declarante en el formato AAAAMMDD.',\n",
    "      u'Sexo del declarante principal. Toma valor 1 para hombres y 2 para mujeres.',\n",
    "      u'Indica el régimen tributario al que pertenece la declaración. Se denota por I en el caso de declaración individual y por C en el caso de conjunta.',\n",
    "      u'Variable creada para recoger las posibles combinaciones del tipo de tributación y el estado civil.',\n",
    "      u'Variable creada para recoger la aplicación de mínimos personales y familiares en la declaración. To­ ma valor 9 en todas las declaraciones con errores y en la mayoría de las declaraciones entre 1999 y 2002, ya que no es posible conocer los valores de los mínimos.',\n",
    "      u'Variable de renta utilizada en el muestreo. Creada mediante la suma de ingresos íntegros, rendimien­ tos e imputaciones de renta del modelo 100 del IRPF para el año en cuestión.',\n",
    "      u'Recoge la renta que proviene de los ingresos íntegros del trabajo, a través de las casillas del modelo 100 de IRPF para el año en cuestión.',\n",
    "      u'RENDIMIENTOS DEL TRABAJO: REDUCCIÓN CON CARÁCTER GENERAL',\n",
    "      u'BASE IMPONIBLE GENERAL (450 ­ 451 + 452 ­ 453 ­ 454)',\n",
    "      u'BASE IMPONIBLE DEL AHORRO (457 ­ 458 + 460 ­ 461)',\n",
    "      u'BASE LIQUIDABLE GENERAL SOMETIDA A GRAVAMEN. (618 ­ 619)',\n",
    "      u'BASE LIQUIDABLE DEL AHORRO (465 ­ 621 ­ 622 ­ 623)',\n",
    "      u'MÍNIMO PERSONAL Y FAMILIAR (675 + 676 + 677 + 678)',\n",
    "      u'CUOTAS INTEGRAS (693 + 696) (Parte Estatal)',\n",
    "      u'CUOTAS INTEGRAS (694 + 697) (Parte Autonómica)',\n",
    "      u'CUOTA LIQUIDA ESTATAL ( 698 - 700 - 702 - 704 - 706 - 708 - 710 - 712 - 714 - 716 )',\n",
    "      u'CUOTA LIQUIDA AUTONOMICA ( 699 - 701 - 703 - 705 - 707 - 709 - 711 - 713 - 715 - 717 )',\n",
    "      u'CUOTA LIQUIDA INCREMENTADA TOTAL. ( 730 + 731 )']\n"
   ]
  },
  {
   "cell_type": "code",
   "execution_count": 6,
   "metadata": {
    "collapsed": false
   },
   "outputs": [],
   "source": [
    "info = []\n",
    "info = zip(cols, cs)\n",
    "info = dict(info)"
   ]
  },
  {
   "cell_type": "code",
   "execution_count": 7,
   "metadata": {
    "collapsed": true
   },
   "outputs": [],
   "source": [
    "trans_ccaa_acentos = {1 : 'Andalucía',\n",
    "                       2 : 'Aragón',\n",
    "                       3 : 'Principado de Asturias',\n",
    "                       4 : 'Illes Baleares',\n",
    "                       5 : 'Canarias',\n",
    "                       6 : 'Cantabria',\n",
    "                       7 : 'Castilla-La Mancha',\n",
    "                       8 : 'Castilla y León',\n",
    "                       9 : 'Cataluña',\n",
    "                       10 : 'Extremadura',\n",
    "                       11 : 'Galicia',\n",
    "                       12 : 'Comunidad de Madrid',\n",
    "                       13 : 'Región de Murcia',\n",
    "                       16 : 'La Rioja',\n",
    "                       17 : 'Comunidad Valenciana',\n",
    "                       18 : 'Ceuta',\n",
    "                       19 : 'Melilla'}\n",
    "\n",
    "trans_ccaa = {1 : 'Andalucia',\n",
    "              2 : 'Aragon',\n",
    "              3 : 'Principado de Asturias',\n",
    "              4 : 'Illes Baleares',\n",
    "              5 : 'Canarias',\n",
    "              6 : 'Cantabria',\n",
    "              7 : 'Castilla-La Mancha',\n",
    "              8 : 'Castilla y Leon',\n",
    "              9 : 'Catalunya',\n",
    "              10 : 'Extremadura',\n",
    "              11 : 'Galicia',\n",
    "              12 : 'Comunidad de Madrid',\n",
    "              13 : 'Region de Murcia',\n",
    "              16 : 'La Rioja',\n",
    "              17 : 'Comunidad Valenciana',\n",
    "              18 : 'Ceuta',\n",
    "              19 : 'Melilla'}"
   ]
  },
  {
   "cell_type": "code",
   "execution_count": 8,
   "metadata": {
    "collapsed": true
   },
   "outputs": [],
   "source": [
    "trans_tramo = {1 : 'Negativas y cero',\n",
    "               2 : 'De 0,01 a 3.000,00',\n",
    "               3 : 'De 3.000,01 a 6.000,00',\n",
    "               4 : 'De 6.000,01 a 12.000,00',\n",
    "               5 : 'De 12.000,01 a 18.000,00',\n",
    "               6 : 'De 18.000,01 a 30.000,00',\n",
    "               7 : 'De 30.000,01 a 60.000,00',\n",
    "               8 : 'De 60.000,01 a 120.000,00',\n",
    "               9 : 'De 120.000,01 a 240.000,00',\n",
    "               10 : 'De 240.000,01 en adelante'}\n"
   ]
  },
  {
   "cell_type": "code",
   "execution_count": 9,
   "metadata": {
    "collapsed": false
   },
   "outputs": [],
   "source": [
    "trans_minimosdecla = {1: 'Mínimo personal correspondiente a declaración individual y mínimo por descendientes=0',\n",
    "                      2: 'Mínimo personal correspondiente a declaración individual y mínimo por descendientes>0',\n",
    "                      3: 'Mínimo personal correspondiente a declaración conjunta monoparental y mínimo por descendientes>0',\n",
    "                      4: 'Mínimo personal correspondiente a declaración conjunta',\n",
    "                      9: 'Casos no identificados'}"
   ]
  },
  {
   "cell_type": "code",
   "execution_count": 10,
   "metadata": {
    "collapsed": true
   },
   "outputs": [],
   "source": [
    "trans_categoriadecla = {1: u'Individuos no casados[tipotributacion=I, ncyge=0]', \n",
    "                        2: u'Familias monoparentales [tipotributacion=C, ncyge=0]',\n",
    "                        3: u'Matrimonios que presentan declaración conjunta[tipotributacion=C,ncyge>0]',\n",
    "                        4: u'Matrimonios que presentan declaraciones separadas[tipotributacion=I, ncyge>0]'}"
   ]
  },
  {
   "cell_type": "markdown",
   "metadata": {},
   "source": [
    "# ANALISIS EXPLORATORIO:"
   ]
  },
  {
   "cell_type": "code",
   "execution_count": 11,
   "metadata": {
    "collapsed": false
   },
   "outputs": [
    {
     "data": {
      "text/html": [
       "<div>\n",
       "<table border=\"1\" class=\"dataframe\">\n",
       "  <thead>\n",
       "    <tr style=\"text-align: right;\">\n",
       "      <th></th>\n",
       "      <th>ccaa</th>\n",
       "      <th>tramo</th>\n",
       "      <th>c698</th>\n",
       "      <th>c699</th>\n",
       "      <th>marcafuente</th>\n",
       "      <th>factor</th>\n",
       "      <th>fechappal</th>\n",
       "      <th>sexoppal</th>\n",
       "      <th>tipotributacion</th>\n",
       "      <th>categoriadecla</th>\n",
       "      <th>...</th>\n",
       "      <th>c455</th>\n",
       "      <th>c465</th>\n",
       "      <th>c620</th>\n",
       "      <th>c630</th>\n",
       "      <th>c679</th>\n",
       "      <th>c698.1</th>\n",
       "      <th>c699.1</th>\n",
       "      <th>c720</th>\n",
       "      <th>c721</th>\n",
       "      <th>c732</th>\n",
       "    </tr>\n",
       "  </thead>\n",
       "  <tbody>\n",
       "    <tr>\n",
       "      <th>0</th>\n",
       "      <td>12</td>\n",
       "      <td>8</td>\n",
       "      <td>1032785</td>\n",
       "      <td>1019763</td>\n",
       "      <td>0</td>\n",
       "      <td>10.164443</td>\n",
       "      <td>19600124</td>\n",
       "      <td>1</td>\n",
       "      <td>I</td>\n",
       "      <td>4</td>\n",
       "      <td>...</td>\n",
       "      <td>7017232</td>\n",
       "      <td>4652</td>\n",
       "      <td>7017232</td>\n",
       "      <td>4652</td>\n",
       "      <td>1101600</td>\n",
       "      <td>1032785</td>\n",
       "      <td>1019763</td>\n",
       "      <td>617087</td>\n",
       "      <td>604066</td>\n",
       "      <td>1221153</td>\n",
       "    </tr>\n",
       "    <tr>\n",
       "      <th>1</th>\n",
       "      <td>1</td>\n",
       "      <td>9</td>\n",
       "      <td>4086601</td>\n",
       "      <td>4086601</td>\n",
       "      <td>0</td>\n",
       "      <td>1.006695</td>\n",
       "      <td>19520412</td>\n",
       "      <td>1</td>\n",
       "      <td>I</td>\n",
       "      <td>4</td>\n",
       "      <td>...</td>\n",
       "      <td>21948858</td>\n",
       "      <td>974709</td>\n",
       "      <td>20498858</td>\n",
       "      <td>974709</td>\n",
       "      <td>606900</td>\n",
       "      <td>4086601</td>\n",
       "      <td>4086601</td>\n",
       "      <td>4065923</td>\n",
       "      <td>4065923</td>\n",
       "      <td>8131846</td>\n",
       "    </tr>\n",
       "    <tr>\n",
       "      <th>2</th>\n",
       "      <td>13</td>\n",
       "      <td>5</td>\n",
       "      <td>72871</td>\n",
       "      <td>72871</td>\n",
       "      <td>1</td>\n",
       "      <td>50.027794</td>\n",
       "      <td>19540408</td>\n",
       "      <td>1</td>\n",
       "      <td>C</td>\n",
       "      <td>3</td>\n",
       "      <td>...</td>\n",
       "      <td>1421115</td>\n",
       "      <td>52107</td>\n",
       "      <td>1081115</td>\n",
       "      <td>52107</td>\n",
       "      <td>515100</td>\n",
       "      <td>72871</td>\n",
       "      <td>72871</td>\n",
       "      <td>72871</td>\n",
       "      <td>72871</td>\n",
       "      <td>145742</td>\n",
       "    </tr>\n",
       "    <tr>\n",
       "      <th>3</th>\n",
       "      <td>8</td>\n",
       "      <td>6</td>\n",
       "      <td>114657</td>\n",
       "      <td>114657</td>\n",
       "      <td>0</td>\n",
       "      <td>15.569221</td>\n",
       "      <td>19650716</td>\n",
       "      <td>2</td>\n",
       "      <td>C</td>\n",
       "      <td>2</td>\n",
       "      <td>...</td>\n",
       "      <td>1843496</td>\n",
       "      <td>32443</td>\n",
       "      <td>1628496</td>\n",
       "      <td>32443</td>\n",
       "      <td>698700</td>\n",
       "      <td>114657</td>\n",
       "      <td>114657</td>\n",
       "      <td>47044</td>\n",
       "      <td>47044</td>\n",
       "      <td>94088</td>\n",
       "    </tr>\n",
       "    <tr>\n",
       "      <th>4</th>\n",
       "      <td>12</td>\n",
       "      <td>5</td>\n",
       "      <td>8405</td>\n",
       "      <td>8405</td>\n",
       "      <td>1</td>\n",
       "      <td>52.682674</td>\n",
       "      <td>19330422</td>\n",
       "      <td>1</td>\n",
       "      <td>C</td>\n",
       "      <td>3</td>\n",
       "      <td>...</td>\n",
       "      <td>898966</td>\n",
       "      <td>452612</td>\n",
       "      <td>558966</td>\n",
       "      <td>452612</td>\n",
       "      <td>923100</td>\n",
       "      <td>8405</td>\n",
       "      <td>8405</td>\n",
       "      <td>8405</td>\n",
       "      <td>8405</td>\n",
       "      <td>16810</td>\n",
       "    </tr>\n",
       "  </tbody>\n",
       "</table>\n",
       "<p>5 rows × 24 columns</p>\n",
       "</div>"
      ],
      "text/plain": [
       "   ccaa  tramo     c698     c699  marcafuente     factor  fechappal  sexoppal  \\\n",
       "0    12      8  1032785  1019763            0  10.164443   19600124         1   \n",
       "1     1      9  4086601  4086601            0   1.006695   19520412         1   \n",
       "2    13      5    72871    72871            1  50.027794   19540408         1   \n",
       "3     8      6   114657   114657            0  15.569221   19650716         2   \n",
       "4    12      5     8405     8405            1  52.682674   19330422         1   \n",
       "\n",
       "  tipotributacion  categoriadecla   ...         c455    c465      c620  \\\n",
       "0               I               4   ...      7017232    4652   7017232   \n",
       "1               I               4   ...     21948858  974709  20498858   \n",
       "2               C               3   ...      1421115   52107   1081115   \n",
       "3               C               2   ...      1843496   32443   1628496   \n",
       "4               C               3   ...       898966  452612    558966   \n",
       "\n",
       "     c630     c679   c698.1   c699.1     c720     c721     c732  \n",
       "0    4652  1101600  1032785  1019763   617087   604066  1221153  \n",
       "1  974709   606900  4086601  4086601  4065923  4065923  8131846  \n",
       "2   52107   515100    72871    72871    72871    72871   145742  \n",
       "3   32443   698700   114657   114657    47044    47044    94088  \n",
       "4  452612   923100     8405     8405     8405     8405    16810  \n",
       "\n",
       "[5 rows x 24 columns]"
      ]
     },
     "execution_count": 11,
     "metadata": {},
     "output_type": "execute_result"
    }
   ],
   "source": [
    "dwork.head()"
   ]
  },
  {
   "cell_type": "markdown",
   "metadata": {},
   "source": [
    "# CREAMOS LAS VARIABLES POBLACIONALES"
   ]
  },
  {
   "cell_type": "code",
   "execution_count": 12,
   "metadata": {
    "collapsed": false
   },
   "outputs": [
    {
     "data": {
      "text/html": [
       "<div>\n",
       "<table border=\"1\" class=\"dataframe\">\n",
       "  <thead>\n",
       "    <tr style=\"text-align: right;\">\n",
       "      <th></th>\n",
       "      <th>tipotributacion</th>\n",
       "      <th>categoriadecla</th>\n",
       "      <th>minimosdecla</th>\n",
       "      <th>rentamuestreo</th>\n",
       "      <th>ingresostrabajo</th>\n",
       "      <th>c17</th>\n",
       "    </tr>\n",
       "  </thead>\n",
       "  <tbody>\n",
       "    <tr>\n",
       "      <th>0</th>\n",
       "      <td>I</td>\n",
       "      <td>4</td>\n",
       "      <td>20.328886</td>\n",
       "      <td>71373539.811050</td>\n",
       "      <td>0.000000</td>\n",
       "      <td>0.000000</td>\n",
       "    </tr>\n",
       "    <tr>\n",
       "      <th>1</th>\n",
       "      <td>I</td>\n",
       "      <td>4</td>\n",
       "      <td>2.013390</td>\n",
       "      <td>23081429.781586</td>\n",
       "      <td>0.000000</td>\n",
       "      <td>0.000000</td>\n",
       "    </tr>\n",
       "    <tr>\n",
       "      <th>2</th>\n",
       "      <td>C</td>\n",
       "      <td>3</td>\n",
       "      <td>200.111176</td>\n",
       "      <td>86969417.492457</td>\n",
       "      <td>95803225.280200</td>\n",
       "      <td>13267370.936976</td>\n",
       "    </tr>\n",
       "    <tr>\n",
       "      <th>3</th>\n",
       "      <td>C</td>\n",
       "      <td>2</td>\n",
       "      <td>46.707662</td>\n",
       "      <td>29206908.010587</td>\n",
       "      <td>0.000000</td>\n",
       "      <td>0.000000</td>\n",
       "    </tr>\n",
       "    <tr>\n",
       "      <th>4</th>\n",
       "      <td>C</td>\n",
       "      <td>3</td>\n",
       "      <td>210.730698</td>\n",
       "      <td>88150336.668393</td>\n",
       "      <td>61359616.250676</td>\n",
       "      <td>16945592.954674</td>\n",
       "    </tr>\n",
       "  </tbody>\n",
       "</table>\n",
       "</div>"
      ],
      "text/plain": [
       "  tipotributacion  categoriadecla  minimosdecla    rentamuestreo  \\\n",
       "0               I               4     20.328886  71373539.811050   \n",
       "1               I               4      2.013390  23081429.781586   \n",
       "2               C               3    200.111176  86969417.492457   \n",
       "3               C               2     46.707662  29206908.010587   \n",
       "4               C               3    210.730698  88150336.668393   \n",
       "\n",
       "   ingresostrabajo              c17  \n",
       "0         0.000000         0.000000  \n",
       "1         0.000000         0.000000  \n",
       "2  95803225.280200  13267370.936976  \n",
       "3         0.000000         0.000000  \n",
       "4  61359616.250676  16945592.954674  "
      ]
     },
     "execution_count": 12,
     "metadata": {},
     "output_type": "execute_result"
    }
   ],
   "source": [
    "dpob = dwork.ix[:,:10]\n",
    "variables = dwork.columns[10:]\n",
    "\n",
    "for v in variables:\n",
    "    dpob[v] = dwork[v] * dwork.factor\n",
    "\n",
    "dpob.ix[:,8:14].head()\n",
    "    "
   ]
  },
  {
   "cell_type": "code",
   "execution_count": 13,
   "metadata": {
    "collapsed": false
   },
   "outputs": [],
   "source": [
    "dpob['ccaa'] = dpob.ccaa.map(trans_ccaa) # traducir codigo numérico por los nombres de las CCAA\n",
    "\n",
    "f = lambda x: x / 100  # funcion: pasar de céntimos a euros\n",
    "dpob[cols[10:]] = dpob[cols[10:]].apply(f)  # cambiar a euros las variables monetarias."
   ]
  },
  {
   "cell_type": "code",
   "execution_count": 14,
   "metadata": {
    "collapsed": false
   },
   "outputs": [],
   "source": [
    "RES = dict(zip(['c680',\n",
    "                'c620',\n",
    "                'c630',\n",
    "                'c698',\n",
    "                'c699',\n",
    "                'c720',\n",
    "                'c721'],\n",
    "                [108734157,\n",
    "                345275629,\n",
    "                38755454,\n",
    "                37955079,\n",
    "                37770803,\n",
    "                35550225,\n",
    "                35081330]))"
   ]
  },
  {
   "cell_type": "code",
   "execution_count": 15,
   "metadata": {
    "collapsed": false
   },
   "outputs": [
    {
     "name": "stdout",
     "output_type": "stream",
     "text": [
      "\n",
      "Estimación:\n",
      "c699 = 28832293.6822\n",
      "\n",
      "Real:\n",
      "c699 = 37770803\n",
      "\n",
      "ECM = 1.39080628947e+13\n"
     ]
    }
   ],
   "source": [
    "# comprobación de las variables poblacionales:\n",
    "\n",
    "variables = ['c680',\n",
    "             'c620',\n",
    "             'c630',\n",
    "             'c698',\n",
    "             'c699',\n",
    "             'c720',\n",
    "             'c721']\n",
    "\n",
    "var = variables[4]  # variable a comprobar.\n",
    "\n",
    "print '\\nEstimación:'\n",
    "print var, '=', sum(dpob[var]) / 100\n",
    "print '\\nReal:'\n",
    "print var, '=', RES[var]\n",
    "print '\\nECM =', (RES[var] - sum(dpob[var])) ** 2 / len(dpob[var])\n"
   ]
  },
  {
   "cell_type": "code",
   "execution_count": 16,
   "metadata": {
    "collapsed": true
   },
   "outputs": [],
   "source": [
    "# footnote para los graficos:\n",
    "foot = u'FUENTE: Instituto de Estudios Fiscales, Datos panel IRPF 2010, IES.es\\nElaboración propia: Maximiliano Greco, @mmngreco' "
   ]
  },
  {
   "cell_type": "code",
   "execution_count": 17,
   "metadata": {
    "collapsed": false
   },
   "outputs": [
    {
     "data": {
      "text/plain": [
       "<matplotlib.figure.Figure at 0x10d9a4f10>"
      ]
     },
     "metadata": {},
     "output_type": "display_data"
    },
    {
     "data": {
      "image/png": "[encoded data removed]",
      "text/plain": [
       "<matplotlib.figure.Figure at 0x10d97d890>"
      ]
     },
     "metadata": {},
     "output_type": "display_data"
    }
   ],
   "source": [
    "nota = u'''NOTA, Los tramos corresponden a:\\n–––––––––––––––––––––––––––––'''\n",
    "\n",
    "for k, v in trans_tramo.iteritems():\n",
    "    nota += '\\n%s = %s' % (k,v)\n",
    "\n",
    "plt.figure(figsize=(10,10))\n",
    "\n",
    "fg = sns.factorplot('tramo', \n",
    "                    data=dpob, \n",
    "                    kind='count', \n",
    "                    order=range(1,11))\n",
    "\n",
    "fg.set_axis_labels('','')\n",
    "\n",
    "# tittle\n",
    "ttl= u'ESPAÑA, Declarantes en el IRPF 2010 por Tramo'\n",
    "plt.gcf().text(0.2, 1, \"%s\" % ttl, fontsize=14, transform=(1,1))\n",
    "\n",
    "# footnote\n",
    "plt.gcf().text(0, -0.04, \"%s\" % foot, fontsize=9, transform=(1,1))\n",
    "\n",
    "# nota\n",
    "plt.gcf().text(1, 0.3, nota,)\n",
    "plt.tight_layout()\n",
    "plt.savefig(u'dist_declarantes_por_tramos_españa.png', bbox_inches='tight', dpi=100)\n"
   ]
  },
  {
   "cell_type": "code",
   "execution_count": 18,
   "metadata": {
    "collapsed": false
   },
   "outputs": [],
   "source": [
    "# crear tabla con frecuencias:\n",
    "d_ccaa_tramo = dpob[['tramo', 'ccaa']]"
   ]
  },
  {
   "cell_type": "code",
   "execution_count": 19,
   "metadata": {
    "collapsed": false
   },
   "outputs": [
    {
     "data": {
      "image/png": "[encoded data removed]",
      "text/plain": [
       "<matplotlib.figure.Figure at 0x14bde6850>"
      ]
     },
     "metadata": {},
     "output_type": "display_data"
    }
   ],
   "source": [
    "# text\n",
    "\n",
    "ttl = u'Distribución de Declarantes en el IRPF por Comunidad Autónoma.'\n",
    "\n",
    "nota = u'''NOTA, Los tramos corresponden a:\\n–––––––––––––––––––––––––––––'''\n",
    "for k, v in trans_tramo.iteritems():\n",
    "    nota += '\\n%s = %s' % (k,v)\n",
    "\n",
    "# plot\n",
    "fg = sns.factorplot('tramo',\n",
    "                    col='ccaa',\n",
    "                    size=1.5,\n",
    "                    col_wrap=3,\n",
    "                    data=d_ccaa_tramo,\n",
    "                    aspect=2,\n",
    "                    kind='count',\n",
    "                    sharex=False, order=range(1,11))\n",
    "\n",
    "fig = plt.gcf()\n",
    "\n",
    "# title\n",
    "fig.text(0.3, 1, \"%s\" % ttl, fontsize=14, transform=(1,1))\n",
    "# footnote\n",
    "fig.text(0, -0.07, \"%s\" % foot, fontsize=10, transform=(1,1))\n",
    "# note\n",
    "fig.text(.7,-.07, nota, fontsize=11)\n",
    "# formato ejes\n",
    "fg.despine(left=True, bottom=False)\n",
    "# ticks ejes\n",
    "fg.set(yticks=[])\n",
    "fg.set_axis_labels(\"Tramo de Renta\", \"\")\n",
    "\n",
    "plt.savefig('hist_dist_tramo_by_ccaa.png', bbox_inches='tight', dpi=150)"
   ]
  },
  {
   "cell_type": "code",
   "execution_count": 20,
   "metadata": {
    "collapsed": false
   },
   "outputs": [
    {
     "data": {
      "image/png": "[encoded data removed]",
      "text/plain": [
       "<matplotlib.figure.Figure at 0x1090f62d0>"
      ]
     },
     "metadata": {},
     "output_type": "display_data"
    }
   ],
   "source": [
    "fg = sns.factorplot('tramo',\n",
    "                    col='ccaa',\n",
    "                    size=1.5,\n",
    "                    col_wrap=3,\n",
    "                    data=d_ccaa_tramo,\n",
    "                    aspect=2,\n",
    "                    kind='box',\n",
    "                    sharex=False, order=range(1,11))\n",
    "\n",
    "fig = plt.gcf()\n",
    "fig.text(0.2, 1, \"%s\" % ttl, fontsize=14, transform=(1,1))\n",
    "fig.text(0, -0.02, \"%s\" % foot, fontsize=10, transform=(1,1))\n",
    "fig.text(.69,-.02, nota, fontsize=10)\n",
    "\n",
    "fg.set_axis_labels(\"tramo de renta\", \"\")\n",
    "\n",
    "plt.savefig('box_dist_tramo_by_ccaa.png', bbox_inches='tight', dpi=150)"
   ]
  },
  {
   "cell_type": "code",
   "execution_count": 21,
   "metadata": {
    "collapsed": false
   },
   "outputs": [
    {
     "data": {
      "text/html": [
       "<div>\n",
       "<table border=\"1\" class=\"dataframe\">\n",
       "  <thead>\n",
       "    <tr style=\"text-align: right;\">\n",
       "      <th></th>\n",
       "      <th>tramo</th>\n",
       "      <th>ccaa</th>\n",
       "    </tr>\n",
       "  </thead>\n",
       "  <tbody>\n",
       "    <tr>\n",
       "      <th>0</th>\n",
       "      <td>8</td>\n",
       "      <td>Comunidad de Madrid</td>\n",
       "    </tr>\n",
       "    <tr>\n",
       "      <th>1</th>\n",
       "      <td>9</td>\n",
       "      <td>Andalucia</td>\n",
       "    </tr>\n",
       "    <tr>\n",
       "      <th>2</th>\n",
       "      <td>5</td>\n",
       "      <td>Region de Murcia</td>\n",
       "    </tr>\n",
       "    <tr>\n",
       "      <th>3</th>\n",
       "      <td>6</td>\n",
       "      <td>Castilla y Leon</td>\n",
       "    </tr>\n",
       "    <tr>\n",
       "      <th>4</th>\n",
       "      <td>5</td>\n",
       "      <td>Comunidad de Madrid</td>\n",
       "    </tr>\n",
       "  </tbody>\n",
       "</table>\n",
       "</div>"
      ],
      "text/plain": [
       "   tramo                 ccaa\n",
       "0      8  Comunidad de Madrid\n",
       "1      9            Andalucia\n",
       "2      5     Region de Murcia\n",
       "3      6      Castilla y Leon\n",
       "4      5  Comunidad de Madrid"
      ]
     },
     "execution_count": 21,
     "metadata": {},
     "output_type": "execute_result"
    }
   ],
   "source": [
    "d_ccaa_tramo.head()"
   ]
  },
  {
   "cell_type": "code",
   "execution_count": 22,
   "metadata": {
    "collapsed": false
   },
   "outputs": [],
   "source": [
    "ricos = dpob[['tramo', 'ccaa']][dpob.tramo > 8]"
   ]
  },
  {
   "cell_type": "code",
   "execution_count": 23,
   "metadata": {
    "collapsed": false
   },
   "outputs": [
    {
     "name": "stdout",
     "output_type": "stream",
     "text": [
      "ccaa\n",
      "Melilla                    0.178852\n",
      "Ceuta                      0.216505\n",
      "Cantabria                  0.960151\n",
      "La Rioja                   1.220584\n",
      "Extremadura                1.346094\n",
      "Principado de Asturias     1.788516\n",
      "Region de Murcia           1.879511\n",
      "Canarias                   2.124255\n",
      "Castilla-La Mancha         2.792595\n",
      "Galicia                    3.517414\n",
      "Aragon                     3.702542\n",
      "Illes Baleares             4.358331\n",
      "Castilla y Leon            5.491057\n",
      "Comunidad Valenciana       6.702228\n",
      "Andalucia                 16.015061\n",
      "Catalunya                 22.503922\n",
      "Comunidad de Madrid       25.202385\n",
      "Name: tramo, dtype: float64\n",
      "––––––––––––––––––––––––––––––––––––––––––––––––––––––––––––––––––––––––––––––––\n",
      "TOTAL\t\t\t100.0\n"
     ]
    },
    {
     "data": {
      "image/png": "[encoded data removed]",
      "text/plain": [
       "<matplotlib.figure.Figure at 0x10f3bad10>"
      ]
     },
     "metadata": {},
     "output_type": "display_data"
    }
   ],
   "source": [
    "ttl = u'ESPAÑA: Distribución de Declarantes en el IRPF 2010, por CCAA.'\n",
    "tot_count = dpob.ccaa[dpob.tramo > 8].count() # numero de declaraciones cuyos tramos son superiores a 7\n",
    "f = lambda x: x * 100 / tot_count  # función: frecuencia relativa en %\n",
    "\n",
    "ricos.groupby('ccaa').count('tramo').tramo.apply(f).order(ascending=True).plot(kind='barh')\n",
    "plt.tight_layout()\n",
    "\n",
    "# GUARDAR IMAGEN Y TEXTO\n",
    "\n",
    "# footnote\n",
    "plt.gcf().text(0, -0.04, \"%s\" % foot, fontsize=10, transform=(1,1))\n",
    "\n",
    "# Quitar las líneas del marco del eje.\n",
    "ax = plt.gca()  \n",
    "ax.spines[\"top\"].set_visible(False)  \n",
    "ax.spines[\"bottom\"].set_visible(False)  \n",
    "ax.spines[\"right\"].set_visible(False)  \n",
    "ax.spines[\"left\"].set_visible(True)  \n",
    "\n",
    "# Asegurarse de dejar sólo las marcas de la izquierda y abajo.\n",
    "# Las marcas de la derecha y la parte superior del gráfico son generalmente basura innecesaria de la tabla.\n",
    "ax.get_xaxis().tick_bottom()\n",
    "ax.get_yaxis().tick_left()\n",
    "ax.set_title(ttl, fontsize=14)\n",
    "\n",
    "plt.savefig('dist_ascending_tramo_by_ccaa.png', bbox_inches='tight', dpi=150)\n",
    "\n",
    "nota = ''''''\n",
    "print ricos.groupby('ccaa').count('tramo').tramo.apply(f).order(ascending=True)\n",
    "print '–' * 80\n",
    "print 'TOTAL\\t\\t\\t', ricos.groupby('ccaa').count('tramo').tramo.apply(f).order(ascending=True).sum()"
   ]
  },
  {
   "cell_type": "code",
   "execution_count": 24,
   "metadata": {
    "collapsed": false,
    "scrolled": false
   },
   "outputs": [],
   "source": [
    "# sns.pairplot(dpob[['ccaa', 'tramo', 'c455', 'c465', 'c620', 'c630', 'c679', 'c698', 'c699']])"
   ]
  },
  {
   "cell_type": "code",
   "execution_count": 25,
   "metadata": {
    "collapsed": false
   },
   "outputs": [],
   "source": [
    "# CREAR DATAFRAME CON FRECUENCIAS ESTADISTICAS:\n",
    "\n",
    "tramos = range(7,11)\n",
    "\n",
    "for t in range(1, 3):\n",
    "    d = dpob.ccaa[dpob.tramo == t]\n",
    "    frec_ccaa = {}\n",
    "\n",
    "    for c in list(d.unique()): # traducir cada ccaa por su nombre\n",
    "        frec_ccaa[c] = d[d == c].count() # frecuencia absoluta de cada ccaa\n",
    "\n",
    "    frec_ccaa = DataFrame(frec_ccaa, index=['N']) # crear el dataframe con los datos absolutos\n",
    "\n",
    "    frec_ccaa = frec_ccaa.T # trasponer el dataframe para que los indices sean ccaa\n",
    "    frec_ccaa['f'] = divide(frec_ccaa.N * 100, frec_ccaa.N.sum(), dtype='float') # creamos frencuencia relativa\n",
    "    frec_ccaa['F'] = cumsum(frec_ccaa.f) # creamos la frecuencia acumulada\n",
    "\n"
   ]
  },
  {
   "cell_type": "code",
   "execution_count": 26,
   "metadata": {
    "collapsed": false
   },
   "outputs": [
    {
     "data": {
      "text/html": [
       "<div>\n",
       "<table border=\"1\" class=\"dataframe\">\n",
       "  <thead>\n",
       "    <tr style=\"text-align: right;\">\n",
       "      <th></th>\n",
       "      <th>N</th>\n",
       "      <th>f</th>\n",
       "      <th>F</th>\n",
       "    </tr>\n",
       "  </thead>\n",
       "  <tbody>\n",
       "    <tr>\n",
       "      <th>Andalucia</th>\n",
       "      <td>4018</td>\n",
       "      <td>14.358205</td>\n",
       "      <td>14.358205</td>\n",
       "    </tr>\n",
       "    <tr>\n",
       "      <th>Aragon</th>\n",
       "      <td>612</td>\n",
       "      <td>2.186964</td>\n",
       "      <td>16.545169</td>\n",
       "    </tr>\n",
       "    <tr>\n",
       "      <th>Canarias</th>\n",
       "      <td>1344</td>\n",
       "      <td>4.802744</td>\n",
       "      <td>21.347913</td>\n",
       "    </tr>\n",
       "    <tr>\n",
       "      <th>Cantabria</th>\n",
       "      <td>615</td>\n",
       "      <td>2.197684</td>\n",
       "      <td>23.545597</td>\n",
       "    </tr>\n",
       "    <tr>\n",
       "      <th>Castilla y Leon</th>\n",
       "      <td>1413</td>\n",
       "      <td>5.049314</td>\n",
       "      <td>28.594911</td>\n",
       "    </tr>\n",
       "    <tr>\n",
       "      <th>Castilla-La Mancha</th>\n",
       "      <td>1065</td>\n",
       "      <td>3.805746</td>\n",
       "      <td>32.400658</td>\n",
       "    </tr>\n",
       "    <tr>\n",
       "      <th>Catalunya</th>\n",
       "      <td>4321</td>\n",
       "      <td>15.440966</td>\n",
       "      <td>47.841624</td>\n",
       "    </tr>\n",
       "    <tr>\n",
       "      <th>Ceuta</th>\n",
       "      <td>33</td>\n",
       "      <td>0.117925</td>\n",
       "      <td>47.959548</td>\n",
       "    </tr>\n",
       "    <tr>\n",
       "      <th>Comunidad Valenciana</th>\n",
       "      <td>4576</td>\n",
       "      <td>16.352201</td>\n",
       "      <td>64.311750</td>\n",
       "    </tr>\n",
       "    <tr>\n",
       "      <th>Comunidad de Madrid</th>\n",
       "      <td>4470</td>\n",
       "      <td>15.973413</td>\n",
       "      <td>80.285163</td>\n",
       "    </tr>\n",
       "    <tr>\n",
       "      <th>Extremadura</th>\n",
       "      <td>1266</td>\n",
       "      <td>4.524014</td>\n",
       "      <td>84.809177</td>\n",
       "    </tr>\n",
       "    <tr>\n",
       "      <th>Galicia</th>\n",
       "      <td>1485</td>\n",
       "      <td>5.306604</td>\n",
       "      <td>90.115780</td>\n",
       "    </tr>\n",
       "    <tr>\n",
       "      <th>Illes Baleares</th>\n",
       "      <td>556</td>\n",
       "      <td>1.986850</td>\n",
       "      <td>92.102630</td>\n",
       "    </tr>\n",
       "    <tr>\n",
       "      <th>La Rioja</th>\n",
       "      <td>280</td>\n",
       "      <td>1.000572</td>\n",
       "      <td>93.103202</td>\n",
       "    </tr>\n",
       "    <tr>\n",
       "      <th>Melilla</th>\n",
       "      <td>34</td>\n",
       "      <td>0.121498</td>\n",
       "      <td>93.224700</td>\n",
       "    </tr>\n",
       "    <tr>\n",
       "      <th>Principado de Asturias</th>\n",
       "      <td>583</td>\n",
       "      <td>2.083333</td>\n",
       "      <td>95.308033</td>\n",
       "    </tr>\n",
       "    <tr>\n",
       "      <th>Region de Murcia</th>\n",
       "      <td>1313</td>\n",
       "      <td>4.691967</td>\n",
       "      <td>100.000000</td>\n",
       "    </tr>\n",
       "  </tbody>\n",
       "</table>\n",
       "</div>"
      ],
      "text/plain": [
       "                           N          f           F\n",
       "Andalucia               4018  14.358205   14.358205\n",
       "Aragon                   612   2.186964   16.545169\n",
       "Canarias                1344   4.802744   21.347913\n",
       "Cantabria                615   2.197684   23.545597\n",
       "Castilla y Leon         1413   5.049314   28.594911\n",
       "Castilla-La Mancha      1065   3.805746   32.400658\n",
       "Catalunya               4321  15.440966   47.841624\n",
       "Ceuta                     33   0.117925   47.959548\n",
       "Comunidad Valenciana    4576  16.352201   64.311750\n",
       "Comunidad de Madrid     4470  15.973413   80.285163\n",
       "Extremadura             1266   4.524014   84.809177\n",
       "Galicia                 1485   5.306604   90.115780\n",
       "Illes Baleares           556   1.986850   92.102630\n",
       "La Rioja                 280   1.000572   93.103202\n",
       "Melilla                   34   0.121498   93.224700\n",
       "Principado de Asturias   583   2.083333   95.308033\n",
       "Region de Murcia        1313   4.691967  100.000000"
      ]
     },
     "execution_count": 26,
     "metadata": {},
     "output_type": "execute_result"
    }
   ],
   "source": [
    "frec_ccaa\n"
   ]
  },
  {
   "cell_type": "code",
   "execution_count": 27,
   "metadata": {
    "collapsed": false
   },
   "outputs": [
    {
     "data": {
      "image/png": "[encoded data removed]",
      "text/plain": [
       "<matplotlib.figure.Figure at 0x110119c90>"
      ]
     },
     "metadata": {},
     "output_type": "display_data"
    }
   ],
   "source": [
    "ttl = u'Frecuencia Relativa (%) de declarantes en el IPRF 2010, por CCAA.\\nTramos:' + str(tramos)\n",
    "# plot\n",
    "frec_ccaa.f.order(ascending=True).plot(kind='barh')\n",
    "\n",
    "# aspecto\n",
    "ax=plt.gca()\n",
    "ax.spines[\"top\"].set_visible(False)  \n",
    "ax.spines[\"bottom\"].set_visible(False)  \n",
    "ax.spines[\"right\"].set_visible(False)  \n",
    "ax.spines[\"left\"].set_visible(True)  \n",
    "\n",
    "# Las marcas de la derecha y la parte superior\n",
    "ax.get_xaxis().tick_bottom()\n",
    "ax.get_yaxis().tick_left()\n",
    "\n",
    "# titulo\n",
    "plt.title(ttl)\n",
    "\n",
    "# footnote\n",
    "plt.gcf().text(0, -0.04, \"%s\" % foot, fontsize=10, transform=(1,1))\n",
    "\n",
    "# guadar imagen\n",
    "plt.savefig('frec_relativa_dist_por_ccaa.png', bbox_inches='tight', dpi=150)"
   ]
  },
  {
   "cell_type": "code",
   "execution_count": 28,
   "metadata": {
    "collapsed": false,
    "scrolled": false
   },
   "outputs": [
    {
     "data": {
      "image/png": "[encoded data removed]",
      "text/plain": [
       "<matplotlib.figure.Figure at 0x11013cbd0>"
      ]
     },
     "metadata": {},
     "output_type": "display_data"
    }
   ],
   "source": [
    "ttl = u'ESPAÑA: Distribución de Declarantes en el IRPF 2010 de cada Comunidad Autónoma:'\n",
    "\n",
    "hist = d_ccaa_tramo.hist(by='ccaa', \n",
    "                         column='tramo', \n",
    "                         sharey=True, \n",
    "                         figsize=(20,10), \n",
    "                         normed=True)\n",
    "fig = plt.gcf()\n",
    "\n",
    "#TITLE\n",
    "fig.text(0.2, \n",
    "         0.95, \n",
    "         \"%s\" % ttl, \n",
    "         fontsize=14, \n",
    "         transform=(1,1))\n",
    "#FOOTNOTE\n",
    "fig.text(0.08, \n",
    "         0.0, \n",
    "         \"%s\" % foot, \n",
    "         fontsize=10, \n",
    "         transform=(1,1))\n",
    "#NOTE\n",
    "fig.text(.77, \n",
    "         .08, \n",
    "         nota, \n",
    "         fontsize=11)\n",
    "\n",
    "plt.savefig('hists_frec_relativa_dist_tramo_by_ccaa.png', bbox_inches='tight', dpi=150)"
   ]
  },
  {
   "cell_type": "code",
   "execution_count": 29,
   "metadata": {
    "collapsed": false
   },
   "outputs": [
    {
     "data": {
      "image/png": "[encoded data removed]",
      "text/plain": [
       "<matplotlib.figure.Figure at 0x10f7e89d0>"
      ]
     },
     "metadata": {},
     "output_type": "display_data"
    }
   ],
   "source": [
    "ttl = u'Declarantes en el IPRF 2010, con rentas superiores a 60000 Euros, por CCAA'\n",
    "ccaa = dpob.ccaa.unique()\n",
    "d = dict()\n",
    "for ca in ccaa:\n",
    "    d[ca] = d_ccaa_tramo[(d_ccaa_tramo.tramo > 7) & (d_ccaa_tramo.ccaa == ca)].ccaa.count()\n",
    "\n",
    "d = DataFrame(d, index=['Declarantes']).T\n",
    "d.Declarantes.order(ascending=True).plot(kind='barh')\n",
    "plt.suptitle(ttl, fontsize=14)\n",
    "\n",
    "# GUARDAR IMAGEN Y TEXTO\n",
    "#plt.gcf().text(0.2, 1, \"%s\" % ttl, fontsize=14, transform=(100,100))\n",
    "\n",
    "# footnote\n",
    "plt.gcf().text(0, -.04, \"%s\" % foot, fontsize=10, transform=(100,100))\n",
    "\n",
    "# Quitar las líneas del marco del eje.\n",
    "ax = plt.gca()\n",
    "ax.spines[\"top\"].set_visible(False)  \n",
    "ax.spines[\"bottom\"].set_visible(False)  \n",
    "ax.spines[\"right\"].set_visible(False)  \n",
    "ax.spines[\"left\"].set_visible(True)  \n",
    "\n",
    "# Asegurarse de dejar sólo las marcas de la izquierda y abajo.\n",
    "# Las marcas de la derecha y la parte superior del gráfico son generalmente basura innecesaria de la tabla.\n",
    "ax.get_xaxis().tick_bottom()\n",
    "ax.get_yaxis().tick_left()\n",
    "\n",
    "\n",
    "\n",
    "plt.savefig('seaborn_hist_dist_tramo_by_ccaa.png', bbox_inches='tight', dpi=150)"
   ]
  },
  {
   "cell_type": "code",
   "execution_count": 30,
   "metadata": {
    "collapsed": false
   },
   "outputs": [
    {
     "data": {
      "text/html": [
       "<div>\n",
       "<table border=\"1\" class=\"dataframe\">\n",
       "  <thead>\n",
       "    <tr style=\"text-align: right;\">\n",
       "      <th></th>\n",
       "      <th>Declarantes</th>\n",
       "    </tr>\n",
       "  </thead>\n",
       "  <tbody>\n",
       "    <tr>\n",
       "      <th>Andalucia</th>\n",
       "      <td>12917</td>\n",
       "    </tr>\n",
       "    <tr>\n",
       "      <th>Aragon</th>\n",
       "      <td>2569</td>\n",
       "    </tr>\n",
       "    <tr>\n",
       "      <th>Canarias</th>\n",
       "      <td>1924</td>\n",
       "    </tr>\n",
       "    <tr>\n",
       "      <th>Cantabria</th>\n",
       "      <td>1284</td>\n",
       "    </tr>\n",
       "    <tr>\n",
       "      <th>Castilla y Leon</th>\n",
       "      <td>8576</td>\n",
       "    </tr>\n",
       "  </tbody>\n",
       "</table>\n",
       "</div>"
      ],
      "text/plain": [
       "                 Declarantes\n",
       "Andalucia              12917\n",
       "Aragon                  2569\n",
       "Canarias                1924\n",
       "Cantabria               1284\n",
       "Castilla y Leon         8576"
      ]
     },
     "execution_count": 30,
     "metadata": {},
     "output_type": "execute_result"
    }
   ],
   "source": [
    "d.head()"
   ]
  },
  {
   "cell_type": "markdown",
   "metadata": {
    "collapsed": true
   },
   "source": [
    "# ¿Qué CCAA tienen mayores ingresos?\n",
    "\n",
    "Cuota Líquida total, nos dice lo que los declarantes pagan por los bienes y servicios que provee el Estado. Por tanto, nuestra variable será c720 + c721 = CUOTA LIQUIDA TOTAL, que tendremos que crear."
   ]
  },
  {
   "cell_type": "code",
   "execution_count": 31,
   "metadata": {
    "collapsed": false
   },
   "outputs": [
    {
     "data": {
      "text/plain": [
       "0    124123.400872\n",
       "1     81862.870338\n",
       "2     72911.507357\n",
       "3     14648.768222\n",
       "4      8855.957568\n",
       "Name: cltotal, dtype: float64"
      ]
     },
     "execution_count": 31,
     "metadata": {},
     "output_type": "execute_result"
    }
   ],
   "source": [
    "dpob['cltotal'] = dpob.c720 + dpob.c721\n",
    "dpob.cltotal.head() # ver la serie creada."
   ]
  },
  {
   "cell_type": "code",
   "execution_count": null,
   "metadata": {
    "collapsed": true
   },
   "outputs": [],
   "source": []
  },
  {
   "cell_type": "code",
   "execution_count": 32,
   "metadata": {
    "collapsed": false
   },
   "outputs": [
    {
     "data": {
      "text/html": [
       "<div>\n",
       "<table border=\"1\" class=\"dataframe\">\n",
       "  <thead>\n",
       "    <tr style=\"text-align: right;\">\n",
       "      <th></th>\n",
       "      <th>ccaa</th>\n",
       "      <th>tramo</th>\n",
       "      <th>c698</th>\n",
       "      <th>c699</th>\n",
       "      <th>marcafuente</th>\n",
       "      <th>factor</th>\n",
       "      <th>fechappal</th>\n",
       "      <th>sexoppal</th>\n",
       "      <th>tipotributacion</th>\n",
       "      <th>categoriadecla</th>\n",
       "      <th>...</th>\n",
       "      <th>c465</th>\n",
       "      <th>c620</th>\n",
       "      <th>c630</th>\n",
       "      <th>c679</th>\n",
       "      <th>c698.1</th>\n",
       "      <th>c699.1</th>\n",
       "      <th>c720</th>\n",
       "      <th>c721</th>\n",
       "      <th>c732</th>\n",
       "      <th>cltotal</th>\n",
       "    </tr>\n",
       "  </thead>\n",
       "  <tbody>\n",
       "    <tr>\n",
       "      <th>0</th>\n",
       "      <td>Comunidad de Madrid</td>\n",
       "      <td>8</td>\n",
       "      <td>10327.85</td>\n",
       "      <td>10197.63</td>\n",
       "      <td>0</td>\n",
       "      <td>10.164443</td>\n",
       "      <td>19600124</td>\n",
       "      <td>1</td>\n",
       "      <td>I</td>\n",
       "      <td>4</td>\n",
       "      <td>...</td>\n",
       "      <td>472.849889</td>\n",
       "      <td>713262.548221</td>\n",
       "      <td>472.849889</td>\n",
       "      <td>111971.504308</td>\n",
       "      <td>10497684.284411</td>\n",
       "      <td>10365322.907404</td>\n",
       "      <td>62723.456499</td>\n",
       "      <td>61399.944373</td>\n",
       "      <td>124123.400872</td>\n",
       "      <td>124123.400872</td>\n",
       "    </tr>\n",
       "    <tr>\n",
       "      <th>1</th>\n",
       "      <td>Andalucia</td>\n",
       "      <td>9</td>\n",
       "      <td>40866.01</td>\n",
       "      <td>40866.01</td>\n",
       "      <td>0</td>\n",
       "      <td>1.006695</td>\n",
       "      <td>19520412</td>\n",
       "      <td>1</td>\n",
       "      <td>I</td>\n",
       "      <td>4</td>\n",
       "      <td>...</td>\n",
       "      <td>9812.344760</td>\n",
       "      <td>206360.936315</td>\n",
       "      <td>9812.344760</td>\n",
       "      <td>6109.630705</td>\n",
       "      <td>4113959.951855</td>\n",
       "      <td>4113959.951855</td>\n",
       "      <td>40931.435169</td>\n",
       "      <td>40931.435169</td>\n",
       "      <td>81862.870338</td>\n",
       "      <td>81862.870338</td>\n",
       "    </tr>\n",
       "    <tr>\n",
       "      <th>2</th>\n",
       "      <td>Region de Murcia</td>\n",
       "      <td>5</td>\n",
       "      <td>728.71</td>\n",
       "      <td>728.71</td>\n",
       "      <td>1</td>\n",
       "      <td>50.027794</td>\n",
       "      <td>19540408</td>\n",
       "      <td>1</td>\n",
       "      <td>C</td>\n",
       "      <td>3</td>\n",
       "      <td>...</td>\n",
       "      <td>26067.982557</td>\n",
       "      <td>540857.983806</td>\n",
       "      <td>26067.982557</td>\n",
       "      <td>257693.166276</td>\n",
       "      <td>3645575.367829</td>\n",
       "      <td>3645575.367829</td>\n",
       "      <td>36455.753678</td>\n",
       "      <td>36455.753678</td>\n",
       "      <td>72911.507357</td>\n",
       "      <td>72911.507357</td>\n",
       "    </tr>\n",
       "    <tr>\n",
       "      <th>3</th>\n",
       "      <td>Castilla y Leon</td>\n",
       "      <td>6</td>\n",
       "      <td>1146.57</td>\n",
       "      <td>1146.57</td>\n",
       "      <td>0</td>\n",
       "      <td>15.569221</td>\n",
       "      <td>19650716</td>\n",
       "      <td>2</td>\n",
       "      <td>C</td>\n",
       "      <td>2</td>\n",
       "      <td>...</td>\n",
       "      <td>5051.122220</td>\n",
       "      <td>253544.133725</td>\n",
       "      <td>5051.122220</td>\n",
       "      <td>108782.143913</td>\n",
       "      <td>1785120.119455</td>\n",
       "      <td>1785120.119455</td>\n",
       "      <td>7324.384111</td>\n",
       "      <td>7324.384111</td>\n",
       "      <td>14648.768222</td>\n",
       "      <td>14648.768222</td>\n",
       "    </tr>\n",
       "    <tr>\n",
       "      <th>4</th>\n",
       "      <td>Comunidad de Madrid</td>\n",
       "      <td>5</td>\n",
       "      <td>84.05</td>\n",
       "      <td>84.05</td>\n",
       "      <td>1</td>\n",
       "      <td>52.682674</td>\n",
       "      <td>19330422</td>\n",
       "      <td>1</td>\n",
       "      <td>C</td>\n",
       "      <td>3</td>\n",
       "      <td>...</td>\n",
       "      <td>238448.106301</td>\n",
       "      <td>294478.237843</td>\n",
       "      <td>238448.106301</td>\n",
       "      <td>486313.767479</td>\n",
       "      <td>442797.878416</td>\n",
       "      <td>442797.878416</td>\n",
       "      <td>4427.978784</td>\n",
       "      <td>4427.978784</td>\n",
       "      <td>8855.957568</td>\n",
       "      <td>8855.957568</td>\n",
       "    </tr>\n",
       "  </tbody>\n",
       "</table>\n",
       "<p>5 rows × 25 columns</p>\n",
       "</div>"
      ],
      "text/plain": [
       "                  ccaa  tramo      c698      c699  marcafuente     factor  \\\n",
       "0  Comunidad de Madrid      8  10327.85  10197.63            0  10.164443   \n",
       "1            Andalucia      9  40866.01  40866.01            0   1.006695   \n",
       "2     Region de Murcia      5    728.71    728.71            1  50.027794   \n",
       "3      Castilla y Leon      6   1146.57   1146.57            0  15.569221   \n",
       "4  Comunidad de Madrid      5     84.05     84.05            1  52.682674   \n",
       "\n",
       "   fechappal  sexoppal tipotributacion  categoriadecla      ...        \\\n",
       "0   19600124         1               I               4      ...         \n",
       "1   19520412         1               I               4      ...         \n",
       "2   19540408         1               C               3      ...         \n",
       "3   19650716         2               C               2      ...         \n",
       "4   19330422         1               C               3      ...         \n",
       "\n",
       "            c465           c620           c630           c679  \\\n",
       "0     472.849889  713262.548221     472.849889  111971.504308   \n",
       "1    9812.344760  206360.936315    9812.344760    6109.630705   \n",
       "2   26067.982557  540857.983806   26067.982557  257693.166276   \n",
       "3    5051.122220  253544.133725    5051.122220  108782.143913   \n",
       "4  238448.106301  294478.237843  238448.106301  486313.767479   \n",
       "\n",
       "            c698.1           c699.1          c720          c721  \\\n",
       "0  10497684.284411  10365322.907404  62723.456499  61399.944373   \n",
       "1   4113959.951855   4113959.951855  40931.435169  40931.435169   \n",
       "2   3645575.367829   3645575.367829  36455.753678  36455.753678   \n",
       "3   1785120.119455   1785120.119455   7324.384111   7324.384111   \n",
       "4    442797.878416    442797.878416   4427.978784   4427.978784   \n",
       "\n",
       "            c732        cltotal  \n",
       "0  124123.400872  124123.400872  \n",
       "1   81862.870338   81862.870338  \n",
       "2   72911.507357   72911.507357  \n",
       "3   14648.768222   14648.768222  \n",
       "4    8855.957568    8855.957568  \n",
       "\n",
       "[5 rows x 25 columns]"
      ]
     },
     "execution_count": 32,
     "metadata": {},
     "output_type": "execute_result"
    }
   ],
   "source": [
    "dpob.head()"
   ]
  },
  {
   "cell_type": "code",
   "execution_count": 33,
   "metadata": {
    "collapsed": false
   },
   "outputs": [
    {
     "data": {
      "image/png": "[encoded data removed]",
      "text/plain": [
       "<matplotlib.figure.Figure at 0x10b238850>"
      ]
     },
     "metadata": {},
     "output_type": "display_data"
    }
   ],
   "source": [
    "#tot_count = dpob.ccaa[dpob.tramo > 7].count()\n",
    "\n",
    "dpob.groupby(['tramo']).cltotal.sum().order(ascending=True).plot(kind='barh')\n",
    "plt.tight_layout()\n",
    "\n",
    "# GUARDAR IMAGEN Y TEXTO\n",
    "ttl = u'ESPAÑA: Cuotas Satisfechas por Declarantes en el IRPF 2010, por tramo.'\n",
    "#plt.gcf().text(0.2, 1, \"%s\" % ttl, fontsize=14, transform=(1,1))\n",
    "plt.gcf().text(0, -0.05, \"%s\" % foot, fontsize=10, transform=(1,1))\n",
    "\n",
    "\n",
    "# Quitar las líneas del marco del eje.\n",
    "ax = plt.gca()  \n",
    "ax.spines[\"top\"].set_visible(False)  \n",
    "ax.spines[\"bottom\"].set_visible(False)  \n",
    "ax.spines[\"right\"].set_visible(False)  \n",
    "ax.spines[\"left\"].set_visible(True)  \n",
    "\n",
    "\n",
    "# Las marcas de la derecha y la parte superior del gráfico\n",
    "ax.get_xaxis().tick_bottom()\n",
    "ax.get_yaxis().tick_left()\n",
    "ax.set_title(ttl)\n",
    "ax.set_xlabel('')\n",
    "\n",
    "plt.savefig('sum_ascending_cuota_by_tramo.png', bbox_inches='tight', dpi=150)\n"
   ]
  },
  {
   "cell_type": "code",
   "execution_count": 34,
   "metadata": {
    "collapsed": false
   },
   "outputs": [
    {
     "data": {
      "image/png": "[encoded data removed]",
      "text/plain": [
       "<matplotlib.figure.Figure at 0x10f716590>"
      ]
     },
     "metadata": {},
     "output_type": "display_data"
    }
   ],
   "source": [
    "ccaa = dpob.ccaa.unique()\n",
    "ccaa_cltotal = dict()\n",
    "for ca in ccaa:\n",
    "    ccaa_cltotal[ca] = dpob.cltotal[dpob.ccaa == ca].sum()\n",
    "\n",
    "ccaa_cltotal = DataFrame(ccaa_cltotal, index=['cltotal']).T\n",
    "\n",
    "ccaa_cltotal.cltotal.order(ascending=True).plot(kind='barh')\n",
    "\n",
    "\n",
    "plt.tight_layout()\n",
    "\n",
    "# GUARDAR IMAGEN Y TEXTO\n",
    "ttl = u'ESPAÑA: Cuotas Satisfechas por Declarantes en el IRPF 2010, por CCAA.'\n",
    "#plt.gcf().text(0.2, 1, \"%s\" % ttl, fontsize=14, transform=(1,1))\n",
    "plt.gcf().text(0, -0.05, \"%s\" % foot, fontsize=10, transform=(1,1))\n",
    "\n",
    "\n",
    "# Quitar las líneas del marco del eje.\n",
    "ax = plt.gca()  \n",
    "ax.spines[\"top\"].set_visible(False)  \n",
    "ax.spines[\"bottom\"].set_visible(False)  \n",
    "ax.spines[\"right\"].set_visible(False)  \n",
    "ax.spines[\"left\"].set_visible(True)  \n",
    "\n",
    "\n",
    "# Las marcas de la derecha y la parte superior del gráfico\n",
    "ax.get_xaxis().tick_bottom()\n",
    "ax.get_yaxis().tick_left()\n",
    "ax.set_title(ttl)\n",
    "ax.set_xlabel('')\n",
    "\n",
    "plt.savefig('sum_ascending_cuota_by_ccaa3.png', bbox_inches='tight', dpi=150)\n"
   ]
  },
  {
   "cell_type": "markdown",
   "metadata": {},
   "source": [
    "# ¿Cuanto va para el estado y cuando para la CA?"
   ]
  },
  {
   "cell_type": "code",
   "execution_count": 35,
   "metadata": {
    "collapsed": false
   },
   "outputs": [
    {
     "data": {
      "image/png": "[encoded data removed]",
      "text/plain": [
       "<matplotlib.figure.Figure at 0x10e30bf10>"
      ]
     },
     "metadata": {},
     "output_type": "display_data"
    }
   ],
   "source": [
    "ccaa_cl = dict()\n",
    "for ca in ccaa:\n",
    "    ccaa_cl[ca] = [dpob.c720[dpob.ccaa == ca].sum(),\n",
    "                   dpob.c721[dpob.ccaa == ca].sum()]\n",
    "\n",
    "ccaa_cl = DataFrame(ccaa_cl, index=['cl_estado', 'cl_ca']).T\n",
    "ccaa_cl.sort('cl_estado', inplace=True, ascending=True)\n",
    "ccaa_cl.plot(kind='barh', figsize=(7,7))\n",
    "ax = plt.gca()\n",
    "plt.tight_layout()\n",
    "\n",
    "# GUARDAR IMAGEN Y TEXTO\n",
    "ttl = u'ESPAÑA: Cuotas Satisfechas por Declarantes en el IRPF 2010, por tramo y CCAA.'\n",
    "plt.gcf().text(0, -0.02, \"%s\" % foot, fontsize=10, transform=(1,1))\n",
    "ax.set_title(ttl, fontsize=14)\n",
    "\n",
    "# Quitar las líneas del marco del eje.\n",
    "ax.spines[\"top\"].set_visible(False)  \n",
    "ax.spines[\"bottom\"].set_visible(False)  \n",
    "ax.spines[\"right\"].set_visible(False)  \n",
    "ax.spines[\"left\"].set_visible(True)  \n",
    "\n",
    "\n",
    "# Las marcas de la derecha y la parte superior del gráfico\n",
    "ax.get_xaxis().tick_bottom()\n",
    "ax.get_yaxis().tick_left()\n",
    "ax.set_xlabel('')\n",
    "\n",
    "plt.legend(['CL Estado', 'CL CA'], fontsize=12, loc='center left', bbox_to_anchor=(1, 0.5))\n",
    "plt.savefig('sum_ascending_cuota_liquida_estado_ca_by_ccaa.png', bbox_inches='tight', dpi=150)"
   ]
  },
  {
   "cell_type": "markdown",
   "metadata": {},
   "source": [
    "# ANÁLISIS DE PROGRESIVIDAD\n",
    "\n",
    "## PROGRESIVIDAD LOCAL:\n",
    "\n",
    "INDICES: \n",
    "- LP\n",
    "- ARP\n",
    "\n",
    "VARIABLES: \n",
    "- BASE IMPONIBLE\n",
    "- CUOTA LÍQUIDA\n",
    "- TIPO MARGINAL\n",
    "- TIPO MEDIO"
   ]
  },
  {
   "cell_type": "code",
   "execution_count": 36,
   "metadata": {
    "collapsed": false
   },
   "outputs": [],
   "source": [
    "dprog = dpob[['tramo',\n",
    "            'ccaa',\n",
    "            'sexoppal',\n",
    "            'categoriadecla',\n",
    "            'c455',  # BI general\n",
    "            'c720',  # CL estatal\n",
    "            'c721']]  # CL CA"
   ]
  },
  {
   "cell_type": "code",
   "execution_count": 37,
   "metadata": {
    "collapsed": false,
    "scrolled": false
   },
   "outputs": [
    {
     "data": {
      "text/html": [
       "<div>\n",
       "<table border=\"1\" class=\"dataframe\">\n",
       "  <thead>\n",
       "    <tr style=\"text-align: right;\">\n",
       "      <th></th>\n",
       "      <th>Descripcion</th>\n",
       "    </tr>\n",
       "  </thead>\n",
       "  <tbody>\n",
       "    <tr>\n",
       "      <th>c17</th>\n",
       "      <td>RENDIMIENTOS DEL TRABAJO: REDUCCIÓN CON CARÁ...</td>\n",
       "    </tr>\n",
       "    <tr>\n",
       "      <th>c455</th>\n",
       "      <td>BASE IMPONIBLE GENERAL (450 ­ 451 + 452 ­ 453 ...</td>\n",
       "    </tr>\n",
       "    <tr>\n",
       "      <th>c465</th>\n",
       "      <td>BASE IMPONIBLE DEL AHORRO (457 ­ 458 + 460 ­ 461)</td>\n",
       "    </tr>\n",
       "    <tr>\n",
       "      <th>c620</th>\n",
       "      <td>BASE LIQUIDABLE GENERAL SOMETIDA A GRAVAMEN. (...</td>\n",
       "    </tr>\n",
       "    <tr>\n",
       "      <th>c630</th>\n",
       "      <td>BASE LIQUIDABLE DEL AHORRO (465 ­ 621 ­ 622 ­ ...</td>\n",
       "    </tr>\n",
       "    <tr>\n",
       "      <th>c679</th>\n",
       "      <td>MÍNIMO PERSONAL Y FAMILIAR (675 + 676 + 677 +...</td>\n",
       "    </tr>\n",
       "    <tr>\n",
       "      <th>c689</th>\n",
       "      <td>APLICACIÓN DE LAS ESCALAS DEL IMPUESTO AL IMPO...</td>\n",
       "    </tr>\n",
       "    <tr>\n",
       "      <th>c690</th>\n",
       "      <td>APLICACIÓN DE LAS ESCALAS DEL IMPUESTO AL IMPO...</td>\n",
       "    </tr>\n",
       "    <tr>\n",
       "      <th>c698</th>\n",
       "      <td>CUOTAS INTEGRAS (693 + 696) (Parte Estatal)</td>\n",
       "    </tr>\n",
       "    <tr>\n",
       "      <th>c699</th>\n",
       "      <td>CUOTAS INTEGRAS (694 + 697) (Parte Autonómica)</td>\n",
       "    </tr>\n",
       "    <tr>\n",
       "      <th>c720</th>\n",
       "      <td>CUOTA LIQUIDA ESTATAL ( 698 - 700 - 702 - 704 ...</td>\n",
       "    </tr>\n",
       "    <tr>\n",
       "      <th>c721</th>\n",
       "      <td>CUOTA LIQUIDA AUTONOMICA ( 699 - 701 - 703 - 7...</td>\n",
       "    </tr>\n",
       "    <tr>\n",
       "      <th>c732</th>\n",
       "      <td>CUOTA LIQUIDA INCREMENTADA TOTAL. ( 730 + 731 )</td>\n",
       "    </tr>\n",
       "    <tr>\n",
       "      <th>categoriadecla</th>\n",
       "      <td>Variable creada para recoger las posibles comb...</td>\n",
       "    </tr>\n",
       "    <tr>\n",
       "      <th>ccaa</th>\n",
       "      <td>Código que identifica la Comunidad Autónoma ...</td>\n",
       "    </tr>\n",
       "    <tr>\n",
       "      <th>factor</th>\n",
       "      <td>Factor de elevación poblacional de la observa...</td>\n",
       "    </tr>\n",
       "    <tr>\n",
       "      <th>fechappal</th>\n",
       "      <td>Indica la fecha de nacimiento del primer decla...</td>\n",
       "    </tr>\n",
       "    <tr>\n",
       "      <th>ingresostrabajo</th>\n",
       "      <td>Recoge la renta que proviene de los ingresos i...</td>\n",
       "    </tr>\n",
       "    <tr>\n",
       "      <th>marcafuente</th>\n",
       "      <td>Esta variable es creada para la estratificacio...</td>\n",
       "    </tr>\n",
       "    <tr>\n",
       "      <th>minimosdecla</th>\n",
       "      <td>Variable creada para recoger la aplicación de...</td>\n",
       "    </tr>\n",
       "    <tr>\n",
       "      <th>rentamuestreo</th>\n",
       "      <td>Variable de renta utilizada en el muestreo. Cr...</td>\n",
       "    </tr>\n",
       "    <tr>\n",
       "      <th>sexoppal</th>\n",
       "      <td>Sexo del declarante principal. Toma valor 1 pa...</td>\n",
       "    </tr>\n",
       "    <tr>\n",
       "      <th>tipotributacion</th>\n",
       "      <td>Indica el régimen tributario al que pertenece...</td>\n",
       "    </tr>\n",
       "    <tr>\n",
       "      <th>tramo</th>\n",
       "      <td>Esta variable es creada para la estratificacio...</td>\n",
       "    </tr>\n",
       "  </tbody>\n",
       "</table>\n",
       "</div>"
      ],
      "text/plain": [
       "                                                       Descripcion\n",
       "c17              RENDIMIENTOS DEL TRABAJO: REDUCCIÓN CON CARÁ...\n",
       "c455             BASE IMPONIBLE GENERAL (450 ­ 451 + 452 ­ 453 ...\n",
       "c465             BASE IMPONIBLE DEL AHORRO (457 ­ 458 + 460 ­ 461)\n",
       "c620             BASE LIQUIDABLE GENERAL SOMETIDA A GRAVAMEN. (...\n",
       "c630             BASE LIQUIDABLE DEL AHORRO (465 ­ 621 ­ 622 ­ ...\n",
       "c679             MÍNIMO PERSONAL Y FAMILIAR (675 + 676 + 677 +...\n",
       "c689             APLICACIÓN DE LAS ESCALAS DEL IMPUESTO AL IMPO...\n",
       "c690             APLICACIÓN DE LAS ESCALAS DEL IMPUESTO AL IMPO...\n",
       "c698                   CUOTAS INTEGRAS (693 + 696) (Parte Estatal)\n",
       "c699               CUOTAS INTEGRAS (694 + 697) (Parte Autonómica)\n",
       "c720             CUOTA LIQUIDA ESTATAL ( 698 - 700 - 702 - 704 ...\n",
       "c721             CUOTA LIQUIDA AUTONOMICA ( 699 - 701 - 703 - 7...\n",
       "c732               CUOTA LIQUIDA INCREMENTADA TOTAL. ( 730 + 731 )\n",
       "categoriadecla   Variable creada para recoger las posibles comb...\n",
       "ccaa             Código que identifica la Comunidad Autónoma ...\n",
       "factor           Factor de elevación poblacional de la observa...\n",
       "fechappal        Indica la fecha de nacimiento del primer decla...\n",
       "ingresostrabajo  Recoge la renta que proviene de los ingresos i...\n",
       "marcafuente      Esta variable es creada para la estratificacio...\n",
       "minimosdecla     Variable creada para recoger la aplicación de...\n",
       "rentamuestreo    Variable de renta utilizada en el muestreo. Cr...\n",
       "sexoppal         Sexo del declarante principal. Toma valor 1 pa...\n",
       "tipotributacion  Indica el régimen tributario al que pertenece...\n",
       "tramo            Esta variable es creada para la estratificacio..."
      ]
     },
     "execution_count": 37,
     "metadata": {},
     "output_type": "execute_result"
    }
   ],
   "source": [
    "def info_variables():\n",
    "    d = DataFrame(info, index=['Descripcion']).T\n",
    "    return d\n",
    "info_variables()"
   ]
  },
  {
   "cell_type": "code",
   "execution_count": 38,
   "metadata": {
    "collapsed": false
   },
   "outputs": [
    {
     "name": "stderr",
     "output_type": "stream",
     "text": [
      "/Users/mmngreco/anaconda/lib/python2.7/site-packages/pandas/core/frame.py:2524: SettingWithCopyWarning: \n",
      "A value is trying to be set on a copy of a slice from a DataFrame\n",
      "\n",
      "See the the caveats in the documentation: http://pandas.pydata.org/pandas-docs/stable/indexing.html#indexing-view-versus-copy\n",
      "  **kwargs)\n"
     ]
    },
    {
     "data": {
      "text/html": [
       "<div>\n",
       "<table border=\"1\" class=\"dataframe\">\n",
       "  <thead>\n",
       "    <tr style=\"text-align: right;\">\n",
       "      <th></th>\n",
       "      <th>tramo</th>\n",
       "      <th>ccaa</th>\n",
       "      <th>sexoppal</th>\n",
       "      <th>categoriadecla</th>\n",
       "      <th>BI</th>\n",
       "      <th>CLe</th>\n",
       "      <th>CLca</th>\n",
       "    </tr>\n",
       "  </thead>\n",
       "  <tbody>\n",
       "    <tr>\n",
       "      <th>0</th>\n",
       "      <td>8</td>\n",
       "      <td>Comunidad de Madrid</td>\n",
       "      <td>1</td>\n",
       "      <td>4</td>\n",
       "      <td>713262.548221</td>\n",
       "      <td>62723.456499</td>\n",
       "      <td>61399.944373</td>\n",
       "    </tr>\n",
       "    <tr>\n",
       "      <th>1</th>\n",
       "      <td>9</td>\n",
       "      <td>Andalucia</td>\n",
       "      <td>1</td>\n",
       "      <td>4</td>\n",
       "      <td>220958.010828</td>\n",
       "      <td>40931.435169</td>\n",
       "      <td>40931.435169</td>\n",
       "    </tr>\n",
       "    <tr>\n",
       "      <th>2</th>\n",
       "      <td>5</td>\n",
       "      <td>Region de Murcia</td>\n",
       "      <td>1</td>\n",
       "      <td>3</td>\n",
       "      <td>710952.482998</td>\n",
       "      <td>36455.753678</td>\n",
       "      <td>36455.753678</td>\n",
       "    </tr>\n",
       "    <tr>\n",
       "      <th>3</th>\n",
       "      <td>6</td>\n",
       "      <td>Castilla y Leon</td>\n",
       "      <td>2</td>\n",
       "      <td>2</td>\n",
       "      <td>287017.957886</td>\n",
       "      <td>7324.384111</td>\n",
       "      <td>7324.384111</td>\n",
       "    </tr>\n",
       "    <tr>\n",
       "      <th>4</th>\n",
       "      <td>5</td>\n",
       "      <td>Comunidad de Madrid</td>\n",
       "      <td>1</td>\n",
       "      <td>3</td>\n",
       "      <td>473599.330837</td>\n",
       "      <td>4427.978784</td>\n",
       "      <td>4427.978784</td>\n",
       "    </tr>\n",
       "  </tbody>\n",
       "</table>\n",
       "</div>"
      ],
      "text/plain": [
       "   tramo                 ccaa  sexoppal  categoriadecla             BI  \\\n",
       "0      8  Comunidad de Madrid         1               4  713262.548221   \n",
       "1      9            Andalucia         1               4  220958.010828   \n",
       "2      5     Region de Murcia         1               3  710952.482998   \n",
       "3      6      Castilla y Leon         2               2  287017.957886   \n",
       "4      5  Comunidad de Madrid         1               3  473599.330837   \n",
       "\n",
       "            CLe          CLca  \n",
       "0  62723.456499  61399.944373  \n",
       "1  40931.435169  40931.435169  \n",
       "2  36455.753678  36455.753678  \n",
       "3   7324.384111   7324.384111  \n",
       "4   4427.978784   4427.978784  "
      ]
     },
     "execution_count": 38,
     "metadata": {},
     "output_type": "execute_result"
    }
   ],
   "source": [
    "dprog.rename(columns={'c455': 'BI',\n",
    "                      'c720': 'CLe',\n",
    "                      'c721': 'CLca'},\n",
    "            inplace=True)\n",
    "\n",
    "dprog.head()"
   ]
  },
  {
   "cell_type": "code",
   "execution_count": 39,
   "metadata": {
    "collapsed": false
   },
   "outputs": [
    {
     "name": "stderr",
     "output_type": "stream",
     "text": [
      "/Users/mmngreco/anaconda/lib/python2.7/site-packages/IPython/kernel/__main__.py:1: SettingWithCopyWarning: \n",
      "A value is trying to be set on a copy of a slice from a DataFrame.\n",
      "Try using .loc[row_indexer,col_indexer] = value instead\n",
      "\n",
      "See the the caveats in the documentation: http://pandas.pydata.org/pandas-docs/stable/indexing.html#indexing-view-versus-copy\n",
      "  if __name__ == '__main__':\n"
     ]
    }
   ],
   "source": [
    "dprog['CLtotal'] = dprog[['CLe', 'CLca']].sum(axis=1)"
   ]
  },
  {
   "cell_type": "code",
   "execution_count": 40,
   "metadata": {
    "collapsed": false
   },
   "outputs": [
    {
     "data": {
      "text/html": [
       "<div>\n",
       "<table border=\"1\" class=\"dataframe\">\n",
       "  <thead>\n",
       "    <tr style=\"text-align: right;\">\n",
       "      <th></th>\n",
       "      <th>tramo</th>\n",
       "      <th>ccaa</th>\n",
       "      <th>sexoppal</th>\n",
       "      <th>categoriadecla</th>\n",
       "      <th>BI</th>\n",
       "      <th>CLe</th>\n",
       "      <th>CLca</th>\n",
       "      <th>CLtotal</th>\n",
       "    </tr>\n",
       "  </thead>\n",
       "  <tbody>\n",
       "    <tr>\n",
       "      <th>0</th>\n",
       "      <td>8</td>\n",
       "      <td>Comunidad de Madrid</td>\n",
       "      <td>1</td>\n",
       "      <td>4</td>\n",
       "      <td>713262.548221</td>\n",
       "      <td>62723.456499</td>\n",
       "      <td>61399.944373</td>\n",
       "      <td>124123.400872</td>\n",
       "    </tr>\n",
       "    <tr>\n",
       "      <th>1</th>\n",
       "      <td>9</td>\n",
       "      <td>Andalucia</td>\n",
       "      <td>1</td>\n",
       "      <td>4</td>\n",
       "      <td>220958.010828</td>\n",
       "      <td>40931.435169</td>\n",
       "      <td>40931.435169</td>\n",
       "      <td>81862.870338</td>\n",
       "    </tr>\n",
       "    <tr>\n",
       "      <th>2</th>\n",
       "      <td>5</td>\n",
       "      <td>Region de Murcia</td>\n",
       "      <td>1</td>\n",
       "      <td>3</td>\n",
       "      <td>710952.482998</td>\n",
       "      <td>36455.753678</td>\n",
       "      <td>36455.753678</td>\n",
       "      <td>72911.507357</td>\n",
       "    </tr>\n",
       "    <tr>\n",
       "      <th>3</th>\n",
       "      <td>6</td>\n",
       "      <td>Castilla y Leon</td>\n",
       "      <td>2</td>\n",
       "      <td>2</td>\n",
       "      <td>287017.957886</td>\n",
       "      <td>7324.384111</td>\n",
       "      <td>7324.384111</td>\n",
       "      <td>14648.768222</td>\n",
       "    </tr>\n",
       "    <tr>\n",
       "      <th>4</th>\n",
       "      <td>5</td>\n",
       "      <td>Comunidad de Madrid</td>\n",
       "      <td>1</td>\n",
       "      <td>3</td>\n",
       "      <td>473599.330837</td>\n",
       "      <td>4427.978784</td>\n",
       "      <td>4427.978784</td>\n",
       "      <td>8855.957568</td>\n",
       "    </tr>\n",
       "  </tbody>\n",
       "</table>\n",
       "</div>"
      ],
      "text/plain": [
       "   tramo                 ccaa  sexoppal  categoriadecla             BI  \\\n",
       "0      8  Comunidad de Madrid         1               4  713262.548221   \n",
       "1      9            Andalucia         1               4  220958.010828   \n",
       "2      5     Region de Murcia         1               3  710952.482998   \n",
       "3      6      Castilla y Leon         2               2  287017.957886   \n",
       "4      5  Comunidad de Madrid         1               3  473599.330837   \n",
       "\n",
       "            CLe          CLca        CLtotal  \n",
       "0  62723.456499  61399.944373  124123.400872  \n",
       "1  40931.435169  40931.435169   81862.870338  \n",
       "2  36455.753678  36455.753678   72911.507357  \n",
       "3   7324.384111   7324.384111   14648.768222  \n",
       "4   4427.978784   4427.978784    8855.957568  "
      ]
     },
     "execution_count": 40,
     "metadata": {},
     "output_type": "execute_result"
    }
   ],
   "source": [
    "dprog.head()"
   ]
  },
  {
   "cell_type": "code",
   "execution_count": 41,
   "metadata": {
    "collapsed": false
   },
   "outputs": [
    {
     "name": "stderr",
     "output_type": "stream",
     "text": [
      "/Users/mmngreco/anaconda/lib/python2.7/site-packages/IPython/kernel/__main__.py:1: SettingWithCopyWarning: \n",
      "A value is trying to be set on a copy of a slice from a DataFrame.\n",
      "Try using .loc[row_indexer,col_indexer] = value instead\n",
      "\n",
      "See the the caveats in the documentation: http://pandas.pydata.org/pandas-docs/stable/indexing.html#indexing-view-versus-copy\n",
      "  if __name__ == '__main__':\n"
     ]
    },
    {
     "data": {
      "text/html": [
       "<div>\n",
       "<table border=\"1\" class=\"dataframe\">\n",
       "  <thead>\n",
       "    <tr style=\"text-align: right;\">\n",
       "      <th></th>\n",
       "      <th>tramo</th>\n",
       "      <th>ccaa</th>\n",
       "      <th>sexoppal</th>\n",
       "      <th>categoriadecla</th>\n",
       "      <th>BI</th>\n",
       "      <th>CLe</th>\n",
       "      <th>CLca</th>\n",
       "      <th>CLtotal</th>\n",
       "      <th>tipomedio</th>\n",
       "    </tr>\n",
       "  </thead>\n",
       "  <tbody>\n",
       "    <tr>\n",
       "      <th>0</th>\n",
       "      <td>8</td>\n",
       "      <td>Comunidad de Madrid</td>\n",
       "      <td>1</td>\n",
       "      <td>4</td>\n",
       "      <td>713262.548221</td>\n",
       "      <td>62723.456499</td>\n",
       "      <td>61399.944373</td>\n",
       "      <td>124123.400872</td>\n",
       "      <td>5.746399</td>\n",
       "    </tr>\n",
       "    <tr>\n",
       "      <th>1</th>\n",
       "      <td>9</td>\n",
       "      <td>Andalucia</td>\n",
       "      <td>1</td>\n",
       "      <td>4</td>\n",
       "      <td>220958.010828</td>\n",
       "      <td>40931.435169</td>\n",
       "      <td>40931.435169</td>\n",
       "      <td>81862.870338</td>\n",
       "      <td>2.699124</td>\n",
       "    </tr>\n",
       "    <tr>\n",
       "      <th>2</th>\n",
       "      <td>5</td>\n",
       "      <td>Region de Murcia</td>\n",
       "      <td>1</td>\n",
       "      <td>3</td>\n",
       "      <td>710952.482998</td>\n",
       "      <td>36455.753678</td>\n",
       "      <td>36455.753678</td>\n",
       "      <td>72911.507357</td>\n",
       "      <td>9.750895</td>\n",
       "    </tr>\n",
       "    <tr>\n",
       "      <th>3</th>\n",
       "      <td>6</td>\n",
       "      <td>Castilla y Leon</td>\n",
       "      <td>2</td>\n",
       "      <td>2</td>\n",
       "      <td>287017.957886</td>\n",
       "      <td>7324.384111</td>\n",
       "      <td>7324.384111</td>\n",
       "      <td>14648.768222</td>\n",
       "      <td>19.593317</td>\n",
       "    </tr>\n",
       "    <tr>\n",
       "      <th>4</th>\n",
       "      <td>5</td>\n",
       "      <td>Comunidad de Madrid</td>\n",
       "      <td>1</td>\n",
       "      <td>3</td>\n",
       "      <td>473599.330837</td>\n",
       "      <td>4427.978784</td>\n",
       "      <td>4427.978784</td>\n",
       "      <td>8855.957568</td>\n",
       "      <td>53.478049</td>\n",
       "    </tr>\n",
       "  </tbody>\n",
       "</table>\n",
       "</div>"
      ],
      "text/plain": [
       "   tramo                 ccaa  sexoppal  categoriadecla             BI  \\\n",
       "0      8  Comunidad de Madrid         1               4  713262.548221   \n",
       "1      9            Andalucia         1               4  220958.010828   \n",
       "2      5     Region de Murcia         1               3  710952.482998   \n",
       "3      6      Castilla y Leon         2               2  287017.957886   \n",
       "4      5  Comunidad de Madrid         1               3  473599.330837   \n",
       "\n",
       "            CLe          CLca        CLtotal  tipomedio  \n",
       "0  62723.456499  61399.944373  124123.400872   5.746399  \n",
       "1  40931.435169  40931.435169   81862.870338   2.699124  \n",
       "2  36455.753678  36455.753678   72911.507357   9.750895  \n",
       "3   7324.384111   7324.384111   14648.768222  19.593317  \n",
       "4   4427.978784   4427.978784    8855.957568  53.478049  "
      ]
     },
     "execution_count": 41,
     "metadata": {},
     "output_type": "execute_result"
    }
   ],
   "source": [
    "dprog['tipomedio'] = dprog.BI / dprog.CLtotal\n",
    "dprog.head()"
   ]
  },
  {
   "cell_type": "markdown",
   "metadata": {},
   "source": [
    "# Necesitamos los tipo de gravamen de cada ccaa para poder distinguir el tipo marginal. "
   ]
  },
  {
   "cell_type": "code",
   "execution_count": 42,
   "metadata": {
    "collapsed": false
   },
   "outputs": [],
   "source": [
    "ls = !ls"
   ]
  },
  {
   "cell_type": "code",
   "execution_count": 43,
   "metadata": {
    "collapsed": false
   },
   "outputs": [
    {
     "name": "stdout",
     "output_type": "stream",
     "text": [
      "['escala_Andalucia', 'escala_Araba', 'escala_Aragon', 'escala_BL_ccaa', 'escala_BL_estatal', 'escala_Bizkaia', 'escala_Canarias', 'escala_Cantabria', 'escala_Castilla La Mancha', 'escala_Castilla y Leon', 'escala_Catalunya', 'escala_Comunidad Valenciana', 'escala_Comunidad de Madrid', 'escala_Extremadura', 'escala_Galicia', 'escala_Gipuzkoa', 'escala_Islas Baleares', 'escala_La Rioja', 'escala_Navarra', 'escala_Principado de Asturias', 'escala_Region de Murcia']\n"
     ]
    }
   ],
   "source": [
    "escalas = list()\n",
    "\n",
    "for l in ls:\n",
    "    if not l.startswith(str('escala_')): continue\n",
    "    escalas.append(l)\n",
    "\n",
    "print escalas # comprobamos que se importaron los nombres de las tablas correctas"
   ]
  },
  {
   "cell_type": "code",
   "execution_count": 44,
   "metadata": {
    "collapsed": false
   },
   "outputs": [],
   "source": [
    "# cambiamos el nombre de las columnas de las tablas\n",
    "\n",
    "trans_escalas_columns = {'Base liquidable [Hasta euros]': 'BL',\n",
    "                         'Cuota Integra [euros]': 'CI',\n",
    "                         'Resto base liquidable [Hasta euros]': 'resto',\n",
    "                         'Tipo aplicable [Porcentaje]': 'tg'}"
   ]
  },
  {
   "cell_type": "code",
   "execution_count": 45,
   "metadata": {
    "collapsed": true
   },
   "outputs": [],
   "source": [
    "# importamos las tablas\n",
    "\n",
    "for e in escalas:\n",
    "    globals()[e] = pd.read_csv(e, index_col=0)\n",
    "    globals()[e].rename(columns=trans_escalas_columns, inplace=True)"
   ]
  },
  {
   "cell_type": "code",
   "execution_count": 46,
   "metadata": {
    "collapsed": false
   },
   "outputs": [
    {
     "data": {
      "text/html": [
       "<div>\n",
       "<table border=\"1\" class=\"dataframe\">\n",
       "  <thead>\n",
       "    <tr style=\"text-align: right;\">\n",
       "      <th></th>\n",
       "      <th>BL</th>\n",
       "      <th>CI</th>\n",
       "      <th>resto</th>\n",
       "      <th>tg</th>\n",
       "    </tr>\n",
       "  </thead>\n",
       "  <tbody>\n",
       "    <tr>\n",
       "      <th>0</th>\n",
       "      <td>0.0</td>\n",
       "      <td>0.00</td>\n",
       "      <td>17707.2</td>\n",
       "      <td>12.0</td>\n",
       "    </tr>\n",
       "    <tr>\n",
       "      <th>1</th>\n",
       "      <td>17707.2</td>\n",
       "      <td>2124.86</td>\n",
       "      <td>15300.0</td>\n",
       "      <td>14.0</td>\n",
       "    </tr>\n",
       "    <tr>\n",
       "      <th>2</th>\n",
       "      <td>33007.2</td>\n",
       "      <td>4266.86</td>\n",
       "      <td>20400.0</td>\n",
       "      <td>18.5</td>\n",
       "    </tr>\n",
       "    <tr>\n",
       "      <th>3</th>\n",
       "      <td>53407.2</td>\n",
       "      <td>8040.86</td>\n",
       "      <td>En adelante</td>\n",
       "      <td>21.5</td>\n",
       "    </tr>\n",
       "  </tbody>\n",
       "</table>\n",
       "</div>"
      ],
      "text/plain": [
       "        BL       CI        resto    tg\n",
       "0      0.0     0.00      17707.2  12.0\n",
       "1  17707.2  2124.86      15300.0  14.0\n",
       "2  33007.2  4266.86      20400.0  18.5\n",
       "3  53407.2  8040.86  En adelante  21.5"
      ]
     },
     "execution_count": 46,
     "metadata": {},
     "output_type": "execute_result"
    }
   ],
   "source": [
    "escala_Aragon # comprobamos"
   ]
  },
  {
   "cell_type": "markdown",
   "metadata": {},
   "source": [
    "# REFORMA IRPF:\n",
    "TIPOS Y ESCALAS:\n",
    "- 2015\n",
    "- 2016\n",
    "\n",
    "> http://www.agenciatributaria.es/AEAT.internet/Inicio_es_ES/La_Agencia_Tributaria/Campanas/_Campanas_/Impuesto_sobre_la_Renta_de_las_Personas_Fisicas__IRPF_/_INFORMACION/Reforma_Renta_2015/Tipos_y_escalas_de_gravamen/Tipos_y_escalas_de_gravamen.shtml\n",
    "\n",
    "## Escala aplicable en 2016:\n",
    "\n",
    "> http://www.agenciatributaria.es/AEAT.internet/Inicio_es_ES/La_Agencia_Tributaria/Campanas/_Campanas_/Impuesto_sobre_la_Renta_de_las_Personas_Fisicas__IRPF_/_INFORMACION/Reforma_Renta_2015/Tipos_y_escalas_de_gravamen/Escala_general_a_aplicar_a_partir_del_ejercicio_2016.shtml\n",
    "\n",
    "## Escalas 2015 de CCAA:\n",
    "\n",
    "> http://www.sbal.net/utilidades/tipo-de-gravamen-en-el-irpf/"
   ]
  },
  {
   "cell_type": "code",
   "execution_count": 47,
   "metadata": {
    "collapsed": true
   },
   "outputs": [],
   "source": [
    "def trans_decimal(x):\n",
    "    try:\n",
    "        return float(x.replace('.', '').replace(',', '.')) \n",
    "    except:\n",
    "        return x\n"
   ]
  },
  {
   "cell_type": "code",
   "execution_count": 48,
   "metadata": {
    "collapsed": false
   },
   "outputs": [
    {
     "data": {
      "text/html": [
       "<div>\n",
       "<table border=\"1\" class=\"dataframe\">\n",
       "  <thead>\n",
       "    <tr>\n",
       "      <th></th>\n",
       "      <th>Base liquidable</th>\n",
       "      <th>Cuota íntegra</th>\n",
       "      <th>Resto base liquidable</th>\n",
       "      <th>Tipo aplicable</th>\n",
       "    </tr>\n",
       "    <tr>\n",
       "      <th></th>\n",
       "      <th>Hasta euros</th>\n",
       "      <th>Euros</th>\n",
       "      <th>Hasta euros</th>\n",
       "      <th>Porcentaje</th>\n",
       "    </tr>\n",
       "  </thead>\n",
       "  <tbody>\n",
       "    <tr>\n",
       "      <th>0</th>\n",
       "      <td>0</td>\n",
       "      <td>0.00</td>\n",
       "      <td>12450</td>\n",
       "      <td>9.5</td>\n",
       "    </tr>\n",
       "    <tr>\n",
       "      <th>1</th>\n",
       "      <td>12450</td>\n",
       "      <td>1182.75</td>\n",
       "      <td>7750</td>\n",
       "      <td>12.0</td>\n",
       "    </tr>\n",
       "    <tr>\n",
       "      <th>2</th>\n",
       "      <td>20200</td>\n",
       "      <td>2112.75</td>\n",
       "      <td>15000</td>\n",
       "      <td>15.0</td>\n",
       "    </tr>\n",
       "    <tr>\n",
       "      <th>3</th>\n",
       "      <td>35200</td>\n",
       "      <td>4362.75</td>\n",
       "      <td>24800</td>\n",
       "      <td>18.5</td>\n",
       "    </tr>\n",
       "    <tr>\n",
       "      <th>4</th>\n",
       "      <td>60000</td>\n",
       "      <td>8950.75</td>\n",
       "      <td>En adelante</td>\n",
       "      <td>22.5</td>\n",
       "    </tr>\n",
       "  </tbody>\n",
       "</table>\n",
       "</div>"
      ],
      "text/plain": [
       "  Base liquidable Cuota íntegra Resto base liquidable Tipo aplicable\n",
       "      Hasta euros         Euros           Hasta euros     Porcentaje\n",
       "0               0          0.00                 12450            9.5\n",
       "1           12450       1182.75                  7750           12.0\n",
       "2           20200       2112.75                 15000           15.0\n",
       "3           35200       4362.75                 24800           18.5\n",
       "4           60000       8950.75           En adelante           22.5"
      ]
     },
     "execution_count": 48,
     "metadata": {},
     "output_type": "execute_result"
    }
   ],
   "source": [
    "# importamos la escala general de 2016:\n",
    "url = 'http://www.agenciatributaria.es/AEAT.internet/Inicio_es_ES/La_Agencia_Tributaria/Campanas/_Campanas_/Impuesto_sobre_la_Renta_de_las_Personas_Fisicas__IRPF_/_INFORMACION/Reforma_Renta_2015/Tipos_y_escalas_de_gravamen/Escala_general_a_aplicar_a_partir_del_ejercicio_2016.shtml'\n",
    "\n",
    "escala16 = pd.read_html(url, \n",
    "                        skiprows=0, \n",
    "                        index_col=None, \n",
    "                        thousands=None, \n",
    "                        header=[0,1])[0].applymap(trans_decimal)\n",
    "escala16"
   ]
  },
  {
   "cell_type": "code",
   "execution_count": 49,
   "metadata": {
    "collapsed": false
   },
   "outputs": [],
   "source": [
    "#dprog.sort('tipomedio', inplace=True, ascending=True) \n",
    "#dprog.plot(x='tramo', by='ccaa', y=['tipomedio','BI'], subplots=True, figsize=(10,10), kind='bar')"
   ]
  }
 ],
 "metadata": {
  "kernelspec": {
   "display_name": "Python 2",
   "language": "python",
   "name": "python2"
  },
  "language_info": {
   "codemirror_mode": {
    "name": "ipython",
    "version": 2
   },
   "file_extension": ".py",
   "mimetype": "text/x-python",
   "name": "python",
   "nbconvert_exporter": "python",
   "pygments_lexer": "ipython2",
   "version": "2.7.10"
  }
 },
 "nbformat": 4,
 "nbformat_minor": 0
}
