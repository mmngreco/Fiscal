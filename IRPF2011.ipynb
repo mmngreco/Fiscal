{
 "cells": [
  {
   "cell_type": "code",
   "execution_count": 1,
   "metadata": {
    "collapsed": true
   },
   "outputs": [],
   "source": [
    "import numpy as np\n",
    "import pandas as pd\n",
    "import matplotlib.pyplot as plt\n",
    "from matplotlib.ticker import FuncFormatter\n",
    "import seaborn as sns\n",
    "from datetime import datetime\n",
    "import prettyplotlib as ppl"
   ]
  },
  {
   "cell_type": "code",
   "execution_count": 2,
   "metadata": {
    "collapsed": true
   },
   "outputs": [],
   "source": [
    "import scipy.integrate as si"
   ]
  },
  {
   "cell_type": "code",
   "execution_count": 3,
   "metadata": {
    "collapsed": true
   },
   "outputs": [],
   "source": [
    "from pandas import Series, DataFrame"
   ]
  },
  {
   "cell_type": "code",
   "execution_count": 4,
   "metadata": {
    "collapsed": false
   },
   "outputs": [],
   "source": [
    "date = datetime.now()                                            # fecha para nombrar archivos\n",
    "date = str(date).replace(':', '').replace(' ','_').split('.')[0] # cambio de formato"
   ]
  },
  {
   "cell_type": "code",
   "execution_count": 5,
   "metadata": {
    "collapsed": false
   },
   "outputs": [],
   "source": [
    "#sns.set_style('whitegrid')\n",
    "sns.set(style=\"ticks\", palette=\"Set2\")\n",
    "sns.despine()"
   ]
  },
  {
   "cell_type": "code",
   "execution_count": 6,
   "metadata": {
    "collapsed": false
   },
   "outputs": [],
   "source": [
    "pd.set_option('display.max_rows', 500)\n",
    "pd.set_option('display.max_columns', 100)\n",
    "pd.set_option('display.max_colwidth', 150)"
   ]
  },
  {
   "cell_type": "code",
   "execution_count": 7,
   "metadata": {
    "collapsed": false
   },
   "outputs": [],
   "source": [
    "%matplotlib inline"
   ]
  },
  {
   "cell_type": "code",
   "execution_count": 8,
   "metadata": {
    "collapsed": false
   },
   "outputs": [],
   "source": [
    "%load_ext rpy2.ipython"
   ]
  },
  {
   "cell_type": "code",
   "execution_count": 9,
   "metadata": {
    "collapsed": false
   },
   "outputs": [
    {
     "data": {
      "text/plain": [
       "'%.3f'"
      ]
     },
     "execution_count": 9,
     "metadata": {},
     "output_type": "execute_result"
    }
   ],
   "source": [
    "%precision 3"
   ]
  },
  {
   "cell_type": "code",
   "execution_count": 86,
   "metadata": {
    "collapsed": false
   },
   "outputs": [],
   "source": [
    "info_tramos = {1 : 'Negativas y cero',\n",
    "               2 : 'De 0,01 a 3.000,00',\n",
    "               3 : 'De 3.000,01 a 6.000,00',\n",
    "               4 : 'De 6.000,01 a 12.000,00',\n",
    "               5 : 'De 12.000,01 a 18.000,00',\n",
    "               6 : 'De 18.000,01 a 30.000,00',\n",
    "               7 : 'De 30.000,01 a 60.000,00',\n",
    "               8 : 'De 60.000,01 a 120.000,00',\n",
    "               9 : 'De 120.000,01 a 240.000,00',\n",
    "               10 : 'De 240.000,01 en adelante'}\n",
    "\n",
    "info_ccaa = pd.read_csv('data/nombres_ccaa.csv').to_dict(orient='record')[0]"
   ]
  },
  {
   "cell_type": "code",
   "execution_count": 96,
   "metadata": {
    "collapsed": false
   },
   "outputs": [
    {
     "data": {
      "text/plain": [
       "[]"
      ]
     },
     "execution_count": 96,
     "metadata": {},
     "output_type": "execute_result"
    }
   ],
   "source": [
    "%%!\n",
    "\n",
    "open doc/doc_2014_18.pdf\n",
    "open ."
   ]
  },
  {
   "cell_type": "markdown",
   "metadata": {},
   "source": [
    "![metodología muestreo 1][img1]\n",
    "\n",
    "![metodología muestreo 1][img2]\n",
    "\n",
    "![metodología muestreo 1][img3]\n",
    "\n",
    "[img1]: doc/1.jpg\n",
    "[img2]: doc/2.jpg\n",
    "[img3]: doc/3.jpg"
   ]
  },
  {
   "cell_type": "markdown",
   "metadata": {},
   "source": [
    "$\\sigma_X^2 = ( \\sum_{i=1}^n p_i\\cdot(x_i - \\mu)^2)$\n",
    "donde\n",
    "\n",
    "$\\mu = ( \\sum_{i=1}^n p_i\\cdot x_i )$"
   ]
  },
  {
   "cell_type": "markdown",
   "metadata": {},
   "source": [
    "# DATOS:"
   ]
  },
  {
   "cell_type": "code",
   "execution_count": 11,
   "metadata": {
    "collapsed": false
   },
   "outputs": [
    {
     "data": {
      "text/html": [
       "<div>\n",
       "<table border=\"1\" class=\"dataframe\">\n",
       "  <thead>\n",
       "    <tr style=\"text-align: right;\">\n",
       "      <th></th>\n",
       "      <th>ndecla</th>\n",
       "      <th>nhogar</th>\n",
       "      <th>nppal</th>\n",
       "      <th>ncyge</th>\n",
       "      <th>expediente</th>\n",
       "      <th>municipio</th>\n",
       "      <th>dh</th>\n",
       "      <th>ccaa</th>\n",
       "      <th>tramo</th>\n",
       "      <th>marcafuente</th>\n",
       "      <th>factor</th>\n",
       "      <th>factoroptimizado</th>\n",
       "      <th>fechappal</th>\n",
       "      <th>sexoppal</th>\n",
       "      <th>falleceppal</th>\n",
       "      <th>sexocyge</th>\n",
       "      <th>fallececyge</th>\n",
       "      <th>tipotributacion</th>\n",
       "      <th>categoriadecla</th>\n",
       "      <th>minimosdecla</th>\n",
       "      <th>incluirdecla</th>\n",
       "      <th>rentamuestreo</th>\n",
       "      <th>ingresostrabajo</th>\n",
       "      <th>c1</th>\n",
       "      <th>c2</th>\n",
       "      <th>c3</th>\n",
       "      <th>c4</th>\n",
       "      <th>c5</th>\n",
       "      <th>c6</th>\n",
       "      <th>c7</th>\n",
       "      <th>c8</th>\n",
       "      <th>c9</th>\n",
       "      <th>c10</th>\n",
       "      <th>c11</th>\n",
       "      <th>c12</th>\n",
       "      <th>c13</th>\n",
       "      <th>c14</th>\n",
       "      <th>c15</th>\n",
       "      <th>c17</th>\n",
       "      <th>c18</th>\n",
       "      <th>c19</th>\n",
       "      <th>c20</th>\n",
       "      <th>c21</th>\n",
       "      <th>c22</th>\n",
       "      <th>c23</th>\n",
       "      <th>c24</th>\n",
       "      <th>c25</th>\n",
       "      <th>c26</th>\n",
       "      <th>c27</th>\n",
       "      <th>c28</th>\n",
       "      <th>...</th>\n",
       "      <th>c891</th>\n",
       "      <th>c892</th>\n",
       "      <th>c893</th>\n",
       "      <th>c894</th>\n",
       "      <th>c895</th>\n",
       "      <th>c896</th>\n",
       "      <th>c897</th>\n",
       "      <th>c898</th>\n",
       "      <th>c899</th>\n",
       "      <th>c900</th>\n",
       "      <th>c901</th>\n",
       "      <th>c902</th>\n",
       "      <th>c903</th>\n",
       "      <th>c904</th>\n",
       "      <th>c905</th>\n",
       "      <th>c906</th>\n",
       "      <th>c907</th>\n",
       "      <th>c908</th>\n",
       "      <th>c909</th>\n",
       "      <th>c910</th>\n",
       "      <th>c911</th>\n",
       "      <th>c912</th>\n",
       "      <th>c913</th>\n",
       "      <th>c914</th>\n",
       "      <th>c916</th>\n",
       "      <th>c917</th>\n",
       "      <th>c918</th>\n",
       "      <th>c919</th>\n",
       "      <th>c920</th>\n",
       "      <th>c921</th>\n",
       "      <th>c922</th>\n",
       "      <th>c923</th>\n",
       "      <th>c924</th>\n",
       "      <th>c925</th>\n",
       "      <th>c926</th>\n",
       "      <th>c927</th>\n",
       "      <th>c928</th>\n",
       "      <th>c929</th>\n",
       "      <th>c930</th>\n",
       "      <th>c931</th>\n",
       "      <th>c932</th>\n",
       "      <th>c933</th>\n",
       "      <th>c934</th>\n",
       "      <th>c935</th>\n",
       "      <th>c936</th>\n",
       "      <th>c937</th>\n",
       "      <th>c938</th>\n",
       "      <th>c1094</th>\n",
       "      <th>c1098</th>\n",
       "      <th>c1099</th>\n",
       "    </tr>\n",
       "  </thead>\n",
       "  <tbody>\n",
       "    <tr>\n",
       "      <th>0</th>\n",
       "      <td>5743234</td>\n",
       "      <td>557846</td>\n",
       "      <td>1002095917</td>\n",
       "      <td>28005171063</td>\n",
       "      <td>201110066341636K</td>\n",
       "      <td>28006</td>\n",
       "      <td>28</td>\n",
       "      <td>12</td>\n",
       "      <td>5</td>\n",
       "      <td>0</td>\n",
       "      <td>22.409611</td>\n",
       "      <td>22.156199</td>\n",
       "      <td>19600124</td>\n",
       "      <td>1</td>\n",
       "      <td>0</td>\n",
       "      <td>2</td>\n",
       "      <td>0</td>\n",
       "      <td>I</td>\n",
       "      <td>4</td>\n",
       "      <td>2</td>\n",
       "      <td>1</td>\n",
       "      <td>1445602</td>\n",
       "      <td>0</td>\n",
       "      <td>0</td>\n",
       "      <td>0</td>\n",
       "      <td>0</td>\n",
       "      <td>0</td>\n",
       "      <td>0</td>\n",
       "      <td>0</td>\n",
       "      <td>0</td>\n",
       "      <td>0</td>\n",
       "      <td>0</td>\n",
       "      <td>0</td>\n",
       "      <td>0</td>\n",
       "      <td>0</td>\n",
       "      <td>0</td>\n",
       "      <td>0</td>\n",
       "      <td>0</td>\n",
       "      <td>0</td>\n",
       "      <td>0</td>\n",
       "      <td>0</td>\n",
       "      <td>0</td>\n",
       "      <td>0</td>\n",
       "      <td>333188</td>\n",
       "      <td>0</td>\n",
       "      <td>0</td>\n",
       "      <td>0</td>\n",
       "      <td>0</td>\n",
       "      <td>0</td>\n",
       "      <td>0</td>\n",
       "      <td>...</td>\n",
       "      <td>0</td>\n",
       "      <td>0</td>\n",
       "      <td>0</td>\n",
       "      <td>0</td>\n",
       "      <td>0</td>\n",
       "      <td>0</td>\n",
       "      <td>0</td>\n",
       "      <td>0</td>\n",
       "      <td>0</td>\n",
       "      <td>0</td>\n",
       "      <td>0</td>\n",
       "      <td>0</td>\n",
       "      <td>0</td>\n",
       "      <td>0</td>\n",
       "      <td>0</td>\n",
       "      <td>0</td>\n",
       "      <td>0</td>\n",
       "      <td>0</td>\n",
       "      <td>0</td>\n",
       "      <td>0</td>\n",
       "      <td>0</td>\n",
       "      <td>0</td>\n",
       "      <td>0</td>\n",
       "      <td>0</td>\n",
       "      <td>0</td>\n",
       "      <td>0</td>\n",
       "      <td>0</td>\n",
       "      <td>0</td>\n",
       "      <td>0</td>\n",
       "      <td>0</td>\n",
       "      <td>0</td>\n",
       "      <td>0</td>\n",
       "      <td>0</td>\n",
       "      <td>0</td>\n",
       "      <td>0</td>\n",
       "      <td>0</td>\n",
       "      <td>0</td>\n",
       "      <td>0</td>\n",
       "      <td>0</td>\n",
       "      <td>0</td>\n",
       "      <td>0</td>\n",
       "      <td>0</td>\n",
       "      <td>0</td>\n",
       "      <td>0</td>\n",
       "      <td>0</td>\n",
       "      <td>0</td>\n",
       "      <td>0</td>\n",
       "      <td>2156</td>\n",
       "      <td>1313625</td>\n",
       "      <td>0</td>\n",
       "    </tr>\n",
       "    <tr>\n",
       "      <th>1</th>\n",
       "      <td>5743235</td>\n",
       "      <td>470524</td>\n",
       "      <td>1002123512</td>\n",
       "      <td>28039028136</td>\n",
       "      <td>201110072331775J</td>\n",
       "      <td>11004</td>\n",
       "      <td>11</td>\n",
       "      <td>1</td>\n",
       "      <td>9</td>\n",
       "      <td>0</td>\n",
       "      <td>1.004492</td>\n",
       "      <td>1.054458</td>\n",
       "      <td>19520412</td>\n",
       "      <td>1</td>\n",
       "      <td>0</td>\n",
       "      <td>2</td>\n",
       "      <td>0</td>\n",
       "      <td>I</td>\n",
       "      <td>4</td>\n",
       "      <td>1</td>\n",
       "      <td>1</td>\n",
       "      <td>13669202</td>\n",
       "      <td>0</td>\n",
       "      <td>0</td>\n",
       "      <td>0</td>\n",
       "      <td>0</td>\n",
       "      <td>0</td>\n",
       "      <td>0</td>\n",
       "      <td>0</td>\n",
       "      <td>0</td>\n",
       "      <td>0</td>\n",
       "      <td>0</td>\n",
       "      <td>0</td>\n",
       "      <td>0</td>\n",
       "      <td>0</td>\n",
       "      <td>0</td>\n",
       "      <td>0</td>\n",
       "      <td>0</td>\n",
       "      <td>0</td>\n",
       "      <td>0</td>\n",
       "      <td>0</td>\n",
       "      <td>0</td>\n",
       "      <td>0</td>\n",
       "      <td>952777</td>\n",
       "      <td>0</td>\n",
       "      <td>197691</td>\n",
       "      <td>0</td>\n",
       "      <td>0</td>\n",
       "      <td>0</td>\n",
       "      <td>0</td>\n",
       "      <td>...</td>\n",
       "      <td>0</td>\n",
       "      <td>0</td>\n",
       "      <td>0</td>\n",
       "      <td>0</td>\n",
       "      <td>0</td>\n",
       "      <td>0</td>\n",
       "      <td>0</td>\n",
       "      <td>0</td>\n",
       "      <td>0</td>\n",
       "      <td>0</td>\n",
       "      <td>0</td>\n",
       "      <td>0</td>\n",
       "      <td>0</td>\n",
       "      <td>0</td>\n",
       "      <td>0</td>\n",
       "      <td>0</td>\n",
       "      <td>0</td>\n",
       "      <td>0</td>\n",
       "      <td>0</td>\n",
       "      <td>0</td>\n",
       "      <td>0</td>\n",
       "      <td>0</td>\n",
       "      <td>0</td>\n",
       "      <td>0</td>\n",
       "      <td>0</td>\n",
       "      <td>0</td>\n",
       "      <td>0</td>\n",
       "      <td>0</td>\n",
       "      <td>0</td>\n",
       "      <td>0</td>\n",
       "      <td>0</td>\n",
       "      <td>0</td>\n",
       "      <td>0</td>\n",
       "      <td>0</td>\n",
       "      <td>0</td>\n",
       "      <td>0</td>\n",
       "      <td>0</td>\n",
       "      <td>0</td>\n",
       "      <td>0</td>\n",
       "      <td>0</td>\n",
       "      <td>0</td>\n",
       "      <td>0</td>\n",
       "      <td>0</td>\n",
       "      <td>0</td>\n",
       "      <td>0</td>\n",
       "      <td>0</td>\n",
       "      <td>0</td>\n",
       "      <td>4233668</td>\n",
       "      <td>0</td>\n",
       "      <td>838116</td>\n",
       "    </tr>\n",
       "    <tr>\n",
       "      <th>2</th>\n",
       "      <td>5743236</td>\n",
       "      <td>557847</td>\n",
       "      <td>1002136926</td>\n",
       "      <td>1800828795</td>\n",
       "      <td>201110031720523R</td>\n",
       "      <td>3900</td>\n",
       "      <td>3</td>\n",
       "      <td>17</td>\n",
       "      <td>5</td>\n",
       "      <td>1</td>\n",
       "      <td>53.088840</td>\n",
       "      <td>53.472625</td>\n",
       "      <td>19540408</td>\n",
       "      <td>1</td>\n",
       "      <td>0</td>\n",
       "      <td>2</td>\n",
       "      <td>0</td>\n",
       "      <td>I</td>\n",
       "      <td>4</td>\n",
       "      <td>1</td>\n",
       "      <td>1</td>\n",
       "      <td>1299700</td>\n",
       "      <td>981000</td>\n",
       "      <td>981000</td>\n",
       "      <td>0</td>\n",
       "      <td>0</td>\n",
       "      <td>0</td>\n",
       "      <td>0</td>\n",
       "      <td>0</td>\n",
       "      <td>0</td>\n",
       "      <td>0</td>\n",
       "      <td>981000</td>\n",
       "      <td>0</td>\n",
       "      <td>0</td>\n",
       "      <td>0</td>\n",
       "      <td>0</td>\n",
       "      <td>0</td>\n",
       "      <td>981000</td>\n",
       "      <td>385950</td>\n",
       "      <td>0</td>\n",
       "      <td>0</td>\n",
       "      <td>0</td>\n",
       "      <td>595050</td>\n",
       "      <td>129062</td>\n",
       "      <td>0</td>\n",
       "      <td>0</td>\n",
       "      <td>0</td>\n",
       "      <td>0</td>\n",
       "      <td>0</td>\n",
       "      <td>0</td>\n",
       "      <td>...</td>\n",
       "      <td>0</td>\n",
       "      <td>0</td>\n",
       "      <td>0</td>\n",
       "      <td>0</td>\n",
       "      <td>0</td>\n",
       "      <td>0</td>\n",
       "      <td>0</td>\n",
       "      <td>0</td>\n",
       "      <td>0</td>\n",
       "      <td>0</td>\n",
       "      <td>0</td>\n",
       "      <td>0</td>\n",
       "      <td>0</td>\n",
       "      <td>0</td>\n",
       "      <td>0</td>\n",
       "      <td>0</td>\n",
       "      <td>0</td>\n",
       "      <td>0</td>\n",
       "      <td>0</td>\n",
       "      <td>0</td>\n",
       "      <td>0</td>\n",
       "      <td>0</td>\n",
       "      <td>0</td>\n",
       "      <td>0</td>\n",
       "      <td>0</td>\n",
       "      <td>0</td>\n",
       "      <td>0</td>\n",
       "      <td>0</td>\n",
       "      <td>0</td>\n",
       "      <td>0</td>\n",
       "      <td>0</td>\n",
       "      <td>0</td>\n",
       "      <td>0</td>\n",
       "      <td>0</td>\n",
       "      <td>0</td>\n",
       "      <td>0</td>\n",
       "      <td>0</td>\n",
       "      <td>0</td>\n",
       "      <td>0</td>\n",
       "      <td>0</td>\n",
       "      <td>0</td>\n",
       "      <td>0</td>\n",
       "      <td>0</td>\n",
       "      <td>0</td>\n",
       "      <td>0</td>\n",
       "      <td>0</td>\n",
       "      <td>0</td>\n",
       "      <td>88951</td>\n",
       "      <td>376131</td>\n",
       "      <td>0</td>\n",
       "    </tr>\n",
       "    <tr>\n",
       "      <th>3</th>\n",
       "      <td>5743237</td>\n",
       "      <td>800417</td>\n",
       "      <td>1002138304</td>\n",
       "      <td>0</td>\n",
       "      <td>201110017981270P</td>\n",
       "      <td>9284</td>\n",
       "      <td>9</td>\n",
       "      <td>8</td>\n",
       "      <td>4</td>\n",
       "      <td>0</td>\n",
       "      <td>23.640444</td>\n",
       "      <td>23.522815</td>\n",
       "      <td>19650716</td>\n",
       "      <td>2</td>\n",
       "      <td>0</td>\n",
       "      <td>NaN</td>\n",
       "      <td>0</td>\n",
       "      <td>I</td>\n",
       "      <td>1</td>\n",
       "      <td>2</td>\n",
       "      <td>1</td>\n",
       "      <td>777362</td>\n",
       "      <td>0</td>\n",
       "      <td>0</td>\n",
       "      <td>0</td>\n",
       "      <td>0</td>\n",
       "      <td>0</td>\n",
       "      <td>0</td>\n",
       "      <td>0</td>\n",
       "      <td>0</td>\n",
       "      <td>0</td>\n",
       "      <td>0</td>\n",
       "      <td>0</td>\n",
       "      <td>0</td>\n",
       "      <td>0</td>\n",
       "      <td>0</td>\n",
       "      <td>0</td>\n",
       "      <td>0</td>\n",
       "      <td>0</td>\n",
       "      <td>0</td>\n",
       "      <td>0</td>\n",
       "      <td>0</td>\n",
       "      <td>0</td>\n",
       "      <td>29010</td>\n",
       "      <td>0</td>\n",
       "      <td>0</td>\n",
       "      <td>0</td>\n",
       "      <td>0</td>\n",
       "      <td>0</td>\n",
       "      <td>0</td>\n",
       "      <td>...</td>\n",
       "      <td>0</td>\n",
       "      <td>0</td>\n",
       "      <td>0</td>\n",
       "      <td>0</td>\n",
       "      <td>0</td>\n",
       "      <td>0</td>\n",
       "      <td>0</td>\n",
       "      <td>0</td>\n",
       "      <td>0</td>\n",
       "      <td>0</td>\n",
       "      <td>0</td>\n",
       "      <td>0</td>\n",
       "      <td>0</td>\n",
       "      <td>0</td>\n",
       "      <td>0</td>\n",
       "      <td>0</td>\n",
       "      <td>0</td>\n",
       "      <td>0</td>\n",
       "      <td>0</td>\n",
       "      <td>0</td>\n",
       "      <td>0</td>\n",
       "      <td>0</td>\n",
       "      <td>0</td>\n",
       "      <td>0</td>\n",
       "      <td>0</td>\n",
       "      <td>0</td>\n",
       "      <td>0</td>\n",
       "      <td>0</td>\n",
       "      <td>0</td>\n",
       "      <td>0</td>\n",
       "      <td>0</td>\n",
       "      <td>0</td>\n",
       "      <td>0</td>\n",
       "      <td>0</td>\n",
       "      <td>0</td>\n",
       "      <td>0</td>\n",
       "      <td>0</td>\n",
       "      <td>0</td>\n",
       "      <td>0</td>\n",
       "      <td>0</td>\n",
       "      <td>0</td>\n",
       "      <td>0</td>\n",
       "      <td>0</td>\n",
       "      <td>0</td>\n",
       "      <td>0</td>\n",
       "      <td>0</td>\n",
       "      <td>0</td>\n",
       "      <td>17426</td>\n",
       "      <td>122898</td>\n",
       "      <td>0</td>\n",
       "    </tr>\n",
       "    <tr>\n",
       "      <th>4</th>\n",
       "      <td>5743238</td>\n",
       "      <td>557849</td>\n",
       "      <td>1002201551</td>\n",
       "      <td>1002201584</td>\n",
       "      <td>201110047050842D</td>\n",
       "      <td>28092</td>\n",
       "      <td>28</td>\n",
       "      <td>12</td>\n",
       "      <td>6</td>\n",
       "      <td>1</td>\n",
       "      <td>50.378803</td>\n",
       "      <td>50.503532</td>\n",
       "      <td>19330422</td>\n",
       "      <td>1</td>\n",
       "      <td>0</td>\n",
       "      <td>2</td>\n",
       "      <td>0</td>\n",
       "      <td>C</td>\n",
       "      <td>3</td>\n",
       "      <td>4</td>\n",
       "      <td>1</td>\n",
       "      <td>1957596</td>\n",
       "      <td>1194662</td>\n",
       "      <td>1194662</td>\n",
       "      <td>0</td>\n",
       "      <td>0</td>\n",
       "      <td>0</td>\n",
       "      <td>0</td>\n",
       "      <td>0</td>\n",
       "      <td>0</td>\n",
       "      <td>0</td>\n",
       "      <td>1194662</td>\n",
       "      <td>0</td>\n",
       "      <td>0</td>\n",
       "      <td>0</td>\n",
       "      <td>0</td>\n",
       "      <td>0</td>\n",
       "      <td>1194662</td>\n",
       "      <td>265200</td>\n",
       "      <td>0</td>\n",
       "      <td>0</td>\n",
       "      <td>0</td>\n",
       "      <td>929462</td>\n",
       "      <td>582742</td>\n",
       "      <td>0</td>\n",
       "      <td>0</td>\n",
       "      <td>0</td>\n",
       "      <td>0</td>\n",
       "      <td>6264</td>\n",
       "      <td>0</td>\n",
       "      <td>...</td>\n",
       "      <td>0</td>\n",
       "      <td>0</td>\n",
       "      <td>0</td>\n",
       "      <td>0</td>\n",
       "      <td>0</td>\n",
       "      <td>0</td>\n",
       "      <td>0</td>\n",
       "      <td>0</td>\n",
       "      <td>0</td>\n",
       "      <td>0</td>\n",
       "      <td>0</td>\n",
       "      <td>0</td>\n",
       "      <td>0</td>\n",
       "      <td>0</td>\n",
       "      <td>0</td>\n",
       "      <td>0</td>\n",
       "      <td>0</td>\n",
       "      <td>0</td>\n",
       "      <td>0</td>\n",
       "      <td>0</td>\n",
       "      <td>0</td>\n",
       "      <td>0</td>\n",
       "      <td>0</td>\n",
       "      <td>0</td>\n",
       "      <td>0</td>\n",
       "      <td>0</td>\n",
       "      <td>0</td>\n",
       "      <td>0</td>\n",
       "      <td>0</td>\n",
       "      <td>0</td>\n",
       "      <td>0</td>\n",
       "      <td>0</td>\n",
       "      <td>0</td>\n",
       "      <td>0</td>\n",
       "      <td>0</td>\n",
       "      <td>0</td>\n",
       "      <td>0</td>\n",
       "      <td>0</td>\n",
       "      <td>0</td>\n",
       "      <td>0</td>\n",
       "      <td>0</td>\n",
       "      <td>0</td>\n",
       "      <td>0</td>\n",
       "      <td>0</td>\n",
       "      <td>0</td>\n",
       "      <td>0</td>\n",
       "      <td>0</td>\n",
       "      <td>81566</td>\n",
       "      <td>30355</td>\n",
       "      <td>0</td>\n",
       "    </tr>\n",
       "  </tbody>\n",
       "</table>\n",
       "<p>5 rows × 408 columns</p>\n",
       "</div>"
      ],
      "text/plain": [
       "    ndecla  nhogar       nppal        ncyge        expediente  municipio  dh  \\\n",
       "0  5743234  557846  1002095917  28005171063  201110066341636K      28006  28   \n",
       "1  5743235  470524  1002123512  28039028136  201110072331775J      11004  11   \n",
       "2  5743236  557847  1002136926   1800828795  201110031720523R       3900   3   \n",
       "3  5743237  800417  1002138304            0  201110017981270P       9284   9   \n",
       "4  5743238  557849  1002201551   1002201584  201110047050842D      28092  28   \n",
       "\n",
       "   ccaa  tramo  marcafuente     factor  factoroptimizado  fechappal  sexoppal  \\\n",
       "0    12      5            0  22.409611         22.156199   19600124         1   \n",
       "1     1      9            0   1.004492          1.054458   19520412         1   \n",
       "2    17      5            1  53.088840         53.472625   19540408         1   \n",
       "3     8      4            0  23.640444         23.522815   19650716         2   \n",
       "4    12      6            1  50.378803         50.503532   19330422         1   \n",
       "\n",
       "   falleceppal  sexocyge  fallececyge tipotributacion  categoriadecla  \\\n",
       "0            0         2            0               I               4   \n",
       "1            0         2            0               I               4   \n",
       "2            0         2            0               I               4   \n",
       "3            0       NaN            0               I               1   \n",
       "4            0         2            0               C               3   \n",
       "\n",
       "   minimosdecla  incluirdecla  rentamuestreo  ingresostrabajo       c1  c2  \\\n",
       "0             2             1        1445602                0        0   0   \n",
       "1             1             1       13669202                0        0   0   \n",
       "2             1             1        1299700           981000   981000   0   \n",
       "3             2             1         777362                0        0   0   \n",
       "4             4             1        1957596          1194662  1194662   0   \n",
       "\n",
       "   c3  c4  c5  c6  c7  c8       c9  c10  c11  c12  c13  c14      c15     c17  \\\n",
       "0   0   0   0   0   0   0        0    0    0    0    0    0        0       0   \n",
       "1   0   0   0   0   0   0        0    0    0    0    0    0        0       0   \n",
       "2   0   0   0   0   0   0   981000    0    0    0    0    0   981000  385950   \n",
       "3   0   0   0   0   0   0        0    0    0    0    0    0        0       0   \n",
       "4   0   0   0   0   0   0  1194662    0    0    0    0    0  1194662  265200   \n",
       "\n",
       "   c18  c19  c20     c21     c22  c23     c24  c25  c26   c27  c28   ...    \\\n",
       "0    0    0    0       0  333188    0       0    0    0     0    0   ...     \n",
       "1    0    0    0       0  952777    0  197691    0    0     0    0   ...     \n",
       "2    0    0    0  595050  129062    0       0    0    0     0    0   ...     \n",
       "3    0    0    0       0   29010    0       0    0    0     0    0   ...     \n",
       "4    0    0    0  929462  582742    0       0    0    0  6264    0   ...     \n",
       "\n",
       "   c891  c892  c893  c894  c895  c896  c897  c898  c899  c900  c901  c902  \\\n",
       "0     0     0     0     0     0     0     0     0     0     0     0     0   \n",
       "1     0     0     0     0     0     0     0     0     0     0     0     0   \n",
       "2     0     0     0     0     0     0     0     0     0     0     0     0   \n",
       "3     0     0     0     0     0     0     0     0     0     0     0     0   \n",
       "4     0     0     0     0     0     0     0     0     0     0     0     0   \n",
       "\n",
       "   c903  c904  c905  c906  c907  c908  c909  c910  c911  c912  c913  c914  \\\n",
       "0     0     0     0     0     0     0     0     0     0     0     0     0   \n",
       "1     0     0     0     0     0     0     0     0     0     0     0     0   \n",
       "2     0     0     0     0     0     0     0     0     0     0     0     0   \n",
       "3     0     0     0     0     0     0     0     0     0     0     0     0   \n",
       "4     0     0     0     0     0     0     0     0     0     0     0     0   \n",
       "\n",
       "   c916  c917  c918  c919  c920  c921  c922  c923  c924  c925  c926  c927  \\\n",
       "0     0     0     0     0     0     0     0     0     0     0     0     0   \n",
       "1     0     0     0     0     0     0     0     0     0     0     0     0   \n",
       "2     0     0     0     0     0     0     0     0     0     0     0     0   \n",
       "3     0     0     0     0     0     0     0     0     0     0     0     0   \n",
       "4     0     0     0     0     0     0     0     0     0     0     0     0   \n",
       "\n",
       "   c928  c929  c930  c931  c932  c933  c934  c935  c936  c937  c938    c1094  \\\n",
       "0     0     0     0     0     0     0     0     0     0     0     0     2156   \n",
       "1     0     0     0     0     0     0     0     0     0     0     0  4233668   \n",
       "2     0     0     0     0     0     0     0     0     0     0     0    88951   \n",
       "3     0     0     0     0     0     0     0     0     0     0     0    17426   \n",
       "4     0     0     0     0     0     0     0     0     0     0     0    81566   \n",
       "\n",
       "     c1098   c1099  \n",
       "0  1313625       0  \n",
       "1        0  838116  \n",
       "2   376131       0  \n",
       "3   122898       0  \n",
       "4    30355       0  \n",
       "\n",
       "[5 rows x 408 columns]"
      ]
     },
     "execution_count": 11,
     "metadata": {},
     "output_type": "execute_result"
    }
   ],
   "source": [
    "f = 'data/2011/2011principales.csv'\n",
    "df = pd.read_csv(f)\n",
    "df.head()"
   ]
  },
  {
   "cell_type": "code",
   "execution_count": 12,
   "metadata": {
    "collapsed": true
   },
   "outputs": [],
   "source": [
    "data_2010 = 'data/2010/dmuestra.csv'  # muestra de 2010\n",
    "data_2011 = 'data/2011/dmuestra.csv'  # muestra de 2011"
   ]
  },
  {
   "cell_type": "code",
   "execution_count": 13,
   "metadata": {
    "collapsed": true
   },
   "outputs": [],
   "source": [
    "INFO = pd.read_csv('data/variables_descripcion.csv', encoding='utf-8', index_col=0) # informacion de las variables"
   ]
  },
  {
   "cell_type": "code",
   "execution_count": 14,
   "metadata": {
    "collapsed": false
   },
   "outputs": [
    {
     "data": {
      "text/html": [
       "<div>\n",
       "<table border=\"1\" class=\"dataframe\">\n",
       "  <thead>\n",
       "    <tr style=\"text-align: right;\">\n",
       "      <th></th>\n",
       "      <th>descripcion</th>\n",
       "    </tr>\n",
       "    <tr>\n",
       "      <th>variables</th>\n",
       "      <th></th>\n",
       "    </tr>\n",
       "  </thead>\n",
       "  <tbody>\n",
       "    <tr>\n",
       "      <th>c455</th>\n",
       "      <td>BASE IMPONIBLE GENERAL (450 ­ 451 + 452 ­ 453 ­ 454)</td>\n",
       "    </tr>\n",
       "    <tr>\n",
       "      <th>c620</th>\n",
       "      <td>BASE LIQUIDABLE GENERAL SOMETIDA A GRAVAMEN. (618 ­ 619)</td>\n",
       "    </tr>\n",
       "    <tr>\n",
       "      <th>c689</th>\n",
       "      <td>APLICACIÓN DE LAS ESCALAS DEL IMPUESTO AL IMPORTE DE LA CASILLA 620 (Parte Estatal).</td>\n",
       "    </tr>\n",
       "    <tr>\n",
       "      <th>c690</th>\n",
       "      <td>APLICACIÓN DE LAS ESCALAS DEL IMPUESTO AL IMPORTE DE LA CASILLA 620 (Parte Autonómica)</td>\n",
       "    </tr>\n",
       "    <tr>\n",
       "      <th>c698</th>\n",
       "      <td>CUOTAS INTEGRAS (693 + 696) (Parte Estatal)</td>\n",
       "    </tr>\n",
       "    <tr>\n",
       "      <th>c699</th>\n",
       "      <td>CUOTAS INTEGRAS (694 + 697) (Parte Autonómica)</td>\n",
       "    </tr>\n",
       "    <tr>\n",
       "      <th>c730</th>\n",
       "      <td>CUOTAS LIQUIDAS INCREMENTADAS ( 720 + 722 + 723 + 724 + 725 )  (Parte Estatal).</td>\n",
       "    </tr>\n",
       "    <tr>\n",
       "      <th>c731</th>\n",
       "      <td>CUOTAS LIQUIDAS INCREMENTADAS ( 721 + 726 + 727 + 728 + 729 )  (Parte Autonómica).</td>\n",
       "    </tr>\n",
       "    <tr>\n",
       "      <th>categoriadecla</th>\n",
       "      <td>Variable creada para recoger las posibles combinaciones del tipo de tributación y el estado civil.</td>\n",
       "    </tr>\n",
       "    <tr>\n",
       "      <th>ccaa</th>\n",
       "      <td>Código que identifica la Comunidad Autónoma de residencia fiscal del declarante o de los declaran­ tes. Hay un total de 17 códigos, las comunid...</td>\n",
       "    </tr>\n",
       "    <tr>\n",
       "      <th>factoroptimizado</th>\n",
       "      <td>Factor de elevación poblacional de la observación. Se calcula como el cociente entre el tamaño po­ blacional del estrato al que pertenece la de...</td>\n",
       "    </tr>\n",
       "    <tr>\n",
       "      <th>fechappal</th>\n",
       "      <td>Indica la fecha de nacimiento del primer declarante en el formato AAAAMMDD.</td>\n",
       "    </tr>\n",
       "    <tr>\n",
       "      <th>ingresostrabajo</th>\n",
       "      <td>Recoge la renta que proviene de los ingresos íntegros del trabajo, a través de las casillas del modelo 100 de IRPF para el año en cuestión.</td>\n",
       "    </tr>\n",
       "    <tr>\n",
       "      <th>marcafuente</th>\n",
       "      <td>Esta variable es creada para la estratificación, en ella se crean dos categorías para agrupar las decla­ raciones en función de la renta del tr...</td>\n",
       "    </tr>\n",
       "    <tr>\n",
       "      <th>sexoppal</th>\n",
       "      <td>Sexo del declarante principal. Toma valor 1 para hombres y 2 para mujeres.</td>\n",
       "    </tr>\n",
       "    <tr>\n",
       "      <th>tipotributacion</th>\n",
       "      <td>Indica el régimen tributario al que pertenece la declaración. Se denota por I en el caso de declaración individual y por C en el caso de conjunta.</td>\n",
       "    </tr>\n",
       "    <tr>\n",
       "      <th>tramo</th>\n",
       "      <td>Esta variable es creada para la estratificación, nos dice el tramo de la variable renta muestreo en el que se encuentra cada observación. Distin...</td>\n",
       "    </tr>\n",
       "  </tbody>\n",
       "</table>\n",
       "</div>"
      ],
      "text/plain": [
       "                                                                                                                                                            descripcion\n",
       "variables                                                                                                                                                              \n",
       "c455                                                                                                               BASE IMPONIBLE GENERAL (450 ­ 451 + 452 ­ 453 ­ 454)\n",
       "c620                                                                                                           BASE LIQUIDABLE GENERAL SOMETIDA A GRAVAMEN. (618 ­ 619)\n",
       "c689                                                                               APLICACIÓN DE LAS ESCALAS DEL IMPUESTO AL IMPORTE DE LA CASILLA 620 (Parte Estatal).\n",
       "c690                                                                             APLICACIÓN DE LAS ESCALAS DEL IMPUESTO AL IMPORTE DE LA CASILLA 620 (Parte Autonómica)\n",
       "c698                                                                                                                        CUOTAS INTEGRAS (693 + 696) (Parte Estatal)\n",
       "c699                                                                                                                    CUOTAS INTEGRAS (694 + 697) (Parte Autonómica)\n",
       "c730                                                                                    CUOTAS LIQUIDAS INCREMENTADAS ( 720 + 722 + 723 + 724 + 725 )  (Parte Estatal).\n",
       "c731                                                                                 CUOTAS LIQUIDAS INCREMENTADAS ( 721 + 726 + 727 + 728 + 729 )  (Parte Autonómica).\n",
       "categoriadecla                                                      Variable creada para recoger las posibles combinaciones del tipo de tributación y el estado civil.\n",
       "ccaa              Código que identifica la Comunidad Autónoma de residencia fiscal del declarante o de los declaran­ tes. Hay un total de 17 códigos, las comunid...\n",
       "factoroptimizado  Factor de elevación poblacional de la observación. Se calcula como el cociente entre el tamaño po­ blacional del estrato al que pertenece la de...\n",
       "fechappal                                                                                   Indica la fecha de nacimiento del primer declarante en el formato AAAAMMDD.\n",
       "ingresostrabajo         Recoge la renta que proviene de los ingresos íntegros del trabajo, a través de las casillas del modelo 100 de IRPF para el año en cuestión.\n",
       "marcafuente       Esta variable es creada para la estratificación, en ella se crean dos categorías para agrupar las decla­ raciones en función de la renta del tr...\n",
       "sexoppal                                                                                     Sexo del declarante principal. Toma valor 1 para hombres y 2 para mujeres.\n",
       "tipotributacion   Indica el régimen tributario al que pertenece la declaración. Se denota por I en el caso de declaración individual y por C en el caso de conjunta.\n",
       "tramo             Esta variable es creada para la estratificación, nos dice el tramo de la variable renta muestreo en el que se encuentra cada observación. Distin..."
      ]
     },
     "execution_count": 14,
     "metadata": {},
     "output_type": "execute_result"
    }
   ],
   "source": [
    "INFO"
   ]
  },
  {
   "cell_type": "code",
   "execution_count": 15,
   "metadata": {
    "collapsed": true
   },
   "outputs": [],
   "source": [
    "data = df\n",
    "data['cltotal'] = data[['c720', 'c721']].sum(1)\n",
    "\n",
    "vi = ['ingresostrabajo', 'c720','c721', 'cltotal', 'c680']\n",
    "variables_interes = list(zip(np.repeat('factoroptimizado', len(vi)), vi))"
   ]
  },
  {
   "cell_type": "code",
   "execution_count": 107,
   "metadata": {
    "collapsed": false
   },
   "outputs": [
    {
     "name": "stderr",
     "output_type": "stream",
     "text": [
      "/Users/mmngreco/Virtualenvs/ipynb/lib/python3.5/site-packages/matplotlib/collections.py:590: FutureWarning: elementwise comparison failed; returning scalar instead, but in the future will perform elementwise comparison\n",
      "  if self._edgecolors == str('face'):\n"
     ]
    },
    {
     "data": {
      "image/png": "[encoded data removed]",
      "text/plain": [
       "<matplotlib.figure.Figure at 0x11675c0f0>"
      ]
     },
     "metadata": {},
     "output_type": "display_data"
    }
   ],
   "source": [
    "# distribucion de declarantes por tramo y ccaa\n",
    "nij = data.pivot_table(index='tramo',                     # Tramos en filas\n",
    "                       columns='ccaa',                    # CCCAA en columnas \n",
    "                       values='factoroptimizado',         # Valores = factoroptimizado\n",
    "                       aggfunc='sum')                     # Se representa la suma de valores\n",
    "\n",
    "# Ordenar de mayor a menor las CCAA\n",
    "orden_ca = nij.sum(axis=0).sort_values(ascending=True).index\n",
    "dist = nij[orden_ca]\n",
    "\n",
    "# poblacion total\n",
    "N = data.factoroptimizado.sum()\n",
    "\n",
    "# frecuencia relativa\n",
    "dist = dist * 100 / N\n",
    "\n",
    "# frecuencia relativa de tramo\n",
    "dist_t = dist.sum(0)\n",
    "\n",
    "# frecuencia relativa de ccaa\n",
    "dist_ca = dist.sum(1)\n",
    "\n",
    "# GRAFICO\n",
    "fs = (10,10)\n",
    "plt.figure(figsize=fs)\n",
    "ax1 = plt.subplot(2,2,3)\n",
    "ax3 = plt.subplot(2,2,4)\n",
    "ax2 = plt.subplot(2,2,1)\n",
    "\n",
    "dist.index = [info_tramos[i] for i in dist.index]\n",
    "dist.columns = [info_ccaa[str(c)] for c in dist.columns]\n",
    "\n",
    "# densidad\n",
    "sns.heatmap(dist, ax=ax1, cbar=False, cmap='Greens', robust=True)\n",
    "\n",
    "# barras\n",
    "g2 = sns.barplot(x=dist_t.index, y=dist_t.values, ax=ax2, color=sns.xkcd_rgb[\"medium green\"])\n",
    "g3 = sns.barplot(x=dist_ca, y=dist.index, ax=ax3, orient='horizontal', color=sns.xkcd_rgb[\"medium green\"])\n",
    "\n",
    "# estilo\n",
    "\n",
    "sns.despine(ax=ax2, left=True, bottom=True)\n",
    "sns.despine(ax=ax3, left=True, bottom=True)\n",
    "\n",
    "ax2.yaxis.grid(True)\n",
    "ax2.set_xticklabels('')\n",
    "ax2.set_xlabel('')\n",
    "ax2.set_ylabel('Porciento (%)')\n",
    "\n",
    "ax3.xaxis.grid(True)\n",
    "ax3.set_yticklabels('')\n",
    "ax3.set_xlabel('Porciento (%)')\n",
    "\n",
    "ax1.set_xlabel('CCAA')\n",
    "ax1.set_ylabel('TRAMOS')\n",
    "\n",
    "plt.suptitle('DISTRIBUCIÓN RELATIVA DE DECLARANTES \\nRESPECTO DEL TOTAL NACIONAL(%)', fontsize=15)\n",
    "\n",
    "\n",
    "# guardar grafico\n",
    "plt.savefig('imgs/dist_%s' % (date), bbox_inches='tight')"
   ]
  },
  {
   "cell_type": "code",
   "execution_count": 17,
   "metadata": {
    "collapsed": true
   },
   "outputs": [],
   "source": [
    "lc = {}"
   ]
  },
  {
   "cell_type": "code",
   "execution_count": 18,
   "metadata": {
    "collapsed": true
   },
   "outputs": [],
   "source": [
    "# DISTRIBUCIÓN ACUMULADA\n",
    "\n",
    "for v in variables_interes:\n",
    "    v = list(v)                                 # Para cada par (factor, variable interes) \n",
    "    cdf = data[v].copy()                        # creamos la variable funcion de densidad acumulada cdf\n",
    "    \n",
    "    cdf = cdf.sort_values(by=v[1],              # ordenamos la variable monetaria de menor a mayor\n",
    "                          ascending=True)\n",
    "    \n",
    "    cdf[v[1]] = cdf.product(axis=1)             # variable monetaria a poblacional (producto de factor * variable)\n",
    "    \n",
    "    cdf[v] = cdf[v].cumsum(axis=0) / cdf.sum()  # suma acumulada y dividimos por el total para normalizar\n",
    "    \n",
    "    lc[v[1]] = [cdf[v[0]], cdf[v[1]]]           # guardamos el resultado"
   ]
  },
  {
   "cell_type": "code",
   "execution_count": 19,
   "metadata": {
    "collapsed": false
   },
   "outputs": [
    {
     "data": {
      "text/plain": [
       "dict_keys(['c680', 'ingresostrabajo', 'c721', 'c720', 'cltotal'])"
      ]
     },
     "execution_count": 19,
     "metadata": {},
     "output_type": "execute_result"
    }
   ],
   "source": [
    "lc.keys()"
   ]
  },
  {
   "cell_type": "code",
   "execution_count": 20,
   "metadata": {
    "collapsed": false
   },
   "outputs": [
    {
     "data": {
      "image/png": "[encoded data removed]",
      "text/plain": [
       "<matplotlib.figure.Figure at 0x110b1ce80>"
      ]
     },
     "metadata": {},
     "output_type": "display_data"
    }
   ],
   "source": [
    "plt.figure(figsize=(5,5))\n",
    "\n",
    "for k in lc.keys():    \n",
    "    plt.plot(lc[k][0], lc[k][1], label=k)\n",
    "\n",
    "plt.plot([0,1], color='black', linestyle='--')\n",
    "plt.suptitle('Curva de Lorentz', fontsize=15)\n",
    "plt.xlabel('% Población')\n",
    "plt.ylabel('% $')\n",
    "plt.xlim(0,1)\n",
    "plt.ylim(0,1)\n",
    "plt.legend(loc=0)\n",
    "plt.savefig('imgs/lorentz_%s_%s.png' % ('principales', date), bbox_iches='tight')"
   ]
  },
  {
   "cell_type": "code",
   "execution_count": 21,
   "metadata": {
    "collapsed": false
   },
   "outputs": [
    {
     "data": {
      "text/plain": [
       "dict_keys(['c680', 'ingresostrabajo', 'c721', 'c720', 'cltotal'])"
      ]
     },
     "execution_count": 21,
     "metadata": {},
     "output_type": "execute_result"
    }
   ],
   "source": [
    "lc.keys()"
   ]
  },
  {
   "cell_type": "code",
   "execution_count": 22,
   "metadata": {
    "collapsed": false
   },
   "outputs": [
    {
     "data": {
      "text/html": [
       "<iframe src=\"//giphy.com/embed/DXzihcl9gQERa\" width=\"480\" height=\"480\" frameBorder=\"0\" class=\"giphy-embed\" allowFullScreen></iframe><p><a href=\"http://giphy.com/gifs/DXzihcl9gQERa\">via GIPHY</a></p>"
      ],
      "text/plain": [
       "<IPython.core.display.HTML object>"
      ]
     },
     "metadata": {},
     "output_type": "display_data"
    }
   ],
   "source": [
    "%%html\n",
    "<iframe src=\"//giphy.com/embed/DXzihcl9gQERa\" width=\"480\" height=\"480\" frameBorder=\"0\" class=\"giphy-embed\" allowFullScreen></iframe><p><a href=\"http://giphy.com/gifs/DXzihcl9gQERa\">via GIPHY</a></p>"
   ]
  },
  {
   "cell_type": "code",
   "execution_count": 23,
   "metadata": {
    "collapsed": false
   },
   "outputs": [
    {
     "name": "stdout",
     "output_type": "stream",
     "text": [
      "                     Gini\n",
      "c680             0.264032\n",
      "ingresostrabajo  0.461160\n",
      "c720             0.720652\n",
      "cltotal          0.722771\n",
      "c721             0.725360\n"
     ]
    },
    {
     "data": {
      "image/png": "[encoded data removed]",
      "text/plain": [
       "<matplotlib.figure.Figure at 0x1143aa748>"
      ]
     },
     "metadata": {},
     "output_type": "display_data"
    }
   ],
   "source": [
    "# indice de gini\n",
    "\n",
    "gini = {}\n",
    "\n",
    "for k in lc.keys():\n",
    "    area_total = 0.5\n",
    "    area_bajo = si.trapz(x=lc[k][0], y=lc[k][1])\n",
    "    area_entre = area_total - area_bajo\n",
    "    gini[k] = area_entre / area_total\n",
    "\n",
    "df_gini = pd.DataFrame.from_dict(gini, orient='index').sort_values(by=0)\n",
    "df_gini.columns = ['Gini']\n",
    "df_gini.plot(kind='barh')\n",
    "plt.suptitle('Indice de Gini', fontsize=15)\n",
    "plt.savefig('imgs/gini_%s.png' % date, bbbox_inches='tight')\n",
    "\n",
    "print(df_gini)"
   ]
  },
  {
   "cell_type": "markdown",
   "metadata": {},
   "source": [
    "#  CURVA DE LORENTZ GENERALIZADA\n",
    "##  DISTRIBUCIÓN ACUMULADA\n",
    "###  glc Generalized Lorentz Curve"
   ]
  },
  {
   "cell_type": "code",
   "execution_count": 24,
   "metadata": {
    "collapsed": false
   },
   "outputs": [
    {
     "data": {
      "text/plain": [
       "array([1])"
      ]
     },
     "execution_count": 24,
     "metadata": {},
     "output_type": "execute_result"
    }
   ],
   "source": [
    "np.array([1])"
   ]
  },
  {
   "cell_type": "code",
   "execution_count": 25,
   "metadata": {
    "collapsed": false
   },
   "outputs": [
    {
     "data": {
      "text/plain": [
       "array([1, 1])"
      ]
     },
     "execution_count": 25,
     "metadata": {},
     "output_type": "execute_result"
    }
   ],
   "source": [
    "np.append(_,[1])"
   ]
  },
  {
   "cell_type": "code",
   "execution_count": null,
   "metadata": {
    "collapsed": true
   },
   "outputs": [],
   "source": []
  },
  {
   "cell_type": "code",
   "execution_count": 26,
   "metadata": {
    "collapsed": false
   },
   "outputs": [
    {
     "name": "stdout",
     "output_type": "stream",
     "text": [
      "ingresostrabajo wheithed\n",
      "c720 wheithed\n",
      "c721 wheithed\n",
      "cltotal wheithed\n",
      "c680 wheithed\n"
     ]
    }
   ],
   "source": [
    "glc = {}\n",
    "N_pob = data[v[0]].sum() # total\n",
    "obs = len(data)\n",
    "for v in variables_interes:\n",
    "\n",
    "    # Para cada par (factor, variable interes) \n",
    "    v = list(v)\n",
    "\n",
    "    # crea la variable: funcion de densidad acumulada\n",
    "    cdf = data[v].copy()\n",
    "    \n",
    "    # ordenamos la variable monetaria de menor a mayor\n",
    "    cdf = cdf.sort_values(by=v[1], ascending=True)\n",
    "    # media ponderada\n",
    "    cdf['weigthed_mean'] = cdf[v[1]] * cdf[v[0]]\n",
    "    cdf['weigthed_mean'] = cdf['weigthed_mean'].cumsum() / cdf[v[0]].cumsum()\n",
    "    print('%s wheithed' % v[1])\n",
    "    cdf[v[0]] = cdf[v[0]].cumsum(axis=0) * 100 / N_pob\n",
    "    glc[v[1]] = [cdf[v[0]], cdf.weigthed_mean]                     # guardamos el resultado"
   ]
  },
  {
   "cell_type": "code",
   "execution_count": 27,
   "metadata": {
    "collapsed": false
   },
   "outputs": [
    {
     "data": {
      "text/plain": [
       "dict_keys(['c680', 'ingresostrabajo', 'c721', 'c720', 'cltotal'])"
      ]
     },
     "execution_count": 27,
     "metadata": {},
     "output_type": "execute_result"
    }
   ],
   "source": [
    "glc.keys()"
   ]
  },
  {
   "cell_type": "code",
   "execution_count": 28,
   "metadata": {
    "collapsed": false
   },
   "outputs": [],
   "source": [
    "def form3(x, pos):\n",
    "    \"\"\" This function returns a string with 3 decimal places, given the input x\"\"\"\n",
    "    return '{:,}'.format(x).replace(',', ' ')\n",
    "\n",
    "formatter = FuncFormatter(form3)"
   ]
  },
  {
   "cell_type": "code",
   "execution_count": 29,
   "metadata": {
    "collapsed": false
   },
   "outputs": [
    {
     "data": {
      "image/png": "[encoded data removed]",
      "text/plain": [
       "<matplotlib.figure.Figure at 0x1109ad6a0>"
      ]
     },
     "metadata": {},
     "output_type": "display_data"
    }
   ],
   "source": [
    "plt.figure(figsize=(10,5))\n",
    "\n",
    "for k in glc.keys():\n",
    "    plt.plot(glc[k][0], glc[k][1]/100, label=k)\n",
    "\n",
    "plt.suptitle('Curva de Lorentz Generalizada', fontsize=15)\n",
    "plt.xlabel('% Población')\n",
    "plt.ylabel('Media (Percentil)')\n",
    "plt.xlim(0,100)\n",
    "plt.legend(loc=0)\n",
    "plt.gca().yaxis.set_major_formatter(FuncFormatter(formatter))\n",
    "plt.gca().grid(True)\n",
    "plt.savefig('imgs/generalized_lorentz_%s_%s.png' % ('principales', date), bbox_iches='tight')"
   ]
  },
  {
   "cell_type": "code",
   "execution_count": 30,
   "metadata": {
    "collapsed": false
   },
   "outputs": [],
   "source": [
    "lc_df = pd.DataFrame.from_dict(lc)\n",
    "glc_df = pd.DataFrame.from_dict(glc)"
   ]
  },
  {
   "cell_type": "code",
   "execution_count": 108,
   "metadata": {
    "collapsed": false
   },
   "outputs": [
    {
     "name": "stderr",
     "output_type": "stream",
     "text": [
      "/Users/mmngreco/Virtualenvs/ipynb/lib/python3.5/site-packages/matplotlib/collections.py:590: FutureWarning: elementwise comparison failed; returning scalar instead, but in the future will perform elementwise comparison\n",
      "  if self._edgecolors == str('face'):\n"
     ]
    },
    {
     "data": {
      "text/plain": [
       "<matplotlib.figure.Figure at 0x11d8a1eb8>"
      ]
     },
     "metadata": {},
     "output_type": "display_data"
    },
    {
     "data": {
      "image/png": "[encoded data removed]",
      "text/plain": [
       "<matplotlib.figure.Figure at 0x11615bdd8>"
      ]
     },
     "metadata": {},
     "output_type": "display_data"
    }
   ],
   "source": [
    "# MEDIA DE LOS INGRESOS DEL TRABAJO\n",
    "\n",
    "variable = 'c680'\n",
    "total = data['factoroptimizado'].sum()\n",
    "\n",
    "# titulo\n",
    "ttl = 'Media Ponderada de %s' % variable\n",
    "\n",
    "# tabla de valores\n",
    "valores = data.pivot_table(index='tramo', \n",
    "                           columns='ccaa', \n",
    "                           values=variable, \n",
    "                           aggfunc='sum')\n",
    "\n",
    "# pasamos los valores de centimos a euros\n",
    "valores = valores / 100 \n",
    "\n",
    "# tabla de pesos\n",
    "w = data.pivot_table(index='tramo', \n",
    "                     columns='ccaa', \n",
    "                     values='factoroptimizado', \n",
    "                     aggfunc='sum')\n",
    "\n",
    "# si multiplicamos los valores por sus pesos y dividimos por la suma de los pesos\n",
    "# tenemos las medias ponderadas para cada ccaa y tramo\n",
    "r = valores * w / total\n",
    "\n",
    "# ordenar los tramos\n",
    "tramo_names = r.sortlevel(ascending=False).index\n",
    "tramos = r.sum(1)\n",
    "\n",
    "# ordenar las ccaa por frecuencia\n",
    "ccaas = r.sum(0)\n",
    "ccaas = ccaas.sort_values(ascending=True)\n",
    "ccaa_names = ccaas.index\n",
    "\n",
    "# aplicamos el orden en la tabla\n",
    "r = r[ccaa_names]\n",
    "r = r.T[tramo_names]\n",
    "r = r.T\n",
    "\n",
    "# cambiar los codigos por los nombres de los tramos y ccaa\n",
    "r.index = [info_tramos[i] for i in r.index]\n",
    "r.columns = [info_ccaa[str(c)] for c in r.columns]\n",
    "\n",
    "# GRÁFICOS\n",
    "plt.figure(figsize=(10,10))\n",
    "\n",
    "# subplots\n",
    "plt.figure(figsize=fs)\n",
    "ax1 = plt.subplot(2,2,1)\n",
    "ax3 = plt.subplot(2,2,3)\n",
    "ax4 = plt.subplot(2,2,4)\n",
    "\n",
    "# barras\n",
    "g1 = sns.barplot(x=ccaas.index, y=ccaas.values, ax=ax1, color=sns.xkcd_rgb[\"medium green\"]).set_xticklabels('')\n",
    "g4 = sns.barplot(x=tramos.values, y=tramos.index, ax=ax4, orient='horizontal', color=sns.xkcd_rgb[\"medium green\"]).set_yticklabels('')\n",
    "\n",
    "# densidad\n",
    "sns.heatmap(data=r, ax=ax3, cbar=False, cmap='Greens', robust=True)\n",
    "\n",
    "# estilo\n",
    "plt.suptitle(ttl, fontsize=15, y=1.05)\n",
    "\n",
    "sns.despine(ax=ax1, left=True, bottom=True)\n",
    "sns.despine(ax=ax4, left=True, bottom=True)\n",
    "ax1.set_xlabel('')\n",
    "ax4.set_ylabel('')\n",
    "\n",
    "ax1.set_ylabel('Euros')\n",
    "ax4.set_xlabel('Euros')\n",
    "\n",
    "ax1.yaxis.grid(True)\n",
    "ax4.xaxis.grid(True)\n",
    "ax3.set_ylabel('TRAMOS')\n",
    "ax3.set_xlabel('CCAA')\n",
    "# descripción\n",
    "\n",
    "\n",
    "plt.tight_layout()\n",
    "plt.savefig('imgs/dist_%s_%s' % (variable, date), bbox_inches='tight')"
   ]
  },
  {
   "cell_type": "code",
   "execution_count": null,
   "metadata": {
    "collapsed": true
   },
   "outputs": [],
   "source": []
  },
  {
   "cell_type": "code",
   "execution_count": null,
   "metadata": {
    "collapsed": true
   },
   "outputs": [],
   "source": []
  }
 ],
 "metadata": {
  "kernelspec": {
   "display_name": "Python 3",
   "language": "python",
   "name": "python3"
  },
  "language_info": {
   "codemirror_mode": {
    "name": "ipython",
    "version": 3
   },
   "file_extension": ".py",
   "mimetype": "text/x-python",
   "name": "python",
   "nbconvert_exporter": "python",
   "pygments_lexer": "ipython3",
   "version": "3.5.0"
  },
  "latex_envs": {
   "bibliofile": "biblio.bib",
   "cite_by": "apalike",
   "current_citInitial": 1,
   "eqLabelWithNumbers": true,
   "eqNumInitial": 0
  }
 },
 "nbformat": 4,
 "nbformat_minor": 0
}
