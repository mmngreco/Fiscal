{
 "cells": [
  {
   "cell_type": "markdown",
   "metadata": {},
   "source": [
    "![Imgur](http://i.imgur.com/eCb65SE.jpg)\n",
    "\n",
    "# Trabajo Fin de Grado\n",
    "\n",
    "## Título del trabajo : y subtítulo del trabajo\n",
    "\n",
    "\n",
    "### Autor/es\n",
    "\n",
    "Maximiliano Greco\n",
    "\n",
    "\n",
    "\n",
    "\n",
    "### Director/es\n",
    "\n",
    "Fernando Rodrigo Sauco\n",
    "\n",
    "\n",
    "--- \n",
    "\n",
    "Facultad de Ciencias Económicas y Empresariales\n",
    "Año 2015\n"
   ]
  },
  {
   "cell_type": "markdown",
   "metadata": {},
   "source": [
    "## METODOLOGÍA"
   ]
  },
  {
   "cell_type": "markdown",
   "metadata": {},
   "source": [
    "## PREGUNTAS\n",
    "\n",
    "1. Contexto del IRPF 2011\n",
    "1. ¿Cuál es el perfil del IRFP en España y CCAA?\n",
    "    + Distribucion de población, España y CCA\n",
    "    + Distribucion de los ingresos CCAA\n",
    "    + Distribucion de declarantes por renta\n",
    "1. ¿Existe Competencia fiscal entre comunidades autónomas?\n",
    "    + Distribucion de declarantes por CCAA y tg\n",
    "    + Diferencia entre Ingresos CCAA y Estatal\n",
    "    + Disperción de Cuota Liquida autonómica y Rentas altas\n",
    "1. ¿Es el IRPF un impuesto progresivo?\n",
    "    + Progresividad Local\n",
    "        * LP\n",
    "        * ARP\n",
    "    + Progresividad Global\n",
    "        * Gini\n",
    "        * RS\n",
    "        * Atkinson\n",
    "1. ¿Está la competencia fiscal ayudando a aumentar la desigualdad en España? ¿Y en las CCAA?\n",
    "    + CCAA con bajos tg autonómicos vs CCAA con tg Autonómicos ~ tg Estatal\n",
    "        * Gini\n",
    "        * Lorentz\n",
    "        * RS\n",
    "        * Atkinson\n",
    "1. Caso de Aragón. (sería interesante agregar cataluña o madrid y comparar)\n",
    "    + Perfil\n",
    "    + Como se sitúa en presión fiscal\n",
    "    + Indices\n",
    "        * LP\n",
    "        * Gini\n",
    "        * RS\n",
    "1. ¿Han ayudado las últimas reformas del IRPF a reducir la desigualdad en España?\n",
    "    + ¿?\n",
    "1. Simulación\n",
    "    + ¿Qué cambios tendrá, en la desigualdad, aumentos en el tipo de gravamen de las rentas altas?\n",
    "    + ¿y reducciones en las rentas bajas?\n",
    "1. Conclusiones"
   ]
  },
  {
   "cell_type": "markdown",
   "metadata": {},
   "source": [
    "IDEAS:\n",
    "1. ¿Es el gasto público progresivo?\n",
    "1. Modelo de distribución de la renta, partiendo del ideal y ver su evolución.\n",
    "1. ¿Son los individuos racionales?\n",
    "    - Tributación conjunta vs tributación individual para mismas rentas\n",
    "1. Contraste de Hipótesis:\n",
    "     - PARA TODOS LOS SUPUESTOS\n",
    "     - INTERVALO DE CONFIANZA"
   ]
  },
  {
   "cell_type": "code",
   "execution_count": null,
   "metadata": {
    "collapsed": true
   },
   "outputs": [],
   "source": []
  }
 ],
 "metadata": {
  "kernelspec": {
   "display_name": "Python 3",
   "language": "python",
   "name": "python3"
  },
  "language_info": {
   "codemirror_mode": {
    "name": "ipython",
    "version": 3
   },
   "file_extension": ".py",
   "mimetype": "text/x-python",
   "name": "python",
   "nbconvert_exporter": "python",
   "pygments_lexer": "ipython3",
   "version": "3.5.0"
  },
  "latex_envs": {
   "bibliofile": "biblio.bib",
   "cite_by": "apalike",
   "current_citInitial": 1,
   "eqLabelWithNumbers": true,
   "eqNumInitial": 0
  }
 },
 "nbformat": 4,
 "nbformat_minor": 0
}
