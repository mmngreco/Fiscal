{
 "cells": [
  {
   "cell_type": "markdown",
   "metadata": {},
   "source": [
    "![Imgur](http://i.imgur.com/eCb65SE.jpg)\n",
    "\n",
    "# Trabajo Fin de Grado\n",
    "\n",
    "## Título del trabajo : y subtítulo del trabajo\n",
    "\n",
    "\n",
    "### Autor/es\n",
    "\n",
    "Maximiliano Greco\n",
    "\n",
    "\n",
    "\n",
    "\n",
    "### Director/es\n",
    "\n",
    "Fernando Rodrigo Sauco\n",
    "\n",
    "\n",
    "--- \n",
    "\n",
    "Facultad de Ciencias Económicas y Empresariales\n",
    "Año 2015\n"
   ]
  },
  {
   "cell_type": "markdown",
   "metadata": {},
   "source": [
    "## METODOLOGÍA"
   ]
  },
  {
   "cell_type": "markdown",
   "metadata": {},
   "source": [
    "## PREGUNTAS\n",
    "\n",
    "1. Contexto del IRPF 2011\n",
    "1. ¿Cuál es el perfil del IRFP en España y CCAA?\n",
    "    + Distribucion de población, España y CCA\n",
    "    + Distribucion de los ingresos CCAA\n",
    "    + Distribucion de declarantes por renta\n",
    "1. ¿Existe Competencia fiscal entre comunidades autónomas?\n",
    "    + Distribucion de declarantes por CCAA y tg\n",
    "    + Diferencia entre Ingresos CCAA y Estatal\n",
    "    + Disperción de Cuota Liquida autonómica y Rentas altas\n",
    "1. ¿Es el IRPF un impuesto progresivo?\n",
    "    + Progresividad Local\n",
    "        * LP\n",
    "        * ARP\n",
    "    + Progresividad Global\n",
    "        * Gini\n",
    "        * RS\n",
    "        * Atkinson\n",
    "1. ¿Está la competencia fiscal ayudando a aumentar la desigualdad en España? ¿Y en las CCAA?\n",
    "    + CCAA con bajos tg autonómicos vs CCAA con tg Autonómicos ~ tg Estatal\n",
    "        * Gini\n",
    "        * Lorentz\n",
    "        * RS\n",
    "        * Atkinson\n",
    "1. Caso de Aragón. (sería interesante agregar cataluña o madrid y comparar)\n",
    "    + Perfil\n",
    "    + Como se sitúa en presión fiscal\n",
    "    + Indices\n",
    "        * LP\n",
    "        * Gini\n",
    "        * RS\n",
    "1. ¿Han ayudado las últimas reformas del IRPF a reducir la desigualdad en España?\n",
    "    + ¿?\n",
    "1. Simulación\n",
    "    + ¿Qué cambios tendrá, en la desigualdad, aumentos en el tipo de gravamen de las rentas altas?\n",
    "    + ¿y reducciones en las rentas bajas?\n",
    "1. Conclusiones"
   ]
  },
  {
   "cell_type": "markdown",
   "metadata": {},
   "source": [
    "IDEAS:\n",
    "1. ¿Es el gasto público progresivo?\n",
    "1. Modelo de distribución de la renta, partiendo del ideal y ver su evolución.\n",
    "1. ¿Son los individuos racionales?\n",
    "    - Tributación conjunta vs tributación individual para mismas rentas\n",
    "1. Contraste de Hipótesis:\n",
    "     - PARA TODOS LOS SUPUESTOS\n",
    "     - INTERVALO DE CONFIANZA\n",
    "1. TERNARY PLOT"
   ]
  },
  {
   "cell_type": "markdown",
   "metadata": {},
   "source": [
    "# BIBLIOGRAFÍA\n",
    "\n",
    "- Caro, C. D., Fernández, J. O., & Mayo, J. P. (2013). Progresividad y redistribución por fuentes de renta en el IRPF dual. Hacienda pública española, (206), 57-87. http://dialnet.unirioja.es/servlet/articulo?codigo=4604712\n",
    "- Álvarez, J. A. (2007). Guía del impuesto sobre la renta de las personas físicas. CISS.\n",
    "- Dept, I. M. F. F. A. (2013). Fiscal Monitor, October 2013. International Monetary Fund.\n",
    "- Eichhorn, W. (2012a). Models and Measurement of Welfare and Inequality. (W. Eichhorn, Ed.). Berlin, Heidelberg: Springer Science & Business Media. http://doi.org/10.1007/978-3-642-79037-9\n",
    "- Eichhorn, W. (2012b). Models and Measurement of Welfare and Inequality. (W. Eichhorn, Ed.). Berlin, Heidelberg: Springer Science & Business Media. http://doi.org/10.1007/978-3-642-79037-9\n",
    "- Galapero Flores, R. (2015). Las rentas del trabajo en el Impuesto sobre la Renta de las Personas Físicas. Estudio jurídico tributario. Dykinson.\n",
    "- Garcia, S. A. (2010). Diccionario de Economia Publica. ECOBOOK.\n",
    "- Jorratt, M. (2011). Evaluando la equidad vertical y horizontal en el impuesto al valor agregado y el impuesto a la renta: el impacto de reformas tributarias potenciales. Los casos del Ecuador, Guatemala y el Paraguay.\n",
    "- López-Laborda, J. (2009). Tributación de rentas a tipo fijo y progresividad de la imposición sobre la renta. F. Picos y S. Díaz de Sarralde (cords.).\n",
    "- Nolan, B., Salverda, W., Checchi, D., Marx, I., McKnight, A., & Tóth, I. G. (2014). Changing Inequalities and Societal Impacts in Rich Countries. Oxford University Press.\n",
    "- OECD. (2015). In It Together: Why Less Inequality Benefits All. OECD Publishing. http://doi.org/10.1787/9789264235120-en\n",
    "- Pfingsten, A. (2012). The Measurement of Tax Progression (Vol. 20). Berlin, Heidelberg: Springer Science & Business Media. http://doi.org/10.1007/978-3-642-82652-8\n",
    "- Salverda, W., Nolan, B., & Smeeding, T. M. (2009). The Oxford Handbook of Economic Inequality. OUP Oxford.\n",
    "- Shi, L., Li, S., Sato, H., & Sicular, T. (2013). Rising Inequality in China. (S. Li, H. Sato, & T. Sicular, Eds.). Cambridge: Cambridge University Press. http://doi.org/10.1017/CBO9781139035057\n",
    "- Silber, J. (2012a). Handbook of Income Inequality Measurement. (J. Silber, Ed.). Dordrecht: Springer Science & Business Media. http://doi.org/10.1007/978-94-011-4413-1\n",
    "- Silber, J. (2012b). Handbook of Income Inequality Measurement. (J. Silber, Ed.). Dordrecht: Springer Science & Business Media. http://doi.org/10.1007/978-94-011-4413-1\n",
    "- Stiglitz, J. E. (2003). La economía del sector público. Antoni Bosch editor.\n"
   ]
  },
  {
   "cell_type": "code",
   "execution_count": null,
   "metadata": {
    "collapsed": true
   },
   "outputs": [],
   "source": []
  }
 ],
 "metadata": {
  "kernelspec": {
   "display_name": "Python 3",
   "language": "python",
   "name": "python3"
  },
  "language_info": {
   "codemirror_mode": {
    "name": "ipython",
    "version": 3
   },
   "file_extension": ".py",
   "mimetype": "text/x-python",
   "name": "python",
   "nbconvert_exporter": "python",
   "pygments_lexer": "ipython3",
   "version": "3.5.0"
  },
  "latex_envs": {
   "bibliofile": "biblio.bib",
   "cite_by": "apalike",
   "current_citInitial": 1,
   "eqLabelWithNumbers": true,
   "eqNumInitial": 0
  }
 },
 "nbformat": 4,
 "nbformat_minor": 0
}
